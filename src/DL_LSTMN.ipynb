{
 "cells": [
  {
   "cell_type": "markdown",
   "metadata": {},
   "source": [
    "## Identification of Quora Duplicates using LSTMN\n",
    "(Experimatental) Continuation of DL methods explored in encode_attend.ipynb. This method attempts to improve on the attention based methods by using LSTMN to incorporate both intra-sentence and inter-sentence attention in the process of finding text similarity"
   ]
  },
  {
   "cell_type": "markdown",
   "metadata": {},
   "source": [
    "### Method 3 - Long Short-Term Memory-Networks\n",
    "(Code implemented based on paper Long Short-Term Memory-Networks for Machine Reading by Cheng et al. https://arxiv.org/pdf/1601.06733.pdf). "
   ]
  },
  {
   "cell_type": "markdown",
   "metadata": {},
   "source": [
    "#### load previously pickled word vectors and train and test token IDs"
   ]
  },
  {
   "cell_type": "code",
   "execution_count": 1,
   "metadata": {},
   "outputs": [],
   "source": [
    "import spacy\n",
    "import numpy as np"
   ]
  },
  {
   "cell_type": "code",
   "execution_count": 2,
   "metadata": {},
   "outputs": [],
   "source": [
    "import pandas as pd\n",
    "import numpy as np\n",
    "import pickle"
   ]
  },
  {
   "cell_type": "code",
   "execution_count": 3,
   "metadata": {},
   "outputs": [],
   "source": [
    "from sklearn.metrics import accuracy_score\n",
    "from sklearn.metrics import precision_score\n",
    "from sklearn.metrics import recall_score\n",
    "from sklearn.metrics import classification_report\n",
    "from sklearn.model_selection import train_test_split"
   ]
  },
  {
   "cell_type": "code",
   "execution_count": 4,
   "metadata": {},
   "outputs": [],
   "source": [
    "data_folder = '/media/siri/78C6823EC681FD1E/minio/data/dq-data/dl/'\n",
    "input_folder = '/media/siri/78C6823EC681FD1E/minio/data/dq-data/'\n",
    "logs_folder = '/media/siri/78C6823EC681FD1E/tf-logs/dq/'"
   ]
  },
  {
   "cell_type": "code",
   "execution_count": 6,
   "metadata": {},
   "outputs": [],
   "source": [
    "X_train_f = pickle.load(open(data_folder+'X_train_f.p', 'rb'))\n",
    "X_test = pickle.load(open(input_folder+'X_test.p', 'rb'))\n",
    "X_valid = pickle.load(open(data_folder+'X_valid.p', 'rb'))"
   ]
  },
  {
   "cell_type": "code",
   "execution_count": 7,
   "metadata": {},
   "outputs": [],
   "source": [
    "y_train_f = pickle.load(open(data_folder+'y_train_f.p', 'rb'))\n",
    "y_test = pickle.load(open(input_folder+'y_test.p', 'rb'))\n",
    "y_valid = pickle.load(open(data_folder+'y_valid.p', 'rb'))"
   ]
  },
  {
   "cell_type": "code",
   "execution_count": 8,
   "metadata": {},
   "outputs": [],
   "source": [
    "w2v = pickle.load(open(data_folder+'w2v.p', 'rb'))\n",
    "q1_train_w2v = pickle.load(open(data_folder+'q1_train_w2v.p', 'rb'))\n",
    "q2_train_w2v = pickle.load(open(data_folder+'q2_train_w2v.p', 'rb'))\n",
    "q1_test_w2v = pickle.load(open(data_folder+'q1_test_w2v.p', 'rb'))\n",
    "q2_test_w2v = pickle.load(open(data_folder+'q2_test_w2v.p', 'rb'))\n",
    "q1_valid_w2v = pickle.load(open(data_folder+'q1_valid_w2v.p', 'rb'))\n",
    "q2_valid_w2v = pickle.load(open(data_folder+'q2_valid_w2v.p', 'rb'))"
   ]
  },
  {
   "cell_type": "code",
   "execution_count": 9,
   "metadata": {},
   "outputs": [],
   "source": [
    "import tensorflow as tf\n",
    "config = tf.ConfigProto(allow_soft_placement = True)\n",
    "config.gpu_options.allow_growth = True  # dynamically grow the memory used on the GPU\n",
    "config.log_device_placement = True  # to log device placement (on which device the operation ran)\n",
    "                                    # (nothing gets printed in Jupyter, only if you run it standalone)"
   ]
  },
  {
   "cell_type": "code",
   "execution_count": 10,
   "metadata": {},
   "outputs": [],
   "source": [
    "def create_embedding(vectors, max_length, projected_dim):\n",
    "    return tf.keras.models.Sequential([\n",
    "        tf.keras.layers.Embedding(\n",
    "            vectors.shape[0],\n",
    "            vectors.shape[1],\n",
    "            input_length=max_length,\n",
    "            weights=[vectors],\n",
    "            trainable=False),\n",
    "        \n",
    "        tf.keras.layers.TimeDistributed(\n",
    "            tf.keras.layers.Dense(projected_dim,\n",
    "                         activation=None,\n",
    "                         use_bias=False))\n",
    "    ])"
   ]
  },
  {
   "cell_type": "code",
   "execution_count": 11,
   "metadata": {},
   "outputs": [],
   "source": [
    "from __future__ import print_function, division\n",
    "import numpy as np\n",
    "from tensorflow.python import debug as tf_debug\n",
    "from tensorflow.python.client import timeline"
   ]
  },
  {
   "cell_type": "code",
   "execution_count": 12,
   "metadata": {},
   "outputs": [],
   "source": [
    "num_epochs = 5\n",
    "state_size = 200\n",
    "num_classes = 1\n",
    "echo_step = 3\n",
    "max_length = 50\n",
    "# batch_size must be an exact factor of total_series_length\n",
    "train_batch_size = 62\n",
    "valid_batch_size = 16\n",
    "truncated_backprop_length = max_length\n",
    "train_series_length = q1_train_w2v.shape[0] - q1_train_w2v.shape[0] % train_batch_size\n",
    "valid_series_length = q1_valid_w2v.shape[0] - q1_valid_w2v.shape[0] % valid_batch_size\n",
    "num_train_batches = train_series_length//train_batch_size\n",
    "num_valid_batches = valid_series_length//valid_batch_size\n",
    "\n",
    "vocab_size = w2v.shape[0]\n",
    "embedding_dim = w2v.shape[1]\n",
    "beta = 0.01\n",
    "epsilon = 1e-3"
   ]
  },
  {
   "cell_type": "code",
   "execution_count": 13,
   "metadata": {},
   "outputs": [],
   "source": [
    "def generateData(series_length, num_batches, is_train):\n",
    "    if is_train:\n",
    "        q1 = q1_train_w2v\n",
    "        q2 = q2_train_w2v\n",
    "        y = y_train_f\n",
    "    else:\n",
    "        q1 = q1_valid_w2v\n",
    "        q2 = q2_valid_w2v\n",
    "        y = y_valid\n",
    "        \n",
    "    x1 = np.array_split(q1[:series_length], num_batches)\n",
    "    x2 = np.array_split(q2[:series_length], num_batches)\n",
    "    y_split = np.array_split(y.values[:series_length], num_batches)\n",
    "\n",
    "    return (x1, x2, y_split)"
   ]
  },
  {
   "cell_type": "code",
   "execution_count": 14,
   "metadata": {},
   "outputs": [],
   "source": [
    "def red_dims(projected_dim):\n",
    "     return tf.keras.layers.TimeDistributed(\n",
    "            tf.keras.layers.Dense(projected_dim,\n",
    "                         activation=None,\n",
    "                         use_bias=False))\n",
    "        \n",
    "def preprocess_input(X1, X2, projected_dim):\n",
    "    with tf.device('/cpu:0'):\n",
    "        with tf.variable_scope('embedding', reuse=tf.AUTO_REUSE):\n",
    "            embed_vectors = tf.get_variable('embed_vectors', initializer=tf.constant(w2v))\n",
    "            x1 = red_dims(projected_dim)(tf.nn.embedding_lookup(embed_vectors, X1))\n",
    "            x2 = red_dims(projected_dim)(tf.nn.embedding_lookup(embed_vectors, X2))\n",
    "            x1_b = [tf.squeeze(x, [0]) for x in \n",
    "                    tf.split(tf.transpose(x1, [1,0,2]), max_length,)]\n",
    "            x2_b = [tf.squeeze(x, [0]) for x in \n",
    "                    tf.split(tf.transpose(x2, [1,0,2]), max_length,)]    \n",
    "        return x1_b, x2_b"
   ]
  },
  {
   "cell_type": "code",
   "execution_count": 15,
   "metadata": {},
   "outputs": [],
   "source": [
    "def batch_normalize_layer(x_t, scale, beta, epsilon):\n",
    "    batch_mean, batch_var = tf.nn.moments(x_t, [0])\n",
    "    return tf.nn.batch_normalization(x_t, batch_mean, batch_var, scale, beta, epsilon)"
   ]
  },
  {
   "cell_type": "code",
   "execution_count": 16,
   "metadata": {},
   "outputs": [],
   "source": [
    "def split_sum_join_batches(x, axis=0):\n",
    "    batch_size = tf.shape(x)[0]\n",
    "    return tf.concat([tf.reduce_sum(batch, axis=0, keepdims=True) \n",
    "                      for batch in tf.split(x, batch_size,)], axis=0)"
   ]
  },
  {
   "cell_type": "code",
   "execution_count": 17,
   "metadata": {},
   "outputs": [],
   "source": [
    "def att_adapted_encoder_layer(x_t, adapted_hidden_prev, hidden, compute, W, v, W_h, time_step):\n",
    "    b_t = tf.concat([x_t, adapted_hidden_prev], 1)\n",
    "    b_t_dot_W = tf.matmul(b_t, W)\n",
    "    #b = tf.expand_dims(b_t_dot_W, 0)\n",
    "    #W_h_exp = tf.expand_dims(W_h, 0)\n",
    "    #v_exp = tf.expand_dims(v, 0)\n",
    "    num_repeats = time_step\n",
    "    if num_repeats == 0:\n",
    "        num_repeats = 1\n",
    "    b_arr = []\n",
    "    W_h_arr = []\n",
    "    v_arr = []\n",
    "    for i in range(num_repeats):\n",
    "        b_arr.append(b_t_dot_W)\n",
    "        W_h_arr.append(W_h)\n",
    "        v_arr.append(v)\n",
    "    #b = tf.contrib.seq2seq.tile_batch(b, time_step)\n",
    "    #W_h_exp = tf.contrib.seq2seq.tile_batch(W_h_exp, time_step)\n",
    "    #v_exp = tf.contrib.seq2seq.tile_batch(v_exp, time_step)\n",
    "    b_exp = tf.stack(b_arr)\n",
    "    W_h_exp = tf.stack(W_h_arr)\n",
    "    v_exp = tf.stack(v_arr)\n",
    "    #b_t = tf.concat([b, hidden], 1)\n",
    "    \n",
    "    #b_t_dot_W = tf.matmul(b_t, W)\n",
    "\n",
    "    v_t = tf.tanh(tf.matmul(tf.concat([b_exp, hidden], -1), W_h_exp))\n",
    "\n",
    "    a_t = tf.matmul(v_t, v_exp)\n",
    "\n",
    "    s_t = tf.nn.softmax(a_t)\n",
    "    ## attention adapted hidden and compute memory for input1\n",
    "    adapted_hidden_t = tf.reduce_sum(hidden*s_t, 0)\n",
    "\n",
    "    adapted_compute_t = tf.reduce_sum(compute*s_t, 0)\n",
    "\n",
    "    return adapted_hidden_t, adapted_compute_t"
   ]
  },
  {
   "cell_type": "code",
   "execution_count": 18,
   "metadata": {},
   "outputs": [],
   "source": [
    "def inter_attention(x_t, src_adapted_hidden_t, W_inter):\n",
    "    b_t = tf.concat([x_t, src_adapted_hidden_t], 1)\n",
    "    b_t_dot_W = tf.matmul(b_t, W_inter)\n",
    "    return tf.sigmoid(b_t_dot_W)\n",
    "\n",
    "def compute_LSTM_gates(x_t, adapted_hidden_t, W):\n",
    "    b_t = tf.concat([x_t, adapted_hidden_t], 1)\n",
    "    b_t_dot_W = tf.matmul(b_t, W)\n",
    "    i_t = tf.sigmoid(b_t_dot_W)\n",
    "    f_t = i_t\n",
    "    o_t = i_t\n",
    "    compute_hat_t = tf.tanh(b_t_dot_W)\n",
    "    return i_t, f_t, o_t, compute_hat_t\n",
    "    \n",
    "def LSTMN_encoder_layer(x_t, adapted_hidden_t, adapted_compute_t , W):\n",
    "    i_t, f_t, o_t, compute_hat_t = compute_LSTM_gates(x_t, adapted_hidden_t, W)\n",
    "\n",
    "    ## final hidden and compute memory for input1\n",
    "    compute_t = f_t*adapted_compute_t + i_t*compute_hat_t\n",
    "    \n",
    "    hidden_t = o_t*tf.tanh(compute_t)\n",
    "    \n",
    "    return hidden_t, compute_t\n",
    "    \n",
    "def LSTMN_inter_att_encoder_layer(x_t, adapted_hidden_t, adapted_compute_t , W, \n",
    "                        src_adapted_hidden_t, src_adapted_compute_t, W_inter):\n",
    "    i_t, f_t, o_t, compute_hat_t = compute_LSTM_gates(x_t, adapted_hidden_t, W)\n",
    "\n",
    "    ## final hidden and compute memory for input1\n",
    "    compute_t = f_t*adapted_compute_t + i_t*compute_hat_t\n",
    "    ## inter attention between input1 and input2\n",
    "    compute_t = compute_t+inter_attention(x_t, src_adapted_hidden_t, W_inter)*src_adapted_compute_t\n",
    "    \n",
    "    hidden_t = o_t*tf.tanh(compute_t)\n",
    "    \n",
    "    return hidden_t, compute_t"
   ]
  },
  {
   "cell_type": "code",
   "execution_count": 19,
   "metadata": {},
   "outputs": [],
   "source": [
    "def extract_ith_state(states, i, total):\n",
    "    states = states[i-1:]\n",
    "    ts = tf.concat([tf.expand_dims(state, 0) for j,state in enumerate(states) if j%total == 0], axis=0)\n",
    "    return ts"
   ]
  },
  {
   "cell_type": "code",
   "execution_count": 20,
   "metadata": {},
   "outputs": [],
   "source": [
    "def get_prev_states(current_state, states_series):\n",
    "        gamma_tilde_t1 = current_state[0]\n",
    "        gamma = extract_ith_state(states=states_series, i=2, total=6)\n",
    "        alpha = extract_ith_state(states=states_series, i=3, total=6)\n",
    "        h_tilde_t1 = current_state[3]\n",
    "        h = extract_ith_state(states=states_series, i=5, total=6)\n",
    "        c = extract_ith_state(states=states_series, i=6, total=6)\n",
    "        return gamma_tilde_t1, gamma, alpha, h_tilde_t1, h, c"
   ]
  },
  {
   "cell_type": "code",
   "execution_count": 21,
   "metadata": {},
   "outputs": [],
   "source": [
    "def deep_attention_lstmn(x1_batch, x2_batch, epsilon, scale1, beta1, W1, v1, W1_h, W2,\n",
    "                              scale2, beta2, W3, v3, W3_h, W4, W5):\n",
    "        #current_state = init_state\n",
    "        states_series = [] \n",
    "        for time_step, current_x in enumerate(zip(x1_batch, x2_batch)):\n",
    "            current_x1, current_x2 = current_x\n",
    "\n",
    "            # get encoded outputs of previous time-step (or initilaize if this is the first time-step)\n",
    "            if len(states_series) == 0:\n",
    "                init_state = tf.zeros_like(current_x1)\n",
    "                init_h = tf.expand_dims(init_state, 0)\n",
    "                gamma_tilde_t1 = init_state\n",
    "                h_tilde_t1 = init_state\n",
    "                gamma = init_h\n",
    "                alpha = init_h\n",
    "                h = init_h\n",
    "                c = init_h\n",
    "            else:\n",
    "                gamma_tilde_t1, gamma, alpha, h_tilde_t1, h, c = get_prev_states(current_state, states_series)\n",
    "\n",
    "\n",
    "            #### input1 attention and encoding\n",
    "\n",
    "            ## batch normalize input1  \n",
    "            current_x1_hat = batch_normalize_layer(current_x1, scale1, beta1, epsilon)\n",
    "\n",
    "            ## input1 attention layer\n",
    "            ## attention adapted hidden and compute memory for input1\n",
    "            gamma_tilde_t, alpha_tilde_t = att_adapted_encoder_layer(current_x1_hat, gamma_tilde_t1, gamma, \n",
    "                                                                        alpha, W1, v1, W1_h, time_step)\n",
    "\n",
    "            ## LSTM gates for input1\n",
    "            gamma_t, alpha_t = LSTMN_encoder_layer(current_x1_hat, gamma_tilde_t, alpha_tilde_t , W2) \n",
    "\n",
    "\n",
    "\n",
    "            #### input2 attention and encoding (including inter-attention with input1)\n",
    "\n",
    "            ## batch normalize input2\n",
    "            current_x2_hat = batch_normalize_layer(current_x2, scale2, beta2, epsilon)\n",
    "\n",
    "            ## input2 attention layer\n",
    "            ## attention adapted hidden and compute memory for input2 \n",
    "            h_tilde_t, c_tilde_t = att_adapted_encoder_layer(current_x2_hat, h_tilde_t1, h, \n",
    "                                                                        c, W3, v3, W3_h, time_step)  \n",
    "\n",
    "            ## LSTM gates for input2 \n",
    "            h_t, c_t = LSTMN_inter_att_encoder_layer(current_x2_hat, h_tilde_t, c_tilde_t , W4,\n",
    "                                                         src_adapted_hidden_t=gamma_tilde_t, \n",
    "                                                         src_adapted_compute_t=alpha_tilde_t, \n",
    "                                                         W_inter=W5)        \n",
    "\n",
    "            # store states for processing next time-step\n",
    "            current_state = [gamma_tilde_t, gamma_t, alpha_t, h_tilde_t, h_t, c_t]\n",
    "            for state in current_state:\n",
    "                states_series.append(state)\n",
    "                \n",
    "        return h_t"
   ]
  },
  {
   "cell_type": "code",
   "execution_count": 22,
   "metadata": {},
   "outputs": [],
   "source": [
    "def lstmn_model(x1_b, x2_b, y_b, epsilon, beta):\n",
    "    # Forward pass  \n",
    "    \n",
    "    with tf.variable_scope(\"src_batch_norm_layer\", reuse=tf.AUTO_REUSE): \n",
    "        scale1 = tf.get_variable(name='scale1', shape=[state_size], initializer=tf.ones_initializer(), trainable=True)\n",
    "        beta1 = tf.get_variable(name='beta1', shape=[state_size], initializer=tf.zeros_initializer(), trainable=True)   \n",
    "        \n",
    "    with tf.variable_scope(\"src_att_adapted_encoder_layer\", reuse=tf.AUTO_REUSE):\n",
    "        W1 = tf.get_variable(name='W1', shape=[2*state_size, state_size], dtype=tf.float32, \n",
    "                             initializer=tf.random_uniform_initializer(), trainable=True)\n",
    "        v1 = tf.get_variable(name='v1', shape=[state_size, 1], dtype=tf.float32, \n",
    "                             initializer=tf.random_uniform_initializer(), trainable=True)\n",
    "        W1_h = tf.get_variable(name='W1_h', shape=[2*state_size, state_size], dtype=tf.float32, \n",
    "                             initializer=tf.random_uniform_initializer(), trainable=True)\n",
    "        regularizer = tf.nn.l2_loss(W1) + tf.nn.l2_loss(W1_h)\n",
    "        \n",
    "    with tf.variable_scope(\"src_LSTMN_encoder_layer\", reuse=tf.AUTO_REUSE):\n",
    "        W2 = tf.get_variable(name='W2', shape=[2*state_size, state_size], dtype=tf.float32, \n",
    "                             initializer=tf.random_uniform_initializer(), trainable=True)\n",
    "        regularizer = regularizer + tf.nn.l2_loss(W2)\n",
    "        \n",
    "    with tf.variable_scope(\"tgt_batch_norm_layer\", reuse=tf.AUTO_REUSE):  \n",
    "        scale2 = tf.get_variable(name='scale2', shape=[state_size], initializer=tf.ones_initializer(), trainable=True)\n",
    "        beta2 = tf.get_variable(name='beta2', shape=[state_size], initializer=tf.zeros_initializer(), trainable=True) \n",
    "        \n",
    "    with tf.variable_scope(\"tgt_att_adapted_encoder_layer\", reuse=tf.AUTO_REUSE):\n",
    "        W3 = tf.get_variable(name='W3', shape=[2*state_size, state_size], dtype=tf.float32, \n",
    "                             initializer=tf.random_uniform_initializer(), trainable=True)\n",
    "        v3 = tf.get_variable(name='v3', shape=[state_size, 1], dtype=tf.float32, \n",
    "                             initializer=tf.random_uniform_initializer(), trainable=True)\n",
    "        W3_h = tf.get_variable(name='W3_h', shape=[2*state_size, state_size], dtype=tf.float32, \n",
    "                             initializer=tf.random_uniform_initializer(), trainable=True) \n",
    "        regularizer = regularizer + tf.nn.l2_loss(W3) + tf.nn.l2_loss(W3_h)\n",
    "        \n",
    "    with tf.variable_scope(\"tgt_LSTMN_encoder_layer\", reuse=tf.AUTO_REUSE):\n",
    "        W4 = tf.get_variable(name='W4', shape=[2*state_size, state_size], dtype=tf.float32, \n",
    "                             initializer=tf.random_uniform_initializer(), trainable=True) \n",
    "        W5 = tf.get_variable(name='W5', shape=[2*state_size, state_size], dtype=tf.float32, \n",
    "                             initializer=tf.random_uniform_initializer(), trainable=True) \n",
    "        regularizer = regularizer + tf.nn.l2_loss(W4) + tf.nn.l2_loss(W5)\n",
    "        \n",
    "    h_t = deep_attention_lstmn(x1_b, x2_b, epsilon, scale1, beta1, W1, v1, W1_h, W2,\n",
    "                              scale2, beta2, W3, v3, W3_h, W4, W5)\n",
    "    \n",
    "    with tf.variable_scope(\"prediction_layer\", reuse=tf.AUTO_REUSE):  \n",
    "        W6 = tf.get_variable(name='W6', shape=[state_size, num_classes], dtype=tf.float32, \n",
    "                             initializer=tf.random_uniform_initializer(), trainable=True) \n",
    "        b6 = tf.get_variable(name='b6', shape=[1, num_classes], dtype=tf.float32, \n",
    "                             initializer=tf.zeros_initializer(), trainable=True) \n",
    "        logits = tf.matmul(h_t, W6) + b6\n",
    "        regularizer = regularizer + tf.nn.l2_loss(W6)\n",
    "        \n",
    "    predictions = tf.round(tf.nn.sigmoid(logits))\n",
    "    \n",
    "    losses = tf.nn.sigmoid_cross_entropy_with_logits(logits=logits, labels=y_b)      \n",
    "        \n",
    "    return tf.reduce_mean(losses+beta*regularizer), predictions"
   ]
  },
  {
   "cell_type": "code",
   "execution_count": 23,
   "metadata": {},
   "outputs": [],
   "source": [
    "def input_fn(run):\n",
    "    if run == 'train':\n",
    "        ds = tf.data.Dataset.from_tensor_slices((q1_train_w2v, q2_train_w2v, y_train_f.values.reshape(-1,1)))\n",
    "        ds = ds.shuffle(q1_train_w2v.shape[0]).batch(train_batch_size).prefetch(1)\n",
    "    elif run == 'test':\n",
    "        ds = tf.data.Dataset.from_tensor_slices((q1_test_w2v, q2_test_w2v, y_test.values.reshape(-1,1)))\n",
    "        ds = ds.shuffle(q1_test_w2v.shape[0])\n",
    "    else:\n",
    "        ds = tf.data.Dataset.from_tensor_slices((q1_valid_w2v, q2_valid_w2v, y_valid.values.reshape(-1,1)))\n",
    "        ds = ds.shuffle(q1_valid_w2v.shape[0]).batch(valid_batch_size).prefetch(1)\n",
    "        \n",
    "    iterator = ds.make_initializable_iterator()\n",
    "    \n",
    "    (q1, q2, labels) = iterator.get_next()\n",
    "    init_op = iterator.initializer\n",
    "\n",
    "    # Build and return a dictionnary containing the nodes / ops\n",
    "    inputs = {\n",
    "        'q1': q1,\n",
    "        'q2': q2,\n",
    "        'labels': labels,\n",
    "        'iterator_init_op': init_op\n",
    "    }\n",
    "    return inputs "
   ]
  },
  {
   "cell_type": "code",
   "execution_count": 24,
   "metadata": {},
   "outputs": [],
   "source": [
    "def model_fn(mode, inputs):\n",
    "    is_training = (mode == 'train')\n",
    "    #run_metadata = tf.RunMetadata()\n",
    "    #X1 = tf.placeholder(tf.int32, [None, max_length])\n",
    "    #X2 = tf.placeholder(tf.int32, [None, max_length])\n",
    "    #Y = tf.placeholder(tf.float32, [None, 1])\n",
    "    #init_state = tf.placeholder(tf.float32, [None, state_size])\n",
    "    #valid_inputs = input_fn('valid')\n",
    "    #x1_b, x2_b = preprocess_input(X1, X2, state_size)\n",
    "    x1_b, x2_b = preprocess_input(inputs['q1'], inputs['q2'], state_size)\n",
    "    Y = tf.cast(inputs['labels'], tf.float32)\n",
    "\n",
    "    with tf.device('/device:GPU:0'):   \n",
    "\n",
    "        total_loss, predictions = lstmn_model(x1_b, x2_b, Y, epsilon, beta)\n",
    "        accuracy = tf.reduce_mean(tf.cast(tf.equal(Y, predictions), tf.float32))\n",
    "\n",
    "        # Decaying learning rate\n",
    "        if is_training:\n",
    "            global_step = tf.Variable(0)  # count the number of steps taken.\n",
    "            start_learning_rate = 0.05\n",
    "            learning_rate = tf.train.exponential_decay(start_learning_rate, global_step, 10000, 0.95, staircase=True)\n",
    "\n",
    "            train_step = tf.train.RMSPropOptimizer(learning_rate=learning_rate, momentum=0.75)\\\n",
    "                        .minimize(total_loss, global_step=global_step) \n",
    "\n",
    "\n",
    "        with tf.variable_scope(\"metrics\"):\n",
    "            metrics = {\n",
    "                'accuracy': tf.metrics.accuracy(labels=Y, predictions=predictions),\n",
    "                'loss': tf.metrics.mean(total_loss)\n",
    "            }\n",
    "\n",
    "         # Group the update ops for the tf.metrics\n",
    "        update_metrics_op = tf.group(*[op for _, op in metrics.values()])\n",
    "\n",
    "        # Get the op to reset the local variables used in tf.metrics\n",
    "        metric_variables = tf.get_collection(tf.GraphKeys.LOCAL_VARIABLES, scope=\"metrics\")\n",
    "        metrics_init_op = tf.variables_initializer(metric_variables)  \n",
    "\n",
    "        tf.summary.scalar('loss', total_loss)\n",
    "        tf.summary.scalar('accuracy', accuracy)\n",
    "        #summary = tf.summary.merge_all()\n",
    "        variable_init_op = tf.group(*[tf.global_variables_initializer(), tf.tables_initializer()])\n",
    "        model_spec = inputs\n",
    "        model_spec['metrics_init_op'] = metrics_init_op\n",
    "        model_spec['metrics'] = metrics\n",
    "        model_spec['update_metrics'] = update_metrics_op,\n",
    "        model_spec['summary_op'] = tf.summary.merge_all(),\n",
    "        model_spec['variable_init_op'] = variable_init_op,\n",
    "        model_spec['predictions'] = predictions,\n",
    "        model_spec['loss'] = total_loss,\n",
    "        model_spec['accuracy'] = accuracy\n",
    "        \n",
    "        if is_training:\n",
    "            model_spec['train_step'] = train_step\n",
    "        \n",
    "        return model_spec"
   ]
  },
  {
   "cell_type": "code",
   "execution_count": 25,
   "metadata": {},
   "outputs": [],
   "source": [
    "tf.reset_default_graph()\n",
    "train_inputs = input_fn('train')\n",
    "train_model_spec = model_fn('train', train_inputs)\n",
    "eval_inputs = input_fn('eval')\n",
    "eval_model_spec = model_fn('eval', eval_inputs)"
   ]
  },
  {
   "cell_type": "code",
   "execution_count": 26,
   "metadata": {},
   "outputs": [
    {
     "data": {
      "text/plain": [
       "{'q1': <tf.Tensor 'IteratorGetNext:0' shape=(?, 50) dtype=int64>,\n",
       " 'q2': <tf.Tensor 'IteratorGetNext:1' shape=(?, 50) dtype=int64>,\n",
       " 'labels': <tf.Tensor 'IteratorGetNext:2' shape=(?, 1) dtype=int64>,\n",
       " 'iterator_init_op': <tf.Operation 'MakeIterator' type=MakeIterator>,\n",
       " 'metrics_init_op': <tf.Operation 'init' type=NoOp>,\n",
       " 'metrics': {'accuracy': (<tf.Tensor 'metrics/accuracy/value:0' shape=() dtype=float32>,\n",
       "   <tf.Tensor 'metrics/accuracy/update_op:0' shape=() dtype=float32>),\n",
       "  'loss': (<tf.Tensor 'metrics/mean/value:0' shape=() dtype=float32>,\n",
       "   <tf.Tensor 'metrics/mean/update_op:0' shape=() dtype=float32>)},\n",
       " 'update_metrics': (<tf.Operation 'group_deps' type=NoOp>,),\n",
       " 'summary_op': (<tf.Tensor 'Merge/MergeSummary:0' shape=() dtype=string>,),\n",
       " 'variable_init_op': (<tf.Operation 'group_deps_1' type=NoOp>,),\n",
       " 'predictions': (<tf.Tensor 'Round:0' shape=(?, 1) dtype=float32>,),\n",
       " 'loss': (<tf.Tensor 'Mean:0' shape=() dtype=float32>,),\n",
       " 'accuracy': <tf.Tensor 'Mean_1:0' shape=() dtype=float32>,\n",
       " 'train_step': <tf.Operation 'RMSProp' type=AssignAdd>}"
      ]
     },
     "execution_count": 26,
     "metadata": {},
     "output_type": "execute_result"
    }
   ],
   "source": [
    "train_model_spec"
   ]
  },
  {
   "cell_type": "code",
   "execution_count": 27,
   "metadata": {},
   "outputs": [
    {
     "data": {
      "text/plain": [
       "{'q1': <tf.Tensor 'IteratorGetNext_1:0' shape=(?, 50) dtype=int64>,\n",
       " 'q2': <tf.Tensor 'IteratorGetNext_1:1' shape=(?, 50) dtype=int64>,\n",
       " 'labels': <tf.Tensor 'IteratorGetNext_1:2' shape=(?, 1) dtype=int64>,\n",
       " 'iterator_init_op': <tf.Operation 'MakeIterator_1' type=MakeIterator>,\n",
       " 'metrics_init_op': <tf.Operation 'init_2' type=NoOp>,\n",
       " 'metrics': {'accuracy': (<tf.Tensor 'metrics_1/accuracy/value:0' shape=() dtype=float32>,\n",
       "   <tf.Tensor 'metrics_1/accuracy/update_op:0' shape=() dtype=float32>),\n",
       "  'loss': (<tf.Tensor 'metrics_1/mean/value:0' shape=() dtype=float32>,\n",
       "   <tf.Tensor 'metrics_1/mean/update_op:0' shape=() dtype=float32>)},\n",
       " 'update_metrics': (<tf.Operation 'group_deps_2' type=NoOp>,),\n",
       " 'summary_op': (<tf.Tensor 'Merge_1/MergeSummary:0' shape=() dtype=string>,),\n",
       " 'variable_init_op': (<tf.Operation 'group_deps_3' type=NoOp>,),\n",
       " 'predictions': (<tf.Tensor 'Round_1:0' shape=(?, 1) dtype=float32>,),\n",
       " 'loss': (<tf.Tensor 'Mean_2:0' shape=() dtype=float32>,),\n",
       " 'accuracy': <tf.Tensor 'Mean_3:0' shape=() dtype=float32>}"
      ]
     },
     "execution_count": 27,
     "metadata": {},
     "output_type": "execute_result"
    }
   ],
   "source": [
    "eval_model_spec"
   ]
  },
  {
   "cell_type": "code",
   "execution_count": 28,
   "metadata": {},
   "outputs": [
    {
     "name": "stdout",
     "output_type": "stream",
     "text": [
      "New data, epoch 0\n",
      "Train Iterator initiated\n",
      "Train Metrics initiated\n",
      "Train Session train_step and update_metrics ops run\n",
      "Train Session metrics_vals run\n",
      "Eval Iterator initiated\n",
      "Eval Metrics initiated\n"
     ]
    },
    {
     "ename": "FailedPreconditionError",
     "evalue": "Error while reading resource variable embedding_1/time_distributed_3/kernel from Container: localhost. This could mean that the variable was uninitialized. Not found: Resource localhost/embedding_1/time_distributed_3/kernel/N10tensorflow3VarE does not exist.\n\t [[{{node embedding_1/time_distributed_3/MatMul/ReadVariableOp}} = ReadVariableOp[dtype=DT_FLOAT, _device=\"/job:localhost/replica:0/task:0/device:CPU:0\"](embedding_1/time_distributed_3/kernel)]]\n\t [[{{node embedding_1/Squeeze_33/_5021}} = _Recv[client_terminated=false, recv_device=\"/job:localhost/replica:0/task:0/device:GPU:0\", send_device=\"/job:localhost/replica:0/task:0/device:CPU:0\", send_device_incarnation=1, tensor_name=\"edge_5206_embedding_1/Squeeze_33\", tensor_type=DT_FLOAT, _device=\"/job:localhost/replica:0/task:0/device:GPU:0\"]()]]\n\nCaused by op 'embedding_1/time_distributed_3/MatMul/ReadVariableOp', defined at:\n  File \"/home/siri/miniconda3/lib/python3.6/runpy.py\", line 193, in _run_module_as_main\n    \"__main__\", mod_spec)\n  File \"/home/siri/miniconda3/lib/python3.6/runpy.py\", line 85, in _run_code\n    exec(code, run_globals)\n  File \"/home/siri/miniconda3/lib/python3.6/site-packages/ipykernel_launcher.py\", line 16, in <module>\n    app.launch_new_instance()\n  File \"/home/siri/miniconda3/lib/python3.6/site-packages/traitlets/config/application.py\", line 658, in launch_instance\n    app.start()\n  File \"/home/siri/miniconda3/lib/python3.6/site-packages/ipykernel/kernelapp.py\", line 505, in start\n    self.io_loop.start()\n  File \"/home/siri/miniconda3/lib/python3.6/site-packages/tornado/platform/asyncio.py\", line 132, in start\n    self.asyncio_loop.run_forever()\n  File \"/home/siri/miniconda3/lib/python3.6/asyncio/base_events.py\", line 438, in run_forever\n    self._run_once()\n  File \"/home/siri/miniconda3/lib/python3.6/asyncio/base_events.py\", line 1451, in _run_once\n    handle._run()\n  File \"/home/siri/miniconda3/lib/python3.6/asyncio/events.py\", line 145, in _run\n    self._callback(*self._args)\n  File \"/home/siri/miniconda3/lib/python3.6/site-packages/tornado/ioloop.py\", line 758, in _run_callback\n    ret = callback()\n  File \"/home/siri/miniconda3/lib/python3.6/site-packages/tornado/stack_context.py\", line 300, in null_wrapper\n    return fn(*args, **kwargs)\n  File \"/home/siri/miniconda3/lib/python3.6/site-packages/tornado/gen.py\", line 1233, in inner\n    self.run()\n  File \"/home/siri/miniconda3/lib/python3.6/site-packages/tornado/gen.py\", line 1147, in run\n    yielded = self.gen.send(value)\n  File \"/home/siri/miniconda3/lib/python3.6/site-packages/ipykernel/kernelbase.py\", line 357, in process_one\n    yield gen.maybe_future(dispatch(*args))\n  File \"/home/siri/miniconda3/lib/python3.6/site-packages/tornado/gen.py\", line 326, in wrapper\n    yielded = next(result)\n  File \"/home/siri/miniconda3/lib/python3.6/site-packages/ipykernel/kernelbase.py\", line 267, in dispatch_shell\n    yield gen.maybe_future(handler(stream, idents, msg))\n  File \"/home/siri/miniconda3/lib/python3.6/site-packages/tornado/gen.py\", line 326, in wrapper\n    yielded = next(result)\n  File \"/home/siri/miniconda3/lib/python3.6/site-packages/ipykernel/kernelbase.py\", line 534, in execute_request\n    user_expressions, allow_stdin,\n  File \"/home/siri/miniconda3/lib/python3.6/site-packages/tornado/gen.py\", line 326, in wrapper\n    yielded = next(result)\n  File \"/home/siri/miniconda3/lib/python3.6/site-packages/ipykernel/ipkernel.py\", line 294, in do_execute\n    res = shell.run_cell(code, store_history=store_history, silent=silent)\n  File \"/home/siri/miniconda3/lib/python3.6/site-packages/ipykernel/zmqshell.py\", line 536, in run_cell\n    return super(ZMQInteractiveShell, self).run_cell(*args, **kwargs)\n  File \"/home/siri/miniconda3/lib/python3.6/site-packages/IPython/core/interactiveshell.py\", line 2819, in run_cell\n    raw_cell, store_history, silent, shell_futures)\n  File \"/home/siri/miniconda3/lib/python3.6/site-packages/IPython/core/interactiveshell.py\", line 2845, in _run_cell\n    return runner(coro)\n  File \"/home/siri/miniconda3/lib/python3.6/site-packages/IPython/core/async_helpers.py\", line 67, in _pseudo_sync_runner\n    coro.send(None)\n  File \"/home/siri/miniconda3/lib/python3.6/site-packages/IPython/core/interactiveshell.py\", line 3020, in run_cell_async\n    interactivity=interactivity, compiler=compiler, result=result)\n  File \"/home/siri/miniconda3/lib/python3.6/site-packages/IPython/core/interactiveshell.py\", line 3185, in run_ast_nodes\n    if (yield from self.run_code(code, result)):\n  File \"/home/siri/miniconda3/lib/python3.6/site-packages/IPython/core/interactiveshell.py\", line 3267, in run_code\n    exec(code_obj, self.user_global_ns, self.user_ns)\n  File \"<ipython-input-25-c62980a4060a>\", line 5, in <module>\n    eval_model_spec = model_fn('eval', eval_inputs)\n  File \"<ipython-input-24-34715537bc29>\", line 10, in model_fn\n    x1_b, x2_b = preprocess_input(inputs['q1'], inputs['q2'], state_size)\n  File \"<ipython-input-14-55ab30466b22>\", line 12, in preprocess_input\n    x2 = red_dims(projected_dim)(tf.nn.embedding_lookup(embed_vectors, X2))\n  File \"/home/siri/miniconda3/lib/python3.6/site-packages/tensorflow/python/keras/engine/base_layer.py\", line 769, in __call__\n    outputs = self.call(inputs, *args, **kwargs)\n  File \"/home/siri/miniconda3/lib/python3.6/site-packages/tensorflow/python/keras/layers/wrappers.py\", line 269, in call\n    y = self.layer.call(inputs, **kwargs)\n  File \"/home/siri/miniconda3/lib/python3.6/site-packages/tensorflow/python/keras/layers/core.py\", line 947, in call\n    outputs = gen_math_ops.mat_mul(inputs, self.kernel)\n  File \"/home/siri/miniconda3/lib/python3.6/site-packages/tensorflow/python/ops/gen_math_ops.py\", line 4560, in mat_mul\n    name=name)\n  File \"/home/siri/miniconda3/lib/python3.6/site-packages/tensorflow/python/framework/op_def_library.py\", line 510, in _apply_op_helper\n    preferred_dtype=default_dtype)\n  File \"/home/siri/miniconda3/lib/python3.6/site-packages/tensorflow/python/framework/ops.py\", line 1144, in internal_convert_to_tensor\n    ret = conversion_func(value, dtype=dtype, name=name, as_ref=as_ref)\n  File \"/home/siri/miniconda3/lib/python3.6/site-packages/tensorflow/python/ops/resource_variable_ops.py\", line 1286, in _dense_var_to_tensor\n    return var._dense_var_to_tensor(dtype=dtype, name=name, as_ref=as_ref)  # pylint: disable=protected-access\n  File \"/home/siri/miniconda3/lib/python3.6/site-packages/tensorflow/python/ops/resource_variable_ops.py\", line 1241, in _dense_var_to_tensor\n    return self.value()\n  File \"/home/siri/miniconda3/lib/python3.6/site-packages/tensorflow/python/ops/resource_variable_ops.py\", line 672, in value\n    return self._read_variable_op()\n  File \"/home/siri/miniconda3/lib/python3.6/site-packages/tensorflow/python/ops/resource_variable_ops.py\", line 755, in _read_variable_op\n    self._dtype)\n  File \"/home/siri/miniconda3/lib/python3.6/site-packages/tensorflow/python/ops/gen_resource_variable_ops.py\", line 508, in read_variable_op\n    \"ReadVariableOp\", resource=resource, dtype=dtype, name=name)\n  File \"/home/siri/miniconda3/lib/python3.6/site-packages/tensorflow/python/framework/op_def_library.py\", line 787, in _apply_op_helper\n    op_def=op_def)\n  File \"/home/siri/miniconda3/lib/python3.6/site-packages/tensorflow/python/util/deprecation.py\", line 488, in new_func\n    return func(*args, **kwargs)\n  File \"/home/siri/miniconda3/lib/python3.6/site-packages/tensorflow/python/framework/ops.py\", line 3272, in create_op\n    op_def=op_def)\n  File \"/home/siri/miniconda3/lib/python3.6/site-packages/tensorflow/python/framework/ops.py\", line 1768, in __init__\n    self._traceback = tf_stack.extract_stack()\n\nFailedPreconditionError (see above for traceback): Error while reading resource variable embedding_1/time_distributed_3/kernel from Container: localhost. This could mean that the variable was uninitialized. Not found: Resource localhost/embedding_1/time_distributed_3/kernel/N10tensorflow3VarE does not exist.\n\t [[{{node embedding_1/time_distributed_3/MatMul/ReadVariableOp}} = ReadVariableOp[dtype=DT_FLOAT, _device=\"/job:localhost/replica:0/task:0/device:CPU:0\"](embedding_1/time_distributed_3/kernel)]]\n\t [[{{node embedding_1/Squeeze_33/_5021}} = _Recv[client_terminated=false, recv_device=\"/job:localhost/replica:0/task:0/device:GPU:0\", send_device=\"/job:localhost/replica:0/task:0/device:CPU:0\", send_device_incarnation=1, tensor_name=\"edge_5206_embedding_1/Squeeze_33\", tensor_type=DT_FLOAT, _device=\"/job:localhost/replica:0/task:0/device:GPU:0\"]()]]\n",
     "output_type": "error",
     "traceback": [
      "\u001b[0;31m---------------------------------------------------------------------------\u001b[0m",
      "\u001b[0;31mFailedPreconditionError\u001b[0m                   Traceback (most recent call last)",
      "\u001b[0;32m~/miniconda3/lib/python3.6/site-packages/tensorflow/python/client/session.py\u001b[0m in \u001b[0;36m_do_call\u001b[0;34m(self, fn, *args)\u001b[0m\n\u001b[1;32m   1291\u001b[0m     \u001b[0;32mtry\u001b[0m\u001b[0;34m:\u001b[0m\u001b[0;34m\u001b[0m\u001b[0;34m\u001b[0m\u001b[0m\n\u001b[0;32m-> 1292\u001b[0;31m       \u001b[0;32mreturn\u001b[0m \u001b[0mfn\u001b[0m\u001b[0;34m(\u001b[0m\u001b[0;34m*\u001b[0m\u001b[0margs\u001b[0m\u001b[0;34m)\u001b[0m\u001b[0;34m\u001b[0m\u001b[0;34m\u001b[0m\u001b[0m\n\u001b[0m\u001b[1;32m   1293\u001b[0m     \u001b[0;32mexcept\u001b[0m \u001b[0merrors\u001b[0m\u001b[0;34m.\u001b[0m\u001b[0mOpError\u001b[0m \u001b[0;32mas\u001b[0m \u001b[0me\u001b[0m\u001b[0;34m:\u001b[0m\u001b[0;34m\u001b[0m\u001b[0;34m\u001b[0m\u001b[0m\n",
      "\u001b[0;32m~/miniconda3/lib/python3.6/site-packages/tensorflow/python/client/session.py\u001b[0m in \u001b[0;36m_run_fn\u001b[0;34m(feed_dict, fetch_list, target_list, options, run_metadata)\u001b[0m\n\u001b[1;32m   1276\u001b[0m       return self._call_tf_sessionrun(\n\u001b[0;32m-> 1277\u001b[0;31m           options, feed_dict, fetch_list, target_list, run_metadata)\n\u001b[0m\u001b[1;32m   1278\u001b[0m \u001b[0;34m\u001b[0m\u001b[0m\n",
      "\u001b[0;32m~/miniconda3/lib/python3.6/site-packages/tensorflow/python/client/session.py\u001b[0m in \u001b[0;36m_call_tf_sessionrun\u001b[0;34m(self, options, feed_dict, fetch_list, target_list, run_metadata)\u001b[0m\n\u001b[1;32m   1366\u001b[0m         \u001b[0mself\u001b[0m\u001b[0;34m.\u001b[0m\u001b[0m_session\u001b[0m\u001b[0;34m,\u001b[0m \u001b[0moptions\u001b[0m\u001b[0;34m,\u001b[0m \u001b[0mfeed_dict\u001b[0m\u001b[0;34m,\u001b[0m \u001b[0mfetch_list\u001b[0m\u001b[0;34m,\u001b[0m \u001b[0mtarget_list\u001b[0m\u001b[0;34m,\u001b[0m\u001b[0;34m\u001b[0m\u001b[0;34m\u001b[0m\u001b[0m\n\u001b[0;32m-> 1367\u001b[0;31m         run_metadata)\n\u001b[0m\u001b[1;32m   1368\u001b[0m \u001b[0;34m\u001b[0m\u001b[0m\n",
      "\u001b[0;31mFailedPreconditionError\u001b[0m: Error while reading resource variable embedding_1/time_distributed_3/kernel from Container: localhost. This could mean that the variable was uninitialized. Not found: Resource localhost/embedding_1/time_distributed_3/kernel/N10tensorflow3VarE does not exist.\n\t [[{{node embedding_1/time_distributed_3/MatMul/ReadVariableOp}} = ReadVariableOp[dtype=DT_FLOAT, _device=\"/job:localhost/replica:0/task:0/device:CPU:0\"](embedding_1/time_distributed_3/kernel)]]\n\t [[{{node embedding_1/Squeeze_33/_5021}} = _Recv[client_terminated=false, recv_device=\"/job:localhost/replica:0/task:0/device:GPU:0\", send_device=\"/job:localhost/replica:0/task:0/device:CPU:0\", send_device_incarnation=1, tensor_name=\"edge_5206_embedding_1/Squeeze_33\", tensor_type=DT_FLOAT, _device=\"/job:localhost/replica:0/task:0/device:GPU:0\"]()]]",
      "\nDuring handling of the above exception, another exception occurred:\n",
      "\u001b[0;31mFailedPreconditionError\u001b[0m                   Traceback (most recent call last)",
      "\u001b[0;32m<ipython-input-28-7fa41ef33f74>\u001b[0m in \u001b[0;36m<module>\u001b[0;34m\u001b[0m\n\u001b[1;32m     32\u001b[0m         \u001b[0mprint\u001b[0m\u001b[0;34m(\u001b[0m\u001b[0;34m\"Eval Metrics initiated\"\u001b[0m\u001b[0;34m)\u001b[0m\u001b[0;34m\u001b[0m\u001b[0;34m\u001b[0m\u001b[0m\n\u001b[1;32m     33\u001b[0m         _ = sess.run(\n\u001b[0;32m---> 34\u001b[0;31m                 eval_model_spec['update_metrics'])\n\u001b[0m\u001b[1;32m     35\u001b[0m         \u001b[0mprint\u001b[0m\u001b[0;34m(\u001b[0m\u001b[0;34m\"Eval Session update_metrics ops run\"\u001b[0m\u001b[0;34m)\u001b[0m\u001b[0;34m\u001b[0m\u001b[0;34m\u001b[0m\u001b[0m\n\u001b[1;32m     36\u001b[0m \u001b[0;34m\u001b[0m\u001b[0m\n",
      "\u001b[0;32m~/miniconda3/lib/python3.6/site-packages/tensorflow/python/client/session.py\u001b[0m in \u001b[0;36mrun\u001b[0;34m(self, fetches, feed_dict, options, run_metadata)\u001b[0m\n\u001b[1;32m    885\u001b[0m     \u001b[0;32mtry\u001b[0m\u001b[0;34m:\u001b[0m\u001b[0;34m\u001b[0m\u001b[0;34m\u001b[0m\u001b[0m\n\u001b[1;32m    886\u001b[0m       result = self._run(None, fetches, feed_dict, options_ptr,\n\u001b[0;32m--> 887\u001b[0;31m                          run_metadata_ptr)\n\u001b[0m\u001b[1;32m    888\u001b[0m       \u001b[0;32mif\u001b[0m \u001b[0mrun_metadata\u001b[0m\u001b[0;34m:\u001b[0m\u001b[0;34m\u001b[0m\u001b[0;34m\u001b[0m\u001b[0m\n\u001b[1;32m    889\u001b[0m         \u001b[0mproto_data\u001b[0m \u001b[0;34m=\u001b[0m \u001b[0mtf_session\u001b[0m\u001b[0;34m.\u001b[0m\u001b[0mTF_GetBuffer\u001b[0m\u001b[0;34m(\u001b[0m\u001b[0mrun_metadata_ptr\u001b[0m\u001b[0;34m)\u001b[0m\u001b[0;34m\u001b[0m\u001b[0;34m\u001b[0m\u001b[0m\n",
      "\u001b[0;32m~/miniconda3/lib/python3.6/site-packages/tensorflow/python/client/session.py\u001b[0m in \u001b[0;36m_run\u001b[0;34m(self, handle, fetches, feed_dict, options, run_metadata)\u001b[0m\n\u001b[1;32m   1108\u001b[0m     \u001b[0;32mif\u001b[0m \u001b[0mfinal_fetches\u001b[0m \u001b[0;32mor\u001b[0m \u001b[0mfinal_targets\u001b[0m \u001b[0;32mor\u001b[0m \u001b[0;34m(\u001b[0m\u001b[0mhandle\u001b[0m \u001b[0;32mand\u001b[0m \u001b[0mfeed_dict_tensor\u001b[0m\u001b[0;34m)\u001b[0m\u001b[0;34m:\u001b[0m\u001b[0;34m\u001b[0m\u001b[0;34m\u001b[0m\u001b[0m\n\u001b[1;32m   1109\u001b[0m       results = self._do_run(handle, final_targets, final_fetches,\n\u001b[0;32m-> 1110\u001b[0;31m                              feed_dict_tensor, options, run_metadata)\n\u001b[0m\u001b[1;32m   1111\u001b[0m     \u001b[0;32melse\u001b[0m\u001b[0;34m:\u001b[0m\u001b[0;34m\u001b[0m\u001b[0;34m\u001b[0m\u001b[0m\n\u001b[1;32m   1112\u001b[0m       \u001b[0mresults\u001b[0m \u001b[0;34m=\u001b[0m \u001b[0;34m[\u001b[0m\u001b[0;34m]\u001b[0m\u001b[0;34m\u001b[0m\u001b[0;34m\u001b[0m\u001b[0m\n",
      "\u001b[0;32m~/miniconda3/lib/python3.6/site-packages/tensorflow/python/client/session.py\u001b[0m in \u001b[0;36m_do_run\u001b[0;34m(self, handle, target_list, fetch_list, feed_dict, options, run_metadata)\u001b[0m\n\u001b[1;32m   1284\u001b[0m     \u001b[0;32mif\u001b[0m \u001b[0mhandle\u001b[0m \u001b[0;32mis\u001b[0m \u001b[0;32mNone\u001b[0m\u001b[0;34m:\u001b[0m\u001b[0;34m\u001b[0m\u001b[0;34m\u001b[0m\u001b[0m\n\u001b[1;32m   1285\u001b[0m       return self._do_call(_run_fn, feeds, fetches, targets, options,\n\u001b[0;32m-> 1286\u001b[0;31m                            run_metadata)\n\u001b[0m\u001b[1;32m   1287\u001b[0m     \u001b[0;32melse\u001b[0m\u001b[0;34m:\u001b[0m\u001b[0;34m\u001b[0m\u001b[0;34m\u001b[0m\u001b[0m\n\u001b[1;32m   1288\u001b[0m       \u001b[0;32mreturn\u001b[0m \u001b[0mself\u001b[0m\u001b[0;34m.\u001b[0m\u001b[0m_do_call\u001b[0m\u001b[0;34m(\u001b[0m\u001b[0m_prun_fn\u001b[0m\u001b[0;34m,\u001b[0m \u001b[0mhandle\u001b[0m\u001b[0;34m,\u001b[0m \u001b[0mfeeds\u001b[0m\u001b[0;34m,\u001b[0m \u001b[0mfetches\u001b[0m\u001b[0;34m)\u001b[0m\u001b[0;34m\u001b[0m\u001b[0;34m\u001b[0m\u001b[0m\n",
      "\u001b[0;32m~/miniconda3/lib/python3.6/site-packages/tensorflow/python/client/session.py\u001b[0m in \u001b[0;36m_do_call\u001b[0;34m(self, fn, *args)\u001b[0m\n\u001b[1;32m   1306\u001b[0m           self._config.experimental.client_handles_error_formatting):\n\u001b[1;32m   1307\u001b[0m         \u001b[0mmessage\u001b[0m \u001b[0;34m=\u001b[0m \u001b[0merror_interpolation\u001b[0m\u001b[0;34m.\u001b[0m\u001b[0minterpolate\u001b[0m\u001b[0;34m(\u001b[0m\u001b[0mmessage\u001b[0m\u001b[0;34m,\u001b[0m \u001b[0mself\u001b[0m\u001b[0;34m.\u001b[0m\u001b[0m_graph\u001b[0m\u001b[0;34m)\u001b[0m\u001b[0;34m\u001b[0m\u001b[0;34m\u001b[0m\u001b[0m\n\u001b[0;32m-> 1308\u001b[0;31m       \u001b[0;32mraise\u001b[0m \u001b[0mtype\u001b[0m\u001b[0;34m(\u001b[0m\u001b[0me\u001b[0m\u001b[0;34m)\u001b[0m\u001b[0;34m(\u001b[0m\u001b[0mnode_def\u001b[0m\u001b[0;34m,\u001b[0m \u001b[0mop\u001b[0m\u001b[0;34m,\u001b[0m \u001b[0mmessage\u001b[0m\u001b[0;34m)\u001b[0m\u001b[0;34m\u001b[0m\u001b[0;34m\u001b[0m\u001b[0m\n\u001b[0m\u001b[1;32m   1309\u001b[0m \u001b[0;34m\u001b[0m\u001b[0m\n\u001b[1;32m   1310\u001b[0m   \u001b[0;32mdef\u001b[0m \u001b[0m_extend_graph\u001b[0m\u001b[0;34m(\u001b[0m\u001b[0mself\u001b[0m\u001b[0;34m)\u001b[0m\u001b[0;34m:\u001b[0m\u001b[0;34m\u001b[0m\u001b[0;34m\u001b[0m\u001b[0m\n",
      "\u001b[0;31mFailedPreconditionError\u001b[0m: Error while reading resource variable embedding_1/time_distributed_3/kernel from Container: localhost. This could mean that the variable was uninitialized. Not found: Resource localhost/embedding_1/time_distributed_3/kernel/N10tensorflow3VarE does not exist.\n\t [[{{node embedding_1/time_distributed_3/MatMul/ReadVariableOp}} = ReadVariableOp[dtype=DT_FLOAT, _device=\"/job:localhost/replica:0/task:0/device:CPU:0\"](embedding_1/time_distributed_3/kernel)]]\n\t [[{{node embedding_1/Squeeze_33/_5021}} = _Recv[client_terminated=false, recv_device=\"/job:localhost/replica:0/task:0/device:GPU:0\", send_device=\"/job:localhost/replica:0/task:0/device:CPU:0\", send_device_incarnation=1, tensor_name=\"edge_5206_embedding_1/Squeeze_33\", tensor_type=DT_FLOAT, _device=\"/job:localhost/replica:0/task:0/device:GPU:0\"]()]]\n\nCaused by op 'embedding_1/time_distributed_3/MatMul/ReadVariableOp', defined at:\n  File \"/home/siri/miniconda3/lib/python3.6/runpy.py\", line 193, in _run_module_as_main\n    \"__main__\", mod_spec)\n  File \"/home/siri/miniconda3/lib/python3.6/runpy.py\", line 85, in _run_code\n    exec(code, run_globals)\n  File \"/home/siri/miniconda3/lib/python3.6/site-packages/ipykernel_launcher.py\", line 16, in <module>\n    app.launch_new_instance()\n  File \"/home/siri/miniconda3/lib/python3.6/site-packages/traitlets/config/application.py\", line 658, in launch_instance\n    app.start()\n  File \"/home/siri/miniconda3/lib/python3.6/site-packages/ipykernel/kernelapp.py\", line 505, in start\n    self.io_loop.start()\n  File \"/home/siri/miniconda3/lib/python3.6/site-packages/tornado/platform/asyncio.py\", line 132, in start\n    self.asyncio_loop.run_forever()\n  File \"/home/siri/miniconda3/lib/python3.6/asyncio/base_events.py\", line 438, in run_forever\n    self._run_once()\n  File \"/home/siri/miniconda3/lib/python3.6/asyncio/base_events.py\", line 1451, in _run_once\n    handle._run()\n  File \"/home/siri/miniconda3/lib/python3.6/asyncio/events.py\", line 145, in _run\n    self._callback(*self._args)\n  File \"/home/siri/miniconda3/lib/python3.6/site-packages/tornado/ioloop.py\", line 758, in _run_callback\n    ret = callback()\n  File \"/home/siri/miniconda3/lib/python3.6/site-packages/tornado/stack_context.py\", line 300, in null_wrapper\n    return fn(*args, **kwargs)\n  File \"/home/siri/miniconda3/lib/python3.6/site-packages/tornado/gen.py\", line 1233, in inner\n    self.run()\n  File \"/home/siri/miniconda3/lib/python3.6/site-packages/tornado/gen.py\", line 1147, in run\n    yielded = self.gen.send(value)\n  File \"/home/siri/miniconda3/lib/python3.6/site-packages/ipykernel/kernelbase.py\", line 357, in process_one\n    yield gen.maybe_future(dispatch(*args))\n  File \"/home/siri/miniconda3/lib/python3.6/site-packages/tornado/gen.py\", line 326, in wrapper\n    yielded = next(result)\n  File \"/home/siri/miniconda3/lib/python3.6/site-packages/ipykernel/kernelbase.py\", line 267, in dispatch_shell\n    yield gen.maybe_future(handler(stream, idents, msg))\n  File \"/home/siri/miniconda3/lib/python3.6/site-packages/tornado/gen.py\", line 326, in wrapper\n    yielded = next(result)\n  File \"/home/siri/miniconda3/lib/python3.6/site-packages/ipykernel/kernelbase.py\", line 534, in execute_request\n    user_expressions, allow_stdin,\n  File \"/home/siri/miniconda3/lib/python3.6/site-packages/tornado/gen.py\", line 326, in wrapper\n    yielded = next(result)\n  File \"/home/siri/miniconda3/lib/python3.6/site-packages/ipykernel/ipkernel.py\", line 294, in do_execute\n    res = shell.run_cell(code, store_history=store_history, silent=silent)\n  File \"/home/siri/miniconda3/lib/python3.6/site-packages/ipykernel/zmqshell.py\", line 536, in run_cell\n    return super(ZMQInteractiveShell, self).run_cell(*args, **kwargs)\n  File \"/home/siri/miniconda3/lib/python3.6/site-packages/IPython/core/interactiveshell.py\", line 2819, in run_cell\n    raw_cell, store_history, silent, shell_futures)\n  File \"/home/siri/miniconda3/lib/python3.6/site-packages/IPython/core/interactiveshell.py\", line 2845, in _run_cell\n    return runner(coro)\n  File \"/home/siri/miniconda3/lib/python3.6/site-packages/IPython/core/async_helpers.py\", line 67, in _pseudo_sync_runner\n    coro.send(None)\n  File \"/home/siri/miniconda3/lib/python3.6/site-packages/IPython/core/interactiveshell.py\", line 3020, in run_cell_async\n    interactivity=interactivity, compiler=compiler, result=result)\n  File \"/home/siri/miniconda3/lib/python3.6/site-packages/IPython/core/interactiveshell.py\", line 3185, in run_ast_nodes\n    if (yield from self.run_code(code, result)):\n  File \"/home/siri/miniconda3/lib/python3.6/site-packages/IPython/core/interactiveshell.py\", line 3267, in run_code\n    exec(code_obj, self.user_global_ns, self.user_ns)\n  File \"<ipython-input-25-c62980a4060a>\", line 5, in <module>\n    eval_model_spec = model_fn('eval', eval_inputs)\n  File \"<ipython-input-24-34715537bc29>\", line 10, in model_fn\n    x1_b, x2_b = preprocess_input(inputs['q1'], inputs['q2'], state_size)\n  File \"<ipython-input-14-55ab30466b22>\", line 12, in preprocess_input\n    x2 = red_dims(projected_dim)(tf.nn.embedding_lookup(embed_vectors, X2))\n  File \"/home/siri/miniconda3/lib/python3.6/site-packages/tensorflow/python/keras/engine/base_layer.py\", line 769, in __call__\n    outputs = self.call(inputs, *args, **kwargs)\n  File \"/home/siri/miniconda3/lib/python3.6/site-packages/tensorflow/python/keras/layers/wrappers.py\", line 269, in call\n    y = self.layer.call(inputs, **kwargs)\n  File \"/home/siri/miniconda3/lib/python3.6/site-packages/tensorflow/python/keras/layers/core.py\", line 947, in call\n    outputs = gen_math_ops.mat_mul(inputs, self.kernel)\n  File \"/home/siri/miniconda3/lib/python3.6/site-packages/tensorflow/python/ops/gen_math_ops.py\", line 4560, in mat_mul\n    name=name)\n  File \"/home/siri/miniconda3/lib/python3.6/site-packages/tensorflow/python/framework/op_def_library.py\", line 510, in _apply_op_helper\n    preferred_dtype=default_dtype)\n  File \"/home/siri/miniconda3/lib/python3.6/site-packages/tensorflow/python/framework/ops.py\", line 1144, in internal_convert_to_tensor\n    ret = conversion_func(value, dtype=dtype, name=name, as_ref=as_ref)\n  File \"/home/siri/miniconda3/lib/python3.6/site-packages/tensorflow/python/ops/resource_variable_ops.py\", line 1286, in _dense_var_to_tensor\n    return var._dense_var_to_tensor(dtype=dtype, name=name, as_ref=as_ref)  # pylint: disable=protected-access\n  File \"/home/siri/miniconda3/lib/python3.6/site-packages/tensorflow/python/ops/resource_variable_ops.py\", line 1241, in _dense_var_to_tensor\n    return self.value()\n  File \"/home/siri/miniconda3/lib/python3.6/site-packages/tensorflow/python/ops/resource_variable_ops.py\", line 672, in value\n    return self._read_variable_op()\n  File \"/home/siri/miniconda3/lib/python3.6/site-packages/tensorflow/python/ops/resource_variable_ops.py\", line 755, in _read_variable_op\n    self._dtype)\n  File \"/home/siri/miniconda3/lib/python3.6/site-packages/tensorflow/python/ops/gen_resource_variable_ops.py\", line 508, in read_variable_op\n    \"ReadVariableOp\", resource=resource, dtype=dtype, name=name)\n  File \"/home/siri/miniconda3/lib/python3.6/site-packages/tensorflow/python/framework/op_def_library.py\", line 787, in _apply_op_helper\n    op_def=op_def)\n  File \"/home/siri/miniconda3/lib/python3.6/site-packages/tensorflow/python/util/deprecation.py\", line 488, in new_func\n    return func(*args, **kwargs)\n  File \"/home/siri/miniconda3/lib/python3.6/site-packages/tensorflow/python/framework/ops.py\", line 3272, in create_op\n    op_def=op_def)\n  File \"/home/siri/miniconda3/lib/python3.6/site-packages/tensorflow/python/framework/ops.py\", line 1768, in __init__\n    self._traceback = tf_stack.extract_stack()\n\nFailedPreconditionError (see above for traceback): Error while reading resource variable embedding_1/time_distributed_3/kernel from Container: localhost. This could mean that the variable was uninitialized. Not found: Resource localhost/embedding_1/time_distributed_3/kernel/N10tensorflow3VarE does not exist.\n\t [[{{node embedding_1/time_distributed_3/MatMul/ReadVariableOp}} = ReadVariableOp[dtype=DT_FLOAT, _device=\"/job:localhost/replica:0/task:0/device:CPU:0\"](embedding_1/time_distributed_3/kernel)]]\n\t [[{{node embedding_1/Squeeze_33/_5021}} = _Recv[client_terminated=false, recv_device=\"/job:localhost/replica:0/task:0/device:GPU:0\", send_device=\"/job:localhost/replica:0/task:0/device:CPU:0\", send_device_incarnation=1, tensor_name=\"edge_5206_embedding_1/Squeeze_33\", tensor_type=DT_FLOAT, _device=\"/job:localhost/replica:0/task:0/device:GPU:0\"]()]]\n"
     ]
    }
   ],
   "source": [
    "with tf.Session(config=config) as sess:\n",
    "    #sess.run(tf.initializers.global_variables(), \n",
    "    #         options=tf.RunOptions(report_tensor_allocations_upon_oom = True))\n",
    "    sess.run(train_model_spec['variable_init_op'])\n",
    "    #initial_state_train = np.zeros((train_batch_size, state_size), dtype=np.float32)\n",
    "    #initial_state_valid = np.zeros((valid_batch_size, state_size), dtype=np.float32)\n",
    "    #x1_valid,x2_valid, y_v = generateData(valid_series_length, num_valid_batches, is_train=False)\n",
    "    #x1,x2, y = generateData(train_series_length, num_train_batches, is_train=True)\n",
    "    #training_writer = tf.summary.FileWriter(logs_folder+'training', sess.graph)\n",
    "    #validation_writer = tf.summary.FileWriter(logs_folder+'validation', sess.graph)\n",
    "\n",
    "    for epoch_idx in range(num_epochs):\n",
    "        print(\"New data, epoch\", epoch_idx)  \n",
    "        \n",
    "        sess.run(train_model_spec['iterator_init_op'])\n",
    "        print(\"Train Iterator initiated\")\n",
    "        sess.run(train_model_spec['metrics_init_op'])\n",
    "        print(\"Train Metrics initiated\")\n",
    "        _, _ = sess.run(\n",
    "                [train_model_spec['train_step'], train_model_spec['update_metrics']])\n",
    "        print(\"Train Session train_step and update_metrics ops run\")\n",
    "        \n",
    "        train_metrics_values = {k: v[0] for k, v in train_model_spec['metrics'].items()}\n",
    "        train_metrics_val = sess.run(train_metrics_values)\n",
    "        print(\"Train Session metrics_vals run\")\n",
    "        train_metrics_string = \" ; \".join(\"{}: {:05.3f}\".format(k, v) for k, v in train_metrics_val.items())\n",
    "        \n",
    "        \n",
    "        sess.run(eval_model_spec['iterator_init_op'])\n",
    "        print(\"Eval Iterator initiated\")\n",
    "        sess.run(eval_model_spec['metrics_init_op']) \n",
    "        print(\"Eval Metrics initiated\")      \n",
    "        _ = sess.run(\n",
    "                eval_model_spec['update_metrics'])\n",
    "        print(\"Eval Session update_metrics ops run\")\n",
    "        \n",
    "        eval_metrics_values = {k: v[0] for k, v in eval_model_spec['metrics'].items()}\n",
    "        eval_metrics_val = sess.run(eval_metrics_values)\n",
    "        print(\"Eval Session metrics_vals run\")\n",
    "        eval_metrics_string = \" ; \".join(\"{}: {:05.3f}\".format(k, v) for k, v in eval_metrics_val.items())\n",
    "        print(\"epoch:{} - Train: {}   Eval: {}\".format(epoch_idx, train_metrics_string, eval_metrics_string))"
   ]
  },
  {
   "cell_type": "code",
   "execution_count": null,
   "metadata": {},
   "outputs": [
    {
     "name": "stdout",
     "output_type": "stream",
     "text": [
      "New data, epoch 0\n"
     ]
    }
   ],
   "source": [
    "        #for batch_idx in range(num_train_batches):\n",
    "            \n",
    "        #    _total_loss_train, _predictions_train, _train_step, _training_summary = sess.run(\n",
    "        #        [total_loss, predictions, train_step, summary], \n",
    "        #        feed_dict={\n",
    "        #            X1:x1[batch_idx],\n",
    "        #            X2:x2[batch_idx],\n",
    "        #            Y:y[batch_idx].reshape(-1,1)\n",
    "        #            #init_state:initial_state_train\n",
    "        #        })   \n",
    "\n",
    "        #    if batch_idx%100 == 0:\n",
    "        #        loss_list = []\n",
    "        #        preds_list = []\n",
    "        #        for valid_batch_idx in range(num_valid_batches):\n",
    "        #            _total_loss_valid, _preds_valid, _valid_summary = sess.run(\n",
    "        #            [total_loss, predictions, summary], \n",
    "        #            feed_dict={\n",
    "        #                X1:x1_valid[valid_batch_idx],\n",
    "        #                X2:x2_valid[valid_batch_idx],\n",
    "        #                Y:y_v[valid_batch_idx].reshape(-1,1)\n",
    "        #                #init_state:initial_state_valid\n",
    "        #            }) \n",
    "        #            loss_list.append(_total_loss_valid)\n",
    "        #            preds_list.append(_preds_valid)\n",
    "        #        valid_loss = np.mean(np.array(loss_list))\n",
    "        #        valid_preds = np.concatenate(preds_list, axis=None)\n",
    "        #        print(\"epoch:{} step:{} - batch-loss:{:.3f}  batch-accuracy:{:.2f} valid-loss:{:.3f} valid-accuracy:{:.2f}\".\\\n",
    "        #              format(epoch_idx, batch_idx, \n",
    "        #                     _total_loss_train, \n",
    "        #                     accuracy_score(y[batch_idx], _predictions_train), \n",
    "        #                     valid_loss,\n",
    "        #                     accuracy_score(y_valid.values, valid_preds)))\n",
    "        #        training_writer.add_summary(_training_summary, batch_idx)\n",
    "        #        validation_writer.add_summary(_valid_summary, batch_idx)"
   ]
  },
  {
   "cell_type": "code",
   "execution_count": null,
   "metadata": {},
   "outputs": [],
   "source": []
  }
 ],
 "metadata": {
  "kernelspec": {
   "display_name": "Python 3",
   "language": "python",
   "name": "python3"
  },
  "language_info": {
   "codemirror_mode": {
    "name": "ipython",
    "version": 3
   },
   "file_extension": ".py",
   "mimetype": "text/x-python",
   "name": "python",
   "nbconvert_exporter": "python",
   "pygments_lexer": "ipython3",
   "version": "3.6.8"
  }
 },
 "nbformat": 4,
 "nbformat_minor": 2
}
