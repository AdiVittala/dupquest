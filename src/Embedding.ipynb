{
 "cells": [
  {
   "cell_type": "code",
   "execution_count": 1,
   "metadata": {},
   "outputs": [],
   "source": [
    "import time\n",
    "from utils import persistence as ps\n",
    "from megaman.embedding import SpectralEmbedding\n",
    "from megaman.geometry.geometry import Geometry\n",
    "radius = 10\n",
    "adjacency_method = 'cyflann'\n",
    "cyflann_kwds = {'index_type':'kmeans', 'branching':64, 'iterations':20, 'cb_index':0.4}\n",
    "adjacency_kwds = {'radius':radius, 'cyflann_kwds':cyflann_kwds}\n",
    "affinity_method = 'gaussian'\n",
    "affinity_kwds = {'radius':radius}\n",
    "laplacian_method = 'geometric'\n",
    "laplacian_kwds = {'scaling_epps':radius}"
   ]
  },
  {
   "cell_type": "code",
   "execution_count": 2,
   "metadata": {},
   "outputs": [
    {
     "data": {
      "text/plain": [
       "<minio.definitions.Object at 0x7f95a94a3b00>"
      ]
     },
     "execution_count": 2,
     "metadata": {},
     "output_type": "execute_result"
    }
   ],
   "source": [
    "ps.get_file(bucket='dq-data', filename='wor2vec_300_train.mtx', filepath='wor2vec_300_train.mtx')"
   ]
  },
  {
   "cell_type": "code",
   "execution_count": 3,
   "metadata": {},
   "outputs": [],
   "source": [
    "from scipy.io import mmread\n",
    "X = mmread('wor2vec_300_train.mtx')"
   ]
  },
  {
   "cell_type": "code",
   "execution_count": 4,
   "metadata": {},
   "outputs": [
    {
     "data": {
      "text/plain": [
       "(541148, 300)"
      ]
     },
     "execution_count": 4,
     "metadata": {},
     "output_type": "execute_result"
    }
   ],
   "source": [
    "X.shape"
   ]
  },
  {
   "cell_type": "code",
   "execution_count": 5,
   "metadata": {},
   "outputs": [],
   "source": [
    "X = X[:100000]"
   ]
  },
  {
   "cell_type": "code",
   "execution_count": 6,
   "metadata": {},
   "outputs": [
    {
     "data": {
      "text/plain": [
       "(100000, 300)"
      ]
     },
     "execution_count": 6,
     "metadata": {},
     "output_type": "execute_result"
    }
   ],
   "source": [
    "X.shape"
   ]
  },
  {
   "cell_type": "code",
   "execution_count": 7,
   "metadata": {},
   "outputs": [
    {
     "ename": "NameError",
     "evalue": "name 'geom' is not defined",
     "output_type": "error",
     "traceback": [
      "\u001b[0;31m---------------------------------------------------------------------------\u001b[0m",
      "\u001b[0;31mNameError\u001b[0m                                 Traceback (most recent call last)",
      "\u001b[0;32m<ipython-input-7-5c669619d28a>\u001b[0m in \u001b[0;36m<module>\u001b[0;34m\u001b[0m\n\u001b[0;32m----> 1\u001b[0;31m \u001b[0;32mdel\u001b[0m \u001b[0mgeom\u001b[0m\u001b[0;34m\u001b[0m\u001b[0m\n\u001b[0m",
      "\u001b[0;31mNameError\u001b[0m: name 'geom' is not defined"
     ]
    }
   ],
   "source": [
    "del geom"
   ]
  },
  {
   "cell_type": "code",
   "execution_count": 8,
   "metadata": {},
   "outputs": [],
   "source": [
    "geom = Geometry(adjacency_method=adjacency_method, adjacency_kwds=adjacency_kwds,\n",
    "                affinity_method=affinity_method, affinity_kwds=affinity_kwds,\n",
    "                laplacian_method=laplacian_method, laplacian_kwds=laplacian_kwds)"
   ]
  },
  {
   "cell_type": "code",
   "execution_count": 9,
   "metadata": {},
   "outputs": [],
   "source": [
    "geom.set_data_matrix(X)"
   ]
  },
  {
   "cell_type": "code",
   "execution_count": 10,
   "metadata": {},
   "outputs": [],
   "source": [
    "geom.delete_laplacian_matrix()"
   ]
  },
  {
   "cell_type": "code",
   "execution_count": 11,
   "metadata": {},
   "outputs": [
    {
     "name": "stdout",
     "output_type": "stream",
     "text": [
      "98.51511859893799\n"
     ]
    }
   ],
   "source": [
    "t0 = time.time()\n",
    "lapl = geom.compute_laplacian_matrix(copy=False)\n",
    "t1 = time.time() - t0\n",
    "print(t1)"
   ]
  },
  {
   "cell_type": "code",
   "execution_count": 12,
   "metadata": {},
   "outputs": [],
   "source": [
    "geom.delete_data_matrix()"
   ]
  },
  {
   "cell_type": "code",
   "execution_count": 13,
   "metadata": {},
   "outputs": [
    {
     "name": "stderr",
     "output_type": "stream",
     "text": [
      "/opt/conda/lib/python3.6/site-packages/sklearn/utils/validation.py:462: DeprecationWarning: Passing 'None' to parameter 'accept_sparse' in methods check_array and check_X_y is deprecated in version 0.19 and will be removed in 0.21. Use 'accept_sparse=False'  instead.\n",
      "  \" instead.\", DeprecationWarning)\n",
      "/opt/conda/lib/python3.6/site-packages/megaman/embedding/spectral_embedding.py:202: UserWarning: Graph is not fully connected: spectral embedding may not work as expected.\n",
      "  warnings.warn(\"Graph is not fully connected: \"\n"
     ]
    },
    {
     "name": "stdout",
     "output_type": "stream",
     "text": [
      "386.0650975704193\n"
     ]
    }
   ],
   "source": [
    "import numpy as np\n",
    "t0 = time.time()\n",
    "spec = SpectralEmbedding(n_components=3, eigen_solver='amg',geom=geom)\n",
    "X_spec = spec.fit_transform(X=X.astype(np.float))\n",
    "#adjacency_matrix = geom.compute_adjacency_matrix()\n",
    "t1 = time.time() - t0\n",
    "print(t1)"
   ]
  },
  {
   "cell_type": "code",
   "execution_count": 14,
   "metadata": {},
   "outputs": [
    {
     "data": {
      "text/plain": [
       "(100000, 3)"
      ]
     },
     "execution_count": 14,
     "metadata": {},
     "output_type": "execute_result"
    }
   ],
   "source": [
    "X_spec.shape"
   ]
  },
  {
   "cell_type": "code",
   "execution_count": 15,
   "metadata": {},
   "outputs": [],
   "source": [
    "from scipy.io import mmwrite\n",
    "mmwrite('embed_train.mtx', X_spec)"
   ]
  },
  {
   "cell_type": "code",
   "execution_count": 16,
   "metadata": {},
   "outputs": [
    {
     "name": "stdout",
     "output_type": "stream",
     "text": [
      "pushed file embed_train.mtx from embed_train.mtx to minio bucket dq-data\n"
     ]
    },
    {
     "data": {
      "text/plain": [
       "True"
      ]
     },
     "execution_count": 16,
     "metadata": {},
     "output_type": "execute_result"
    }
   ],
   "source": [
    "ps.copy_file(dest_bucket='dq-data', file='embed_train.mtx', source='embed_train.mtx')"
   ]
  },
  {
   "cell_type": "code",
   "execution_count": 37,
   "metadata": {},
   "outputs": [
    {
     "ename": "ModuleNotFoundError",
     "evalue": "No module named 'matplotlib'",
     "output_type": "error",
     "traceback": [
      "\u001b[0;31m---------------------------------------------------------------------------\u001b[0m",
      "\u001b[0;31mModuleNotFoundError\u001b[0m                       Traceback (most recent call last)",
      "\u001b[0;32m<ipython-input-37-b96e573682e9>\u001b[0m in \u001b[0;36m<module>\u001b[0;34m\u001b[0m\n\u001b[0;32m----> 1\u001b[0;31m \u001b[0;32mimport\u001b[0m \u001b[0mmatplotlib\u001b[0m\u001b[0;34m\u001b[0m\u001b[0m\n\u001b[0m\u001b[1;32m      2\u001b[0m \u001b[0mmatplotlib\u001b[0m\u001b[0;34m.\u001b[0m\u001b[0muse\u001b[0m\u001b[0;34m(\u001b[0m\u001b[0;34m'Agg'\u001b[0m\u001b[0;34m)\u001b[0m\u001b[0;34m\u001b[0m\u001b[0m\n\u001b[1;32m      3\u001b[0m \u001b[0;32mimport\u001b[0m \u001b[0mpylab\u001b[0m \u001b[0;32mas\u001b[0m \u001b[0mplt\u001b[0m\u001b[0;34m\u001b[0m\u001b[0m\n",
      "\u001b[0;31mModuleNotFoundError\u001b[0m: No module named 'matplotlib'"
     ]
    }
   ],
   "source": [
    "import matplotlib\n",
    "matplotlib.use('Agg')\n",
    "import pylab as plt"
   ]
  },
  {
   "cell_type": "code",
   "execution_count": null,
   "metadata": {},
   "outputs": [],
   "source": [
    "print('making pairwise plot...')\n",
    "\n",
    "fig, axes = plt.subplots(nrows=2, ncols = 3, figsize=(8,8))\n",
    "fig.subplots_adjust(hspace=0.05,wspace =0.05)\n",
    "\n",
    "axes[0, 0].scatter(embed[:, 0], embed[:, 1], s = 1, c = 'k')\n",
    "axes[0, 0].set_title('1 vs 2')\n",
    "axes[0, 0].xaxis.set_visible(False)\n",
    "axes[0, 0].yaxis.set_visible(False)\n",
    "\n",
    "axes[0, 1].scatter(embed[:, 0], embed[:, 2], s = 1, c = 'k')\n",
    "axes[0, 1].set_title('1 vs 3')\n",
    "axes[0, 1].xaxis.set_visible(False)\n",
    "axes[0, 1].yaxis.set_visible(False)\n",
    "\n",
    "axes[0, 2].scatter(embed[:, 0], embed[:, 3], s = 1, c = 'k')\n",
    "axes[0, 2].set_title('1 vs 4')\n",
    "axes[0, 2].xaxis.set_visible(False)\n",
    "axes[0, 2].yaxis.set_visible(False)\n",
    "\n",
    "axes[1, 0].scatter(embed[:, 1], embed[:, 2], s = 1, c = 'k')\n",
    "axes[1, 0].set_title('2 vs 3')\n",
    "axes[1, 0].xaxis.set_visible(False)\n",
    "axes[1, 0].yaxis.set_visible(False)\n",
    "\n",
    "axes[1, 1].scatter(embed[:, 1], embed[:, 3], s = 1, c = 'k')\n",
    "axes[1, 1].set_title('2 vs 4')\n",
    "axes[1, 1].xaxis.set_visible(False)\n",
    "axes[1, 1].yaxis.set_visible(False)\n",
    "\n",
    "axes[1, 2].scatter(embed[:, 2], embed[:, 3], s = 1, c = 'k')\n",
    "axes[1, 2].set_title('3 vs 4')\n",
    "axes[1, 2].xaxis.set_visible(False)\n",
    "axes[1, 2].yaxis.set_visible(False)\n",
    "plt.suptitle(\"pairwise components from spectral embedding into 4 dimensions\")\n",
    "\n",
    "print('saving figure...')\n",
    "plt.savefig('word2vec_pairwise_embedding'+'.png', format='png')\n",
    "print('done!')"
   ]
  }
 ],
 "metadata": {
  "kernelspec": {
   "display_name": "Python 3",
   "language": "python",
   "name": "python3"
  },
  "language_info": {
   "codemirror_mode": {
    "name": "ipython",
    "version": 3
   },
   "file_extension": ".py",
   "mimetype": "text/x-python",
   "name": "python",
   "nbconvert_exporter": "python",
   "pygments_lexer": "ipython3",
   "version": "3.6.6"
  }
 },
 "nbformat": 4,
 "nbformat_minor": 2
}
