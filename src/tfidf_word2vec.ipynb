{
 "cells": [
  {
   "cell_type": "markdown",
   "metadata": {},
   "source": [
    "# Identification of Quora Duplicates using Machine Learning"
   ]
  },
  {
   "cell_type": "markdown",
   "metadata": {},
   "source": [
    "<a id='toc'></a>\n",
    "## Table of Contents\n",
    "1. [Imports & Intialization](#init)\n",
    "2. [Data Input](#data)\n",
    "    1. [Read from file](#rdfile)\n",
    "3. [Train-Test Split](#split)\n",
    "4. [Preprocessing](#preproc)\n",
    "    1. [Tokenizing](#token)\n",
    "5. [Embedding - word2vec](#embed)\n",
    "    1. [Load pretrained fasttext model](#loadw2v)\n",
    "    2. [Transfer-train on training data](#retw2v)\n",
    "6. [Feature Extraction](#featex)\n",
    "    1. [Feature Sets 1 & 3 - Pairwise Distance & word2vec Vectors](#featset1)\n",
    "        1. [Train - TF-IDF Vectorizer](#tr_tfidf)            \n",
    "        2. [Function - TF-IDF Weights & word2vec Vectors](#f_tfidf_w2v)\n",
    "        3. [Parallelization - Dask](#dask_init)\n",
    "        4. [Functions - Pairwise Distances & Weighted Means](#f_pwise)\n",
    "        5. [Compute - TF-IDF Weights & word2vec Vectors](#c_tfidf_w2v)\n",
    "        6. [Compute - Pairwise Distances](#c_pwise)\n",
    "    2. [Feature Set 2 - Fuzzy and Other Features](#featset2)\n",
    "        1. [Functions - Fuzzy and Others](#f_fuzz)\n",
    "        2. [Compute - Fuzzy and Others](#c_fuzz)\n",
    "    3. [Assemble all Features sets](#ass_feat)\n",
    "        1. [Functions - Add to train and test data](#f_ass)\n",
    "        2. [Add to train data](#ass_train)\n",
    "        3. [Add to test data](#ass_test)\n",
    "7. [Feature Selection](#featsel)\n",
    "    1. [Sort by Variance](#feat_var)\n",
    "    2. [Sort by F-value](#feat_fval)\n",
    "8. [Modeling](#model)\n",
    "    1. [Logistic Regression](#logr)\n",
    "        1. [Hyperparameter optimization](#logr_hyp)\n",
    "        2. [Train optimized model](#logr_train)\n",
    "        3. [Predict test data](#logr_pred)\n",
    "        4. [Evaluate Model](#logr_eval)\n",
    "    2. [Gradient Boosted Machine (XGBoost)](#gbm)\n",
    "        1. [Hyperparameter optimization](#gbm_hyp)\n",
    "        2. [Train optimized model](#gbm_train)\n",
    "        3. [Predict test data](#gbm_pred)\n",
    "        4. [Evaluate Model](#gbm_eval)"
   ]
  },
  {
   "cell_type": "markdown",
   "metadata": {},
   "source": [
    "<a id='init'></a>\n",
    "## Imports & Intialization\n",
    "[back to table of contents](#toc)"
   ]
  },
  {
   "cell_type": "code",
   "execution_count": 117,
   "metadata": {},
   "outputs": [],
   "source": [
    "import pandas as pd\n",
    "from typing import List, Dict, Tuple\n",
    "import numpy as np\n",
    "import pickle\n",
    "from scipy.io import mmwrite, mmread\n",
    "from joblib import dump, load\n",
    "from utils.utils import plot_roc, bar_plot_maker\n",
    "\n",
    "import warnings\n",
    "warnings.filterwarnings('ignore')\n",
    "\n",
    "from toolz import partition_all\n",
    "\n",
    "from sklearn.metrics import roc_curve, auc\n",
    "import matplotlib.pyplot as plt\n",
    "import seaborn as sns\n",
    "\n",
    "import time"
   ]
  },
  {
   "cell_type": "code",
   "execution_count": 118,
   "metadata": {},
   "outputs": [],
   "source": [
    "f_path = '/media/siri/78C6823EC681FD1E/minio/data/'\n",
    "data_folder = f_path+'dq-data/v4/'\n",
    "input_folder = f_path+'dq-data/'"
   ]
  },
  {
   "cell_type": "code",
   "execution_count": 142,
   "metadata": {},
   "outputs": [],
   "source": [
    "def create_nan_array(r,c):\n",
    "    arr = np.empty((r,c))\n",
    "    arr[:] = np.nan\n",
    "    return arr"
   ]
  },
  {
   "cell_type": "markdown",
   "metadata": {},
   "source": [
    "<a id='data'></a>\n",
    "## Data Input\n",
    "[back to table of contents](#toc)"
   ]
  },
  {
   "cell_type": "markdown",
   "metadata": {},
   "source": [
    "<a id='rdfile'></a>\n",
    "### Read from file into dataframe\n",
    "[back to table of contents](#toc)"
   ]
  },
  {
   "cell_type": "code",
   "execution_count": null,
   "metadata": {},
   "outputs": [],
   "source": [
    "#load train_set\n",
    "data = 'train.csv'\n",
    "#filestream = ps.get_file_stream(bucket=INPUT_BUCKET, filename=data)\n",
    "filestream = input_folder+data\n",
    "dtypes = {\n",
    "    'id': 'int64',\n",
    "    'qid1': 'int64',\n",
    "    'qid2': 'int64',\n",
    "    'question1': 'object',\n",
    "    'question2': 'object',\n",
    "    'is_duplicate': 'int64'\n",
    "}\n",
    "df = pd.read_csv(#urlpath=s3_in_url, \n",
    "                                     #storage_options=s3_options,\n",
    "                                     filestream,\n",
    "                                     header=0, \n",
    "                                     usecols=dtypes.keys(), \n",
    "                                     #names=dtypes.keys(),\n",
    "                                     skipinitialspace=True,\n",
    "                                     skip_blank_lines=True,\n",
    "                                     encoding='utf-8')\n",
    "df = df.set_index('id')\n",
    "df = df.dropna()"
   ]
  },
  {
   "cell_type": "code",
   "execution_count": null,
   "metadata": {},
   "outputs": [],
   "source": [
    "#del df"
   ]
  },
  {
   "cell_type": "markdown",
   "metadata": {},
   "source": [
    "<a id='split'></a>\n",
    "## Train-test split\n",
    "[back to table of contents](#toc)"
   ]
  },
  {
   "cell_type": "code",
   "execution_count": null,
   "metadata": {},
   "outputs": [],
   "source": [
    "from sklearn.model_selection import train_test_split\n",
    "\n",
    "X = df.drop(columns=['is_duplicate'])\n",
    "\n",
    "y = df['is_duplicate']\n",
    "X_train, X_test, y_train, y_test =  train_test_split(X, y, test_size=0.33, random_state=42)\n",
    "X_train.info()"
   ]
  },
  {
   "cell_type": "code",
   "execution_count": null,
   "metadata": {},
   "outputs": [],
   "source": [
    "pickle.dump(X_train, open(input_folder+'X_train.p', 'wb'))\n",
    "pickle.dump(y_train, open(input_folder+'y_train.p', 'wb'))\n",
    "pickle.dump(X_test, open(input_folder+'X_test.p', 'wb'))\n",
    "pickle.dump(y_test, open(input_folder+'y_test.p', 'wb'))"
   ]
  },
  {
   "cell_type": "code",
   "execution_count": null,
   "metadata": {},
   "outputs": [],
   "source": [
    "del X,y,df,X_train,X_test, y_train, y_test"
   ]
  },
  {
   "cell_type": "markdown",
   "metadata": {},
   "source": [
    "<a id='preproc'></a>\n",
    "## Preprocessing\n",
    "[back to table of contents](#toc)"
   ]
  },
  {
   "cell_type": "code",
   "execution_count": 8,
   "metadata": {},
   "outputs": [],
   "source": [
    "from gensim.parsing.preprocessing import preprocess_string, strip_tags, strip_multiple_whitespaces, remove_stopwords, stem_text\n",
    "custom_filters = [strip_tags, strip_multiple_whitespaces, remove_stopwords, stem_text]\n",
    "def get_tokenized_questions(run='train'):\n",
    "    if run=='test':\n",
    "        X = pickle.load(open(input_folder+'X_test.p', 'rb'))\n",
    "    else:\n",
    "        X = pickle.load(open(input_folder+'X_train.p', 'rb'))\n",
    "    series = pd.Series(pd.concat([X['question1'], X['question2']]),dtype=str)\n",
    "    series.dropna()\n",
    "    for question in series:\n",
    "        yield preprocess_string(question, custom_filters)"
   ]
  },
  {
   "cell_type": "code",
   "execution_count": 9,
   "metadata": {},
   "outputs": [],
   "source": [
    "#common_terms = [\"of\", \"with\", \"without\", \"and\", \"or\", \"the\", \"a\"]\n",
    "#phrases = gensim.models.Phrases(get_tokenized_questions('train'), common_terms=common_terms)"
   ]
  },
  {
   "cell_type": "markdown",
   "metadata": {},
   "source": [
    "<a id='featex'></a>\n",
    "## Feature Extraction\n",
    "[back to table of contents](#toc)"
   ]
  },
  {
   "cell_type": "markdown",
   "metadata": {},
   "source": [
    "<a id='token'></a>\n",
    "### Tokenizing\n",
    "[back to table of contents](#toc)"
   ]
  },
  {
   "cell_type": "code",
   "execution_count": 10,
   "metadata": {},
   "outputs": [],
   "source": [
    "#def get_phrased_tknzd_questions(process):\n",
    "#    return phrases[get_tokenized_questions(process)]"
   ]
  },
  {
   "cell_type": "code",
   "execution_count": 119,
   "metadata": {},
   "outputs": [],
   "source": [
    "#function to get tokenize into tokens (that have valid vectors)\n",
    "def get_tokens_for_valid_vectors(model, run):\n",
    "    for question in get_tokenized_questions(run):\n",
    "        tf_idf_tokens = []\n",
    "        for token in question:\n",
    "            try:\n",
    "                vector = model.wv[token]\n",
    "                tf_idf_tokens.append(token)\n",
    "            except:\n",
    "                continue\n",
    "        yield np.array(tf_idf_tokens)"
   ]
  },
  {
   "cell_type": "markdown",
   "metadata": {},
   "source": [
    "<a id='embed'></a>\n",
    "### Embedding - word2vec\n",
    "[back to table of contents](#toc)"
   ]
  },
  {
   "cell_type": "markdown",
   "metadata": {},
   "source": [
    "<a id='loadw2v'></a>\n",
    "#### Load pretrained fasttext model\n",
    "[back to table of contents](#toc)"
   ]
  },
  {
   "cell_type": "code",
   "execution_count": null,
   "metadata": {},
   "outputs": [],
   "source": [
    "from gensim.models import FastText\n",
    "model = FastText.load_fasttext_format(data_folder+'cc.en.300.bin')"
   ]
  },
  {
   "cell_type": "code",
   "execution_count": null,
   "metadata": {},
   "outputs": [],
   "source": [
    "#function to get word2vec vectors given pretrained model and run (train/test)\n",
    "def get_ft_vectors(model, run):\n",
    "    for tokens in get_tokens(run):\n",
    "        vectors = []\n",
    "        for token in tokens:\n",
    "            try:\n",
    "                vector = model.wv[token]\n",
    "            except:\n",
    "                continue\n",
    "            vectors.append(vector)\n",
    "        yield np.array(vectors)"
   ]
  },
  {
   "cell_type": "markdown",
   "metadata": {},
   "source": [
    "<a id='retw2v'></a>\n",
    "####  Transfer-train on training data\n",
    "[back to table of contents](#toc)"
   ]
  },
  {
   "cell_type": "code",
   "execution_count": 15,
   "metadata": {},
   "outputs": [],
   "source": [
    "tokenized_questions = [question for question in get_tokenized_questions('train')]"
   ]
  },
  {
   "cell_type": "code",
   "execution_count": 16,
   "metadata": {},
   "outputs": [],
   "source": [
    "model_w2v = gensim.models.Word2Vec(tokenized_questions, size=300)"
   ]
  },
  {
   "cell_type": "code",
   "execution_count": 17,
   "metadata": {},
   "outputs": [],
   "source": [
    "model_w2v.intersect_word2vec_format(input_folder+'GoogleNews-vectors-negative300.bin',\n",
    "                                lockf=1.0,\n",
    "                                binary=True)"
   ]
  },
  {
   "cell_type": "code",
   "execution_count": 18,
   "metadata": {},
   "outputs": [
    {
     "data": {
      "text/plain": [
       "(28534169, 35553200)"
      ]
     },
     "execution_count": 18,
     "metadata": {},
     "output_type": "execute_result"
    }
   ],
   "source": [
    "model_w2v.train(tokenized_questions,total_examples=model_w2v.corpus_count, epochs=10)"
   ]
  },
  {
   "cell_type": "markdown",
   "metadata": {},
   "source": [
    "<a id='featset1'></a>\n",
    "### Feature Sets 1 & 3 - Pairwise Distance & word2vec Vectors\n",
    "[back to table of contents](#toc)"
   ]
  },
  {
   "cell_type": "markdown",
   "metadata": {},
   "source": [
    "<a id='tr_tfidf'></a>\n",
    "#### Train - TF-IDF Vectorizer\n",
    "[back to table of contents](#toc)"
   ]
  },
  {
   "cell_type": "code",
   "execution_count": null,
   "metadata": {},
   "outputs": [],
   "source": [
    "from sklearn.feature_extraction.text import TfidfVectorizer\n",
    "pass_through = lambda x:x\n",
    "tfidf = TfidfVectorizer(analyzer=pass_through)\n",
    "X_trfmd = tfidf.fit_transform(get_tokens_for_valid_vectors(model_w2v,'train'))\n",
    "# split into two (X1 -> set of first questions and X2 -> set of second questions)\n",
    "X1_trfmd = X_trfmd[:len(X_train)]\n",
    "X2_trfmd = X_trfmd[len(X_train):]"
   ]
  },
  {
   "cell_type": "markdown",
   "metadata": {},
   "source": [
    "<a id='f_tfidf_w2v'></a>\n",
    "#### Function - TF-IDF Weights & word2vec Vectors\n",
    "[back to table of contents](#toc)"
   ]
  },
  {
   "cell_type": "code",
   "execution_count": 120,
   "metadata": {},
   "outputs": [],
   "source": [
    "# function to compute TF-IDF weights as well as the word2vec vectors for all tokens\n",
    "def get_weights_and_w2vectors(tfidf_matrix, tfidf_vectorizer, w2v_model):\n",
    "    weights = []\n",
    "    w2v = []\n",
    "    rows = tfidf_matrix.shape[0]\n",
    "    inverse_vocab_dict = {v: k for k, v in tfidf_vectorizer.vocabulary_.items()}\n",
    "    for doc in range(rows):\n",
    "        features = tfidf_matrix[doc,:].nonzero()[1]\n",
    "        weights.append(np.array([tfidf_matrix[doc, x] for x in features]))\n",
    "        w2v.append(np.array([w2v_model.wv[inverse_vocab_dict[x]] for x in features]))\n",
    "    return np.array(weights), np.array(w2v)"
   ]
  },
  {
   "cell_type": "markdown",
   "metadata": {},
   "source": [
    "<a id='c_tfidf_w2v'></a>\n",
    "#### Compute - TF-IDF Weights & word2vec Vectors\n",
    "[back to table of contents](#toc)"
   ]
  },
  {
   "cell_type": "markdown",
   "metadata": {},
   "source": [
    "##### Train set"
   ]
  },
  {
   "cell_type": "code",
   "execution_count": null,
   "metadata": {},
   "outputs": [],
   "source": [
    "X1_w, X1 = get_weights_and_w2vectors(X1_trfmd, tfidf, model_w2v)\n",
    "X2_w, X2 = get_weights_and_w2vectors(X2_trfmd, tfidf, model_w2v)\n",
    "pickle.dump(X1_w, open(data_folder+'X1_w.p','wb'))\n",
    "pickle.dump(X2_w, open(data_folder+'X2_w.p','wb'))\n",
    "pickle.dump(X1, open(data_folder+'X1.p','wb'))\n",
    "pickle.dump(X2, open(data_folder+'X2.p','wb'))"
   ]
  },
  {
   "cell_type": "code",
   "execution_count": 127,
   "metadata": {},
   "outputs": [],
   "source": [
    "del X1_w, X2_w, X1, X2"
   ]
  },
  {
   "cell_type": "markdown",
   "metadata": {},
   "source": [
    "##### Test set"
   ]
  },
  {
   "cell_type": "code",
   "execution_count": null,
   "metadata": {},
   "outputs": [],
   "source": [
    "X_test_trfmd = tfidf.transform(get_tokens_for_valid_vectors(model_w2v, 'test'))\n",
    "# split back into two\n",
    "X1_test_trfmd = X_test_trfmd[:len(X_test)]\n",
    "X2_test_trfmd = X_test_trfmd[len(X_test):]\n",
    "\n",
    "X1_test_w, X1_test = get_weights_and_w2vectors(X1_test_trfmd, tfidf, model_w2v)\n",
    "X2_test_w, X2_test = get_weights_and_w2vectors(X2_test_trfmd, tfidf, model_w2v)\n",
    "pickle.dump(X1_test_w, open(data_folder+'X1_test_w.p','wb'))\n",
    "pickle.dump(X2_test_w, open(data_folder+'X2_test_w.p','wb'))\n",
    "pickle.dump(X1_test, open(data_folder+'X1_test.p','wb'))\n",
    "pickle.dump(X2_test, open(data_folder+'X2_test.p','wb'))"
   ]
  },
  {
   "cell_type": "code",
   "execution_count": null,
   "metadata": {},
   "outputs": [],
   "source": [
    "del X1_test_w, X2_test_w, X1_test, X2_test"
   ]
  },
  {
   "cell_type": "code",
   "execution_count": null,
   "metadata": {},
   "outputs": [],
   "source": [
    "del model_w2v"
   ]
  },
  {
   "cell_type": "markdown",
   "metadata": {},
   "source": [
    "<a id='dask_init'></a>\n",
    "#### Parallelization - Dask\n",
    "[back to table of contents](#toc)"
   ]
  },
  {
   "cell_type": "code",
   "execution_count": null,
   "metadata": {},
   "outputs": [],
   "source": [
    "#import dask.dataframe as dd\n",
    "#from dask import delayed, compute\n",
    "#from dask.distributed import Client\n",
    "#from utils import dask\n",
    "#client = dask.create_dask_client(num_workers=8)"
   ]
  },
  {
   "cell_type": "markdown",
   "metadata": {},
   "source": [
    "<a id='f_pwise'></a>\n",
    "#### Functions - Pairwise Distances & Weighted Means\n",
    "[back to table of contents](#toc)"
   ]
  },
  {
   "cell_type": "code",
   "execution_count": 139,
   "metadata": {},
   "outputs": [],
   "source": [
    "from sklearn.metrics.pairwise import linear_kernel, polynomial_kernel, sigmoid_kernel, laplacian_kernel, rbf_kernel\n",
    "from sklearn.metrics import pairwise_distances\n",
    "from scipy.spatial.distance import cdist, directed_hausdorff\n",
    "from fastdtw import fastdtw\n",
    "import similaritymeasures\n",
    "from scipy.spatial import procrustes\n",
    "\n",
    "# function for pairwise kernels\n",
    "def compute_pairwise_kernel(pc1, pc2, w1, w2, method='linear'):\n",
    "    if pc1.size == 0 or pc2.size == 0:\n",
    "        return np.nan\n",
    "    if method=='polynomial':\n",
    "        dist_mat = polynomial_kernel(pc1, pc2, 2)\n",
    "    elif method=='rbf':\n",
    "        dist_mat = rbf_kernel(pc1, pc2)\n",
    "    elif method=='sigmoid':\n",
    "        dist_mat = sigmoid_kernel(pc1, pc2)\n",
    "    elif method=='laplacian':\n",
    "        dist_mat = laplacian_kernel(pc1, pc2)\n",
    "    else:\n",
    "        dist_mat = linear_kernel(pc1, pc2)\n",
    "    return np.average(dist_mat, weights=np.matmul(w1.reshape(-1,1),w2.reshape(-1,1).T))\n",
    "\n",
    "# function for pairwise distance metrics\n",
    "def compute_pairwise_dist(pc1, pc2, w1, w2, method='euclidean'):\n",
    "    if pc1.size == 0 or pc2.size == 0:\n",
    "        return np.nan\n",
    "    if method=='hausdorff':\n",
    "        dist = directed_hausdorff(pc1, pc2)\n",
    "        return dist[0]\n",
    "    else:\n",
    "        dist_mat = pairwise_distances(pc1, pc2, metric=method) \n",
    "    return np.average(dist_mat, weights=np.matmul(w1.reshape(-1,1),w2.reshape(-1,1).T))\n",
    "\n",
    "\n",
    "# function for weighted mean\n",
    "def compute_weighted_mean(pc, w):\n",
    "    return np.average(pc, axis=0, weights=w)"
   ]
  },
  {
   "cell_type": "code",
   "execution_count": 140,
   "metadata": {},
   "outputs": [],
   "source": [
    "#applies pairwise function to each row of the input vectors\n",
    "def compute_delayed(X1, X2, X1_w, X2_w, method):\n",
    "    temp = []\n",
    "    for q_tuple in zip(X1, X2, X1_w, X2_w):\n",
    "        if q_tuple:\n",
    "            q1_rd, q2_rd, q1_w, q2_w = q_tuple\n",
    "            if method in ['polynomial', 'rbf', 'sigmoid', 'laplacian', 'linear']:\n",
    "                temp.append(compute_pairwise_kernel(q1_rd, q2_rd, q1_w, q2_w, method))\n",
    "            else:\n",
    "                temp.append(compute_pairwise_dist(q1_rd, q2_rd, q1_w, q2_w, method))\n",
    "        else:\n",
    "            temp.append(np.nan)\n",
    "    return temp\n",
    "\n",
    "def compute_delayed_wmean(X, X_w, file, data_folder=data_folder):\n",
    "    temp = []\n",
    "    for q_tuple in zip(X, X_w):\n",
    "        if q_tuple:\n",
    "            q_rd, q_w = q_tuple\n",
    "            if np.sum(q_w) != 0:\n",
    "                temp.append(compute_weighted_mean(q_rd, q_w))\n",
    "            else:\n",
    "                temp.append(create_nan_array(1,300))                    \n",
    "        else:\n",
    "            temp.append(create_nan_array(1,300))\n",
    "    temp_arr = np.array(temp)\n",
    "    pickle_and_del(temp_arr, file, data_folder) \n",
    "\n",
    "# pickles object and deletes from memory\n",
    "def pickle_and_del(obj, file, data_folder=data_folder):\n",
    "    pickle.dump(obj, open(data_folder+file+'.p', 'wb'))\n",
    "    del obj\n",
    "    \n",
    "# computes pairwise metrics, weighted mean and saves to data_folder \n",
    "def compute_and_save(X1, X2, X1_w, X2_w, method, file, data_folder=data_folder):\n",
    "    computed_obj = compute_delayed(X1, X2, X1_w, X2_w, method)\n",
    "    pickle_and_del(computed_obj, file, data_folder) "
   ]
  },
  {
   "cell_type": "markdown",
   "metadata": {},
   "source": [
    "<a id='c_pwise'></a>\n",
    "#### Compute - Pairwise Distances\n",
    "[back to table of contents](#toc)"
   ]
  },
  {
   "cell_type": "markdown",
   "metadata": {},
   "source": [
    "##### Train set"
   ]
  },
  {
   "cell_type": "code",
   "execution_count": 137,
   "metadata": {},
   "outputs": [],
   "source": [
    "X1_w = pickle.load(open(data_folder+'X1_w.p','rb'))\n",
    "X2_w = pickle.load(open(data_folder+'X2_w.p','rb'))\n",
    "X1 = pickle.load(open(data_folder+'X1.p','rb'))\n",
    "X2 = pickle.load(open(data_folder+'X2.p','rb'))"
   ]
  },
  {
   "cell_type": "code",
   "execution_count": null,
   "metadata": {},
   "outputs": [],
   "source": [
    "#jaccard = compute(*jaccard)\n",
    "\n",
    "#chebyshev\n",
    "compute_and_save(X1, X2, X1_w, X2_w, 'chebyshev', 'chebyshev_train_w', data_folder)\n",
    "\n",
    "#braycurtis\n",
    "compute_and_save(X1, X2, X1_w, X2_w, 'braycurtis', 'braycurtis_train_w', data_folder)\n",
    "\n",
    "#cosine\n",
    "compute_and_save(X1, X2, X1_w, X2_w, 'cosine', 'cosine_train_w', data_folder)\n",
    "\n",
    "#correlation\n",
    "compute_and_save(X1, X2, X1_w, X2_w, 'correlation', 'correlation_train_w', data_folder)\n",
    "\n",
    "#hamming = compute(*hamming)\n",
    "\n",
    "#canberra\n",
    "compute_and_save(X1, X2, X1_w, X2_w, 'canberra', 'canberra_train_w', data_folder)\n",
    "\n",
    "#hausdorff\n",
    "compute_and_save(X1, X2, X1_w, X2_w, 'hausdorff', 'hausdorff_train_w', data_folder)\n",
    "\n",
    "#cityblock\n",
    "compute_and_save(X1, X2, X1_w, X2_w, 'cityblock', 'cityblock_train_w', data_folder)\n",
    "\n",
    "#euclidean\n",
    "compute_and_save(X1, X2, X1_w, X2_w, 'euclidean', 'euclidean_train_w', data_folder)\n",
    "\n",
    "#l1\n",
    "compute_and_save(X1, X2, X1_w, X2_w, 'l1', 'l1_train_w', data_folder)\n",
    "\n",
    "#l2\n",
    "compute_and_save(X1, X2, X1_w, X2_w, 'l2', 'l2_train_w', data_folder)\n",
    "\n",
    "#manhattan\n",
    "compute_and_save(X1, X2, X1_w, X2_w, 'manhattan', 'manhattan_train_w', data_folder)\n",
    "\n",
    "#dice = compute(*dice)\n",
    "#kulsinski = compute(*kulsinski)\n",
    "#rogerstanimoto = compute(*rogerstanimoto)\n",
    "#russellrao = compute(*russellrao)\n",
    "#sokalmichener = compute(*sokalmichener)\n",
    "#seuclidean = compute(*seuclidean)\n",
    "#sokalsneath = compute(*sokalsneath)\n",
    "\n",
    "#minkowski\n",
    "compute_and_save(X1, X2, X1_w, X2_w, 'minkowski', 'minkowski_train_w', data_folder)\n",
    "\n",
    "#sqeuclidean\n",
    "compute_and_save(X1, X2, X1_w, X2_w, 'sqeuclidean', 'sqeuclidean_train_w', data_folder)\n",
    "\n",
    "#weighted_mean1\n",
    "compute_delayed_wmean(X1, X1_w, 'weighted_mean1_train', data_folder)\n",
    "\n",
    "#weighted_mean2\n",
    "compute_delayed_wmean(X2, X2_w, 'weighted_mean2_train', data_folder)\n",
    "\n",
    "#polynomial\n",
    "#compute_and_save(X1, X2, X1_w, X2_w, 'polynomial', 'polynomial_train_w', data_folder)\n",
    "#rbf\n",
    "#compute_and_save(X1, X2, X1_w, X2_w, 'rbf', 'rbf_train_w', data_folder)\n",
    "#sigmoid\n",
    "#compute_and_save(X1, X2, X1_w, X2_w, 'sigmoid', 'sigmoid_train_w', data_folder)\n",
    "#linear\n",
    "#compute_and_save(X1, X2, X1_w, X2_w, 'linear', 'linear_train_w', data_folder)\n",
    "#laplacian\n",
    "#compute_and_save(X1, X2, X1_w, X2_w, 'laplacian', 'laplacian_train_w', data_folder)\n",
    "\n",
    "#fdtw = compute(*fdtw)\n",
    "#dtw = compute(*dtw)\n",
    "#pcm = compute(*pcm)\n",
    "#area = compute(*area)\n",
    "#curve_length = compute(*curve_length)\n",
    "#discrete_frechet = compute(*discrete_frechet)\n",
    "#procrustes = compute(*procrustes)"
   ]
  },
  {
   "cell_type": "code",
   "execution_count": 143,
   "metadata": {},
   "outputs": [],
   "source": [
    "#weighted_mean1\n",
    "compute_delayed_wmean(X1, X1_w, 'weighted_mean1_train', data_folder)\n",
    "\n",
    "#weighted_mean2\n",
    "compute_delayed_wmean(X2, X2_w, 'weighted_mean2_train', data_folder)"
   ]
  },
  {
   "cell_type": "code",
   "execution_count": 135,
   "metadata": {},
   "outputs": [],
   "source": [
    "del X1, X2, X1_w, X2_w"
   ]
  },
  {
   "cell_type": "markdown",
   "metadata": {},
   "source": [
    "##### Test set"
   ]
  },
  {
   "cell_type": "code",
   "execution_count": 144,
   "metadata": {},
   "outputs": [],
   "source": [
    "X1_test_w = pickle.load(open(data_folder+'X1_test_w.p','rb'))\n",
    "X2_test_w = pickle.load(open(data_folder+'X2_test_w.p','rb'))\n",
    "X1_test = pickle.load(open(data_folder+'X1_test.p','rb'))\n",
    "X2_test = pickle.load(open(data_folder+'X2_test.p','rb'))"
   ]
  },
  {
   "cell_type": "code",
   "execution_count": null,
   "metadata": {},
   "outputs": [],
   "source": [
    "#jaccard = compute(*jaccard)\n",
    "\n",
    "#chebyshev\n",
    "compute_and_save(X1_test, X2_test, X1_test_w, X2_test_w, 'chebyshev', 'chebyshev_test_w', data_folder)\n",
    "\n",
    "#braycurtis\n",
    "compute_and_save(X1_test, X2_test, X1_test_w, X2_test_w, 'braycurtis', 'braycurtis_test_w', data_folder)\n",
    "\n",
    "#cosine\n",
    "compute_and_save(X1_test, X2_test, X1_test_w, X2_test_w, 'cosine', 'cosine_test_w', data_folder)\n",
    "\n",
    "#correlation\n",
    "compute_and_save(X1_test, X2_test, X1_test_w, X2_test_w, 'correlation', 'correlation_test_w', data_folder)\n",
    "\n",
    "#hamming = compute(*hamming)\n",
    "\n",
    "#canberra\n",
    "compute_and_save(X1_test, X2_test, X1_test_w, X2_test_w, 'canberra', 'canberra_test_w', data_folder)\n",
    "\n",
    "#hausdorff\n",
    "compute_and_save(X1_test, X2_test, X1_test_w, X2_test_w, 'hausdorff', 'hausdorff_test_w', data_folder)\n",
    "\n",
    "#cityblock\n",
    "compute_and_save(X1_test, X2_test, X1_test_w, X2_test_w, 'cityblock', 'cityblock_test_w', data_folder)\n",
    "\n",
    "#euclidean\n",
    "compute_and_save(X1_test, X2_test, X1_test_w, X2_test_w, 'euclidean', 'euclidean_test_w', data_folder)\n",
    "\n",
    "#l1\n",
    "compute_and_save(X1_test, X2_test, X1_test_w, X2_test_w, 'l1', 'l1_test_w', data_folder)\n",
    "\n",
    "#l2\n",
    "compute_and_save(X1_test, X2_test, X1_test_w, X2_test_w, 'l2', 'l2_test_w', data_folder)\n",
    "\n",
    "#manhattan\n",
    "compute_and_save(X1_test, X2_test, X1_test_w, X2_test_w, 'manhattan', 'manhattan_test_w', data_folder)\n",
    "\n",
    "#dice = compute(*dice)\n",
    "#kulsinski = compute(*kulsinski)\n",
    "#rogerstanimoto = compute(*rogerstanimoto)\n",
    "#russellrao = compute(*russellrao)\n",
    "#sokalmichener = compute(*sokalmichener)\n",
    "\n",
    "#minkowski\n",
    "compute_and_save(X1_test, X2_test, X1_test_w, X2_test_w, 'minkowski', 'minkowski_test_w', data_folder)\n",
    "\n",
    "#seuclidean = compute(*seuclidean)\n",
    "#sokalsneath = compute(*sokalsneath)\n",
    "\n",
    "#sqeuclidean\n",
    "compute_and_save(X1_test, X2_test, X1_test_w, X2_test_w, 'sqeuclidean', 'sqeuclidean_test_w', data_folder)\n",
    "\n",
    "#weighted_mean1\n",
    "compute_delayed_wmean(X1_test, X1_test_w, 'weighted_mean1_test', data_folder)\n",
    "\n",
    "#weighted_mean2\n",
    "compute_delayed_wmean(X2_test, X2_test_w, 'weighted_mean2_test', data_folder)\n",
    "\n",
    "#fdtw = compute(*fdtw)\n",
    "#dtw = compute(*dtw)\n",
    "#pcm = compute(*pcm)\n",
    "#area = compute(*area)\n",
    "#curve_length = compute(*curve_length)\n",
    "#discrete_frechet = compute(*discrete_frechet)"
   ]
  },
  {
   "cell_type": "code",
   "execution_count": 128,
   "metadata": {},
   "outputs": [],
   "source": [
    "#del X1_test, X2_test, X1_test_w, X2_test_w"
   ]
  },
  {
   "cell_type": "markdown",
   "metadata": {},
   "source": [
    "<a id='featset2'></a>\n",
    "### Feature Set 2 - Fuzzy and Other Features\n",
    "[back to table of contents](#toc)"
   ]
  },
  {
   "cell_type": "markdown",
   "metadata": {},
   "source": [
    "<a id='f_fuzz'></a>\n",
    "#### Functions - Fuzzy and Others\n",
    "[back to table of contents](#toc)"
   ]
  },
  {
   "cell_type": "code",
   "execution_count": null,
   "metadata": {},
   "outputs": [],
   "source": [
    "from fuzzywuzzy import fuzz\n",
    "\n",
    "# difference in text size\n",
    "compute_size_diff = lambda row: abs(len(str(row['question1'])) - len(str(row['question2'])))\n",
    "\n",
    "# ratio\n",
    "compute_ratio = lambda row: fuzz.ratio(str(row['question1']), str(row['question2']))\n",
    "\n",
    "# partial ratio\n",
    "compute_partial_ratio = lambda row: fuzz.partial_ratio(str(row['question1']), str(row['question2']))\n",
    "\n",
    "# token_sort_ratio\n",
    "compute_token_sort_ratio = lambda row: fuzz.token_sort_ratio(str(row['question1']), str(row['question2']))\n",
    "\n",
    "# token_set_ratio\n",
    "compute_token_set_ratio = lambda row: fuzz.token_set_ratio(str(row['question1']), str(row['question2']))\n",
    "\n",
    "# compute method on each row and save to data_folder\n",
    "def compute_rowwise_and_save(X, method, file, data_folder=data_folder):\n",
    "    computed_obj = X.apply(method, axis=1)\n",
    "    pickle_and_del(computed_obj, file, data_folder)    "
   ]
  },
  {
   "cell_type": "markdown",
   "metadata": {},
   "source": [
    "<a id='c_fuzz'></a>\n",
    "#### Compute - Fuzzy and Others\n",
    "[back to table of contents](#toc)"
   ]
  },
  {
   "cell_type": "markdown",
   "metadata": {},
   "source": [
    "##### Train set"
   ]
  },
  {
   "cell_type": "code",
   "execution_count": null,
   "metadata": {},
   "outputs": [],
   "source": [
    "# difference in text size\n",
    "compute_rowwise_and_save(X_train, compute_size_diff, 'size_diff_train', data_folder=input_folder)\n",
    "\n",
    "# ratio\n",
    "compute_rowwise_and_save(X_train, compute_ratio, 'ratio_train', data_folder=input_folder)\n",
    "\n",
    "# partial ratio\n",
    "compute_rowwise_and_save(X_train, compute_partial_ratio, 'partial_ratio_train', data_folder=input_folder)\n",
    "\n",
    "# token_sort_ratio\n",
    "compute_rowwise_and_save(X_train, compute_token_sort_ratio, 'token_sort_ratio_train', data_folder=input_folder)\n",
    "\n",
    "# token_set_ratio\n",
    "compute_rowwise_and_save(X_train, compute_token_set_ratio, 'token_set_ratio_train', data_folder=input_folder)"
   ]
  },
  {
   "cell_type": "markdown",
   "metadata": {},
   "source": [
    "##### Test set"
   ]
  },
  {
   "cell_type": "code",
   "execution_count": null,
   "metadata": {},
   "outputs": [],
   "source": [
    "# difference in text size\n",
    "compute_rowwise_and_save(X_test, compute_size_diff, 'size_diff_test', data_folder=input_folder)\n",
    "\n",
    "# ratio\n",
    "compute_rowwise_and_save(X_test, compute_ratio, 'ratio_test', data_folder=input_folder)\n",
    "\n",
    "# partial ratio\n",
    "compute_rowwise_and_save(X_test, compute_partial_ratio, 'partial_ratio_test', data_folder=input_folder)\n",
    "\n",
    "# token_sort_ratio\n",
    "compute_rowwise_and_save(X_test, compute_token_sort_ratio, 'token_sort_ratio_test', data_folder=input_folder)\n",
    "\n",
    "# token_set_ratio\n",
    "compute_rowwise_and_save(X_test, compute_token_set_ratio, 'token_set_ratio_test', data_folder=input_folder)"
   ]
  },
  {
   "cell_type": "markdown",
   "metadata": {},
   "source": [
    "<a id='ass_feat'></a>\n",
    "### Assemble all Features sets\n",
    "[back to table of contents](#toc)"
   ]
  },
  {
   "cell_type": "markdown",
   "metadata": {},
   "source": [
    "<a id='f_ass'></a>\n",
    "#### Functions - Add to train and test data\n",
    "[back to table of contents](#toc)"
   ]
  },
  {
   "cell_type": "code",
   "execution_count": 6,
   "metadata": {},
   "outputs": [],
   "source": [
    "# add features from set 1 (pairwise metrics)\n",
    "def add_column(df, column, train_or_test, data_folder=data_folder):\n",
    "    col_arr = pickle.load(open(data_folder+column+'_'+train_or_test+'_w.p', 'rb'))\n",
    "    return pd.concat([df,\n",
    "                     pd.Series(col_arr, name=column,index=df.index)\n",
    "                      ], axis=1)\n",
    "\n",
    "# add features from set 3 (word2vec vectors)\n",
    "def add_d2v_columns(df, d2v, train_or_test, red_type='umap', data_folder=data_folder):\n",
    "    if red_type in ['svd','umap']:\n",
    "        if red_type == 'svd':\n",
    "            file = d2v+'_'+train_or_test+'_svd_red.p'\n",
    "        else:\n",
    "            file = d2v+'_'+train_or_test+'_red.p'\n",
    "        col_arr = pickle.load(open(data_folder+file, 'rb'))\n",
    "        return pd.concat([df,\n",
    "                         pd.DataFrame(col_arr, columns=[d2v+'_'+str(i) for i in range(col_arr.shape[1])],index=df.index)\n",
    "                          ], axis=1)\n",
    "    else:\n",
    "        file1 = 'weighted_mean1_'+train_or_test+'.p'        \n",
    "        col_arr1 = pickle.load(open(data_folder+file1, 'rb'))\n",
    "        file2 = 'weighted_mean2_'+train_or_test+'.p'        \n",
    "        col_arr2 = pickle.load(open(data_folder+file2, 'rb'))\n",
    "        col_arr = np.hstack((np.concatenate([x.reshape(1,-1) for x in col_arr1]), \n",
    "                   np.concatenate([x.reshape(1,-1) for x in col_arr2])))\n",
    "        return pd.concat([df,\n",
    "                     pd.DataFrame(col_arr, columns=[d2v+'_'+str(i) for i in range(col_arr.shape[1])],index=df.index)\n",
    "                      ], axis=1)\n",
    "\n",
    "# add features from set 2 (fuzzy metrics)\n",
    "def add_fz_column(df, column, train_or_test, data_folder=input_folder):\n",
    "    col_arr = pickle.load(open(data_folder+column+'_'+train_or_test+'.p', 'rb'))\n",
    "    return pd.concat([df,\n",
    "                     pd.Series(col_arr, name=column,index=df.index)\n",
    "                      ], axis=1)"
   ]
  },
  {
   "cell_type": "markdown",
   "metadata": {},
   "source": [
    "<a id='ass_train'></a>\n",
    "#### Add to train data\n",
    "[back to table of contents](#toc)"
   ]
  },
  {
   "cell_type": "code",
   "execution_count": 145,
   "metadata": {},
   "outputs": [
    {
     "data": {
      "text/html": [
       "<div>\n",
       "<style scoped>\n",
       "    .dataframe tbody tr th:only-of-type {\n",
       "        vertical-align: middle;\n",
       "    }\n",
       "\n",
       "    .dataframe tbody tr th {\n",
       "        vertical-align: top;\n",
       "    }\n",
       "\n",
       "    .dataframe thead th {\n",
       "        text-align: right;\n",
       "    }\n",
       "</style>\n",
       "<table border=\"1\" class=\"dataframe\">\n",
       "  <thead>\n",
       "    <tr style=\"text-align: right;\">\n",
       "      <th></th>\n",
       "      <th>qid1</th>\n",
       "      <th>qid2</th>\n",
       "      <th>question1</th>\n",
       "      <th>question2</th>\n",
       "      <th>chebyshev</th>\n",
       "      <th>braycurtis</th>\n",
       "      <th>cosine</th>\n",
       "      <th>correlation</th>\n",
       "      <th>canberra</th>\n",
       "      <th>hausdorff</th>\n",
       "      <th>...</th>\n",
       "      <th>d2v_1_10_595</th>\n",
       "      <th>d2v_1_10_596</th>\n",
       "      <th>d2v_1_10_597</th>\n",
       "      <th>d2v_1_10_598</th>\n",
       "      <th>d2v_1_10_599</th>\n",
       "      <th>size_diff</th>\n",
       "      <th>ratio</th>\n",
       "      <th>partial_ratio</th>\n",
       "      <th>token_sort_ratio</th>\n",
       "      <th>token_set_ratio</th>\n",
       "    </tr>\n",
       "    <tr>\n",
       "      <th>id</th>\n",
       "      <th></th>\n",
       "      <th></th>\n",
       "      <th></th>\n",
       "      <th></th>\n",
       "      <th></th>\n",
       "      <th></th>\n",
       "      <th></th>\n",
       "      <th></th>\n",
       "      <th></th>\n",
       "      <th></th>\n",
       "      <th></th>\n",
       "      <th></th>\n",
       "      <th></th>\n",
       "      <th></th>\n",
       "      <th></th>\n",
       "      <th></th>\n",
       "      <th></th>\n",
       "      <th></th>\n",
       "      <th></th>\n",
       "      <th></th>\n",
       "      <th></th>\n",
       "    </tr>\n",
       "  </thead>\n",
       "  <tbody>\n",
       "    <tr>\n",
       "      <th>186150</th>\n",
       "      <td>284024</td>\n",
       "      <td>284025</td>\n",
       "      <td>What is the difference between \"visa on arriva...</td>\n",
       "      <td>Do I need a visa to visit Ireland from England?</td>\n",
       "      <td>2.965800</td>\n",
       "      <td>0.901326</td>\n",
       "      <td>0.848629</td>\n",
       "      <td>0.852019</td>\n",
       "      <td>218.561842</td>\n",
       "      <td>17.222792</td>\n",
       "      <td>...</td>\n",
       "      <td>0.331072</td>\n",
       "      <td>-0.472701</td>\n",
       "      <td>-0.133261</td>\n",
       "      <td>0.190677</td>\n",
       "      <td>0.214852</td>\n",
       "      <td>56</td>\n",
       "      <td>37</td>\n",
       "      <td>47</td>\n",
       "      <td>44</td>\n",
       "      <td>43</td>\n",
       "    </tr>\n",
       "    <tr>\n",
       "      <th>208652</th>\n",
       "      <td>312703</td>\n",
       "      <td>312704</td>\n",
       "      <td>What are the chances of receiving invitation t...</td>\n",
       "      <td>What are the chances of receiving invitation t...</td>\n",
       "      <td>1.239341</td>\n",
       "      <td>0.704337</td>\n",
       "      <td>0.607015</td>\n",
       "      <td>0.609280</td>\n",
       "      <td>187.384261</td>\n",
       "      <td>1.398811</td>\n",
       "      <td>...</td>\n",
       "      <td>0.141595</td>\n",
       "      <td>-0.194436</td>\n",
       "      <td>-0.156675</td>\n",
       "      <td>-0.106556</td>\n",
       "      <td>0.137326</td>\n",
       "      <td>0</td>\n",
       "      <td>99</td>\n",
       "      <td>99</td>\n",
       "      <td>99</td>\n",
       "      <td>99</td>\n",
       "    </tr>\n",
       "    <tr>\n",
       "      <th>268163</th>\n",
       "      <td>385651</td>\n",
       "      <td>385652</td>\n",
       "      <td>Is the phrase \"the pressure in an incompressib...</td>\n",
       "      <td>What is the use of Bash in Windows?</td>\n",
       "      <td>1.765565</td>\n",
       "      <td>0.956991</td>\n",
       "      <td>0.949161</td>\n",
       "      <td>0.949643</td>\n",
       "      <td>229.710165</td>\n",
       "      <td>14.845293</td>\n",
       "      <td>...</td>\n",
       "      <td>0.182944</td>\n",
       "      <td>-0.237980</td>\n",
       "      <td>0.072092</td>\n",
       "      <td>0.001290</td>\n",
       "      <td>-0.057096</td>\n",
       "      <td>115</td>\n",
       "      <td>25</td>\n",
       "      <td>51</td>\n",
       "      <td>25</td>\n",
       "      <td>42</td>\n",
       "    </tr>\n",
       "    <tr>\n",
       "      <th>155539</th>\n",
       "      <td>243655</td>\n",
       "      <td>243656</td>\n",
       "      <td>How do I buy goods from Amazon and ship to Vie...</td>\n",
       "      <td>How can I sell Vietnam traditional silk ties o...</td>\n",
       "      <td>1.927328</td>\n",
       "      <td>0.863107</td>\n",
       "      <td>0.819401</td>\n",
       "      <td>0.819126</td>\n",
       "      <td>210.260305</td>\n",
       "      <td>16.840177</td>\n",
       "      <td>...</td>\n",
       "      <td>0.225940</td>\n",
       "      <td>-0.144653</td>\n",
       "      <td>-0.188190</td>\n",
       "      <td>-0.041140</td>\n",
       "      <td>0.189528</td>\n",
       "      <td>58</td>\n",
       "      <td>48</td>\n",
       "      <td>51</td>\n",
       "      <td>54</td>\n",
       "      <td>67</td>\n",
       "    </tr>\n",
       "    <tr>\n",
       "      <th>212779</th>\n",
       "      <td>317931</td>\n",
       "      <td>317932</td>\n",
       "      <td>How do you read tarot cards?</td>\n",
       "      <td>How do I read tarot cards?</td>\n",
       "      <td>1.722557</td>\n",
       "      <td>0.611405</td>\n",
       "      <td>0.607047</td>\n",
       "      <td>0.607758</td>\n",
       "      <td>144.259087</td>\n",
       "      <td>0.000000</td>\n",
       "      <td>...</td>\n",
       "      <td>-0.098703</td>\n",
       "      <td>0.048941</td>\n",
       "      <td>-0.049272</td>\n",
       "      <td>0.014116</td>\n",
       "      <td>-0.098680</td>\n",
       "      <td>2</td>\n",
       "      <td>93</td>\n",
       "      <td>88</td>\n",
       "      <td>88</td>\n",
       "      <td>96</td>\n",
       "    </tr>\n",
       "  </tbody>\n",
       "</table>\n",
       "<p>5 rows × 622 columns</p>\n",
       "</div>"
      ],
      "text/plain": [
       "          qid1    qid2                                          question1  \\\n",
       "id                                                                          \n",
       "186150  284024  284025  What is the difference between \"visa on arriva...   \n",
       "208652  312703  312704  What are the chances of receiving invitation t...   \n",
       "268163  385651  385652  Is the phrase \"the pressure in an incompressib...   \n",
       "155539  243655  243656  How do I buy goods from Amazon and ship to Vie...   \n",
       "212779  317931  317932                       How do you read tarot cards?   \n",
       "\n",
       "                                                question2  chebyshev  \\\n",
       "id                                                                     \n",
       "186150    Do I need a visa to visit Ireland from England?   2.965800   \n",
       "208652  What are the chances of receiving invitation t...   1.239341   \n",
       "268163                What is the use of Bash in Windows?   1.765565   \n",
       "155539  How can I sell Vietnam traditional silk ties o...   1.927328   \n",
       "212779                         How do I read tarot cards?   1.722557   \n",
       "\n",
       "        braycurtis    cosine  correlation    canberra  hausdorff  \\\n",
       "id                                                                 \n",
       "186150    0.901326  0.848629     0.852019  218.561842  17.222792   \n",
       "208652    0.704337  0.607015     0.609280  187.384261   1.398811   \n",
       "268163    0.956991  0.949161     0.949643  229.710165  14.845293   \n",
       "155539    0.863107  0.819401     0.819126  210.260305  16.840177   \n",
       "212779    0.611405  0.607047     0.607758  144.259087   0.000000   \n",
       "\n",
       "             ...         d2v_1_10_595  d2v_1_10_596  d2v_1_10_597  \\\n",
       "id           ...                                                    \n",
       "186150       ...             0.331072     -0.472701     -0.133261   \n",
       "208652       ...             0.141595     -0.194436     -0.156675   \n",
       "268163       ...             0.182944     -0.237980      0.072092   \n",
       "155539       ...             0.225940     -0.144653     -0.188190   \n",
       "212779       ...            -0.098703      0.048941     -0.049272   \n",
       "\n",
       "        d2v_1_10_598  d2v_1_10_599  size_diff  ratio  partial_ratio  \\\n",
       "id                                                                    \n",
       "186150      0.190677      0.214852         56     37             47   \n",
       "208652     -0.106556      0.137326          0     99             99   \n",
       "268163      0.001290     -0.057096        115     25             51   \n",
       "155539     -0.041140      0.189528         58     48             51   \n",
       "212779      0.014116     -0.098680          2     93             88   \n",
       "\n",
       "        token_sort_ratio  token_set_ratio  \n",
       "id                                         \n",
       "186150                44               43  \n",
       "208652                99               99  \n",
       "268163                25               42  \n",
       "155539                54               67  \n",
       "212779                88               96  \n",
       "\n",
       "[5 rows x 622 columns]"
      ]
     },
     "execution_count": 145,
     "metadata": {},
     "output_type": "execute_result"
    }
   ],
   "source": [
    "X_train = pickle.load(open(input_folder+'X_train.p', 'rb'))\n",
    "y_train = pickle.load(open(input_folder+'y_train.p', 'rb'))\n",
    "\n",
    "X_train = add_column(X_train, 'chebyshev', 'train')\n",
    "\n",
    "X_train = add_column(X_train, 'braycurtis', 'train')\n",
    "\n",
    "X_train = add_column(X_train, 'cosine', 'train')\n",
    "\n",
    "X_train = add_column(X_train, 'correlation', 'train')\n",
    "\n",
    "X_train = add_column(X_train, 'canberra', 'train')\n",
    "\n",
    "X_train = add_column(X_train, 'hausdorff', 'train')\n",
    "\n",
    "X_train = add_column(X_train, 'cityblock', 'train')\n",
    "\n",
    "X_train = add_column(X_train, 'euclidean', 'train')\n",
    "\n",
    "X_train = add_column(X_train, 'l1', 'train')\n",
    "\n",
    "X_train = add_column(X_train, 'l2', 'train')\n",
    "\n",
    "X_train = add_column(X_train, 'manhattan', 'train')\n",
    "\n",
    "X_train = add_column(X_train, 'minkowski', 'train')\n",
    "\n",
    "X_train = add_column(X_train, 'sqeuclidean', 'train')\n",
    "\n",
    "#X_train = add_d2v_columns(X_train, 'd2v_1_10', 'train', 'svd')\n",
    "X_train = add_d2v_columns(X_train, 'd2v_1_10', 'train', 'none')\n",
    "\n",
    "#X_train = add_d2v_columns(X_train, 'd2v_2_10', 'train', 'svd')\n",
    "\n",
    "X_train = add_fz_column(X_train, 'size_diff', 'train')\n",
    "\n",
    "X_train = add_fz_column(X_train, 'ratio', 'train')\n",
    "\n",
    "X_train = add_fz_column(X_train, 'partial_ratio', 'train')\n",
    "\n",
    "X_train = add_fz_column(X_train, 'token_sort_ratio', 'train')\n",
    "\n",
    "X_train = add_fz_column(X_train, 'token_set_ratio', 'train')\n",
    "\n",
    "X_train.head()"
   ]
  },
  {
   "cell_type": "code",
   "execution_count": 148,
   "metadata": {},
   "outputs": [],
   "source": [
    "#X_train[X_train.isnull().any(axis=1)]"
   ]
  },
  {
   "cell_type": "code",
   "execution_count": 147,
   "metadata": {},
   "outputs": [],
   "source": [
    "#X_train = pd.concat([X_train_temp, X_train], axis=1)\n",
    "#del X_train_temp\n",
    "X_train_final = X_train.drop(columns=['qid1', 'qid2','question1','question2']).dropna()\n",
    "#X_train_final.info()"
   ]
  },
  {
   "cell_type": "markdown",
   "metadata": {},
   "source": [
    "<a id='ass_test'></a>\n",
    "#### Add to test data\n",
    "[back to table of contents](#toc)"
   ]
  },
  {
   "cell_type": "code",
   "execution_count": 149,
   "metadata": {},
   "outputs": [
    {
     "data": {
      "text/html": [
       "<div>\n",
       "<style scoped>\n",
       "    .dataframe tbody tr th:only-of-type {\n",
       "        vertical-align: middle;\n",
       "    }\n",
       "\n",
       "    .dataframe tbody tr th {\n",
       "        vertical-align: top;\n",
       "    }\n",
       "\n",
       "    .dataframe thead th {\n",
       "        text-align: right;\n",
       "    }\n",
       "</style>\n",
       "<table border=\"1\" class=\"dataframe\">\n",
       "  <thead>\n",
       "    <tr style=\"text-align: right;\">\n",
       "      <th></th>\n",
       "      <th>qid1</th>\n",
       "      <th>qid2</th>\n",
       "      <th>question1</th>\n",
       "      <th>question2</th>\n",
       "      <th>chebyshev</th>\n",
       "      <th>braycurtis</th>\n",
       "      <th>cosine</th>\n",
       "      <th>correlation</th>\n",
       "      <th>canberra</th>\n",
       "      <th>hausdorff</th>\n",
       "      <th>...</th>\n",
       "      <th>d2v_1_10_595</th>\n",
       "      <th>d2v_1_10_596</th>\n",
       "      <th>d2v_1_10_597</th>\n",
       "      <th>d2v_1_10_598</th>\n",
       "      <th>d2v_1_10_599</th>\n",
       "      <th>size_diff</th>\n",
       "      <th>ratio</th>\n",
       "      <th>partial_ratio</th>\n",
       "      <th>token_sort_ratio</th>\n",
       "      <th>token_set_ratio</th>\n",
       "    </tr>\n",
       "    <tr>\n",
       "      <th>id</th>\n",
       "      <th></th>\n",
       "      <th></th>\n",
       "      <th></th>\n",
       "      <th></th>\n",
       "      <th></th>\n",
       "      <th></th>\n",
       "      <th></th>\n",
       "      <th></th>\n",
       "      <th></th>\n",
       "      <th></th>\n",
       "      <th></th>\n",
       "      <th></th>\n",
       "      <th></th>\n",
       "      <th></th>\n",
       "      <th></th>\n",
       "      <th></th>\n",
       "      <th></th>\n",
       "      <th></th>\n",
       "      <th></th>\n",
       "      <th></th>\n",
       "      <th></th>\n",
       "    </tr>\n",
       "  </thead>\n",
       "  <tbody>\n",
       "    <tr>\n",
       "      <th>8067</th>\n",
       "      <td>15738</td>\n",
       "      <td>15739</td>\n",
       "      <td>How do I play Pokémon GO in Korea?</td>\n",
       "      <td>How do I play Pokémon GO in China?</td>\n",
       "      <td>1.769821</td>\n",
       "      <td>0.741648</td>\n",
       "      <td>0.696490</td>\n",
       "      <td>0.699882</td>\n",
       "      <td>181.962368</td>\n",
       "      <td>4.060278</td>\n",
       "      <td>...</td>\n",
       "      <td>-0.013804</td>\n",
       "      <td>-0.040093</td>\n",
       "      <td>-0.387248</td>\n",
       "      <td>0.105253</td>\n",
       "      <td>0.424973</td>\n",
       "      <td>0</td>\n",
       "      <td>88</td>\n",
       "      <td>88</td>\n",
       "      <td>81</td>\n",
       "      <td>90</td>\n",
       "    </tr>\n",
       "    <tr>\n",
       "      <th>224279</th>\n",
       "      <td>332326</td>\n",
       "      <td>332327</td>\n",
       "      <td>Will a breathing treatment help a cough?</td>\n",
       "      <td>How can I help someone that is unconscious but...</td>\n",
       "      <td>1.950689</td>\n",
       "      <td>0.825445</td>\n",
       "      <td>0.743469</td>\n",
       "      <td>0.743084</td>\n",
       "      <td>213.928196</td>\n",
       "      <td>19.856354</td>\n",
       "      <td>...</td>\n",
       "      <td>-0.008332</td>\n",
       "      <td>-0.012397</td>\n",
       "      <td>0.129785</td>\n",
       "      <td>-0.008097</td>\n",
       "      <td>0.203450</td>\n",
       "      <td>23</td>\n",
       "      <td>33</td>\n",
       "      <td>38</td>\n",
       "      <td>48</td>\n",
       "      <td>55</td>\n",
       "    </tr>\n",
       "    <tr>\n",
       "      <th>252452</th>\n",
       "      <td>336023</td>\n",
       "      <td>366789</td>\n",
       "      <td>Is Kellyanne Conway annoying in your opinion?</td>\n",
       "      <td>Did Kellyanne Conway really imply that we shou...</td>\n",
       "      <td>1.738898</td>\n",
       "      <td>0.862250</td>\n",
       "      <td>0.794070</td>\n",
       "      <td>0.793072</td>\n",
       "      <td>213.999636</td>\n",
       "      <td>14.355124</td>\n",
       "      <td>...</td>\n",
       "      <td>-0.176817</td>\n",
       "      <td>0.092989</td>\n",
       "      <td>-0.085044</td>\n",
       "      <td>-0.094556</td>\n",
       "      <td>0.109324</td>\n",
       "      <td>73</td>\n",
       "      <td>40</td>\n",
       "      <td>56</td>\n",
       "      <td>43</td>\n",
       "      <td>53</td>\n",
       "    </tr>\n",
       "    <tr>\n",
       "      <th>174039</th>\n",
       "      <td>268330</td>\n",
       "      <td>268331</td>\n",
       "      <td>How do you rate (1-10) and review Maruti Baleno?</td>\n",
       "      <td>What career options does one have after comple...</td>\n",
       "      <td>2.689103</td>\n",
       "      <td>0.944484</td>\n",
       "      <td>0.927694</td>\n",
       "      <td>0.931001</td>\n",
       "      <td>221.448653</td>\n",
       "      <td>14.901773</td>\n",
       "      <td>...</td>\n",
       "      <td>0.155024</td>\n",
       "      <td>-0.270503</td>\n",
       "      <td>-0.861722</td>\n",
       "      <td>0.399921</td>\n",
       "      <td>0.290907</td>\n",
       "      <td>79</td>\n",
       "      <td>30</td>\n",
       "      <td>42</td>\n",
       "      <td>32</td>\n",
       "      <td>33</td>\n",
       "    </tr>\n",
       "    <tr>\n",
       "      <th>384863</th>\n",
       "      <td>28901</td>\n",
       "      <td>233483</td>\n",
       "      <td>What are some good books on marketing?</td>\n",
       "      <td>What are some of the best books ever written a...</td>\n",
       "      <td>2.436946</td>\n",
       "      <td>0.730377</td>\n",
       "      <td>0.710170</td>\n",
       "      <td>0.710033</td>\n",
       "      <td>172.147518</td>\n",
       "      <td>15.469499</td>\n",
       "      <td>...</td>\n",
       "      <td>0.301538</td>\n",
       "      <td>-0.050691</td>\n",
       "      <td>-0.051994</td>\n",
       "      <td>0.090243</td>\n",
       "      <td>-0.341444</td>\n",
       "      <td>23</td>\n",
       "      <td>69</td>\n",
       "      <td>61</td>\n",
       "      <td>66</td>\n",
       "      <td>88</td>\n",
       "    </tr>\n",
       "  </tbody>\n",
       "</table>\n",
       "<p>5 rows × 622 columns</p>\n",
       "</div>"
      ],
      "text/plain": [
       "          qid1    qid2                                         question1  \\\n",
       "id                                                                         \n",
       "8067     15738   15739                How do I play Pokémon GO in Korea?   \n",
       "224279  332326  332327          Will a breathing treatment help a cough?   \n",
       "252452  336023  366789     Is Kellyanne Conway annoying in your opinion?   \n",
       "174039  268330  268331  How do you rate (1-10) and review Maruti Baleno?   \n",
       "384863   28901  233483            What are some good books on marketing?   \n",
       "\n",
       "                                                question2  chebyshev  \\\n",
       "id                                                                     \n",
       "8067                   How do I play Pokémon GO in China?   1.769821   \n",
       "224279  How can I help someone that is unconscious but...   1.950689   \n",
       "252452  Did Kellyanne Conway really imply that we shou...   1.738898   \n",
       "174039  What career options does one have after comple...   2.689103   \n",
       "384863  What are some of the best books ever written a...   2.436946   \n",
       "\n",
       "        braycurtis    cosine  correlation    canberra  hausdorff  \\\n",
       "id                                                                 \n",
       "8067      0.741648  0.696490     0.699882  181.962368   4.060278   \n",
       "224279    0.825445  0.743469     0.743084  213.928196  19.856354   \n",
       "252452    0.862250  0.794070     0.793072  213.999636  14.355124   \n",
       "174039    0.944484  0.927694     0.931001  221.448653  14.901773   \n",
       "384863    0.730377  0.710170     0.710033  172.147518  15.469499   \n",
       "\n",
       "             ...         d2v_1_10_595  d2v_1_10_596  d2v_1_10_597  \\\n",
       "id           ...                                                    \n",
       "8067         ...            -0.013804     -0.040093     -0.387248   \n",
       "224279       ...            -0.008332     -0.012397      0.129785   \n",
       "252452       ...            -0.176817      0.092989     -0.085044   \n",
       "174039       ...             0.155024     -0.270503     -0.861722   \n",
       "384863       ...             0.301538     -0.050691     -0.051994   \n",
       "\n",
       "        d2v_1_10_598  d2v_1_10_599  size_diff  ratio  partial_ratio  \\\n",
       "id                                                                    \n",
       "8067        0.105253      0.424973          0     88             88   \n",
       "224279     -0.008097      0.203450         23     33             38   \n",
       "252452     -0.094556      0.109324         73     40             56   \n",
       "174039      0.399921      0.290907         79     30             42   \n",
       "384863      0.090243     -0.341444         23     69             61   \n",
       "\n",
       "        token_sort_ratio  token_set_ratio  \n",
       "id                                         \n",
       "8067                  81               90  \n",
       "224279                48               55  \n",
       "252452                43               53  \n",
       "174039                32               33  \n",
       "384863                66               88  \n",
       "\n",
       "[5 rows x 622 columns]"
      ]
     },
     "execution_count": 149,
     "metadata": {},
     "output_type": "execute_result"
    }
   ],
   "source": [
    "X_test = pickle.load(open(input_folder+'X_test.p', 'rb'))\n",
    "y_test = pickle.load(open(input_folder+'y_test.p', 'rb'))\n",
    "\n",
    "X_test = add_column(X_test, 'chebyshev', 'test')\n",
    "\n",
    "X_test = add_column(X_test, 'braycurtis', 'test')\n",
    "\n",
    "X_test = add_column(X_test, 'cosine', 'test')\n",
    "\n",
    "X_test = add_column(X_test, 'correlation', 'test')\n",
    "\n",
    "X_test = add_column(X_test, 'canberra', 'test')\n",
    "\n",
    "X_test = add_column(X_test, 'hausdorff', 'test')\n",
    "\n",
    "X_test = add_column(X_test, 'cityblock', 'test')\n",
    "\n",
    "X_test = add_column(X_test, 'euclidean', 'test')\n",
    "\n",
    "X_test = add_column(X_test, 'l1', 'test')\n",
    "\n",
    "X_test = add_column(X_test, 'l2', 'test')\n",
    "\n",
    "X_test = add_column(X_test, 'manhattan', 'test')\n",
    "\n",
    "X_test = add_column(X_test, 'minkowski', 'test')\n",
    "\n",
    "X_test = add_column(X_test, 'sqeuclidean', 'test')\n",
    "\n",
    "#X_test = add_d2v_columns(X_test, 'd2v_1_10', 'test', 'svd')\n",
    "X_test = add_d2v_columns(X_test, 'd2v_1_10', 'test', 'none')\n",
    "\n",
    "#X_test = add_d2v_columns(X_test, 'd2v_2_10', 'test', 'svd')\n",
    "\n",
    "X_test = add_fz_column(X_test, 'size_diff', 'test')\n",
    "\n",
    "X_test = add_fz_column(X_test, 'ratio', 'test')\n",
    "\n",
    "X_test = add_fz_column(X_test, 'partial_ratio', 'test')\n",
    "\n",
    "X_test = add_fz_column(X_test, 'token_sort_ratio', 'test')\n",
    "\n",
    "X_test = add_fz_column(X_test, 'token_set_ratio', 'test')\n",
    "\n",
    "X_test.head()"
   ]
  },
  {
   "cell_type": "code",
   "execution_count": 150,
   "metadata": {},
   "outputs": [],
   "source": [
    "#X_test[X_test.isnull().any(axis=1)]"
   ]
  },
  {
   "cell_type": "code",
   "execution_count": 151,
   "metadata": {},
   "outputs": [
    {
     "name": "stdout",
     "output_type": "stream",
     "text": [
      "<class 'pandas.core.frame.DataFrame'>\n",
      "Int64Index: 133392 entries, 8067 to 346580\n",
      "Columns: 618 entries, chebyshev to token_set_ratio\n",
      "dtypes: float64(613), int64(5)\n",
      "memory usage: 630.0 MB\n"
     ]
    }
   ],
   "source": [
    "X_test_final = X_test.drop(columns=['question1','question2', 'qid1', 'qid2']).dropna()\n",
    "X_test_final.info()"
   ]
  },
  {
   "cell_type": "markdown",
   "metadata": {},
   "source": [
    "<a id='featsel'></a>\n",
    "## Feature Selection\n",
    "[back to table of contents](#toc)"
   ]
  },
  {
   "cell_type": "markdown",
   "metadata": {},
   "source": [
    "<a id='feat_var'></a>\n",
    "### Sort by Variance\n",
    "[back to table of contents](#toc)"
   ]
  },
  {
   "cell_type": "code",
   "execution_count": 54,
   "metadata": {},
   "outputs": [],
   "source": [
    "from sklearn.feature_selection import VarianceThreshold\n",
    "\n",
    "threshold=(.8 * (1 - .8))\n",
    "\n",
    "sel = VarianceThreshold(threshold=threshold)\n",
    "\n",
    "sel.fit_transform(X_train_final)\n",
    "\n",
    "variances = pd.DataFrame(sel.variances_, columns=['variance'])\n",
    "variances['feature'] = X_train_final.columns\n",
    "\n",
    "var_sorted = variances[variances.variance > threshold].sort_values(by='variance',ascending=False)\n",
    "var_sorted"
   ]
  },
  {
   "cell_type": "code",
   "execution_count": 104,
   "metadata": {},
   "outputs": [],
   "source": [
    "from matplotlib.ticker import ScalarFormatter\n",
    "sns.set_context('paper')\n",
    "sns.set_style('darkgrid')\n",
    "\n",
    "# funtion to plot a barchart (long-form) with option to have log scale along x\n",
    "def bar_plot_maker1(data, value_col, name_col, label, title, logscale=False, xticks=None, xticklabels=None, figsize=(7,10)):\n",
    "    f, ax = plt.subplots(figsize=figsize)\n",
    "    # Plot variances\n",
    "    sns.set_color_codes(\"pastel\")\n",
    "    sns.barplot(x=value_col, y=name_col, data=data,\n",
    "                label=label, color=\"b\")\n",
    "\n",
    "    # Add a legend and informative axis label\n",
    "    ax.legend(ncol=1, loc=\"lower right\", frameon=True)\n",
    "    if logscale:\n",
    "        ax.set(ylabel=\"\", title=title, xscale='log')#, xticks=xticks, xticklabels=xticklabels)\n",
    "        ax.get_xaxis().set_major_formatter(ScalarFormatter())\n",
    "    else:        \n",
    "        ax.set(ylabel=\"\", title=title, xticks=xticks, xticklabels=xticklabels)\n",
    "    sns.despine(left=True, bottom=True)"
   ]
  },
  {
   "cell_type": "code",
   "execution_count": 105,
   "metadata": {},
   "outputs": [
    {
     "data": {
      "image/png": "[encoded data removed]",
      "text/plain": [
       "<Figure size 360x504 with 1 Axes>"
      ]
     },
     "metadata": {},
     "output_type": "display_data"
    }
   ],
   "source": [
    "bar_plot_maker1(var_sorted, value_col='variance', name_col='feature', \n",
    "               label='variance', title='Features with significant variance',\n",
    "               logscale=True, xticks=[0,2,4], xticklabels=['1','100','10000'],\n",
    "               figsize=(5,7))"
   ]
  },
  {
   "cell_type": "markdown",
   "metadata": {},
   "source": [
    "<a id='feat_fval'></a>\n",
    "### Sort by F-value\n",
    "[back to table of contents](#toc)"
   ]
  },
  {
   "cell_type": "code",
   "execution_count": 106,
   "metadata": {},
   "outputs": [],
   "source": [
    "y_train_final = y_train.loc[X_train_final.index]\n",
    "\n",
    "from sklearn.feature_selection import SelectKBest\n",
    "from sklearn.feature_selection import chi2, mutual_info_classif, f_classif\n",
    "kbest = SelectKBest(f_classif, k='all')\n",
    "X_new = kbest.fit_transform(X_train_final, y_train_final)\n",
    "X_new.shape\n",
    "\n",
    "kbest_scores = pd.DataFrame(np.hstack((kbest.scores_.reshape(-1,1),\n",
    "                                       kbest.pvalues_.reshape(-1,1), \n",
    "                                       np.array(X_train_final.columns).reshape(-1,1))), \n",
    "                            columns=['score','p-value', 'feature'])\n",
    "\n",
    "kbest_scores_sorted = kbest_scores.sort_values(by=['score'],ascending=False)\n",
    "kbest_scores_sorted"
   ]
  },
  {
   "cell_type": "code",
   "execution_count": 110,
   "metadata": {},
   "outputs": [
    {
     "data": {
      "image/png": "[encoded data removed]",
      "text/plain": [
       "<Figure size 360x576 with 1 Axes>"
      ]
     },
     "metadata": {},
     "output_type": "display_data"
    }
   ],
   "source": [
    "bar_plot_maker1(kbest_scores_sorted, value_col='score', name_col='feature', \n",
    "               label='k-best score', title='Features with best scores',\n",
    "               logscale=True, xticks=[1,3,5], xticklabels=['1','1000','100000'],\n",
    "               figsize=(5,8))"
   ]
  },
  {
   "cell_type": "markdown",
   "metadata": {},
   "source": [
    "<a id='model'></a>\n",
    "## Modeling\n",
    "[back to table of contents](#toc)"
   ]
  },
  {
   "cell_type": "markdown",
   "metadata": {},
   "source": [
    "### Imports and constants"
   ]
  },
  {
   "cell_type": "code",
   "execution_count": 152,
   "metadata": {},
   "outputs": [],
   "source": [
    "from sklearn.metrics import accuracy_score\n",
    "from sklearn.metrics import precision_score\n",
    "from sklearn.metrics import recall_score\n",
    "from sklearn.metrics import classification_report\n",
    "from sklearn.metrics import classification_report\n",
    "from sklearn.metrics import roc_curve, auc\n",
    "\n",
    "y_train_final = y_train.loc[X_train_final.index]\n",
    "\n",
    "y_test_final = y_test.loc[X_test_final.index]\n",
    "\n",
    "target_names = ['not duplicate', 'duplicate']"
   ]
  },
  {
   "cell_type": "markdown",
   "metadata": {},
   "source": [
    "<a id='logr'></a>\n",
    "### Logistic Regression\n",
    "[back to table of contents](#toc)"
   ]
  },
  {
   "cell_type": "markdown",
   "metadata": {},
   "source": [
    "<a id='logr_hyp'></a>\n",
    "#### Hyperparameter optimization\n",
    "[back to table of contents](#toc)"
   ]
  },
  {
   "cell_type": "code",
   "execution_count": 74,
   "metadata": {},
   "outputs": [],
   "source": [
    "from sklearn.linear_model import LogisticRegression\n",
    "from sklearn.model_selection import GridSearchCV, RandomizedSearchCV\n",
    "\n",
    "logr_model = LogisticRegression(random_state=42)\n",
    "param_grid = {'C': np.logspace(-2, 7, 10),\n",
    "             #'penalty': ['l1','l2'],\n",
    "             'tol': np.logspace(-5, -1, 5),\n",
    "             #'solver': ['lbfgs']\n",
    "             #'max_iter': np.linspace(10, 1000, 10)\n",
    "             }\n",
    "logr_cv = RandomizedSearchCV(logr_model, param_distributions=param_grid, cv=5, n_jobs=-1)\n",
    "logr_cv.fit(X_train_final, y_train_final)\n",
    "\n",
    "dump(logr_cv, input_folder+'logr_ramdomcv.joblib')"
   ]
  },
  {
   "cell_type": "code",
   "execution_count": 129,
   "metadata": {},
   "outputs": [],
   "source": [
    "logr_cv = load(input_folder+'logr_ramdomcv.joblib')"
   ]
  },
  {
   "cell_type": "code",
   "execution_count": 130,
   "metadata": {},
   "outputs": [
    {
     "data": {
      "text/plain": [
       "{'tol': 1e-05, 'C': 100.0}"
      ]
     },
     "execution_count": 130,
     "metadata": {},
     "output_type": "execute_result"
    }
   ],
   "source": [
    "logr_cv.best_params_"
   ]
  },
  {
   "cell_type": "markdown",
   "metadata": {},
   "source": [
    "<a id='logr_train'></a>\n",
    "#### Train optimized model\n",
    "[back to table of contents](#toc)"
   ]
  },
  {
   "cell_type": "code",
   "execution_count": 154,
   "metadata": {},
   "outputs": [
    {
     "data": {
      "text/plain": [
       "LogisticRegression(C=100.0, class_weight=None, dual=False, fit_intercept=True,\n",
       "          intercept_scaling=1, max_iter=100, multi_class='warn', n_jobs=-1,\n",
       "          penalty='l2', random_state=42, solver='warn', tol=1e-05,\n",
       "          verbose=0, warm_start=False)"
      ]
     },
     "execution_count": 154,
     "metadata": {},
     "output_type": "execute_result"
    }
   ],
   "source": [
    "from sklearn.linear_model import LogisticRegression\n",
    "logr_model = LogisticRegression(#solver=logr_cv.best_params_['solver'], \n",
    "                                random_state=42, \n",
    "                                C=logr_cv.best_params_['C'], \n",
    "                                tol=logr_cv.best_params_['tol'], \n",
    "                                #max_iter=logr_cv.best_params_['max_iter'], \n",
    "                                n_jobs=-1)\n",
    "logr_model.fit(X_train_final, y_train_final)"
   ]
  },
  {
   "cell_type": "markdown",
   "metadata": {},
   "source": [
    "<a id='logr_pred'></a>\n",
    "#### Predict test data\n",
    "[back to table of contents](#toc)"
   ]
  },
  {
   "cell_type": "code",
   "execution_count": 155,
   "metadata": {},
   "outputs": [],
   "source": [
    "logr_pred = logr_model.predict(X_test_final)"
   ]
  },
  {
   "cell_type": "markdown",
   "metadata": {},
   "source": [
    "<a id='logr_eval'></a>\n",
    "#### Evaluate Model\n",
    "[back to table of contents](#toc)"
   ]
  },
  {
   "cell_type": "code",
   "execution_count": 156,
   "metadata": {},
   "outputs": [
    {
     "name": "stdout",
     "output_type": "stream",
     "text": [
      "Logistic Regression\n",
      "accuracy score : 0.7483057454719924\n",
      "precision score : 0.6807838766601653\n",
      "recall score : 0.596589752980914\n"
     ]
    }
   ],
   "source": [
    "logr_acc_score = accuracy_score(y_test_final, logr_pred)\n",
    "logr_prec_score = precision_score(y_test_final, logr_pred)\n",
    "logr_rec_score = recall_score(y_test_final, logr_pred)\n",
    "print('Logistic Regression')\n",
    "print('accuracy score : {}'.format(logr_acc_score))\n",
    "print('precision score : {}'.format(logr_prec_score))\n",
    "print('recall score : {}'.format(logr_rec_score))"
   ]
  },
  {
   "cell_type": "code",
   "execution_count": 157,
   "metadata": {},
   "outputs": [
    {
     "name": "stdout",
     "output_type": "stream",
     "text": [
      "               precision    recall  f1-score   support\n",
      "\n",
      "not duplicate       0.78      0.84      0.81     84246\n",
      "    duplicate       0.68      0.60      0.64     49146\n",
      "\n",
      "    micro avg       0.75      0.75      0.75    133392\n",
      "    macro avg       0.73      0.72      0.72    133392\n",
      " weighted avg       0.74      0.75      0.74    133392\n",
      "\n"
     ]
    }
   ],
   "source": [
    "print(classification_report(y_test_final, logr_pred, target_names=target_names))"
   ]
  },
  {
   "cell_type": "code",
   "execution_count": 158,
   "metadata": {},
   "outputs": [
    {
     "data": {
      "image/png": "[encoded data removed]",
      "text/plain": [
       "<Figure size 598.055x360 with 1 Axes>"
      ]
     },
     "metadata": {},
     "output_type": "display_data"
    }
   ],
   "source": [
    "logr_fpr, logr_tpr, _ = roc_curve(y_test_final, logr_pred)\n",
    "logr_roc_auc = auc(logr_fpr, logr_tpr)\n",
    "\n",
    "plot_roc(logr_fpr, logr_tpr, logr_roc_auc)"
   ]
  },
  {
   "cell_type": "markdown",
   "metadata": {},
   "source": [
    "<a id='gbm'></a>\n",
    "### Gradient Boosted Machine (XGBoost)\n",
    "[back to table of contents](#toc)"
   ]
  },
  {
   "cell_type": "code",
   "execution_count": 85,
   "metadata": {},
   "outputs": [],
   "source": [
    "import xgboost as xgb"
   ]
  },
  {
   "cell_type": "markdown",
   "metadata": {},
   "source": [
    "<a id='gbm_hyp'></a>\n",
    "#### Hyperparameter optimization\n",
    "[back to table of contents](#toc)"
   ]
  },
  {
   "cell_type": "code",
   "execution_count": null,
   "metadata": {},
   "outputs": [],
   "source": [
    "# Model selection\n",
    "params_xgb = {'n_estimators' : [1, 2, 4, 8, 16, 32, 64, 100, 200],\n",
    "               'gamma':np.linspace(.01, 1, 10, endpoint=True), \n",
    "               'learning_rate' : np.linspace(.01, 1, 10, endpoint=True),\n",
    "               'reg_lambda': np.linspace(0.01, 10, 20, endpoint=True),\n",
    "               'max_depth' : np.linspace(1, 32, 32, endpoint=True, dtype=int)\n",
    "                 }\n",
    "cv_xgb = RandomizedSearchCV(xgb.XGBClassifier(objective='binary:logistic', random_state=42), param_distributions=params_xgb, cv=5, n_jobs=3, random_state=42)\n",
    "cv_xgb.fit(X_train_final, y_train_final)"
   ]
  },
  {
   "cell_type": "code",
   "execution_count": null,
   "metadata": {},
   "outputs": [],
   "source": [
    "dump(cv_xgb, input_folder+'xgb_ramdomcv.joblib')"
   ]
  },
  {
   "cell_type": "code",
   "execution_count": 86,
   "metadata": {},
   "outputs": [],
   "source": [
    "cv_xgb = load(input_folder+'xgb_ramdomcv.joblib')"
   ]
  },
  {
   "cell_type": "code",
   "execution_count": 87,
   "metadata": {},
   "outputs": [
    {
     "data": {
      "text/plain": [
       "{'reg_lambda': 6.319473684210527,\n",
       " 'n_estimators': 200,\n",
       " 'max_depth': 29,\n",
       " 'learning_rate': 0.23,\n",
       " 'gamma': 0.23}"
      ]
     },
     "execution_count": 87,
     "metadata": {},
     "output_type": "execute_result"
    }
   ],
   "source": [
    "cv_xgb.best_params_"
   ]
  },
  {
   "cell_type": "markdown",
   "metadata": {},
   "source": [
    "<a id='gbm_train'></a>\n",
    "#### Train optimized model\n",
    "[back to table of contents](#toc)"
   ]
  },
  {
   "cell_type": "code",
   "execution_count": 90,
   "metadata": {},
   "outputs": [],
   "source": [
    "clf_xgb_model = xgb.XGBClassifier(random_state=42,\n",
    "                                  objective='binary:logistic',\n",
    "                                  n_estimators=cv_xgb.best_params_['n_estimators'],\n",
    "                                  gamma=cv_xgb.best_params_['gamma'],\n",
    "                                  learning_rate=cv_xgb.best_params_['learning_rate'],\n",
    "                                  reg_lambda=cv_xgb.best_params_['reg_lambda'],\n",
    "                                  max_depth=cv_xgb.best_params_['max_depth'],\n",
    "                                  n_jobs=-1)\n",
    "\n",
    "t0 = time.time()\n",
    "clf_xgb_model.fit(X_train_final, y_train_final)\n",
    "t1 = time.time() - t0\n",
    "print(t1)"
   ]
  },
  {
   "cell_type": "markdown",
   "metadata": {},
   "source": [
    "<a id='gbm_pred'></a>\n",
    "#### Predict test data\n",
    "[back to table of contents](#toc)"
   ]
  },
  {
   "cell_type": "code",
   "execution_count": null,
   "metadata": {},
   "outputs": [],
   "source": [
    "y_pred_xgb = clf_xgb_model.predict(X_test_final)"
   ]
  },
  {
   "cell_type": "markdown",
   "metadata": {},
   "source": [
    "<a id='gbm_eval'></a>\n",
    "#### Evaluate Model\n",
    "[back to table of contents](#toc)"
   ]
  },
  {
   "cell_type": "code",
   "execution_count": 92,
   "metadata": {},
   "outputs": [
    {
     "name": "stdout",
     "output_type": "stream",
     "text": [
      "Accuracy score for XGBoost  0.8303946263643996\n",
      "Recall score for XGBoost  0.7419728970821633\n",
      "Precision score for XGBoost  0.7857481468712291\n"
     ]
    }
   ],
   "source": [
    "score_xgb = accuracy_score(y_test_final, y_pred_xgb)\n",
    "rscore_xgb = recall_score(y_test_final, y_pred_xgb)\n",
    "pscore_xgb = precision_score(y_test_final, y_pred_xgb)\n",
    "print('Accuracy score for XGBoost ', score_xgb)\n",
    "print('Recall score for XGBoost ', rscore_xgb)\n",
    "print('Precision score for XGBoost ', pscore_xgb)"
   ]
  },
  {
   "cell_type": "code",
   "execution_count": 93,
   "metadata": {},
   "outputs": [
    {
     "name": "stdout",
     "output_type": "stream",
     "text": [
      "               precision    recall  f1-score   support\n",
      "\n",
      "not duplicate       0.85      0.88      0.87     84246\n",
      "    duplicate       0.79      0.74      0.76     49146\n",
      "\n",
      "    micro avg       0.83      0.83      0.83    133392\n",
      "    macro avg       0.82      0.81      0.82    133392\n",
      " weighted avg       0.83      0.83      0.83    133392\n",
      "\n"
     ]
    }
   ],
   "source": [
    "print(classification_report(y_test_final, y_pred_xgb, target_names=target_names))"
   ]
  },
  {
   "cell_type": "code",
   "execution_count": 94,
   "metadata": {},
   "outputs": [],
   "source": [
    "xgb_fpr, xgb_tpr, _ = roc_curve(y_test_final, y_pred_xgb)\n",
    "xgb_roc_auc = auc(xgb_fpr, xgb_tpr)"
   ]
  },
  {
   "cell_type": "code",
   "execution_count": 109,
   "metadata": {},
   "outputs": [
    {
     "data": {
      "image/png": "[encoded data removed]",
      "text/plain": [
       "<Figure size 598.055x360 with 1 Axes>"
      ]
     },
     "metadata": {
      "needs_background": "light"
     },
     "output_type": "display_data"
    }
   ],
   "source": [
    "plot_roc(xgb_fpr, xgb_tpr, xgb_roc_auc)"
   ]
  },
  {
   "cell_type": "code",
   "execution_count": null,
   "metadata": {},
   "outputs": [],
   "source": []
  },
  {
   "cell_type": "code",
   "execution_count": null,
   "metadata": {},
   "outputs": [],
   "source": []
  },
  {
   "cell_type": "code",
   "execution_count": null,
   "metadata": {},
   "outputs": [],
   "source": []
  },
  {
   "cell_type": "markdown",
   "metadata": {},
   "source": [
    "#### Deprecated functions"
   ]
  },
  {
   "cell_type": "code",
   "execution_count": null,
   "metadata": {},
   "outputs": [],
   "source": [
    "#def assign_pwmetric(df, method='euclidean'):\n",
    "#    #return compute_pairwise_kernel(pc1_embd, pc2_embd, method=method)\n",
    "#    return df.apply(compute_pairwise_dist, method, axis=1)\n",
    "\n",
    "\n",
    "# function for special pairwise metrics\n",
    "#def compute_pairwise_metric(pc1, pc2, method='dtw'):\n",
    "#    if pc1.size == 0 or pc2.size == 0:\n",
    "#        return np.nan\n",
    "#    #if method=='fdtw':\n",
    "#    #    dist, _ = fastdtw(pc1, pc2, dist=euclidean)\n",
    "#    if method=='pcm':\n",
    "#        dist = similaritymeasures.pcm(pc1[:,:2], pc2[:,:2])\n",
    "#    if method=='discrete_frechet':\n",
    "#        dist = similaritymeasures.frechet_dist(pc1[:,:2], pc2[:,:2])\n",
    "#    if method=='area':\n",
    "#        dist = similaritymeasures.area_between_two_curves(pc1[:,:2], pc2[:,:2])\n",
    "#    if method=='curve_length':\n",
    "#        dist = similaritymeasures.curve_length_measure(pc1[:,:2], pc2[:,:2])\n",
    "#    if method=='dtw':\n",
    "#        dist, _ = similaritymeasures.dtw(pc1[:,:2], pc2[:,:2])\n",
    "#    #if method=='procrustes': \n",
    "#    #    mbox1 = MinimumBoundingBox([x[:2] for x in pc1.tolist()])\n",
    "#    #    mbox2 = MinimumBoundingBox([x[:2] for x in pc2.tolist()])\n",
    "#    #    _,_,dist = procrustes(make_array(mbox1.corner_points), make_array(mbox2.corner_points))\n",
    "#    return dist    "
   ]
  }
 ],
 "metadata": {
  "kernelspec": {
   "display_name": "Python 3",
   "language": "python",
   "name": "python3"
  },
  "language_info": {
   "codemirror_mode": {
    "name": "ipython",
    "version": 3
   },
   "file_extension": ".py",
   "mimetype": "text/x-python",
   "name": "python",
   "nbconvert_exporter": "python",
   "pygments_lexer": "ipython3",
   "version": "3.6.8"
  }
 },
 "nbformat": 4,
 "nbformat_minor": 1
}
