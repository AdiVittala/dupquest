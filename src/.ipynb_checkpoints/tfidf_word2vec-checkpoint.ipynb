{
 "cells": [
  {
   "cell_type": "code",
   "execution_count": 1,
   "metadata": {},
   "outputs": [],
   "source": [
    "import pandas as pd\n",
    "from utils import persistence as ps\n",
    "from urllib3.response import HTTPResponse\n",
    "from typing import List, Dict, Tuple\n",
    "import numpy as np\n",
    "import pickle\n",
    "from scipy.io import mmwrite, mmread"
   ]
  },
  {
   "cell_type": "code",
   "execution_count": 2,
   "metadata": {},
   "outputs": [],
   "source": [
    "import warnings\n",
    "warnings.filterwarnings('ignore')"
   ]
  },
  {
   "cell_type": "code",
   "execution_count": 3,
   "metadata": {},
   "outputs": [],
   "source": [
    "from toolz import partition_all"
   ]
  },
  {
   "cell_type": "code",
   "execution_count": 4,
   "metadata": {},
   "outputs": [],
   "source": [
    "#INPUT_BUCKET = 'dq-data'\n",
    "data_folder = '/media/siri/78C6823EC681FD1E/minio/data/dq-data/'\n",
    "#HASH_BUCKET = 'dq-hashed'"
   ]
  },
  {
   "cell_type": "code",
   "execution_count": null,
   "metadata": {},
   "outputs": [],
   "source": [
    "#load train_set\n",
    "data = 'train.csv'\n",
    "#filestream = ps.get_file_stream(bucket=INPUT_BUCKET, filename=data)\n",
    "filestream = data_folder+data\n",
    "dtypes = {\n",
    "    'id': 'int64',\n",
    "    'qid1': 'int64',\n",
    "    'qid2': 'int64',\n",
    "    'question1': 'object',\n",
    "    'question2': 'object',\n",
    "    'is_duplicate': 'int64'\n",
    "}\n",
    "df = pd.read_csv(#urlpath=s3_in_url, \n",
    "                                     #storage_options=s3_options,\n",
    "                                     filestream,\n",
    "                                     header=0, \n",
    "                                     usecols=dtypes.keys(), \n",
    "                                     #names=dtypes.keys(),\n",
    "                                     skipinitialspace=True,\n",
    "                                     skip_blank_lines=True,\n",
    "                                     encoding='utf-8')\n",
    "df = df.set_index('id')\n",
    "df = df.dropna()"
   ]
  },
  {
   "cell_type": "code",
   "execution_count": null,
   "metadata": {},
   "outputs": [],
   "source": [
    "#del df"
   ]
  },
  {
   "cell_type": "markdown",
   "metadata": {},
   "source": [
    "### Train-test split"
   ]
  },
  {
   "cell_type": "code",
   "execution_count": null,
   "metadata": {},
   "outputs": [],
   "source": [
    "from sklearn.model_selection import train_test_split\n",
    "#shrink df to 150,000 records\n",
    "#df = df.iloc[:100000]\n",
    "\n",
    "X = df.drop(columns=['is_duplicate'])\n",
    "\n",
    "y = df['is_duplicate']\n",
    "X_train, X_test, y_train, y_test =  train_test_split(X, y, test_size=0.33, random_state=42)"
   ]
  },
  {
   "cell_type": "code",
   "execution_count": null,
   "metadata": {},
   "outputs": [],
   "source": [
    "X_train.info()"
   ]
  },
  {
   "cell_type": "code",
   "execution_count": null,
   "metadata": {},
   "outputs": [],
   "source": [
    "import pickle\n",
    "pickle.dump(X_train, open(data_folder+'X_train.p', 'wb'))\n",
    "pickle.dump(y_train, open(data_folder+'y_train.p', 'wb'))\n",
    "pickle.dump(X_test, open(data_folder+'X_test.p', 'wb'))\n",
    "pickle.dump(y_test, open(data_folder+'y_test.p', 'wb'))"
   ]
  },
  {
   "cell_type": "code",
   "execution_count": 5,
   "metadata": {},
   "outputs": [],
   "source": [
    "X_train = pickle.load(open(data_folder+'X_train.p', 'rb'))\n",
    "X_test = pickle.load(open(data_folder+'X_test.p', 'rb'))"
   ]
  },
  {
   "cell_type": "code",
   "execution_count": 6,
   "metadata": {},
   "outputs": [],
   "source": [
    "y_train = pickle.load(open(data_folder+'y_train.p', 'rb'))\n",
    "y_test = pickle.load(open(data_folder+'y_test.p', 'rb'))"
   ]
  },
  {
   "cell_type": "code",
   "execution_count": null,
   "metadata": {},
   "outputs": [],
   "source": [
    "del X,y,df"
   ]
  },
  {
   "cell_type": "code",
   "execution_count": null,
   "metadata": {},
   "outputs": [],
   "source": [
    "del X_train,X_test"
   ]
  },
  {
   "cell_type": "code",
   "execution_count": null,
   "metadata": {},
   "outputs": [],
   "source": [
    "del y_train, y_test"
   ]
  },
  {
   "cell_type": "markdown",
   "metadata": {},
   "source": [
    "### Memory Check"
   ]
  },
  {
   "cell_type": "code",
   "execution_count": 7,
   "metadata": {},
   "outputs": [
    {
     "data": {
      "text/plain": [
       "[('X_train', 70341065),\n",
       " ('X_test', 34641540),\n",
       " ('y_train', 4333976),\n",
       " ('y_test', 2134664),\n",
       " ('HTTPResponse', 1056),\n",
       " ('Dict', 888),\n",
       " ('List', 888),\n",
       " ('Tuple', 888),\n",
       " ('mmread', 136),\n",
       " ('mmwrite', 136),\n",
       " ('partition_all', 136),\n",
       " ('data_folder', 97),\n",
       " ('np', 80),\n",
       " ('pd', 80),\n",
       " ('ps', 80)]"
      ]
     },
     "execution_count": 7,
     "metadata": {},
     "output_type": "execute_result"
    }
   ],
   "source": [
    "import sys\n",
    "# These are the usual ipython objects, including this one you are creating\n",
    "ipython_vars = ['In', 'Out', 'exit', 'quit', 'get_ipython', 'ipython_vars']\n",
    "# Get a sorted list of the objects and their sizes\n",
    "sorted([(x, sys.getsizeof(globals().get(x))) \n",
    "        for x in dir() if not x.startswith('_') \n",
    "        and x not in sys.modules and x not in ipython_vars], \n",
    "       key=lambda x: x[1], reverse=True)"
   ]
  },
  {
   "cell_type": "code",
   "execution_count": null,
   "metadata": {},
   "outputs": [],
   "source": [
    "#del y_train, y_test"
   ]
  },
  {
   "cell_type": "markdown",
   "metadata": {},
   "source": [
    "# Feature Extraction"
   ]
  },
  {
   "cell_type": "markdown",
   "metadata": {},
   "source": [
    "### Tokenizing and preprocessing"
   ]
  },
  {
   "cell_type": "code",
   "execution_count": null,
   "metadata": {},
   "outputs": [],
   "source": [
    "from gensim.parsing.preprocessing import preprocess_string\n",
    "def get_tokens(process='train'):\n",
    "    if process=='test':\n",
    "        X = X_test\n",
    "    else:\n",
    "        X = X_train\n",
    "    series = pd.Series(pd.concat([X['question1'], X['question2']]),dtype=str)\n",
    "    series.dropna()\n",
    "    for question in series:\n",
    "        yield preprocess_string(question)"
   ]
  },
  {
   "cell_type": "markdown",
   "metadata": {},
   "source": [
    "### Word2Vec (fasttext)"
   ]
  },
  {
   "cell_type": "code",
   "execution_count": null,
   "metadata": {},
   "outputs": [],
   "source": [
    "from gensim.models import FastText\n",
    "model = FastText.load_fasttext_format(data_folder+'cc.en.300.bin')"
   ]
  },
  {
   "cell_type": "code",
   "execution_count": null,
   "metadata": {},
   "outputs": [],
   "source": [
    "def get_ft_vectors(model, process):\n",
    "    for tokens in get_tokens(process):\n",
    "        vectors = []\n",
    "        for token in tokens:\n",
    "            try:\n",
    "                vector = model.wv[token]\n",
    "            except:\n",
    "                continue\n",
    "            vectors.append(vector)\n",
    "        yield np.array(vectors)"
   ]
  },
  {
   "cell_type": "code",
   "execution_count": null,
   "metadata": {},
   "outputs": [],
   "source": [
    "def get_tfidf_for_valid_vectors(model, process):\n",
    "    for tokens in get_tokens(process):\n",
    "        tf_idf_tokens = []\n",
    "        for token in tokens:\n",
    "            try:\n",
    "                vector = model.wv[token]\n",
    "                tf_idf_tokens.append(token)\n",
    "            except:\n",
    "                continue\n",
    "        yield np.array(tf_idf_tokens)"
   ]
  },
  {
   "cell_type": "code",
   "execution_count": null,
   "metadata": {},
   "outputs": [],
   "source": [
    "#X_ft = np.array([vectors for vectors in get_ft_vectors(model,'train')])\n",
    "#X_ft.shape"
   ]
  },
  {
   "cell_type": "code",
   "execution_count": null,
   "metadata": {},
   "outputs": [],
   "source": [
    "# split back into two\n",
    "#X1_ft = X_ft[:len(X_train)]\n",
    "#X2_ft = X_ft[len(X_train):]"
   ]
  },
  {
   "cell_type": "markdown",
   "metadata": {},
   "source": [
    "##### Test set"
   ]
  },
  {
   "cell_type": "code",
   "execution_count": null,
   "metadata": {},
   "outputs": [],
   "source": [
    "#X_ft_test = np.array([vectors for vectors in get_ft_vectors(model,'test')])"
   ]
  },
  {
   "cell_type": "code",
   "execution_count": null,
   "metadata": {},
   "outputs": [],
   "source": [
    "#X_ft_test.shape"
   ]
  },
  {
   "cell_type": "code",
   "execution_count": null,
   "metadata": {},
   "outputs": [],
   "source": [
    "#del model"
   ]
  },
  {
   "cell_type": "code",
   "execution_count": null,
   "metadata": {},
   "outputs": [],
   "source": [
    "# split back into two\n",
    "#X1_ft_test = X_ft_test[:len(X_test)]\n",
    "#X2_ft_test = X_ft_test[len(X_test):]"
   ]
  },
  {
   "cell_type": "markdown",
   "metadata": {},
   "source": [
    "### TFIDF and Word2Vec"
   ]
  },
  {
   "cell_type": "code",
   "execution_count": null,
   "metadata": {},
   "outputs": [],
   "source": [
    "from sklearn.feature_extraction.text import TfidfVectorizer\n",
    "pass_through = lambda x:x\n",
    "tfidf = TfidfVectorizer(analyzer=pass_through)\n",
    "X_trfmd = tfidf.fit_transform(get_tfidf_for_valid_vectors(model,'train'))"
   ]
  },
  {
   "cell_type": "code",
   "execution_count": null,
   "metadata": {},
   "outputs": [],
   "source": [
    "X_trfmd"
   ]
  },
  {
   "cell_type": "code",
   "execution_count": null,
   "metadata": {},
   "outputs": [],
   "source": [
    "# split back into two\n",
    "X1_trfmd = X_trfmd[:len(X_train)]\n",
    "X2_trfmd = X_trfmd[len(X_train):]"
   ]
  },
  {
   "cell_type": "code",
   "execution_count": null,
   "metadata": {},
   "outputs": [],
   "source": [
    "def get_weights_and_w2vectors(tfidf_matrix, tfidf_vectorizer, w2v_model):\n",
    "    weights = []\n",
    "    w2v = []\n",
    "    rows = tfidf_matrix.shape[0]\n",
    "    inverse_vocab_dict = {v: k for k, v in tfidf_vectorizer.vocabulary_.items()}\n",
    "    for doc in range(rows):\n",
    "        features = tfidf_matrix[doc,:].nonzero()[1]\n",
    "        weights.append(np.array([tfidf_matrix[doc, x] for x in features]))\n",
    "        w2v.append(np.array([w2v_model.wv[inverse_vocab_dict[x]] for x in features]))\n",
    "    return np.array(weights), np.array(w2v)"
   ]
  },
  {
   "cell_type": "code",
   "execution_count": null,
   "metadata": {},
   "outputs": [],
   "source": [
    "X1_w, X1 = get_weights_and_w2vectors(X1_trfmd, tfidf, model)\n",
    "X1_w.shape"
   ]
  },
  {
   "cell_type": "code",
   "execution_count": null,
   "metadata": {},
   "outputs": [],
   "source": [
    "X1.shape"
   ]
  },
  {
   "cell_type": "code",
   "execution_count": null,
   "metadata": {},
   "outputs": [],
   "source": [
    "X1_w.shape"
   ]
  },
  {
   "cell_type": "code",
   "execution_count": null,
   "metadata": {},
   "outputs": [],
   "source": [
    "X2_w, X2 = get_weights_and_w2vectors(X2_trfmd, tfidf, model)\n",
    "X2_w.shape"
   ]
  },
  {
   "cell_type": "code",
   "execution_count": null,
   "metadata": {},
   "outputs": [],
   "source": [
    "pickle.dump(X1_w, open(data_folder+'X1_w.p','wb'))\n",
    "pickle.dump(X2_w, open(data_folder+'X2_w.p','wb'))"
   ]
  },
  {
   "cell_type": "code",
   "execution_count": null,
   "metadata": {},
   "outputs": [],
   "source": [
    "pickle.dump(X1, open(data_folder+'X1.p','wb'))\n",
    "pickle.dump(X2, open(data_folder+'X2.p','wb'))"
   ]
  },
  {
   "cell_type": "code",
   "execution_count": null,
   "metadata": {},
   "outputs": [],
   "source": [
    "X1_w[420].shape"
   ]
  },
  {
   "cell_type": "code",
   "execution_count": null,
   "metadata": {},
   "outputs": [],
   "source": [
    "X1[420].shape"
   ]
  },
  {
   "cell_type": "code",
   "execution_count": null,
   "metadata": {},
   "outputs": [],
   "source": [
    "del X1_w, X2_w, X1, X2"
   ]
  },
  {
   "cell_type": "code",
   "execution_count": null,
   "metadata": {},
   "outputs": [],
   "source": [
    "# dimension reduction using SVD\n",
    "#from sklearn.decomposition import TruncatedSVD\n",
    "#import time\n",
    "#start = time.time()\n",
    "#svd = TruncatedSVD(n_components=100, n_iter=7, random_state=42)\n",
    "#X_svd = svd.fit_transform(X_trfmd)\n",
    "#end =  time.time()\n",
    "#print('created SVD transform in time {}'.format(end-start))"
   ]
  },
  {
   "cell_type": "code",
   "execution_count": null,
   "metadata": {},
   "outputs": [],
   "source": [
    "#X_svd.shape"
   ]
  },
  {
   "cell_type": "code",
   "execution_count": null,
   "metadata": {},
   "outputs": [],
   "source": [
    "# split back into two\n",
    "#X1 = X_svd[:len(X_train), :]\n",
    "#X2 = X_svd[len(X_train):, :]"
   ]
  },
  {
   "cell_type": "markdown",
   "metadata": {},
   "source": [
    "##### Test set"
   ]
  },
  {
   "cell_type": "code",
   "execution_count": null,
   "metadata": {},
   "outputs": [],
   "source": [
    "X_test_trfmd = tfidf.transform(get_tfidf_for_valid_vectors(model, 'test'))"
   ]
  },
  {
   "cell_type": "code",
   "execution_count": null,
   "metadata": {},
   "outputs": [],
   "source": [
    "X_test_trfmd"
   ]
  },
  {
   "cell_type": "code",
   "execution_count": null,
   "metadata": {},
   "outputs": [],
   "source": [
    "# split back into two\n",
    "X1_test_trfmd = X_test_trfmd[:len(X_test)]\n",
    "X2_test_trfmd = X_test_trfmd[len(X_test):]"
   ]
  },
  {
   "cell_type": "code",
   "execution_count": null,
   "metadata": {},
   "outputs": [],
   "source": [
    "X1_test_w, X1_test = get_weights_and_w2vectors(X1_test_trfmd, tfidf, model)\n",
    "X1_test_w.shape"
   ]
  },
  {
   "cell_type": "code",
   "execution_count": null,
   "metadata": {},
   "outputs": [],
   "source": [
    "X2_test_w, X2_test = get_weights_and_w2vectors(X2_test_trfmd, tfidf, model)\n",
    "X2_test_w.shape"
   ]
  },
  {
   "cell_type": "code",
   "execution_count": null,
   "metadata": {},
   "outputs": [],
   "source": [
    "pickle.dump(X1_test_w, open(data_folder+'X1_test_w.p','wb'))\n",
    "pickle.dump(X2_test_w, open(data_folder+'X2_test_w.p','wb'))"
   ]
  },
  {
   "cell_type": "code",
   "execution_count": null,
   "metadata": {},
   "outputs": [],
   "source": [
    "pickle.dump(X1_test, open(data_folder+'X1_test.p','wb'))\n",
    "pickle.dump(X2_test, open(data_folder+'X2_test.p','wb'))"
   ]
  },
  {
   "cell_type": "code",
   "execution_count": null,
   "metadata": {},
   "outputs": [],
   "source": [
    "del X1_test_w, X2_test_w, X1_test, X2_test"
   ]
  },
  {
   "cell_type": "code",
   "execution_count": null,
   "metadata": {},
   "outputs": [],
   "source": [
    "# dimension reduction using SVD\n",
    "#start = time.time()\n",
    "#X_test_svd = svd.transform(X_test_trfmd)\n",
    "#end =  time.time()\n",
    "#print('created SVD transform in time {}'.format(end-start))"
   ]
  },
  {
   "cell_type": "code",
   "execution_count": null,
   "metadata": {},
   "outputs": [],
   "source": [
    "# split back into two\n",
    "#X1_test = X_test_svd[:len(X_test), :]\n",
    "#X2_test = X_test_svd[len(X_test):, :]"
   ]
  },
  {
   "cell_type": "code",
   "execution_count": null,
   "metadata": {},
   "outputs": [],
   "source": [
    "# build complete feature dataframe\n",
    "#X_test_temp = pd.concat([pd.DataFrame(X1_test, columns=['q1_'+str(i) for i in range(X1_test.shape[1])], index=X_test.index), \n",
    "#                    pd.DataFrame(X2_test, columns=['q2_'+str(i) for i in range(X2_test.shape[1])], index=X_test.index)], axis=1)\n",
    "#X_test_temp.head()"
   ]
  },
  {
   "cell_type": "markdown",
   "metadata": {},
   "source": [
    "### Pairwise Metrics"
   ]
  },
  {
   "cell_type": "code",
   "execution_count": null,
   "metadata": {},
   "outputs": [],
   "source": [
    "#def get_q_lengths(X):\n",
    "#    #q_meta = []\n",
    "#    for q in X:\n",
    "#        #q_meta.append(len(q))\n",
    "#        yield len(q)\n",
    "#    #return q_meta"
   ]
  },
  {
   "cell_type": "code",
   "execution_count": null,
   "metadata": {},
   "outputs": [],
   "source": [
    "#q_meta_train = [(q1_len, q2_len) for q1_len, q2_len in zip(get_q_lengths(X1_ft), get_q_lengths(X2_ft))]"
   ]
  },
  {
   "cell_type": "code",
   "execution_count": null,
   "metadata": {},
   "outputs": [],
   "source": [
    "#pickle.dump(q_meta_train, open(data_folder+'q_meta_train.p', 'wb'))"
   ]
  },
  {
   "cell_type": "code",
   "execution_count": null,
   "metadata": {},
   "outputs": [],
   "source": [
    "#ps.copy_file(dest_bucket=INPUT_BUCKET, file='q_meta_train.p', source='q_meta_train.p')"
   ]
  },
  {
   "cell_type": "code",
   "execution_count": null,
   "metadata": {},
   "outputs": [],
   "source": [
    "#X_train_300 = np.concatenate( \n",
    "#    np.vstack( [np.array(np.vsplit(y, y.shape[0])) for y in (x for x in X_ft if x.size>0)] )\n",
    "#)"
   ]
  },
  {
   "cell_type": "code",
   "execution_count": null,
   "metadata": {},
   "outputs": [],
   "source": [
    "#X_train_300.shape"
   ]
  },
  {
   "cell_type": "code",
   "execution_count": null,
   "metadata": {},
   "outputs": [],
   "source": [
    "#mmwrite( data_folder+'wor2vec_300_full_train.mtx', X_train_300 )\n",
    "#np.savez(data_folder+'wor2vec_300_full_train', data=X_train_300)"
   ]
  },
  {
   "cell_type": "code",
   "execution_count": null,
   "metadata": {},
   "outputs": [],
   "source": [
    "#ps.copy_file(dest_bucket=INPUT_BUCKET, file='wor2vec_300_full_train.mtx', source='wor2vec_300_full_train.mtx')"
   ]
  },
  {
   "cell_type": "code",
   "execution_count": null,
   "metadata": {},
   "outputs": [],
   "source": [
    "#del X_ft"
   ]
  },
  {
   "cell_type": "code",
   "execution_count": null,
   "metadata": {},
   "outputs": [],
   "source": [
    "#ps.get_file(bucket=INPUT_BUCKET, filename='embed2_full_train.mtx', filepath='embed2_full_train.mtx')"
   ]
  },
  {
   "cell_type": "code",
   "execution_count": null,
   "metadata": {},
   "outputs": [],
   "source": [
    "#X_rd = mmread('embed2_full_train.mtx')"
   ]
  },
  {
   "cell_type": "code",
   "execution_count": null,
   "metadata": {},
   "outputs": [],
   "source": [
    "#X_rd.shape"
   ]
  },
  {
   "cell_type": "code",
   "execution_count": null,
   "metadata": {},
   "outputs": [],
   "source": [
    "#ps.get_file(bucket=INPUT_BUCKET, filename='q_meta_train.p', filepath='q_meta_train.p')"
   ]
  },
  {
   "cell_type": "code",
   "execution_count": null,
   "metadata": {},
   "outputs": [],
   "source": [
    "from sklearn.metrics.pairwise import linear_kernel, polynomial_kernel, sigmoid_kernel, laplacian_kernel, rbf_kernel\n",
    "from sklearn.metrics import pairwise_distances\n",
    "from scipy.spatial.distance import cdist, directed_hausdorff\n",
    "from fastdtw import fastdtw\n",
    "import similaritymeasures\n",
    "from scipy.spatial import procrustes\n",
    "def compute_pairwise_kernel(pc1, pc2, w1, w2, method='linear'):\n",
    "    if pc1.size == 0 or pc2.size == 0:\n",
    "        return np.nan\n",
    "    if method=='polynomial':\n",
    "        dist_mat = polynomial_kernel(pc1, pc2, 2)\n",
    "    elif method=='rbf':\n",
    "        dist_mat = rbf_kernel(pc1, pc2)\n",
    "    elif method=='sigmoid':\n",
    "        dist_mat = sigmoid_kernel(pc1, pc2)\n",
    "    elif method=='laplacian':\n",
    "        dist_mat = laplacian_kernel(pc1, pc2)\n",
    "    else:\n",
    "        dist_mat = linear_kernel(pc1, pc2)\n",
    "    return np.average(dist_mat, weights=np.matmul(w1.reshape(-1,1),w2.reshape(-1,1).T))\n",
    "    \n",
    "def compute_pairwise_dist(pc1, pc2, w1, w2, method='euclidean'):\n",
    "    if pc1.size == 0 or pc2.size == 0:\n",
    "        return np.nan\n",
    "    if method=='hausdorff':\n",
    "        dist = directed_hausdorff(pc1, pc2)\n",
    "        return dist[0]\n",
    "    else:\n",
    "        dist_mat = pairwise_distances(pc1, pc2, metric=method) \n",
    "    #dist_mat = cdist(pc1, pc2, metric=method)\n",
    "    #return np.linalg.norm(dist_mat, ord='fro')\n",
    "    return np.average(dist_mat, weights=np.matmul(w1.reshape(-1,1),w2.reshape(-1,1).T))\n",
    "\n",
    "def compute_weighted_mean(pc, w):\n",
    "    return np.average(pc, axis=0, weights=w)\n",
    "\n",
    "def compute_pairwise_metric(pc1, pc2, method='dtw'):\n",
    "    if pc1.size == 0 or pc2.size == 0:\n",
    "        return np.nan\n",
    "    #if method=='fdtw':\n",
    "    #    dist, _ = fastdtw(pc1, pc2, dist=euclidean)\n",
    "    if method=='pcm':\n",
    "        dist = similaritymeasures.pcm(pc1[:,:2], pc2[:,:2])\n",
    "    if method=='discrete_frechet':\n",
    "        dist = similaritymeasures.frechet_dist(pc1[:,:2], pc2[:,:2])\n",
    "    if method=='area':\n",
    "        dist = similaritymeasures.area_between_two_curves(pc1[:,:2], pc2[:,:2])\n",
    "    if method=='curve_length':\n",
    "        dist = similaritymeasures.curve_length_measure(pc1[:,:2], pc2[:,:2])\n",
    "    if method=='dtw':\n",
    "        dist, _ = similaritymeasures.dtw(pc1[:,:2], pc2[:,:2])\n",
    "    #if method=='procrustes': \n",
    "    #    mbox1 = MinimumBoundingBox([x[:2] for x in pc1.tolist()])\n",
    "    #    mbox2 = MinimumBoundingBox([x[:2] for x in pc2.tolist()])\n",
    "    #    _,_,dist = procrustes(make_array(mbox1.corner_points), make_array(mbox2.corner_points))\n",
    "    return dist\n",
    "\n",
    "        \n",
    "def assign_pwmetric(df, method='euclidean'):\n",
    "    #return compute_pairwise_kernel(pc1_embd, pc2_embd, method=method)\n",
    "    return df.apply(compute_pairwise_dist, method, axis=1)"
   ]
  },
  {
   "cell_type": "code",
   "execution_count": null,
   "metadata": {},
   "outputs": [],
   "source": [
    "def compute_delayed(X1, X2, X1_w, X2_w, method):\n",
    "    temp = []\n",
    "    for q_tuple in zip(X1, X2, X1_w, X2_w):\n",
    "        if q_tuple:\n",
    "            q1_rd, q2_rd, q1_w, q2_w = q_tuple\n",
    "            if method in ['polynomial', 'rbf', 'sigmoid', 'laplacian', 'linear']:\n",
    "                temp.append(delayed(compute_pairwise_kernel)(q1_rd, q2_rd, q1_w, q2_w, method))\n",
    "            else:\n",
    "                temp.append(delayed(compute_pairwise_dist)(q1_rd, q2_rd, q1_w, q2_w, method))\n",
    "        else:\n",
    "            temp.append(delayed(np.nan))\n",
    "    return compute(*temp)"
   ]
  },
  {
   "cell_type": "code",
   "execution_count": null,
   "metadata": {},
   "outputs": [],
   "source": [
    "def create_nan_array(r,c):\n",
    "    arr = np.empty((r,c))\n",
    "    arr[:] = np.nan\n",
    "    return arr"
   ]
  },
  {
   "cell_type": "code",
   "execution_count": null,
   "metadata": {},
   "outputs": [],
   "source": [
    "def pickle_and_del(obj, file, data_folder=data_folder):\n",
    "    pickle.dump(obj, open(data_folder+file+'.p', 'wb'))\n",
    "    del obj"
   ]
  },
  {
   "cell_type": "code",
   "execution_count": null,
   "metadata": {},
   "outputs": [],
   "source": [
    "def compute_delayed_wmean(X, X_w, file, data_folder=data_folder):\n",
    "    temp = []\n",
    "    for q_tuple in zip(X, X_w):\n",
    "        if q_tuple:\n",
    "            q_rd, q_w = q_tuple\n",
    "            if np.sum(q_w) != 0:\n",
    "                temp.append(delayed(compute_weighted_mean)(q_rd, q_w))\n",
    "            else:\n",
    "                temp.append(delayed(create_nan_array)(1,300))                \n",
    "        else:\n",
    "            temp.append(delayed(create_nan_array)(1,300))\n",
    "    temp_arr = np.array(temp)\n",
    "    computed_obj = compute(*temp_arr)\n",
    "    pickle_and_del(computed_obj, file, data_folder)    "
   ]
  },
  {
   "cell_type": "code",
   "execution_count": null,
   "metadata": {},
   "outputs": [],
   "source": [
    "def compute_and_save(X1, X2, X1_w, X2_w, method, file, data_folder=data_folder):\n",
    "    computed_obj = compute_delayed(X1, X2, X1_w, X2_w, method)\n",
    "    pickle_and_del(computed_obj, file, data_folder)    "
   ]
  },
  {
   "cell_type": "code",
   "execution_count": null,
   "metadata": {},
   "outputs": [],
   "source": [
    "#q_meta_train = pickle.load(open(data_folder+'q_meta_train.p','rb'))"
   ]
  },
  {
   "cell_type": "code",
   "execution_count": null,
   "metadata": {},
   "outputs": [],
   "source": [
    "#len(q_meta_train)"
   ]
  },
  {
   "cell_type": "code",
   "execution_count": null,
   "metadata": {},
   "outputs": [],
   "source": [
    "#mmwrite( data_folder+'wor2vec_300_full_train.mtx', X_train_300 )\n",
    "#X_train_300 = np.load(data_folder+'wor2vec_300_full_train.npz')['data']"
   ]
  },
  {
   "cell_type": "code",
   "execution_count": null,
   "metadata": {},
   "outputs": [],
   "source": [
    "#X_train_300.shape"
   ]
  },
  {
   "cell_type": "code",
   "execution_count": null,
   "metadata": {},
   "outputs": [],
   "source": [
    "# rebuild X1_rd and X2_rd\n",
    "#X1_list = []\n",
    "#X2_list = []\n",
    "#X1_rd_list = []\n",
    "#X2_rd_list = []\n",
    "#q1_ptr = 0\n",
    "#for len_q1, _ in q_meta_train:\n",
    "#    q1 = np.array(X_train_300[q1_ptr:q1_ptr+len_q1])\n",
    "#    #q1_rd = np.array(X_rd[q1_ptr:q1_ptr+len_q1])\n",
    "#    X1_list.append(q1)\n",
    "#    #X1_rd_list.append(q1_rd)\n",
    "#    q1_ptr = q1_ptr+len_q1\n",
    "#q2_ptr = q1_ptr\n",
    "#for _, len_q2 in q_meta_train:\n",
    "#    q2 = np.array(X_train_300[q2_ptr:q2_ptr+len_q2])\n",
    "#    #q2_rd = np.array(X_rd[q2_ptr:q2_ptr+len_q2])\n",
    "#    X2_list.append(q2)\n",
    "#    #X2_rd_list.append(q2_rd)\n",
    "#    q2_ptr = q2_ptr+len_q2\n",
    "#X1 = np.array(X1_list)\n",
    "#X2 = np.array(X2_list)\n",
    "#X1_rd = np.array(X1_rd_list)\n",
    "#X2_rd = np.array(X2_rd_list)"
   ]
  },
  {
   "cell_type": "code",
   "execution_count": null,
   "metadata": {},
   "outputs": [],
   "source": [
    "#del X1_list, X2_list, X_train_300, q_meta_train"
   ]
  },
  {
   "cell_type": "markdown",
   "metadata": {},
   "source": [
    "#### Initialize Dask"
   ]
  },
  {
   "cell_type": "code",
   "execution_count": null,
   "metadata": {},
   "outputs": [],
   "source": [
    "import dask.dataframe as dd\n",
    "from dask import delayed, compute\n",
    "from dask.distributed import Client\n",
    "from utils import dask\n",
    "client = dask.create_dask_client(num_workers=8)"
   ]
  },
  {
   "cell_type": "markdown",
   "metadata": {},
   "source": [
    "#### Compute Features"
   ]
  },
  {
   "cell_type": "code",
   "execution_count": null,
   "metadata": {},
   "outputs": [],
   "source": [
    "X1_w = pickle.load(open(data_folder+'X1_w.p','rb'))\n",
    "X2_w = pickle.load(open(data_folder+'X2_w.p','rb'))"
   ]
  },
  {
   "cell_type": "code",
   "execution_count": null,
   "metadata": {},
   "outputs": [],
   "source": [
    "X1 = pickle.load(open(data_folder+'X1.p','rb'))\n",
    "X2 = pickle.load(open(data_folder+'X2.p','rb'))"
   ]
  },
  {
   "cell_type": "code",
   "execution_count": null,
   "metadata": {},
   "outputs": [],
   "source": [
    "def compute_wmean(X, X_w):\n",
    "    temp = []\n",
    "    for q_tuple in zip(X, X_w):\n",
    "        if q_tuple:\n",
    "            q_rd, q_w = q_tuple\n",
    "            temp.append(compute_weighted_mean(q_rd, q_w))\n",
    "        else:\n",
    "            temp.append(create_nan_array(1,300))\n",
    "    #computed_obj = compute(*temp)\n",
    "    #pickle_and_del(computed_obj, file, data_folder) \n",
    "    return np.array(temp)"
   ]
  },
  {
   "cell_type": "code",
   "execution_count": null,
   "metadata": {},
   "outputs": [],
   "source": [
    "temp = compute_wmean(X1[:1],X1_w[:1])"
   ]
  },
  {
   "cell_type": "code",
   "execution_count": null,
   "metadata": {},
   "outputs": [],
   "source": [
    "temp.shape"
   ]
  },
  {
   "cell_type": "code",
   "execution_count": null,
   "metadata": {},
   "outputs": [],
   "source": [
    "#jaccard = compute(*jaccard)"
   ]
  },
  {
   "cell_type": "code",
   "execution_count": null,
   "metadata": {},
   "outputs": [],
   "source": [
    "#chebyshev = compute(*chebyshev)\n",
    "#compute_and_save(X1, X2, 'chebyshev', 'chebyshev_train', data_folder)\n",
    "compute_and_save(X1, X2, X1_w, X2_w, 'chebyshev', 'chebyshev_train_w', data_folder)"
   ]
  },
  {
   "cell_type": "code",
   "execution_count": null,
   "metadata": {},
   "outputs": [],
   "source": [
    "#braycurtis = compute(*braycurtis)\n",
    "#compute_and_save(X1, X2, 'braycurtis', 'braycurtis_train', data_folder)\n",
    "compute_and_save(X1, X2, X1_w, X2_w, 'braycurtis', 'braycurtis_train_w', data_folder)"
   ]
  },
  {
   "cell_type": "code",
   "execution_count": null,
   "metadata": {},
   "outputs": [],
   "source": [
    "#cosine = compute(*cosine)\n",
    "#compute_and_save(X1, X2, 'cosine', 'cosine_train', data_folder)\n",
    "compute_and_save(X1, X2, X1_w, X2_w, 'cosine', 'cosine_train_w', data_folder)"
   ]
  },
  {
   "cell_type": "code",
   "execution_count": null,
   "metadata": {},
   "outputs": [],
   "source": [
    "#correlation = compute(*correlation)\n",
    "#compute_and_save(X1, X2, 'correlation', 'correlation_train', data_folder)\n",
    "compute_and_save(X1, X2, X1_w, X2_w, 'correlation', 'correlation_train_w', data_folder)"
   ]
  },
  {
   "cell_type": "code",
   "execution_count": null,
   "metadata": {},
   "outputs": [],
   "source": [
    "#hamming = compute(*hamming)"
   ]
  },
  {
   "cell_type": "code",
   "execution_count": null,
   "metadata": {},
   "outputs": [],
   "source": [
    "#canberra = compute(*canberra)\n",
    "#compute_and_save(X1, X2, 'canberra', 'canberra_train', data_folder)\n",
    "compute_and_save(X1, X2, X1_w, X2_w, 'canberra', 'canberra_train_w', data_folder)"
   ]
  },
  {
   "cell_type": "code",
   "execution_count": null,
   "metadata": {},
   "outputs": [],
   "source": [
    "#hausdorff = compute(*hausdorff)\n",
    "#compute_and_save(X1, X2, 'hausdorff', 'hausdorff_train', data_folder)\n",
    "compute_and_save(X1, X2, X1_w, X2_w, 'hausdorff', 'hausdorff_train_w', data_folder)"
   ]
  },
  {
   "cell_type": "code",
   "execution_count": null,
   "metadata": {},
   "outputs": [],
   "source": [
    "#cityblock = compute(*cityblock)\n",
    "#compute_and_save(X1, X2, 'cityblock', 'cityblock_train', data_folder)\n",
    "compute_and_save(X1, X2, X1_w, X2_w, 'cityblock', 'cityblock_train_w', data_folder)"
   ]
  },
  {
   "cell_type": "code",
   "execution_count": null,
   "metadata": {},
   "outputs": [],
   "source": [
    "#euclidean = compute(*euclidean)\n",
    "#compute_and_save(X1, X2, 'euclidean', 'euclidean_train', data_folder)\n",
    "compute_and_save(X1, X2, X1_w, X2_w, 'euclidean', 'euclidean_train_w', data_folder)"
   ]
  },
  {
   "cell_type": "code",
   "execution_count": null,
   "metadata": {},
   "outputs": [],
   "source": [
    "#l1 = compute(*l1)\n",
    "#compute_and_save(X1, X2, 'l1', 'l1_train', data_folder)\n",
    "compute_and_save(X1, X2, X1_w, X2_w, 'l1', 'l1_train_w', data_folder)"
   ]
  },
  {
   "cell_type": "code",
   "execution_count": null,
   "metadata": {},
   "outputs": [],
   "source": [
    "#l2 = compute(*l2)\n",
    "#compute_and_save(X1, X2, 'l2', 'l2_train', data_folder)\n",
    "compute_and_save(X1, X2, X1_w, X2_w, 'l2', 'l2_train_w', data_folder)"
   ]
  },
  {
   "cell_type": "code",
   "execution_count": null,
   "metadata": {},
   "outputs": [],
   "source": [
    "#manhattan = compute(*manhattan)\n",
    "#compute_and_save(X1, X2, 'manhattan', 'manhattan_train', data_folder)\n",
    "compute_and_save(X1, X2, X1_w, X2_w, 'manhattan', 'manhattan_train_w', data_folder)"
   ]
  },
  {
   "cell_type": "code",
   "execution_count": null,
   "metadata": {},
   "outputs": [],
   "source": [
    "#dice = compute(*dice)"
   ]
  },
  {
   "cell_type": "code",
   "execution_count": null,
   "metadata": {},
   "outputs": [],
   "source": [
    "#kulsinski = compute(*kulsinski)"
   ]
  },
  {
   "cell_type": "code",
   "execution_count": null,
   "metadata": {},
   "outputs": [],
   "source": [
    "#rogerstanimoto = compute(*rogerstanimoto)"
   ]
  },
  {
   "cell_type": "code",
   "execution_count": null,
   "metadata": {},
   "outputs": [],
   "source": [
    "#russellrao = compute(*russellrao)"
   ]
  },
  {
   "cell_type": "code",
   "execution_count": null,
   "metadata": {},
   "outputs": [],
   "source": [
    "#sokalmichener = compute(*sokalmichener)"
   ]
  },
  {
   "cell_type": "code",
   "execution_count": null,
   "metadata": {},
   "outputs": [],
   "source": [
    "#minkowski = compute(*minkowski)\n",
    "#compute_and_save(X1, X2, 'minkowski', 'minkowski_train', data_folder)\n",
    "compute_and_save(X1, X2, X1_w, X2_w, 'minkowski', 'minkowski_train_w', data_folder)"
   ]
  },
  {
   "cell_type": "code",
   "execution_count": null,
   "metadata": {},
   "outputs": [],
   "source": [
    "#seuclidean = compute(*seuclidean)\n",
    "#compute_and_save(X1, X2, 'seuclidean', 'seuclidean_train', data_folder)"
   ]
  },
  {
   "cell_type": "code",
   "execution_count": null,
   "metadata": {},
   "outputs": [],
   "source": [
    "#sokalsneath = compute(*sokalsneath)"
   ]
  },
  {
   "cell_type": "code",
   "execution_count": null,
   "metadata": {},
   "outputs": [],
   "source": [
    "#sqeuclidean = compute(*sqeuclidean)\n",
    "#compute_and_save(X1, X2, 'sqeuclidean', 'sqeuclidean_train', data_folder)\n",
    "compute_and_save(X1, X2, X1_w, X2_w, 'sqeuclidean', 'sqeuclidean_train_w', data_folder)"
   ]
  },
  {
   "cell_type": "code",
   "execution_count": null,
   "metadata": {},
   "outputs": [],
   "source": [
    "#sqeuclidean = compute(*sqeuclidean)\n",
    "#compute_and_save(X1, X2, 'sqeuclidean', 'sqeuclidean_train', data_folder)\n",
    "compute_and_save(X1, X2, X1_w, X2_w, 'polynomial', 'polynomial_train_w', data_folder)"
   ]
  },
  {
   "cell_type": "code",
   "execution_count": null,
   "metadata": {},
   "outputs": [],
   "source": [
    "#sqeuclidean = compute(*sqeuclidean)\n",
    "#compute_and_save(X1, X2, 'sqeuclidean', 'sqeuclidean_train', data_folder)\n",
    "compute_and_save(X1, X2, X1_w, X2_w, 'rbf', 'rbf_train_w', data_folder)"
   ]
  },
  {
   "cell_type": "code",
   "execution_count": null,
   "metadata": {},
   "outputs": [],
   "source": [
    "#sqeuclidean = compute(*sqeuclidean)\n",
    "#compute_and_save(X1, X2, 'sqeuclidean', 'sqeuclidean_train', data_folder)\n",
    "compute_and_save(X1, X2, X1_w, X2_w, 'sigmoid', 'sigmoid_train_w', data_folder)"
   ]
  },
  {
   "cell_type": "code",
   "execution_count": null,
   "metadata": {},
   "outputs": [],
   "source": [
    "#sqeuclidean = compute(*sqeuclidean)\n",
    "#compute_and_save(X1, X2, 'sqeuclidean', 'sqeuclidean_train', data_folder)\n",
    "compute_and_save(X1, X2, X1_w, X2_w, 'linear', 'linear_train_w', data_folder)"
   ]
  },
  {
   "cell_type": "code",
   "execution_count": null,
   "metadata": {},
   "outputs": [],
   "source": [
    "#sqeuclidean = compute(*sqeuclidean)\n",
    "#compute_and_save(X1, X2, 'sqeuclidean', 'sqeuclidean_train', data_folder)\n",
    "compute_and_save(X1, X2, X1_w, X2_w, 'laplacian', 'laplacian_train_w', data_folder)"
   ]
  },
  {
   "cell_type": "code",
   "execution_count": null,
   "metadata": {},
   "outputs": [],
   "source": [
    "#sqeuclidean = compute(*sqeuclidean)\n",
    "#compute_and_save(X1, X2, 'sqeuclidean', 'sqeuclidean_train', data_folder)\n",
    "compute_delayed_wmean(X1, X1_w, 'weighted_mean1_train', data_folder)"
   ]
  },
  {
   "cell_type": "code",
   "execution_count": null,
   "metadata": {},
   "outputs": [],
   "source": [
    "#sqeuclidean = compute(*sqeuclidean)\n",
    "#compute_and_save(X1, X2, 'sqeuclidean', 'sqeuclidean_train', data_folder)\n",
    "compute_delayed_wmean(X2, X2_w, 'weighted_mean2_train', data_folder)"
   ]
  },
  {
   "cell_type": "code",
   "execution_count": null,
   "metadata": {},
   "outputs": [],
   "source": [
    "#fdtw = compute(*fdtw)"
   ]
  },
  {
   "cell_type": "code",
   "execution_count": null,
   "metadata": {},
   "outputs": [],
   "source": [
    "#dtw = compute(*dtw)"
   ]
  },
  {
   "cell_type": "code",
   "execution_count": null,
   "metadata": {},
   "outputs": [],
   "source": [
    "#pcm = compute(*pcm)"
   ]
  },
  {
   "cell_type": "code",
   "execution_count": null,
   "metadata": {},
   "outputs": [],
   "source": [
    "#area = compute(*area)"
   ]
  },
  {
   "cell_type": "code",
   "execution_count": null,
   "metadata": {},
   "outputs": [],
   "source": [
    "#curve_length = compute(*curve_length)"
   ]
  },
  {
   "cell_type": "code",
   "execution_count": null,
   "metadata": {},
   "outputs": [],
   "source": [
    "#discrete_frechet = compute(*discrete_frechet)"
   ]
  },
  {
   "cell_type": "code",
   "execution_count": null,
   "metadata": {},
   "outputs": [],
   "source": [
    "#procrustes = compute(*procrustes)"
   ]
  },
  {
   "cell_type": "code",
   "execution_count": null,
   "metadata": {},
   "outputs": [],
   "source": [
    "del X1, X2, X1_w, X2_w"
   ]
  },
  {
   "cell_type": "markdown",
   "metadata": {},
   "source": [
    "#### add above metrics to X_train"
   ]
  },
  {
   "cell_type": "code",
   "execution_count": 8,
   "metadata": {},
   "outputs": [],
   "source": [
    "def add_column(df, column, train_or_test, data_folder=data_folder):\n",
    "    col_arr = pickle.load(open(data_folder+column+'_'+train_or_test+'_w.p', 'rb'))\n",
    "    return pd.concat([df,\n",
    "                     pd.Series(col_arr, name=column,index=df.index)\n",
    "                      ], axis=1)"
   ]
  },
  {
   "cell_type": "code",
   "execution_count": 9,
   "metadata": {},
   "outputs": [],
   "source": [
    "def add_d2v_columns(df, d2v, train_or_test, data_folder=data_folder):\n",
    "    col_arr = pickle.load(open(data_folder+d2v+'_'+train_or_test+'_red.p', 'rb'))\n",
    "    return pd.concat([df,\n",
    "                     pd.DataFrame(col_arr, columns=[d2v+'_'+str(i) for i in range(col_arr.shape[1])],index=df.index)\n",
    "                      ], axis=1)"
   ]
  },
  {
   "cell_type": "code",
   "execution_count": 10,
   "metadata": {},
   "outputs": [],
   "source": [
    "X_train = add_column(X_train, 'chebyshev', 'train')"
   ]
  },
  {
   "cell_type": "code",
   "execution_count": 11,
   "metadata": {},
   "outputs": [],
   "source": [
    "X_train = add_column(X_train, 'braycurtis', 'train')"
   ]
  },
  {
   "cell_type": "code",
   "execution_count": 12,
   "metadata": {},
   "outputs": [],
   "source": [
    "X_train = add_column(X_train, 'cosine', 'train')"
   ]
  },
  {
   "cell_type": "code",
   "execution_count": 13,
   "metadata": {},
   "outputs": [],
   "source": [
    "X_train = add_column(X_train, 'correlation', 'train')"
   ]
  },
  {
   "cell_type": "code",
   "execution_count": 14,
   "metadata": {},
   "outputs": [],
   "source": [
    "X_train = add_column(X_train, 'canberra', 'train')"
   ]
  },
  {
   "cell_type": "code",
   "execution_count": 15,
   "metadata": {},
   "outputs": [],
   "source": [
    "X_train = add_column(X_train, 'hausdorff', 'train')"
   ]
  },
  {
   "cell_type": "code",
   "execution_count": 16,
   "metadata": {},
   "outputs": [],
   "source": [
    "X_train = add_column(X_train, 'cityblock', 'train')"
   ]
  },
  {
   "cell_type": "code",
   "execution_count": 17,
   "metadata": {},
   "outputs": [],
   "source": [
    "X_train = add_column(X_train, 'euclidean', 'train')"
   ]
  },
  {
   "cell_type": "code",
   "execution_count": 18,
   "metadata": {},
   "outputs": [],
   "source": [
    "X_train = add_column(X_train, 'l1', 'train')"
   ]
  },
  {
   "cell_type": "code",
   "execution_count": 19,
   "metadata": {},
   "outputs": [],
   "source": [
    "X_train = add_column(X_train, 'l2', 'train')"
   ]
  },
  {
   "cell_type": "code",
   "execution_count": 20,
   "metadata": {},
   "outputs": [],
   "source": [
    "X_train = add_column(X_train, 'manhattan', 'train')"
   ]
  },
  {
   "cell_type": "code",
   "execution_count": 21,
   "metadata": {},
   "outputs": [],
   "source": [
    "X_train = add_column(X_train, 'minkowski', 'train')"
   ]
  },
  {
   "cell_type": "code",
   "execution_count": 22,
   "metadata": {},
   "outputs": [],
   "source": [
    "X_train = add_column(X_train, 'sqeuclidean', 'train')"
   ]
  },
  {
   "cell_type": "code",
   "execution_count": 23,
   "metadata": {},
   "outputs": [],
   "source": [
    "X_train = add_d2v_columns(X_train, 'd2v_1', 'train')"
   ]
  },
  {
   "cell_type": "code",
   "execution_count": 24,
   "metadata": {},
   "outputs": [],
   "source": [
    "X_train = add_d2v_columns(X_train, 'd2v_2', 'train')"
   ]
  },
  {
   "cell_type": "code",
   "execution_count": 25,
   "metadata": {},
   "outputs": [
    {
     "data": {
      "text/html": [
       "<div>\n",
       "<style scoped>\n",
       "    .dataframe tbody tr th:only-of-type {\n",
       "        vertical-align: middle;\n",
       "    }\n",
       "\n",
       "    .dataframe tbody tr th {\n",
       "        vertical-align: top;\n",
       "    }\n",
       "\n",
       "    .dataframe thead th {\n",
       "        text-align: right;\n",
       "    }\n",
       "</style>\n",
       "<table border=\"1\" class=\"dataframe\">\n",
       "  <thead>\n",
       "    <tr style=\"text-align: right;\">\n",
       "      <th></th>\n",
       "      <th>qid1</th>\n",
       "      <th>qid2</th>\n",
       "      <th>question1</th>\n",
       "      <th>question2</th>\n",
       "      <th>chebyshev</th>\n",
       "      <th>braycurtis</th>\n",
       "      <th>cosine</th>\n",
       "      <th>correlation</th>\n",
       "      <th>canberra</th>\n",
       "      <th>hausdorff</th>\n",
       "      <th>...</th>\n",
       "      <th>d2v_2_40</th>\n",
       "      <th>d2v_2_41</th>\n",
       "      <th>d2v_2_42</th>\n",
       "      <th>d2v_2_43</th>\n",
       "      <th>d2v_2_44</th>\n",
       "      <th>d2v_2_45</th>\n",
       "      <th>d2v_2_46</th>\n",
       "      <th>d2v_2_47</th>\n",
       "      <th>d2v_2_48</th>\n",
       "      <th>d2v_2_49</th>\n",
       "    </tr>\n",
       "    <tr>\n",
       "      <th>id</th>\n",
       "      <th></th>\n",
       "      <th></th>\n",
       "      <th></th>\n",
       "      <th></th>\n",
       "      <th></th>\n",
       "      <th></th>\n",
       "      <th></th>\n",
       "      <th></th>\n",
       "      <th></th>\n",
       "      <th></th>\n",
       "      <th></th>\n",
       "      <th></th>\n",
       "      <th></th>\n",
       "      <th></th>\n",
       "      <th></th>\n",
       "      <th></th>\n",
       "      <th></th>\n",
       "      <th></th>\n",
       "      <th></th>\n",
       "      <th></th>\n",
       "      <th></th>\n",
       "    </tr>\n",
       "  </thead>\n",
       "  <tbody>\n",
       "    <tr>\n",
       "      <th>186150</th>\n",
       "      <td>284024</td>\n",
       "      <td>284025</td>\n",
       "      <td>What is the difference between \"visa on arriva...</td>\n",
       "      <td>Do I need a visa to visit Ireland from England?</td>\n",
       "      <td>0.292102</td>\n",
       "      <td>0.825892</td>\n",
       "      <td>0.788286</td>\n",
       "      <td>0.788564</td>\n",
       "      <td>200.351010</td>\n",
       "      <td>1.615564</td>\n",
       "      <td>...</td>\n",
       "      <td>-0.752246</td>\n",
       "      <td>-0.765466</td>\n",
       "      <td>-0.337335</td>\n",
       "      <td>0.838323</td>\n",
       "      <td>-0.012084</td>\n",
       "      <td>0.857960</td>\n",
       "      <td>0.500386</td>\n",
       "      <td>-0.608321</td>\n",
       "      <td>-0.180905</td>\n",
       "      <td>-0.386673</td>\n",
       "    </tr>\n",
       "    <tr>\n",
       "      <th>208652</th>\n",
       "      <td>312703</td>\n",
       "      <td>312704</td>\n",
       "      <td>What are the chances of receiving invitation t...</td>\n",
       "      <td>What are the chances of receiving invitation t...</td>\n",
       "      <td>0.476484</td>\n",
       "      <td>0.732037</td>\n",
       "      <td>0.674718</td>\n",
       "      <td>0.674567</td>\n",
       "      <td>183.345052</td>\n",
       "      <td>0.000000</td>\n",
       "      <td>...</td>\n",
       "      <td>-1.015671</td>\n",
       "      <td>-1.837046</td>\n",
       "      <td>-0.389282</td>\n",
       "      <td>1.504601</td>\n",
       "      <td>0.042996</td>\n",
       "      <td>0.853886</td>\n",
       "      <td>-0.149812</td>\n",
       "      <td>-0.064253</td>\n",
       "      <td>-0.020672</td>\n",
       "      <td>-0.304634</td>\n",
       "    </tr>\n",
       "    <tr>\n",
       "      <th>268163</th>\n",
       "      <td>385651</td>\n",
       "      <td>385652</td>\n",
       "      <td>Is the phrase \"the pressure in an incompressib...</td>\n",
       "      <td>What is the use of Bash in Windows?</td>\n",
       "      <td>0.448201</td>\n",
       "      <td>0.963075</td>\n",
       "      <td>0.939440</td>\n",
       "      <td>0.939968</td>\n",
       "      <td>225.509213</td>\n",
       "      <td>1.700451</td>\n",
       "      <td>...</td>\n",
       "      <td>0.505762</td>\n",
       "      <td>-0.411201</td>\n",
       "      <td>-0.083322</td>\n",
       "      <td>-0.445053</td>\n",
       "      <td>-0.168910</td>\n",
       "      <td>0.786781</td>\n",
       "      <td>0.080461</td>\n",
       "      <td>0.344001</td>\n",
       "      <td>0.147636</td>\n",
       "      <td>-0.604211</td>\n",
       "    </tr>\n",
       "    <tr>\n",
       "      <th>155539</th>\n",
       "      <td>243655</td>\n",
       "      <td>243656</td>\n",
       "      <td>How do I buy goods from Amazon and ship to Vie...</td>\n",
       "      <td>How can I sell Vietnam traditional silk ties o...</td>\n",
       "      <td>0.430242</td>\n",
       "      <td>0.820454</td>\n",
       "      <td>0.786592</td>\n",
       "      <td>0.786038</td>\n",
       "      <td>194.753906</td>\n",
       "      <td>1.885054</td>\n",
       "      <td>...</td>\n",
       "      <td>-0.753396</td>\n",
       "      <td>-1.081508</td>\n",
       "      <td>-0.334577</td>\n",
       "      <td>0.733598</td>\n",
       "      <td>-0.077231</td>\n",
       "      <td>0.526569</td>\n",
       "      <td>-0.479279</td>\n",
       "      <td>-0.009617</td>\n",
       "      <td>-0.096563</td>\n",
       "      <td>-0.343635</td>\n",
       "    </tr>\n",
       "    <tr>\n",
       "      <th>212779</th>\n",
       "      <td>317931</td>\n",
       "      <td>317932</td>\n",
       "      <td>How do you read tarot cards?</td>\n",
       "      <td>How do I read tarot cards?</td>\n",
       "      <td>0.228653</td>\n",
       "      <td>0.468721</td>\n",
       "      <td>0.445017</td>\n",
       "      <td>0.446258</td>\n",
       "      <td>120.422093</td>\n",
       "      <td>0.000000</td>\n",
       "      <td>...</td>\n",
       "      <td>0.226950</td>\n",
       "      <td>-0.722068</td>\n",
       "      <td>-0.116974</td>\n",
       "      <td>-0.689803</td>\n",
       "      <td>-0.044381</td>\n",
       "      <td>1.024583</td>\n",
       "      <td>0.623106</td>\n",
       "      <td>-0.302407</td>\n",
       "      <td>-0.081790</td>\n",
       "      <td>-0.973787</td>\n",
       "    </tr>\n",
       "  </tbody>\n",
       "</table>\n",
       "<p>5 rows × 117 columns</p>\n",
       "</div>"
      ],
      "text/plain": [
       "          qid1    qid2                                          question1  \\\n",
       "id                                                                          \n",
       "186150  284024  284025  What is the difference between \"visa on arriva...   \n",
       "208652  312703  312704  What are the chances of receiving invitation t...   \n",
       "268163  385651  385652  Is the phrase \"the pressure in an incompressib...   \n",
       "155539  243655  243656  How do I buy goods from Amazon and ship to Vie...   \n",
       "212779  317931  317932                       How do you read tarot cards?   \n",
       "\n",
       "                                                question2  chebyshev  \\\n",
       "id                                                                     \n",
       "186150    Do I need a visa to visit Ireland from England?   0.292102   \n",
       "208652  What are the chances of receiving invitation t...   0.476484   \n",
       "268163                What is the use of Bash in Windows?   0.448201   \n",
       "155539  How can I sell Vietnam traditional silk ties o...   0.430242   \n",
       "212779                         How do I read tarot cards?   0.228653   \n",
       "\n",
       "        braycurtis    cosine  correlation    canberra  hausdorff    ...     \\\n",
       "id                                                                  ...      \n",
       "186150    0.825892  0.788286     0.788564  200.351010   1.615564    ...      \n",
       "208652    0.732037  0.674718     0.674567  183.345052   0.000000    ...      \n",
       "268163    0.963075  0.939440     0.939968  225.509213   1.700451    ...      \n",
       "155539    0.820454  0.786592     0.786038  194.753906   1.885054    ...      \n",
       "212779    0.468721  0.445017     0.446258  120.422093   0.000000    ...      \n",
       "\n",
       "        d2v_2_40  d2v_2_41  d2v_2_42  d2v_2_43  d2v_2_44  d2v_2_45  d2v_2_46  \\\n",
       "id                                                                             \n",
       "186150 -0.752246 -0.765466 -0.337335  0.838323 -0.012084  0.857960  0.500386   \n",
       "208652 -1.015671 -1.837046 -0.389282  1.504601  0.042996  0.853886 -0.149812   \n",
       "268163  0.505762 -0.411201 -0.083322 -0.445053 -0.168910  0.786781  0.080461   \n",
       "155539 -0.753396 -1.081508 -0.334577  0.733598 -0.077231  0.526569 -0.479279   \n",
       "212779  0.226950 -0.722068 -0.116974 -0.689803 -0.044381  1.024583  0.623106   \n",
       "\n",
       "        d2v_2_47  d2v_2_48  d2v_2_49  \n",
       "id                                    \n",
       "186150 -0.608321 -0.180905 -0.386673  \n",
       "208652 -0.064253 -0.020672 -0.304634  \n",
       "268163  0.344001  0.147636 -0.604211  \n",
       "155539 -0.009617 -0.096563 -0.343635  \n",
       "212779 -0.302407 -0.081790 -0.973787  \n",
       "\n",
       "[5 rows x 117 columns]"
      ]
     },
     "execution_count": 25,
     "metadata": {},
     "output_type": "execute_result"
    }
   ],
   "source": [
    "X_train.head()"
   ]
  },
  {
   "cell_type": "code",
   "execution_count": null,
   "metadata": {},
   "outputs": [],
   "source": [
    "X_train[X_train.isnull().any(axis=1)]"
   ]
  },
  {
   "cell_type": "markdown",
   "metadata": {},
   "source": [
    "##### Test set"
   ]
  },
  {
   "cell_type": "code",
   "execution_count": null,
   "metadata": {},
   "outputs": [],
   "source": [
    "#q_meta_test = [(q1_len, q2_len) for q1_len, q2_len in zip(get_q_lengths(X1_ft_test), get_q_lengths(X2_ft_test))]"
   ]
  },
  {
   "cell_type": "code",
   "execution_count": null,
   "metadata": {},
   "outputs": [],
   "source": [
    "#pickle.dump(q_meta_test, open(data_folder+'q_meta_test.p', 'wb'))"
   ]
  },
  {
   "cell_type": "code",
   "execution_count": null,
   "metadata": {},
   "outputs": [],
   "source": [
    "#ps.copy_file(dest_bucket=INPUT_BUCKET, file='q_meta_test.p', source='q_meta_test.p')"
   ]
  },
  {
   "cell_type": "code",
   "execution_count": null,
   "metadata": {},
   "outputs": [],
   "source": [
    "#X_test_300 = np.concatenate( \n",
    "#    np.vstack( [np.array(np.vsplit(y, y.shape[0])) for y in (x for x in X_ft_test if x.size>0)] )\n",
    "#)"
   ]
  },
  {
   "cell_type": "code",
   "execution_count": null,
   "metadata": {},
   "outputs": [],
   "source": [
    "#X_test_300.shape"
   ]
  },
  {
   "cell_type": "code",
   "execution_count": null,
   "metadata": {},
   "outputs": [],
   "source": [
    "#from scipy.io import mmwrite, mmread\n",
    "#mmwrite( 'wor2vec_300_full_test.mtx', X_test_300 )\n",
    "#np.savez(data_folder+'wor2vec_300_full_test', data=X_test_300)"
   ]
  },
  {
   "cell_type": "code",
   "execution_count": null,
   "metadata": {},
   "outputs": [],
   "source": [
    "#ps.copy_file(dest_bucket=INPUT_BUCKET, file='wor2vec_300_full_test.mtx', source='wor2vec_300_full_test.mtx')"
   ]
  },
  {
   "cell_type": "code",
   "execution_count": null,
   "metadata": {},
   "outputs": [],
   "source": [
    "#del X_test_300, q_meta_test, X_ft_test"
   ]
  },
  {
   "cell_type": "code",
   "execution_count": null,
   "metadata": {},
   "outputs": [],
   "source": [
    "#ps.get_file(bucket=INPUT_BUCKET, filename='embed2_full_test.mtx', filepath='embed2_full_test.mtx')"
   ]
  },
  {
   "cell_type": "code",
   "execution_count": null,
   "metadata": {},
   "outputs": [],
   "source": [
    "#from scipy.io import mmread\n",
    "#X_rd_test = mmread('embed2_full_test.mtx')"
   ]
  },
  {
   "cell_type": "code",
   "execution_count": null,
   "metadata": {},
   "outputs": [],
   "source": [
    "#X_rd_test.shape"
   ]
  },
  {
   "cell_type": "code",
   "execution_count": null,
   "metadata": {},
   "outputs": [],
   "source": [
    "#ps.get_file(bucket=INPUT_BUCKET, filename='q_meta_test.p', filepath='q_meta_test.p')"
   ]
  },
  {
   "cell_type": "code",
   "execution_count": null,
   "metadata": {},
   "outputs": [],
   "source": [
    "#q_meta_test = pickle.load(open(data_folder+'q_meta_test.p','rb'))"
   ]
  },
  {
   "cell_type": "code",
   "execution_count": null,
   "metadata": {},
   "outputs": [],
   "source": [
    "#mmwrite( data_folder+'wor2vec_300_full_train.mtx', X_train_300 )\n",
    "#X_test_300 = np.load(data_folder+'wor2vec_300_full_test.npz')['data']"
   ]
  },
  {
   "cell_type": "code",
   "execution_count": null,
   "metadata": {},
   "outputs": [],
   "source": [
    "#X_test_300.shape"
   ]
  },
  {
   "cell_type": "code",
   "execution_count": null,
   "metadata": {},
   "outputs": [],
   "source": [
    "# rebuild X1_rd_test and X2_rd_test\n",
    "#X1_list = []\n",
    "#X2_list = []\n",
    "#X1_rd_list = []\n",
    "#X2_rd_list = []\n",
    "#q1_ptr = 0\n",
    "#for len_q1, _ in q_meta_test:\n",
    "#    q1 = np.array(X_test_300[q1_ptr:q1_ptr+len_q1])\n",
    "#    #q1_rd = np.array(X_rd_test[q1_ptr:q1_ptr+len_q1])\n",
    "#    X1_list.append(q1)\n",
    "#    #X1_rd_list.append(q1_rd)\n",
    "#    q1_ptr = q1_ptr+len_q1\n",
    "#q2_ptr = q1_ptr\n",
    "#for _, len_q2 in q_meta_test:\n",
    "#    q2 = np.array(X_test_300[q2_ptr:q2_ptr+len_q2])\n",
    "#    #q2_rd = np.array(X_rd_test[q2_ptr:q2_ptr+len_q2])\n",
    "#    X2_list.append(q2)\n",
    "#    #X2_rd_list.append(q2_rd)\n",
    "#    q2_ptr = q2_ptr+len_q2\n",
    "#X1_test = np.array(X1_list)\n",
    "#X2_test = np.array(X2_list)\n",
    "#X1_rd_test = np.array(X1_rd_list)\n",
    "#X2_rd_test = np.array(X2_rd_list)"
   ]
  },
  {
   "cell_type": "code",
   "execution_count": null,
   "metadata": {},
   "outputs": [],
   "source": [
    "#X2_test.shape"
   ]
  },
  {
   "cell_type": "code",
   "execution_count": null,
   "metadata": {},
   "outputs": [],
   "source": [
    "#del X1_list, X2_list, q_meta_test, X_test_300, X1_rd_list, X2_rd_list"
   ]
  },
  {
   "cell_type": "code",
   "execution_count": null,
   "metadata": {},
   "outputs": [],
   "source": [
    "X1_test_w = pickle.load(open(data_folder+'X1_test_w.p','rb'))\n",
    "X2_test_w = pickle.load(open(data_folder+'X2_test_w.p','rb'))"
   ]
  },
  {
   "cell_type": "code",
   "execution_count": null,
   "metadata": {},
   "outputs": [],
   "source": [
    "X1_test = pickle.load(open(data_folder+'X1_test.p','rb'))\n",
    "X2_test = pickle.load(open(data_folder+'X2_test.p','rb'))"
   ]
  },
  {
   "cell_type": "code",
   "execution_count": null,
   "metadata": {},
   "outputs": [],
   "source": [
    "#jaccard = compute(*jaccard)"
   ]
  },
  {
   "cell_type": "code",
   "execution_count": null,
   "metadata": {},
   "outputs": [],
   "source": [
    "#chebyshev = compute(*chebyshev)\n",
    "#compute_and_save(X1_test, X2_test, 'chebyshev', 'chebyshev_test', data_folder)\n",
    "compute_and_save(X1_test, X2_test, X1_test_w, X2_test_w, 'chebyshev', 'chebyshev_test_w', data_folder)"
   ]
  },
  {
   "cell_type": "code",
   "execution_count": null,
   "metadata": {},
   "outputs": [],
   "source": [
    "#braycurtis = compute(*braycurtis)\n",
    "#compute_and_save(X1_test, X2_test, 'braycurtis', 'braycurtis_test', data_folder)\n",
    "compute_and_save(X1_test, X2_test, X1_test_w, X2_test_w, 'braycurtis', 'braycurtis_test_w', data_folder)"
   ]
  },
  {
   "cell_type": "code",
   "execution_count": null,
   "metadata": {},
   "outputs": [],
   "source": [
    "#cosine = compute(*cosine)\n",
    "#compute_and_save(X1_test, X2_test, 'cosine', 'cosine_test', data_folder)\n",
    "compute_and_save(X1_test, X2_test, X1_test_w, X2_test_w, 'cosine', 'cosine_test_w', data_folder)"
   ]
  },
  {
   "cell_type": "code",
   "execution_count": null,
   "metadata": {},
   "outputs": [],
   "source": [
    "#correlation = compute(*correlation)\n",
    "#compute_and_save(X1_test, X2_test, 'correlation', 'correlation_test', data_folder)\n",
    "compute_and_save(X1_test, X2_test, X1_test_w, X2_test_w, 'correlation', 'correlation_test_w', data_folder)"
   ]
  },
  {
   "cell_type": "code",
   "execution_count": null,
   "metadata": {},
   "outputs": [],
   "source": [
    "#hamming = compute(*hamming)"
   ]
  },
  {
   "cell_type": "code",
   "execution_count": null,
   "metadata": {},
   "outputs": [],
   "source": [
    "#canberra = compute(*canberra)\n",
    "#compute_and_save(X1_test, X2_test, 'canberra', 'canberra_test', data_folder)\n",
    "compute_and_save(X1_test, X2_test, X1_test_w, X2_test_w, 'canberra', 'canberra_test_w', data_folder)"
   ]
  },
  {
   "cell_type": "code",
   "execution_count": null,
   "metadata": {},
   "outputs": [],
   "source": [
    "#hausdorff = compute(*hausdorff)\n",
    "#compute_and_save(X1_test, X2_test, 'hausdorff', 'hausdorff_test', data_folder)\n",
    "compute_and_save(X1_test, X2_test, X1_test_w, X2_test_w, 'hausdorff', 'hausdorff_test_w', data_folder)"
   ]
  },
  {
   "cell_type": "code",
   "execution_count": null,
   "metadata": {},
   "outputs": [],
   "source": [
    "#cityblock = compute(*cityblock)\n",
    "#compute_and_save(X1_test, X2_test, 'cityblock', 'cityblock_test', data_folder)\n",
    "compute_and_save(X1_test, X2_test, X1_test_w, X2_test_w, 'cityblock', 'cityblock_test_w', data_folder)"
   ]
  },
  {
   "cell_type": "code",
   "execution_count": null,
   "metadata": {},
   "outputs": [],
   "source": [
    "#euclidean = compute(*euclidean)\n",
    "#compute_and_save(X1_test, X2_test, 'euclidean', 'euclidean_test', data_folder)\n",
    "compute_and_save(X1_test, X2_test, X1_test_w, X2_test_w, 'euclidean', 'euclidean_test_w', data_folder)"
   ]
  },
  {
   "cell_type": "code",
   "execution_count": null,
   "metadata": {},
   "outputs": [],
   "source": [
    "#l1 = compute(*l1)\n",
    "#compute_and_save(X1_test, X2_test, 'l1', 'l1_test', data_folder)\n",
    "compute_and_save(X1_test, X2_test, X1_test_w, X2_test_w, 'l1', 'l1_test_w', data_folder)"
   ]
  },
  {
   "cell_type": "code",
   "execution_count": null,
   "metadata": {},
   "outputs": [],
   "source": [
    "#l2 = compute(*l2)\n",
    "#compute_and_save(X1_test, X2_test, 'l2', 'l2_test', data_folder)\n",
    "compute_and_save(X1_test, X2_test, X1_test_w, X2_test_w, 'l2', 'l2_test_w', data_folder)"
   ]
  },
  {
   "cell_type": "code",
   "execution_count": null,
   "metadata": {},
   "outputs": [],
   "source": [
    "#manhattan = compute(*manhattan)\n",
    "#compute_and_save(X1_test, X2_test, 'manhattan', 'manhattan_test', data_folder)\n",
    "compute_and_save(X1_test, X2_test, X1_test_w, X2_test_w, 'manhattan', 'manhattan_test_w', data_folder)"
   ]
  },
  {
   "cell_type": "code",
   "execution_count": null,
   "metadata": {},
   "outputs": [],
   "source": [
    "#dice = compute(*dice)"
   ]
  },
  {
   "cell_type": "code",
   "execution_count": null,
   "metadata": {},
   "outputs": [],
   "source": [
    "#kulsinski = compute(*kulsinski)"
   ]
  },
  {
   "cell_type": "code",
   "execution_count": null,
   "metadata": {},
   "outputs": [],
   "source": [
    "#rogerstanimoto = compute(*rogerstanimoto)"
   ]
  },
  {
   "cell_type": "code",
   "execution_count": null,
   "metadata": {},
   "outputs": [],
   "source": [
    "#russellrao = compute(*russellrao)"
   ]
  },
  {
   "cell_type": "code",
   "execution_count": null,
   "metadata": {},
   "outputs": [],
   "source": [
    "#sokalmichener = compute(*sokalmichener)"
   ]
  },
  {
   "cell_type": "code",
   "execution_count": null,
   "metadata": {},
   "outputs": [],
   "source": [
    "#minkowski = compute(*minkowski)\n",
    "#compute_and_save(X1_test, X2_test, 'minkowski', 'minkowski_test', data_folder)\n",
    "compute_and_save(X1_test, X2_test, X1_test_w, X2_test_w, 'minkowski', 'minkowski_test_w', data_folder)"
   ]
  },
  {
   "cell_type": "code",
   "execution_count": null,
   "metadata": {},
   "outputs": [],
   "source": [
    "#seuclidean = compute(*seuclidean)"
   ]
  },
  {
   "cell_type": "code",
   "execution_count": null,
   "metadata": {},
   "outputs": [],
   "source": [
    "#sokalsneath = compute(*sokalsneath)"
   ]
  },
  {
   "cell_type": "code",
   "execution_count": null,
   "metadata": {},
   "outputs": [],
   "source": [
    "#sqeuclidean = compute(*sqeuclidean)\n",
    "#compute_and_save(X1_test, X2_test, 'sqeuclidean', 'sqeuclidean_test', data_folder)\n",
    "compute_and_save(X1_test, X2_test, X1_test_w, X2_test_w, 'sqeuclidean', 'sqeuclidean_test_w', data_folder)"
   ]
  },
  {
   "cell_type": "code",
   "execution_count": null,
   "metadata": {},
   "outputs": [],
   "source": [
    "#sqeuclidean = compute(*sqeuclidean)\n",
    "#compute_and_save(X1, X2, 'sqeuclidean', 'sqeuclidean_train', data_folder)\n",
    "compute_delayed_wmean(X1_test, X1_test_w, 'weighted_mean1_test', data_folder)"
   ]
  },
  {
   "cell_type": "code",
   "execution_count": null,
   "metadata": {},
   "outputs": [],
   "source": [
    "#sqeuclidean = compute(*sqeuclidean)\n",
    "#compute_and_save(X1, X2, 'sqeuclidean', 'sqeuclidean_train', data_folder)\n",
    "compute_delayed_wmean(X2_test, X2_test_w, 'weighted_mean2_test', data_folder)"
   ]
  },
  {
   "cell_type": "code",
   "execution_count": null,
   "metadata": {},
   "outputs": [],
   "source": [
    "#fdtw = compute(*fdtw)"
   ]
  },
  {
   "cell_type": "code",
   "execution_count": null,
   "metadata": {},
   "outputs": [],
   "source": [
    "#dtw = compute(*dtw)"
   ]
  },
  {
   "cell_type": "code",
   "execution_count": null,
   "metadata": {},
   "outputs": [],
   "source": [
    "#pcm = compute(*pcm)"
   ]
  },
  {
   "cell_type": "code",
   "execution_count": null,
   "metadata": {},
   "outputs": [],
   "source": [
    "#area = compute(*area)"
   ]
  },
  {
   "cell_type": "code",
   "execution_count": null,
   "metadata": {},
   "outputs": [],
   "source": [
    "#curve_length = compute(*curve_length)"
   ]
  },
  {
   "cell_type": "code",
   "execution_count": null,
   "metadata": {},
   "outputs": [],
   "source": [
    "#discrete_frechet = compute(*discrete_frechet)"
   ]
  },
  {
   "cell_type": "code",
   "execution_count": null,
   "metadata": {},
   "outputs": [],
   "source": [
    "del X1_test, X2_test, X1_test_w, X2_test_w"
   ]
  },
  {
   "cell_type": "markdown",
   "metadata": {},
   "source": [
    "#### add above metrics to X_test"
   ]
  },
  {
   "cell_type": "code",
   "execution_count": 26,
   "metadata": {},
   "outputs": [],
   "source": [
    "X_test = add_column(X_test, 'chebyshev', 'test')"
   ]
  },
  {
   "cell_type": "code",
   "execution_count": 27,
   "metadata": {},
   "outputs": [],
   "source": [
    "X_test = add_column(X_test, 'braycurtis', 'test')"
   ]
  },
  {
   "cell_type": "code",
   "execution_count": 28,
   "metadata": {},
   "outputs": [],
   "source": [
    "X_test = add_column(X_test, 'cosine', 'test')"
   ]
  },
  {
   "cell_type": "code",
   "execution_count": 29,
   "metadata": {},
   "outputs": [],
   "source": [
    "X_test = add_column(X_test, 'correlation', 'test')"
   ]
  },
  {
   "cell_type": "code",
   "execution_count": 30,
   "metadata": {},
   "outputs": [],
   "source": [
    "X_test = add_column(X_test, 'canberra', 'test')"
   ]
  },
  {
   "cell_type": "code",
   "execution_count": 31,
   "metadata": {},
   "outputs": [],
   "source": [
    "X_test = add_column(X_test, 'hausdorff', 'test')"
   ]
  },
  {
   "cell_type": "code",
   "execution_count": 32,
   "metadata": {},
   "outputs": [],
   "source": [
    "X_test = add_column(X_test, 'cityblock', 'test')"
   ]
  },
  {
   "cell_type": "code",
   "execution_count": 33,
   "metadata": {},
   "outputs": [],
   "source": [
    "X_test = add_column(X_test, 'euclidean', 'test')"
   ]
  },
  {
   "cell_type": "code",
   "execution_count": 34,
   "metadata": {},
   "outputs": [],
   "source": [
    "X_test = add_column(X_test, 'l1', 'test')"
   ]
  },
  {
   "cell_type": "code",
   "execution_count": 35,
   "metadata": {},
   "outputs": [],
   "source": [
    "X_test = add_column(X_test, 'l2', 'test')"
   ]
  },
  {
   "cell_type": "code",
   "execution_count": 36,
   "metadata": {},
   "outputs": [],
   "source": [
    "X_test = add_column(X_test, 'manhattan', 'test')"
   ]
  },
  {
   "cell_type": "code",
   "execution_count": 37,
   "metadata": {},
   "outputs": [],
   "source": [
    "X_test = add_column(X_test, 'minkowski', 'test')"
   ]
  },
  {
   "cell_type": "code",
   "execution_count": 38,
   "metadata": {},
   "outputs": [],
   "source": [
    "X_test = add_column(X_test, 'sqeuclidean', 'test')"
   ]
  },
  {
   "cell_type": "code",
   "execution_count": 39,
   "metadata": {},
   "outputs": [],
   "source": [
    "X_test = add_d2v_columns(X_test, 'd2v_1', 'test')"
   ]
  },
  {
   "cell_type": "code",
   "execution_count": 40,
   "metadata": {},
   "outputs": [],
   "source": [
    "X_test = add_d2v_columns(X_test, 'd2v_2', 'test')"
   ]
  },
  {
   "cell_type": "code",
   "execution_count": 41,
   "metadata": {},
   "outputs": [
    {
     "data": {
      "text/html": [
       "<div>\n",
       "<style scoped>\n",
       "    .dataframe tbody tr th:only-of-type {\n",
       "        vertical-align: middle;\n",
       "    }\n",
       "\n",
       "    .dataframe tbody tr th {\n",
       "        vertical-align: top;\n",
       "    }\n",
       "\n",
       "    .dataframe thead th {\n",
       "        text-align: right;\n",
       "    }\n",
       "</style>\n",
       "<table border=\"1\" class=\"dataframe\">\n",
       "  <thead>\n",
       "    <tr style=\"text-align: right;\">\n",
       "      <th></th>\n",
       "      <th>qid1</th>\n",
       "      <th>qid2</th>\n",
       "      <th>question1</th>\n",
       "      <th>question2</th>\n",
       "      <th>chebyshev</th>\n",
       "      <th>braycurtis</th>\n",
       "      <th>cosine</th>\n",
       "      <th>correlation</th>\n",
       "      <th>canberra</th>\n",
       "      <th>hausdorff</th>\n",
       "      <th>...</th>\n",
       "      <th>d2v_2_40</th>\n",
       "      <th>d2v_2_41</th>\n",
       "      <th>d2v_2_42</th>\n",
       "      <th>d2v_2_43</th>\n",
       "      <th>d2v_2_44</th>\n",
       "      <th>d2v_2_45</th>\n",
       "      <th>d2v_2_46</th>\n",
       "      <th>d2v_2_47</th>\n",
       "      <th>d2v_2_48</th>\n",
       "      <th>d2v_2_49</th>\n",
       "    </tr>\n",
       "    <tr>\n",
       "      <th>id</th>\n",
       "      <th></th>\n",
       "      <th></th>\n",
       "      <th></th>\n",
       "      <th></th>\n",
       "      <th></th>\n",
       "      <th></th>\n",
       "      <th></th>\n",
       "      <th></th>\n",
       "      <th></th>\n",
       "      <th></th>\n",
       "      <th></th>\n",
       "      <th></th>\n",
       "      <th></th>\n",
       "      <th></th>\n",
       "      <th></th>\n",
       "      <th></th>\n",
       "      <th></th>\n",
       "      <th></th>\n",
       "      <th></th>\n",
       "      <th></th>\n",
       "      <th></th>\n",
       "    </tr>\n",
       "  </thead>\n",
       "  <tbody>\n",
       "    <tr>\n",
       "      <th>8067</th>\n",
       "      <td>15738</td>\n",
       "      <td>15739</td>\n",
       "      <td>How do I play Pokémon GO in Korea?</td>\n",
       "      <td>How do I play Pokémon GO in China?</td>\n",
       "      <td>0.305258</td>\n",
       "      <td>0.664617</td>\n",
       "      <td>0.653823</td>\n",
       "      <td>0.651883</td>\n",
       "      <td>160.494443</td>\n",
       "      <td>1.346215</td>\n",
       "      <td>...</td>\n",
       "      <td>0.880558</td>\n",
       "      <td>0.659818</td>\n",
       "      <td>0.085401</td>\n",
       "      <td>-1.700012</td>\n",
       "      <td>0.220587</td>\n",
       "      <td>0.333161</td>\n",
       "      <td>-0.566693</td>\n",
       "      <td>-0.165682</td>\n",
       "      <td>-0.177057</td>\n",
       "      <td>0.189850</td>\n",
       "    </tr>\n",
       "    <tr>\n",
       "      <th>224279</th>\n",
       "      <td>332326</td>\n",
       "      <td>332327</td>\n",
       "      <td>Will a breathing treatment help a cough?</td>\n",
       "      <td>How can I help someone that is unconscious but...</td>\n",
       "      <td>0.198065</td>\n",
       "      <td>0.768600</td>\n",
       "      <td>0.749187</td>\n",
       "      <td>0.748293</td>\n",
       "      <td>183.113717</td>\n",
       "      <td>1.331043</td>\n",
       "      <td>...</td>\n",
       "      <td>-0.496634</td>\n",
       "      <td>-0.664818</td>\n",
       "      <td>0.042327</td>\n",
       "      <td>-1.121576</td>\n",
       "      <td>-0.163005</td>\n",
       "      <td>0.535517</td>\n",
       "      <td>-0.238260</td>\n",
       "      <td>-0.126078</td>\n",
       "      <td>0.011768</td>\n",
       "      <td>0.816518</td>\n",
       "    </tr>\n",
       "    <tr>\n",
       "      <th>252452</th>\n",
       "      <td>336023</td>\n",
       "      <td>366789</td>\n",
       "      <td>Is Kellyanne Conway annoying in your opinion?</td>\n",
       "      <td>Did Kellyanne Conway really imply that we shou...</td>\n",
       "      <td>0.237270</td>\n",
       "      <td>0.855352</td>\n",
       "      <td>0.847278</td>\n",
       "      <td>0.846889</td>\n",
       "      <td>197.037204</td>\n",
       "      <td>0.935798</td>\n",
       "      <td>...</td>\n",
       "      <td>-0.583868</td>\n",
       "      <td>-0.684443</td>\n",
       "      <td>-0.203190</td>\n",
       "      <td>-0.320953</td>\n",
       "      <td>-0.070671</td>\n",
       "      <td>0.322278</td>\n",
       "      <td>-0.204754</td>\n",
       "      <td>-0.100760</td>\n",
       "      <td>-0.158545</td>\n",
       "      <td>0.328979</td>\n",
       "    </tr>\n",
       "    <tr>\n",
       "      <th>174039</th>\n",
       "      <td>268330</td>\n",
       "      <td>268331</td>\n",
       "      <td>How do you rate (1-10) and review Maruti Baleno?</td>\n",
       "      <td>What career options does one have after comple...</td>\n",
       "      <td>0.304343</td>\n",
       "      <td>0.901249</td>\n",
       "      <td>0.866577</td>\n",
       "      <td>0.866264</td>\n",
       "      <td>212.224992</td>\n",
       "      <td>1.479857</td>\n",
       "      <td>...</td>\n",
       "      <td>-0.823866</td>\n",
       "      <td>-1.092130</td>\n",
       "      <td>-0.090320</td>\n",
       "      <td>0.610005</td>\n",
       "      <td>-0.035683</td>\n",
       "      <td>0.464907</td>\n",
       "      <td>0.034878</td>\n",
       "      <td>-0.342240</td>\n",
       "      <td>-0.077522</td>\n",
       "      <td>0.431330</td>\n",
       "    </tr>\n",
       "    <tr>\n",
       "      <th>384863</th>\n",
       "      <td>28901</td>\n",
       "      <td>233483</td>\n",
       "      <td>What are some good books on marketing?</td>\n",
       "      <td>What are some of the best books ever written a...</td>\n",
       "      <td>0.196309</td>\n",
       "      <td>0.704832</td>\n",
       "      <td>0.655896</td>\n",
       "      <td>0.655889</td>\n",
       "      <td>169.794796</td>\n",
       "      <td>1.055390</td>\n",
       "      <td>...</td>\n",
       "      <td>0.010735</td>\n",
       "      <td>-0.959856</td>\n",
       "      <td>-0.059919</td>\n",
       "      <td>-1.411303</td>\n",
       "      <td>-0.118132</td>\n",
       "      <td>0.407064</td>\n",
       "      <td>0.144557</td>\n",
       "      <td>-0.190387</td>\n",
       "      <td>0.011818</td>\n",
       "      <td>0.880851</td>\n",
       "    </tr>\n",
       "  </tbody>\n",
       "</table>\n",
       "<p>5 rows × 117 columns</p>\n",
       "</div>"
      ],
      "text/plain": [
       "          qid1    qid2                                         question1  \\\n",
       "id                                                                         \n",
       "8067     15738   15739                How do I play Pokémon GO in Korea?   \n",
       "224279  332326  332327          Will a breathing treatment help a cough?   \n",
       "252452  336023  366789     Is Kellyanne Conway annoying in your opinion?   \n",
       "174039  268330  268331  How do you rate (1-10) and review Maruti Baleno?   \n",
       "384863   28901  233483            What are some good books on marketing?   \n",
       "\n",
       "                                                question2  chebyshev  \\\n",
       "id                                                                     \n",
       "8067                   How do I play Pokémon GO in China?   0.305258   \n",
       "224279  How can I help someone that is unconscious but...   0.198065   \n",
       "252452  Did Kellyanne Conway really imply that we shou...   0.237270   \n",
       "174039  What career options does one have after comple...   0.304343   \n",
       "384863  What are some of the best books ever written a...   0.196309   \n",
       "\n",
       "        braycurtis    cosine  correlation    canberra  hausdorff    ...     \\\n",
       "id                                                                  ...      \n",
       "8067      0.664617  0.653823     0.651883  160.494443   1.346215    ...      \n",
       "224279    0.768600  0.749187     0.748293  183.113717   1.331043    ...      \n",
       "252452    0.855352  0.847278     0.846889  197.037204   0.935798    ...      \n",
       "174039    0.901249  0.866577     0.866264  212.224992   1.479857    ...      \n",
       "384863    0.704832  0.655896     0.655889  169.794796   1.055390    ...      \n",
       "\n",
       "        d2v_2_40  d2v_2_41  d2v_2_42  d2v_2_43  d2v_2_44  d2v_2_45  d2v_2_46  \\\n",
       "id                                                                             \n",
       "8067    0.880558  0.659818  0.085401 -1.700012  0.220587  0.333161 -0.566693   \n",
       "224279 -0.496634 -0.664818  0.042327 -1.121576 -0.163005  0.535517 -0.238260   \n",
       "252452 -0.583868 -0.684443 -0.203190 -0.320953 -0.070671  0.322278 -0.204754   \n",
       "174039 -0.823866 -1.092130 -0.090320  0.610005 -0.035683  0.464907  0.034878   \n",
       "384863  0.010735 -0.959856 -0.059919 -1.411303 -0.118132  0.407064  0.144557   \n",
       "\n",
       "        d2v_2_47  d2v_2_48  d2v_2_49  \n",
       "id                                    \n",
       "8067   -0.165682 -0.177057  0.189850  \n",
       "224279 -0.126078  0.011768  0.816518  \n",
       "252452 -0.100760 -0.158545  0.328979  \n",
       "174039 -0.342240 -0.077522  0.431330  \n",
       "384863 -0.190387  0.011818  0.880851  \n",
       "\n",
       "[5 rows x 117 columns]"
      ]
     },
     "execution_count": 41,
     "metadata": {},
     "output_type": "execute_result"
    }
   ],
   "source": [
    "X_test.head()"
   ]
  },
  {
   "cell_type": "code",
   "execution_count": null,
   "metadata": {},
   "outputs": [],
   "source": [
    "X_test[X_test.isnull().any(axis=1)]"
   ]
  },
  {
   "cell_type": "markdown",
   "metadata": {},
   "source": [
    "### Fuzzy-wuzzy"
   ]
  },
  {
   "cell_type": "code",
   "execution_count": 42,
   "metadata": {},
   "outputs": [],
   "source": [
    "# difference in text size\n",
    "compute_size_diff = lambda row: abs(len(str(row['question1'])) - len(str(row['question2'])))\n",
    "X_train['size_diff'] = X_train.apply(compute_size_diff, axis=1)\n",
    "#X_train.head()"
   ]
  },
  {
   "cell_type": "code",
   "execution_count": 43,
   "metadata": {},
   "outputs": [],
   "source": [
    "from fuzzywuzzy import fuzz"
   ]
  },
  {
   "cell_type": "code",
   "execution_count": 44,
   "metadata": {},
   "outputs": [],
   "source": [
    "# ratio\n",
    "compute_ratio = lambda row: fuzz.ratio(str(row['question1']), str(row['question2']))\n",
    "X_train['ratio'] = X_train.apply(compute_ratio, axis=1)\n",
    "#X_train.head()"
   ]
  },
  {
   "cell_type": "code",
   "execution_count": 45,
   "metadata": {},
   "outputs": [],
   "source": [
    "# partial ratio\n",
    "compute_partial_ratio = lambda row: fuzz.partial_ratio(str(row['question1']), str(row['question2']))\n",
    "X_train['partial_ratio'] = X_train.apply(compute_partial_ratio, axis=1)\n",
    "#X_train.head()"
   ]
  },
  {
   "cell_type": "code",
   "execution_count": 46,
   "metadata": {},
   "outputs": [],
   "source": [
    "# token_sort_ratio\n",
    "compute_token_sort_ratio = lambda row: fuzz.token_sort_ratio(str(row['question1']), str(row['question2']))\n",
    "X_train['token_sort_ratio'] = X_train.apply(compute_token_sort_ratio, axis=1)\n",
    "#X_train.head()"
   ]
  },
  {
   "cell_type": "code",
   "execution_count": 47,
   "metadata": {},
   "outputs": [],
   "source": [
    "# token_set_ratio\n",
    "compute_token_set_ratio = lambda row: fuzz.token_set_ratio(str(row['question1']), str(row['question2']))\n",
    "X_train['token_set_ratio'] = X_train.apply(compute_token_set_ratio, axis=1)\n",
    "#X_train.head()"
   ]
  },
  {
   "cell_type": "code",
   "execution_count": 48,
   "metadata": {},
   "outputs": [],
   "source": [
    "# build complete feature dataframe\n",
    "#X_train_temp = pd.concat([pd.DataFrame(X1, columns=['q1_'+str(i) for i in range(X1.shape[1])], index=X_train.index), \n",
    "#                     pd.DataFrame(X2, columns=['q2_'+str(i) for i in range(X2.shape[1])], index=X_train.index)], axis=1)\n",
    "#X_train_temp.head()"
   ]
  },
  {
   "cell_type": "code",
   "execution_count": 49,
   "metadata": {},
   "outputs": [
    {
     "name": "stdout",
     "output_type": "stream",
     "text": [
      "<class 'pandas.core.frame.DataFrame'>\n",
      "Int64Index: 270404 entries, 186150 to 121959\n",
      "Columns: 118 entries, chebyshev to token_set_ratio\n",
      "dtypes: float64(113), int64(5)\n",
      "memory usage: 245.5 MB\n"
     ]
    }
   ],
   "source": [
    "#X_train = pd.concat([X_train_temp, X_train], axis=1)\n",
    "#del X_train_temp\n",
    "X_train_final = X_train.drop(columns=['qid1', 'qid2','question1','question2']).dropna()\n",
    "X_train_final.info()"
   ]
  },
  {
   "cell_type": "code",
   "execution_count": 50,
   "metadata": {},
   "outputs": [
    {
     "data": {
      "text/html": [
       "<div>\n",
       "<style scoped>\n",
       "    .dataframe tbody tr th:only-of-type {\n",
       "        vertical-align: middle;\n",
       "    }\n",
       "\n",
       "    .dataframe tbody tr th {\n",
       "        vertical-align: top;\n",
       "    }\n",
       "\n",
       "    .dataframe thead th {\n",
       "        text-align: right;\n",
       "    }\n",
       "</style>\n",
       "<table border=\"1\" class=\"dataframe\">\n",
       "  <thead>\n",
       "    <tr style=\"text-align: right;\">\n",
       "      <th></th>\n",
       "      <th>chebyshev</th>\n",
       "      <th>braycurtis</th>\n",
       "      <th>cosine</th>\n",
       "      <th>correlation</th>\n",
       "      <th>canberra</th>\n",
       "      <th>hausdorff</th>\n",
       "      <th>cityblock</th>\n",
       "      <th>euclidean</th>\n",
       "      <th>l1</th>\n",
       "      <th>l2</th>\n",
       "      <th>...</th>\n",
       "      <th>d2v_2_45</th>\n",
       "      <th>d2v_2_46</th>\n",
       "      <th>d2v_2_47</th>\n",
       "      <th>d2v_2_48</th>\n",
       "      <th>d2v_2_49</th>\n",
       "      <th>size_diff</th>\n",
       "      <th>ratio</th>\n",
       "      <th>partial_ratio</th>\n",
       "      <th>token_sort_ratio</th>\n",
       "      <th>token_set_ratio</th>\n",
       "    </tr>\n",
       "    <tr>\n",
       "      <th>id</th>\n",
       "      <th></th>\n",
       "      <th></th>\n",
       "      <th></th>\n",
       "      <th></th>\n",
       "      <th></th>\n",
       "      <th></th>\n",
       "      <th></th>\n",
       "      <th></th>\n",
       "      <th></th>\n",
       "      <th></th>\n",
       "      <th></th>\n",
       "      <th></th>\n",
       "      <th></th>\n",
       "      <th></th>\n",
       "      <th></th>\n",
       "      <th></th>\n",
       "      <th></th>\n",
       "      <th></th>\n",
       "      <th></th>\n",
       "      <th></th>\n",
       "      <th></th>\n",
       "    </tr>\n",
       "  </thead>\n",
       "  <tbody>\n",
       "    <tr>\n",
       "      <th>262915</th>\n",
       "      <td>0.354437</td>\n",
       "      <td>0.841399</td>\n",
       "      <td>0.811660</td>\n",
       "      <td>0.811295</td>\n",
       "      <td>197.356660</td>\n",
       "      <td>2.789291</td>\n",
       "      <td>26.665156</td>\n",
       "      <td>1.945469</td>\n",
       "      <td>26.665156</td>\n",
       "      <td>1.945469</td>\n",
       "      <td>...</td>\n",
       "      <td>9.956107e-309</td>\n",
       "      <td>1.045739e-308</td>\n",
       "      <td>1.062120e-308</td>\n",
       "      <td>1.073064e-308</td>\n",
       "      <td>1.078415e-308</td>\n",
       "      <td>31</td>\n",
       "      <td>42</td>\n",
       "      <td>43</td>\n",
       "      <td>41</td>\n",
       "      <td>46</td>\n",
       "    </tr>\n",
       "    <tr>\n",
       "      <th>64820</th>\n",
       "      <td>0.326480</td>\n",
       "      <td>0.891661</td>\n",
       "      <td>0.848653</td>\n",
       "      <td>0.848096</td>\n",
       "      <td>210.551333</td>\n",
       "      <td>1.366273</td>\n",
       "      <td>24.673850</td>\n",
       "      <td>1.787294</td>\n",
       "      <td>24.673850</td>\n",
       "      <td>1.787294</td>\n",
       "      <td>...</td>\n",
       "      <td>9.274098e-309</td>\n",
       "      <td>1.062903e-308</td>\n",
       "      <td>1.774837e-310</td>\n",
       "      <td>4.175239e-310</td>\n",
       "      <td>8.175838e-310</td>\n",
       "      <td>8</td>\n",
       "      <td>69</td>\n",
       "      <td>70</td>\n",
       "      <td>70</td>\n",
       "      <td>79</td>\n",
       "    </tr>\n",
       "    <tr>\n",
       "      <th>329367</th>\n",
       "      <td>0.291575</td>\n",
       "      <td>0.908435</td>\n",
       "      <td>0.883970</td>\n",
       "      <td>0.883678</td>\n",
       "      <td>209.881889</td>\n",
       "      <td>2.865792</td>\n",
       "      <td>20.321822</td>\n",
       "      <td>1.483544</td>\n",
       "      <td>20.321822</td>\n",
       "      <td>1.483544</td>\n",
       "      <td>...</td>\n",
       "      <td>5.647734e-309</td>\n",
       "      <td>5.791330e-309</td>\n",
       "      <td>5.919265e-309</td>\n",
       "      <td>6.152663e-309</td>\n",
       "      <td>6.341669e-309</td>\n",
       "      <td>190</td>\n",
       "      <td>22</td>\n",
       "      <td>49</td>\n",
       "      <td>25</td>\n",
       "      <td>43</td>\n",
       "    </tr>\n",
       "    <tr>\n",
       "      <th>41090</th>\n",
       "      <td>0.212105</td>\n",
       "      <td>0.693298</td>\n",
       "      <td>0.646222</td>\n",
       "      <td>0.644558</td>\n",
       "      <td>173.490028</td>\n",
       "      <td>0.885681</td>\n",
       "      <td>15.826455</td>\n",
       "      <td>1.160013</td>\n",
       "      <td>15.826455</td>\n",
       "      <td>1.160013</td>\n",
       "      <td>...</td>\n",
       "      <td>6.800763e-309</td>\n",
       "      <td>7.159232e-309</td>\n",
       "      <td>7.251433e-309</td>\n",
       "      <td>7.422699e-309</td>\n",
       "      <td>7.739513e-309</td>\n",
       "      <td>18</td>\n",
       "      <td>75</td>\n",
       "      <td>84</td>\n",
       "      <td>67</td>\n",
       "      <td>91</td>\n",
       "    </tr>\n",
       "    <tr>\n",
       "      <th>278169</th>\n",
       "      <td>0.295629</td>\n",
       "      <td>0.809060</td>\n",
       "      <td>0.769617</td>\n",
       "      <td>0.770032</td>\n",
       "      <td>191.028426</td>\n",
       "      <td>1.233788</td>\n",
       "      <td>21.154065</td>\n",
       "      <td>1.547494</td>\n",
       "      <td>21.154065</td>\n",
       "      <td>1.547494</td>\n",
       "      <td>...</td>\n",
       "      <td>3.617069e-309</td>\n",
       "      <td>4.099420e-309</td>\n",
       "      <td>4.850246e-309</td>\n",
       "      <td>5.137224e-309</td>\n",
       "      <td>5.754937e-309</td>\n",
       "      <td>22</td>\n",
       "      <td>45</td>\n",
       "      <td>53</td>\n",
       "      <td>60</td>\n",
       "      <td>65</td>\n",
       "    </tr>\n",
       "    <tr>\n",
       "      <th>191336</th>\n",
       "      <td>0.384656</td>\n",
       "      <td>0.726543</td>\n",
       "      <td>0.710085</td>\n",
       "      <td>0.709904</td>\n",
       "      <td>174.365754</td>\n",
       "      <td>1.345086</td>\n",
       "      <td>28.713537</td>\n",
       "      <td>2.114356</td>\n",
       "      <td>28.713537</td>\n",
       "      <td>2.114356</td>\n",
       "      <td>...</td>\n",
       "      <td>8.227551e-309</td>\n",
       "      <td>1.062193e-308</td>\n",
       "      <td>1.072705e-308</td>\n",
       "      <td>1.140006e-308</td>\n",
       "      <td>2.553185e-310</td>\n",
       "      <td>12</td>\n",
       "      <td>47</td>\n",
       "      <td>51</td>\n",
       "      <td>52</td>\n",
       "      <td>56</td>\n",
       "    </tr>\n",
       "    <tr>\n",
       "      <th>175204</th>\n",
       "      <td>0.294775</td>\n",
       "      <td>0.756318</td>\n",
       "      <td>0.713284</td>\n",
       "      <td>0.713169</td>\n",
       "      <td>184.057866</td>\n",
       "      <td>1.000259</td>\n",
       "      <td>18.531281</td>\n",
       "      <td>1.367763</td>\n",
       "      <td>18.531281</td>\n",
       "      <td>1.367763</td>\n",
       "      <td>...</td>\n",
       "      <td>6.426655e-309</td>\n",
       "      <td>7.531048e-309</td>\n",
       "      <td>8.483888e-309</td>\n",
       "      <td>8.674379e-309</td>\n",
       "      <td>9.305885e-309</td>\n",
       "      <td>9</td>\n",
       "      <td>78</td>\n",
       "      <td>82</td>\n",
       "      <td>74</td>\n",
       "      <td>88</td>\n",
       "    </tr>\n",
       "    <tr>\n",
       "      <th>388471</th>\n",
       "      <td>0.362091</td>\n",
       "      <td>0.901343</td>\n",
       "      <td>0.869831</td>\n",
       "      <td>0.869676</td>\n",
       "      <td>210.967917</td>\n",
       "      <td>1.800405</td>\n",
       "      <td>23.381786</td>\n",
       "      <td>1.739984</td>\n",
       "      <td>23.381786</td>\n",
       "      <td>1.739984</td>\n",
       "      <td>...</td>\n",
       "      <td>2.601991e-310</td>\n",
       "      <td>2.853236e-310</td>\n",
       "      <td>7.976794e-310</td>\n",
       "      <td>1.144541e-309</td>\n",
       "      <td>1.267001e-309</td>\n",
       "      <td>20</td>\n",
       "      <td>43</td>\n",
       "      <td>43</td>\n",
       "      <td>52</td>\n",
       "      <td>56</td>\n",
       "    </tr>\n",
       "    <tr>\n",
       "      <th>374874</th>\n",
       "      <td>0.366401</td>\n",
       "      <td>0.939084</td>\n",
       "      <td>0.917431</td>\n",
       "      <td>0.917606</td>\n",
       "      <td>220.728527</td>\n",
       "      <td>2.864478</td>\n",
       "      <td>25.076347</td>\n",
       "      <td>1.845196</td>\n",
       "      <td>25.076347</td>\n",
       "      <td>1.845196</td>\n",
       "      <td>...</td>\n",
       "      <td>5.441837e-309</td>\n",
       "      <td>6.223007e-309</td>\n",
       "      <td>7.559355e-309</td>\n",
       "      <td>7.976158e-309</td>\n",
       "      <td>9.621978e-309</td>\n",
       "      <td>29</td>\n",
       "      <td>37</td>\n",
       "      <td>39</td>\n",
       "      <td>43</td>\n",
       "      <td>43</td>\n",
       "    </tr>\n",
       "    <tr>\n",
       "      <th>87498</th>\n",
       "      <td>0.300929</td>\n",
       "      <td>0.750685</td>\n",
       "      <td>0.725615</td>\n",
       "      <td>0.724199</td>\n",
       "      <td>182.587097</td>\n",
       "      <td>1.183038</td>\n",
       "      <td>21.832395</td>\n",
       "      <td>1.608850</td>\n",
       "      <td>21.832395</td>\n",
       "      <td>1.608850</td>\n",
       "      <td>...</td>\n",
       "      <td>7.743354e-309</td>\n",
       "      <td>7.905856e-309</td>\n",
       "      <td>7.991054e-309</td>\n",
       "      <td>8.582454e-309</td>\n",
       "      <td>8.811142e-309</td>\n",
       "      <td>39</td>\n",
       "      <td>73</td>\n",
       "      <td>95</td>\n",
       "      <td>80</td>\n",
       "      <td>97</td>\n",
       "    </tr>\n",
       "    <tr>\n",
       "      <th>137338</th>\n",
       "      <td>0.223055</td>\n",
       "      <td>0.783023</td>\n",
       "      <td>0.741196</td>\n",
       "      <td>0.740743</td>\n",
       "      <td>190.952925</td>\n",
       "      <td>1.579094</td>\n",
       "      <td>16.139096</td>\n",
       "      <td>1.177459</td>\n",
       "      <td>16.139096</td>\n",
       "      <td>1.177459</td>\n",
       "      <td>...</td>\n",
       "      <td>8.598560e-309</td>\n",
       "      <td>8.825083e-309</td>\n",
       "      <td>8.843715e-309</td>\n",
       "      <td>9.063978e-309</td>\n",
       "      <td>9.116794e-309</td>\n",
       "      <td>43</td>\n",
       "      <td>49</td>\n",
       "      <td>59</td>\n",
       "      <td>61</td>\n",
       "      <td>75</td>\n",
       "    </tr>\n",
       "    <tr>\n",
       "      <th>54886</th>\n",
       "      <td>0.304298</td>\n",
       "      <td>0.738716</td>\n",
       "      <td>0.709021</td>\n",
       "      <td>0.707644</td>\n",
       "      <td>179.317027</td>\n",
       "      <td>1.014934</td>\n",
       "      <td>17.246498</td>\n",
       "      <td>1.280241</td>\n",
       "      <td>17.246498</td>\n",
       "      <td>1.280241</td>\n",
       "      <td>...</td>\n",
       "      <td>2.089487e-309</td>\n",
       "      <td>2.220690e-309</td>\n",
       "      <td>2.380200e-309</td>\n",
       "      <td>2.743486e-309</td>\n",
       "      <td>3.174739e-309</td>\n",
       "      <td>9</td>\n",
       "      <td>59</td>\n",
       "      <td>58</td>\n",
       "      <td>62</td>\n",
       "      <td>64</td>\n",
       "    </tr>\n",
       "    <tr>\n",
       "      <th>207894</th>\n",
       "      <td>0.307788</td>\n",
       "      <td>0.812567</td>\n",
       "      <td>0.767924</td>\n",
       "      <td>0.767483</td>\n",
       "      <td>191.249500</td>\n",
       "      <td>0.896305</td>\n",
       "      <td>22.096263</td>\n",
       "      <td>1.612996</td>\n",
       "      <td>22.096263</td>\n",
       "      <td>1.612996</td>\n",
       "      <td>...</td>\n",
       "      <td>3.277316e-309</td>\n",
       "      <td>3.951347e-309</td>\n",
       "      <td>4.101542e-309</td>\n",
       "      <td>4.271726e-309</td>\n",
       "      <td>4.715478e-309</td>\n",
       "      <td>14</td>\n",
       "      <td>50</td>\n",
       "      <td>49</td>\n",
       "      <td>60</td>\n",
       "      <td>67</td>\n",
       "    </tr>\n",
       "    <tr>\n",
       "      <th>110269</th>\n",
       "      <td>0.208208</td>\n",
       "      <td>0.669823</td>\n",
       "      <td>0.612618</td>\n",
       "      <td>0.612379</td>\n",
       "      <td>170.474594</td>\n",
       "      <td>1.176799</td>\n",
       "      <td>15.014649</td>\n",
       "      <td>1.095040</td>\n",
       "      <td>15.014649</td>\n",
       "      <td>1.095040</td>\n",
       "      <td>...</td>\n",
       "      <td>1.431201e-309</td>\n",
       "      <td>2.308074e-309</td>\n",
       "      <td>2.365558e-309</td>\n",
       "      <td>2.419118e-309</td>\n",
       "      <td>2.925044e-309</td>\n",
       "      <td>13</td>\n",
       "      <td>73</td>\n",
       "      <td>79</td>\n",
       "      <td>70</td>\n",
       "      <td>77</td>\n",
       "    </tr>\n",
       "    <tr>\n",
       "      <th>119880</th>\n",
       "      <td>0.175700</td>\n",
       "      <td>0.609308</td>\n",
       "      <td>0.581568</td>\n",
       "      <td>0.581251</td>\n",
       "      <td>150.179561</td>\n",
       "      <td>0.000000</td>\n",
       "      <td>13.132530</td>\n",
       "      <td>0.961817</td>\n",
       "      <td>13.132530</td>\n",
       "      <td>0.961817</td>\n",
       "      <td>...</td>\n",
       "      <td>8.452907e-309</td>\n",
       "      <td>8.660820e-309</td>\n",
       "      <td>8.712384e-309</td>\n",
       "      <td>8.982493e-309</td>\n",
       "      <td>9.244687e-309</td>\n",
       "      <td>3</td>\n",
       "      <td>82</td>\n",
       "      <td>82</td>\n",
       "      <td>75</td>\n",
       "      <td>79</td>\n",
       "    </tr>\n",
       "    <tr>\n",
       "      <th>259180</th>\n",
       "      <td>0.179109</td>\n",
       "      <td>0.720196</td>\n",
       "      <td>0.690909</td>\n",
       "      <td>0.690372</td>\n",
       "      <td>167.869835</td>\n",
       "      <td>0.000000</td>\n",
       "      <td>12.122265</td>\n",
       "      <td>0.886436</td>\n",
       "      <td>12.122265</td>\n",
       "      <td>0.886436</td>\n",
       "      <td>...</td>\n",
       "      <td>1.078097e-308</td>\n",
       "      <td>1.097755e-308</td>\n",
       "      <td>1.109174e-308</td>\n",
       "      <td>1.616961e-311</td>\n",
       "      <td>9.731473e-311</td>\n",
       "      <td>13</td>\n",
       "      <td>75</td>\n",
       "      <td>87</td>\n",
       "      <td>74</td>\n",
       "      <td>88</td>\n",
       "    </tr>\n",
       "    <tr>\n",
       "      <th>365841</th>\n",
       "      <td>0.457809</td>\n",
       "      <td>0.806038</td>\n",
       "      <td>0.749210</td>\n",
       "      <td>0.748635</td>\n",
       "      <td>194.065797</td>\n",
       "      <td>1.224629</td>\n",
       "      <td>27.730834</td>\n",
       "      <td>2.085522</td>\n",
       "      <td>27.730834</td>\n",
       "      <td>2.085522</td>\n",
       "      <td>...</td>\n",
       "      <td>2.188839e-310</td>\n",
       "      <td>2.340561e-310</td>\n",
       "      <td>3.743837e-310</td>\n",
       "      <td>7.121842e-310</td>\n",
       "      <td>1.076870e-309</td>\n",
       "      <td>3</td>\n",
       "      <td>95</td>\n",
       "      <td>95</td>\n",
       "      <td>95</td>\n",
       "      <td>99</td>\n",
       "    </tr>\n",
       "    <tr>\n",
       "      <th>131933</th>\n",
       "      <td>0.280458</td>\n",
       "      <td>0.849733</td>\n",
       "      <td>0.818295</td>\n",
       "      <td>0.817711</td>\n",
       "      <td>203.945924</td>\n",
       "      <td>0.653896</td>\n",
       "      <td>20.406913</td>\n",
       "      <td>1.494367</td>\n",
       "      <td>20.406913</td>\n",
       "      <td>1.494367</td>\n",
       "      <td>...</td>\n",
       "      <td>1.009274e-308</td>\n",
       "      <td>1.016207e-308</td>\n",
       "      <td>1.069516e-308</td>\n",
       "      <td>1.092270e-308</td>\n",
       "      <td>1.094039e-308</td>\n",
       "      <td>42</td>\n",
       "      <td>56</td>\n",
       "      <td>75</td>\n",
       "      <td>56</td>\n",
       "      <td>73</td>\n",
       "    </tr>\n",
       "    <tr>\n",
       "      <th>146868</th>\n",
       "      <td>0.316919</td>\n",
       "      <td>0.913964</td>\n",
       "      <td>0.894774</td>\n",
       "      <td>0.894553</td>\n",
       "      <td>213.237735</td>\n",
       "      <td>1.657228</td>\n",
       "      <td>22.573019</td>\n",
       "      <td>1.665006</td>\n",
       "      <td>22.573019</td>\n",
       "      <td>1.665006</td>\n",
       "      <td>...</td>\n",
       "      <td>7.890578e-309</td>\n",
       "      <td>9.151807e-309</td>\n",
       "      <td>1.058057e-308</td>\n",
       "      <td>1.130273e-308</td>\n",
       "      <td>9.179754e-311</td>\n",
       "      <td>13</td>\n",
       "      <td>36</td>\n",
       "      <td>39</td>\n",
       "      <td>43</td>\n",
       "      <td>43</td>\n",
       "    </tr>\n",
       "    <tr>\n",
       "      <th>121959</th>\n",
       "      <td>0.311823</td>\n",
       "      <td>0.808300</td>\n",
       "      <td>0.789728</td>\n",
       "      <td>0.789644</td>\n",
       "      <td>192.657182</td>\n",
       "      <td>1.773726</td>\n",
       "      <td>22.487270</td>\n",
       "      <td>1.641493</td>\n",
       "      <td>22.487270</td>\n",
       "      <td>1.641493</td>\n",
       "      <td>...</td>\n",
       "      <td>4.937120e-309</td>\n",
       "      <td>4.980197e-309</td>\n",
       "      <td>5.057947e-309</td>\n",
       "      <td>5.203431e-309</td>\n",
       "      <td>5.226836e-309</td>\n",
       "      <td>19</td>\n",
       "      <td>39</td>\n",
       "      <td>42</td>\n",
       "      <td>56</td>\n",
       "      <td>64</td>\n",
       "    </tr>\n",
       "  </tbody>\n",
       "</table>\n",
       "<p>20 rows × 118 columns</p>\n",
       "</div>"
      ],
      "text/plain": [
       "        chebyshev  braycurtis    cosine  correlation    canberra  hausdorff  \\\n",
       "id                                                                            \n",
       "262915   0.354437    0.841399  0.811660     0.811295  197.356660   2.789291   \n",
       "64820    0.326480    0.891661  0.848653     0.848096  210.551333   1.366273   \n",
       "329367   0.291575    0.908435  0.883970     0.883678  209.881889   2.865792   \n",
       "41090    0.212105    0.693298  0.646222     0.644558  173.490028   0.885681   \n",
       "278169   0.295629    0.809060  0.769617     0.770032  191.028426   1.233788   \n",
       "191336   0.384656    0.726543  0.710085     0.709904  174.365754   1.345086   \n",
       "175204   0.294775    0.756318  0.713284     0.713169  184.057866   1.000259   \n",
       "388471   0.362091    0.901343  0.869831     0.869676  210.967917   1.800405   \n",
       "374874   0.366401    0.939084  0.917431     0.917606  220.728527   2.864478   \n",
       "87498    0.300929    0.750685  0.725615     0.724199  182.587097   1.183038   \n",
       "137338   0.223055    0.783023  0.741196     0.740743  190.952925   1.579094   \n",
       "54886    0.304298    0.738716  0.709021     0.707644  179.317027   1.014934   \n",
       "207894   0.307788    0.812567  0.767924     0.767483  191.249500   0.896305   \n",
       "110269   0.208208    0.669823  0.612618     0.612379  170.474594   1.176799   \n",
       "119880   0.175700    0.609308  0.581568     0.581251  150.179561   0.000000   \n",
       "259180   0.179109    0.720196  0.690909     0.690372  167.869835   0.000000   \n",
       "365841   0.457809    0.806038  0.749210     0.748635  194.065797   1.224629   \n",
       "131933   0.280458    0.849733  0.818295     0.817711  203.945924   0.653896   \n",
       "146868   0.316919    0.913964  0.894774     0.894553  213.237735   1.657228   \n",
       "121959   0.311823    0.808300  0.789728     0.789644  192.657182   1.773726   \n",
       "\n",
       "        cityblock  euclidean         l1        l2       ...         \\\n",
       "id                                                      ...          \n",
       "262915  26.665156   1.945469  26.665156  1.945469       ...          \n",
       "64820   24.673850   1.787294  24.673850  1.787294       ...          \n",
       "329367  20.321822   1.483544  20.321822  1.483544       ...          \n",
       "41090   15.826455   1.160013  15.826455  1.160013       ...          \n",
       "278169  21.154065   1.547494  21.154065  1.547494       ...          \n",
       "191336  28.713537   2.114356  28.713537  2.114356       ...          \n",
       "175204  18.531281   1.367763  18.531281  1.367763       ...          \n",
       "388471  23.381786   1.739984  23.381786  1.739984       ...          \n",
       "374874  25.076347   1.845196  25.076347  1.845196       ...          \n",
       "87498   21.832395   1.608850  21.832395  1.608850       ...          \n",
       "137338  16.139096   1.177459  16.139096  1.177459       ...          \n",
       "54886   17.246498   1.280241  17.246498  1.280241       ...          \n",
       "207894  22.096263   1.612996  22.096263  1.612996       ...          \n",
       "110269  15.014649   1.095040  15.014649  1.095040       ...          \n",
       "119880  13.132530   0.961817  13.132530  0.961817       ...          \n",
       "259180  12.122265   0.886436  12.122265  0.886436       ...          \n",
       "365841  27.730834   2.085522  27.730834  2.085522       ...          \n",
       "131933  20.406913   1.494367  20.406913  1.494367       ...          \n",
       "146868  22.573019   1.665006  22.573019  1.665006       ...          \n",
       "121959  22.487270   1.641493  22.487270  1.641493       ...          \n",
       "\n",
       "             d2v_2_45       d2v_2_46       d2v_2_47       d2v_2_48  \\\n",
       "id                                                                   \n",
       "262915  9.956107e-309  1.045739e-308  1.062120e-308  1.073064e-308   \n",
       "64820   9.274098e-309  1.062903e-308  1.774837e-310  4.175239e-310   \n",
       "329367  5.647734e-309  5.791330e-309  5.919265e-309  6.152663e-309   \n",
       "41090   6.800763e-309  7.159232e-309  7.251433e-309  7.422699e-309   \n",
       "278169  3.617069e-309  4.099420e-309  4.850246e-309  5.137224e-309   \n",
       "191336  8.227551e-309  1.062193e-308  1.072705e-308  1.140006e-308   \n",
       "175204  6.426655e-309  7.531048e-309  8.483888e-309  8.674379e-309   \n",
       "388471  2.601991e-310  2.853236e-310  7.976794e-310  1.144541e-309   \n",
       "374874  5.441837e-309  6.223007e-309  7.559355e-309  7.976158e-309   \n",
       "87498   7.743354e-309  7.905856e-309  7.991054e-309  8.582454e-309   \n",
       "137338  8.598560e-309  8.825083e-309  8.843715e-309  9.063978e-309   \n",
       "54886   2.089487e-309  2.220690e-309  2.380200e-309  2.743486e-309   \n",
       "207894  3.277316e-309  3.951347e-309  4.101542e-309  4.271726e-309   \n",
       "110269  1.431201e-309  2.308074e-309  2.365558e-309  2.419118e-309   \n",
       "119880  8.452907e-309  8.660820e-309  8.712384e-309  8.982493e-309   \n",
       "259180  1.078097e-308  1.097755e-308  1.109174e-308  1.616961e-311   \n",
       "365841  2.188839e-310  2.340561e-310  3.743837e-310  7.121842e-310   \n",
       "131933  1.009274e-308  1.016207e-308  1.069516e-308  1.092270e-308   \n",
       "146868  7.890578e-309  9.151807e-309  1.058057e-308  1.130273e-308   \n",
       "121959  4.937120e-309  4.980197e-309  5.057947e-309  5.203431e-309   \n",
       "\n",
       "             d2v_2_49  size_diff  ratio  partial_ratio  token_sort_ratio  \\\n",
       "id                                                                         \n",
       "262915  1.078415e-308         31     42             43                41   \n",
       "64820   8.175838e-310          8     69             70                70   \n",
       "329367  6.341669e-309        190     22             49                25   \n",
       "41090   7.739513e-309         18     75             84                67   \n",
       "278169  5.754937e-309         22     45             53                60   \n",
       "191336  2.553185e-310         12     47             51                52   \n",
       "175204  9.305885e-309          9     78             82                74   \n",
       "388471  1.267001e-309         20     43             43                52   \n",
       "374874  9.621978e-309         29     37             39                43   \n",
       "87498   8.811142e-309         39     73             95                80   \n",
       "137338  9.116794e-309         43     49             59                61   \n",
       "54886   3.174739e-309          9     59             58                62   \n",
       "207894  4.715478e-309         14     50             49                60   \n",
       "110269  2.925044e-309         13     73             79                70   \n",
       "119880  9.244687e-309          3     82             82                75   \n",
       "259180  9.731473e-311         13     75             87                74   \n",
       "365841  1.076870e-309          3     95             95                95   \n",
       "131933  1.094039e-308         42     56             75                56   \n",
       "146868  9.179754e-311         13     36             39                43   \n",
       "121959  5.226836e-309         19     39             42                56   \n",
       "\n",
       "        token_set_ratio  \n",
       "id                       \n",
       "262915               46  \n",
       "64820                79  \n",
       "329367               43  \n",
       "41090                91  \n",
       "278169               65  \n",
       "191336               56  \n",
       "175204               88  \n",
       "388471               56  \n",
       "374874               43  \n",
       "87498                97  \n",
       "137338               75  \n",
       "54886                64  \n",
       "207894               67  \n",
       "110269               77  \n",
       "119880               79  \n",
       "259180               88  \n",
       "365841               99  \n",
       "131933               73  \n",
       "146868               43  \n",
       "121959               64  \n",
       "\n",
       "[20 rows x 118 columns]"
      ]
     },
     "execution_count": 50,
     "metadata": {},
     "output_type": "execute_result"
    }
   ],
   "source": [
    "X_train_final.tail(20)"
   ]
  },
  {
   "cell_type": "markdown",
   "metadata": {},
   "source": [
    "##### Test set"
   ]
  },
  {
   "cell_type": "code",
   "execution_count": 51,
   "metadata": {},
   "outputs": [],
   "source": [
    "# difference in text size\n",
    "X_test['size_diff'] = X_test.apply(compute_size_diff, axis=1)\n",
    "#X_test.head()"
   ]
  },
  {
   "cell_type": "code",
   "execution_count": 52,
   "metadata": {},
   "outputs": [],
   "source": [
    "# ratio\n",
    "X_test['ratio'] = X_test.apply(compute_ratio, axis=1)\n",
    "#X_test.head()"
   ]
  },
  {
   "cell_type": "code",
   "execution_count": 53,
   "metadata": {},
   "outputs": [],
   "source": [
    "# partial ratio\n",
    "X_test['partial_ratio'] = X_test.apply(compute_partial_ratio, axis=1)\n",
    "#X_test.head()"
   ]
  },
  {
   "cell_type": "code",
   "execution_count": 54,
   "metadata": {},
   "outputs": [],
   "source": [
    "# token_sort_ratio\n",
    "X_test['token_sort_ratio'] = X_test.apply(compute_token_sort_ratio, axis=1)\n",
    "#X_test.head()"
   ]
  },
  {
   "cell_type": "code",
   "execution_count": 55,
   "metadata": {},
   "outputs": [],
   "source": [
    "# token_set_ratio\n",
    "X_test['token_set_ratio'] = X_test.apply(compute_token_set_ratio, axis=1)\n",
    "#X_test.head()"
   ]
  },
  {
   "cell_type": "code",
   "execution_count": 56,
   "metadata": {},
   "outputs": [
    {
     "name": "stdout",
     "output_type": "stream",
     "text": [
      "<class 'pandas.core.frame.DataFrame'>\n",
      "Int64Index: 133032 entries, 8067 to 346580\n",
      "Columns: 118 entries, chebyshev to token_set_ratio\n",
      "dtypes: float64(113), int64(5)\n",
      "memory usage: 120.8 MB\n"
     ]
    }
   ],
   "source": [
    "X_test_final = X_test.drop(columns=['question1','question2', 'qid1', 'qid2']).dropna()\n",
    "X_test_final.info()"
   ]
  },
  {
   "cell_type": "code",
   "execution_count": 57,
   "metadata": {},
   "outputs": [
    {
     "data": {
      "text/html": [
       "<div>\n",
       "<style scoped>\n",
       "    .dataframe tbody tr th:only-of-type {\n",
       "        vertical-align: middle;\n",
       "    }\n",
       "\n",
       "    .dataframe tbody tr th {\n",
       "        vertical-align: top;\n",
       "    }\n",
       "\n",
       "    .dataframe thead th {\n",
       "        text-align: right;\n",
       "    }\n",
       "</style>\n",
       "<table border=\"1\" class=\"dataframe\">\n",
       "  <thead>\n",
       "    <tr style=\"text-align: right;\">\n",
       "      <th></th>\n",
       "      <th>chebyshev</th>\n",
       "      <th>braycurtis</th>\n",
       "      <th>cosine</th>\n",
       "      <th>correlation</th>\n",
       "      <th>canberra</th>\n",
       "      <th>hausdorff</th>\n",
       "      <th>cityblock</th>\n",
       "      <th>euclidean</th>\n",
       "      <th>l1</th>\n",
       "      <th>l2</th>\n",
       "      <th>...</th>\n",
       "      <th>d2v_2_45</th>\n",
       "      <th>d2v_2_46</th>\n",
       "      <th>d2v_2_47</th>\n",
       "      <th>d2v_2_48</th>\n",
       "      <th>d2v_2_49</th>\n",
       "      <th>size_diff</th>\n",
       "      <th>ratio</th>\n",
       "      <th>partial_ratio</th>\n",
       "      <th>token_sort_ratio</th>\n",
       "      <th>token_set_ratio</th>\n",
       "    </tr>\n",
       "    <tr>\n",
       "      <th>id</th>\n",
       "      <th></th>\n",
       "      <th></th>\n",
       "      <th></th>\n",
       "      <th></th>\n",
       "      <th></th>\n",
       "      <th></th>\n",
       "      <th></th>\n",
       "      <th></th>\n",
       "      <th></th>\n",
       "      <th></th>\n",
       "      <th></th>\n",
       "      <th></th>\n",
       "      <th></th>\n",
       "      <th></th>\n",
       "      <th></th>\n",
       "      <th></th>\n",
       "      <th></th>\n",
       "      <th></th>\n",
       "      <th></th>\n",
       "      <th></th>\n",
       "      <th></th>\n",
       "    </tr>\n",
       "  </thead>\n",
       "  <tbody>\n",
       "    <tr>\n",
       "      <th>8067</th>\n",
       "      <td>0.305258</td>\n",
       "      <td>0.664617</td>\n",
       "      <td>0.653823</td>\n",
       "      <td>0.651883</td>\n",
       "      <td>160.494443</td>\n",
       "      <td>1.346215</td>\n",
       "      <td>18.418028</td>\n",
       "      <td>1.375237</td>\n",
       "      <td>18.418028</td>\n",
       "      <td>1.375237</td>\n",
       "      <td>...</td>\n",
       "      <td>0.333161</td>\n",
       "      <td>-0.566693</td>\n",
       "      <td>-0.165682</td>\n",
       "      <td>-0.177057</td>\n",
       "      <td>0.189850</td>\n",
       "      <td>0</td>\n",
       "      <td>88</td>\n",
       "      <td>88</td>\n",
       "      <td>81</td>\n",
       "      <td>90</td>\n",
       "    </tr>\n",
       "    <tr>\n",
       "      <th>224279</th>\n",
       "      <td>0.198065</td>\n",
       "      <td>0.768600</td>\n",
       "      <td>0.749187</td>\n",
       "      <td>0.748293</td>\n",
       "      <td>183.113717</td>\n",
       "      <td>1.331043</td>\n",
       "      <td>14.162174</td>\n",
       "      <td>1.044846</td>\n",
       "      <td>14.162174</td>\n",
       "      <td>1.044846</td>\n",
       "      <td>...</td>\n",
       "      <td>0.535517</td>\n",
       "      <td>-0.238260</td>\n",
       "      <td>-0.126078</td>\n",
       "      <td>0.011768</td>\n",
       "      <td>0.816518</td>\n",
       "      <td>23</td>\n",
       "      <td>33</td>\n",
       "      <td>38</td>\n",
       "      <td>48</td>\n",
       "      <td>55</td>\n",
       "    </tr>\n",
       "    <tr>\n",
       "      <th>252452</th>\n",
       "      <td>0.237270</td>\n",
       "      <td>0.855352</td>\n",
       "      <td>0.847278</td>\n",
       "      <td>0.846889</td>\n",
       "      <td>197.037204</td>\n",
       "      <td>0.935798</td>\n",
       "      <td>16.121011</td>\n",
       "      <td>1.185337</td>\n",
       "      <td>16.121011</td>\n",
       "      <td>1.185337</td>\n",
       "      <td>...</td>\n",
       "      <td>0.322278</td>\n",
       "      <td>-0.204754</td>\n",
       "      <td>-0.100760</td>\n",
       "      <td>-0.158545</td>\n",
       "      <td>0.328979</td>\n",
       "      <td>73</td>\n",
       "      <td>40</td>\n",
       "      <td>56</td>\n",
       "      <td>43</td>\n",
       "      <td>53</td>\n",
       "    </tr>\n",
       "    <tr>\n",
       "      <th>174039</th>\n",
       "      <td>0.304343</td>\n",
       "      <td>0.901249</td>\n",
       "      <td>0.866577</td>\n",
       "      <td>0.866264</td>\n",
       "      <td>212.224992</td>\n",
       "      <td>1.479857</td>\n",
       "      <td>21.203832</td>\n",
       "      <td>1.558916</td>\n",
       "      <td>21.203832</td>\n",
       "      <td>1.558916</td>\n",
       "      <td>...</td>\n",
       "      <td>0.464907</td>\n",
       "      <td>0.034878</td>\n",
       "      <td>-0.342240</td>\n",
       "      <td>-0.077522</td>\n",
       "      <td>0.431330</td>\n",
       "      <td>79</td>\n",
       "      <td>30</td>\n",
       "      <td>42</td>\n",
       "      <td>32</td>\n",
       "      <td>33</td>\n",
       "    </tr>\n",
       "    <tr>\n",
       "      <th>384863</th>\n",
       "      <td>0.196309</td>\n",
       "      <td>0.704832</td>\n",
       "      <td>0.655896</td>\n",
       "      <td>0.655889</td>\n",
       "      <td>169.794796</td>\n",
       "      <td>1.055390</td>\n",
       "      <td>14.301773</td>\n",
       "      <td>1.041679</td>\n",
       "      <td>14.301773</td>\n",
       "      <td>1.041679</td>\n",
       "      <td>...</td>\n",
       "      <td>0.407064</td>\n",
       "      <td>0.144557</td>\n",
       "      <td>-0.190387</td>\n",
       "      <td>0.011818</td>\n",
       "      <td>0.880851</td>\n",
       "      <td>23</td>\n",
       "      <td>69</td>\n",
       "      <td>61</td>\n",
       "      <td>66</td>\n",
       "      <td>88</td>\n",
       "    </tr>\n",
       "  </tbody>\n",
       "</table>\n",
       "<p>5 rows × 118 columns</p>\n",
       "</div>"
      ],
      "text/plain": [
       "        chebyshev  braycurtis    cosine  correlation    canberra  hausdorff  \\\n",
       "id                                                                            \n",
       "8067     0.305258    0.664617  0.653823     0.651883  160.494443   1.346215   \n",
       "224279   0.198065    0.768600  0.749187     0.748293  183.113717   1.331043   \n",
       "252452   0.237270    0.855352  0.847278     0.846889  197.037204   0.935798   \n",
       "174039   0.304343    0.901249  0.866577     0.866264  212.224992   1.479857   \n",
       "384863   0.196309    0.704832  0.655896     0.655889  169.794796   1.055390   \n",
       "\n",
       "        cityblock  euclidean         l1        l2       ...         d2v_2_45  \\\n",
       "id                                                      ...                    \n",
       "8067    18.418028   1.375237  18.418028  1.375237       ...         0.333161   \n",
       "224279  14.162174   1.044846  14.162174  1.044846       ...         0.535517   \n",
       "252452  16.121011   1.185337  16.121011  1.185337       ...         0.322278   \n",
       "174039  21.203832   1.558916  21.203832  1.558916       ...         0.464907   \n",
       "384863  14.301773   1.041679  14.301773  1.041679       ...         0.407064   \n",
       "\n",
       "        d2v_2_46  d2v_2_47  d2v_2_48  d2v_2_49  size_diff  ratio  \\\n",
       "id                                                                 \n",
       "8067   -0.566693 -0.165682 -0.177057  0.189850          0     88   \n",
       "224279 -0.238260 -0.126078  0.011768  0.816518         23     33   \n",
       "252452 -0.204754 -0.100760 -0.158545  0.328979         73     40   \n",
       "174039  0.034878 -0.342240 -0.077522  0.431330         79     30   \n",
       "384863  0.144557 -0.190387  0.011818  0.880851         23     69   \n",
       "\n",
       "        partial_ratio  token_sort_ratio  token_set_ratio  \n",
       "id                                                        \n",
       "8067               88                81               90  \n",
       "224279             38                48               55  \n",
       "252452             56                43               53  \n",
       "174039             42                32               33  \n",
       "384863             61                66               88  \n",
       "\n",
       "[5 rows x 118 columns]"
      ]
     },
     "execution_count": 57,
     "metadata": {},
     "output_type": "execute_result"
    }
   ],
   "source": [
    "X_test_final.head()"
   ]
  },
  {
   "cell_type": "markdown",
   "metadata": {},
   "source": [
    "# Modeling"
   ]
  },
  {
   "cell_type": "markdown",
   "metadata": {},
   "source": [
    "### Logistic Regression"
   ]
  },
  {
   "cell_type": "code",
   "execution_count": 58,
   "metadata": {},
   "outputs": [
    {
     "data": {
      "text/plain": [
       "RandomizedSearchCV(cv=5, error_score='raise-deprecating',\n",
       "          estimator=LogisticRegression(C=1.0, class_weight=None, dual=False, fit_intercept=True,\n",
       "          intercept_scaling=1, max_iter=100, multi_class='warn',\n",
       "          n_jobs=None, penalty='l2', random_state=42, solver='warn',\n",
       "          tol=0.0001, verbose=0, warm_start=False),\n",
       "          fit_params=None, iid='warn', n_iter=10, n_jobs=-1,\n",
       "          param_distributions={'C': array([1.e-02, 1.e-01, 1.e+00, 1.e+01, 1.e+02, 1.e+03, 1.e+04, 1.e+05,\n",
       "       1.e+06, 1.e+07]), 'tol': array([1.e-05, 1.e-04, 1.e-03, 1.e-02, 1.e-01])},\n",
       "          pre_dispatch='2*n_jobs', random_state=None, refit=True,\n",
       "          return_train_score='warn', scoring=None, verbose=0)"
      ]
     },
     "execution_count": 58,
     "metadata": {},
     "output_type": "execute_result"
    }
   ],
   "source": [
    "from sklearn.linear_model import LogisticRegression\n",
    "from sklearn.model_selection import GridSearchCV, RandomizedSearchCV\n",
    "logr_model = LogisticRegression(random_state=42)\n",
    "param_grid = {'C': np.logspace(-2, 7, 10),\n",
    "             #'penalty': ['l1','l2'],\n",
    "             'tol': np.logspace(-5, -1, 5),\n",
    "             #'solver': ['lbfgs']\n",
    "             #'max_iter': np.linspace(10, 1000, 10)\n",
    "             }\n",
    "logr_cv = RandomizedSearchCV(logr_model, param_distributions=param_grid, cv=5, n_jobs=-1)\n",
    "y_train_final = y_train.loc[X_train_final.index]\n",
    "logr_cv.fit(X_train_final, y_train_final)"
   ]
  },
  {
   "cell_type": "code",
   "execution_count": 59,
   "metadata": {},
   "outputs": [
    {
     "data": {
      "text/plain": [
       "{'tol': 1e-05, 'C': 100.0}"
      ]
     },
     "execution_count": 59,
     "metadata": {},
     "output_type": "execute_result"
    }
   ],
   "source": [
    "logr_cv.best_params_"
   ]
  },
  {
   "cell_type": "code",
   "execution_count": 60,
   "metadata": {},
   "outputs": [
    {
     "data": {
      "text/plain": [
       "LogisticRegression(C=100.0, class_weight=None, dual=False, fit_intercept=True,\n",
       "          intercept_scaling=1, max_iter=100, multi_class='warn', n_jobs=-1,\n",
       "          penalty='l2', random_state=42, solver='warn', tol=1e-05,\n",
       "          verbose=0, warm_start=False)"
      ]
     },
     "execution_count": 60,
     "metadata": {},
     "output_type": "execute_result"
    }
   ],
   "source": [
    "logr_model = LogisticRegression(#solver=logr_cv.best_params_['solver'], \n",
    "                                random_state=42, \n",
    "                                C=logr_cv.best_params_['C'], \n",
    "                                tol=logr_cv.best_params_['tol'], \n",
    "                                #max_iter=logr_cv.best_params_['max_iter'], \n",
    "                                n_jobs=-1)\n",
    "logr_model.fit(X_train_final, y_train_final)"
   ]
  },
  {
   "cell_type": "code",
   "execution_count": 61,
   "metadata": {},
   "outputs": [],
   "source": [
    "logr_pred = logr_model.predict(X_test_final)\n",
    "y_test_final = y_test.loc[X_test_final.index]"
   ]
  },
  {
   "cell_type": "code",
   "execution_count": 62,
   "metadata": {},
   "outputs": [
    {
     "name": "stdout",
     "output_type": "stream",
     "text": [
      "Logistic Regression\n",
      "accuracy score : 0.6962460159961513\n",
      "precision score : 0.6005188067444877\n",
      "recall score : 0.528183503432541\n"
     ]
    }
   ],
   "source": [
    "from sklearn.metrics import accuracy_score\n",
    "from sklearn.metrics import precision_score\n",
    "from sklearn.metrics import recall_score\n",
    "logr_acc_score = accuracy_score(y_test_final, logr_pred)\n",
    "logr_prec_score = precision_score(y_test_final, logr_pred)\n",
    "logr_rec_score = recall_score(y_test_final, logr_pred)\n",
    "print('Logistic Regression')\n",
    "print('accuracy score : {}'.format(logr_acc_score))\n",
    "print('precision score : {}'.format(logr_prec_score))\n",
    "print('recall score : {}'.format(logr_rec_score))"
   ]
  },
  {
   "cell_type": "markdown",
   "metadata": {},
   "source": [
    "### XGBoost"
   ]
  },
  {
   "cell_type": "code",
   "execution_count": 63,
   "metadata": {},
   "outputs": [
    {
     "data": {
      "text/plain": [
       "RandomizedSearchCV(cv=5, error_score='raise-deprecating',\n",
       "          estimator=XGBClassifier(base_score=0.5, booster='gbtree', colsample_bylevel=1,\n",
       "       colsample_bytree=1, gamma=0, learning_rate=0.1, max_delta_step=0,\n",
       "       max_depth=3, min_child_weight=1, missing=None, n_estimators=100,\n",
       "       n_jobs=1, nthread=None, objective='binary:logistic',\n",
       "       random_state=42, reg_alpha=0, reg_lambda=1, scale_pos_weight=1,\n",
       "       seed=None, silent=True, subsample=1),\n",
       "          fit_params=None, iid='warn', n_iter=10, n_jobs=3,\n",
       "          param_distributions={'n_estimators': [1, 2, 4, 8, 16, 32, 64, 100, 200], 'gamma': array([0.01, 0.12, 0.23, 0.34, 0.45, 0.56, 0.67, 0.78, 0.89, 1.  ]), 'learning_rate': array([0.01, 0.12, 0.23, 0.34, 0.45, 0.56, 0.67, 0.78, 0.89, 1.  ]), 'reg_lambda': array([ 0.01   ,  0.53579,  1.06158,  1.58737,  2...10, 11, 12, 13, 14, 15, 16, 17,\n",
       "       18, 19, 20, 21, 22, 23, 24, 25, 26, 27, 28, 29, 30, 31, 32])},\n",
       "          pre_dispatch='2*n_jobs', random_state=42, refit=True,\n",
       "          return_train_score='warn', scoring=None, verbose=0)"
      ]
     },
     "execution_count": 63,
     "metadata": {},
     "output_type": "execute_result"
    }
   ],
   "source": [
    "import xgboost as xgb\n",
    "# Model selection\n",
    "params_xgb = {'n_estimators' : [1, 2, 4, 8, 16, 32, 64, 100, 200],\n",
    "               'gamma':np.linspace(.01, 1, 10, endpoint=True), \n",
    "               'learning_rate' : np.linspace(.01, 1, 10, endpoint=True),\n",
    "               'reg_lambda': np.linspace(0.01, 10, 20, endpoint=True),\n",
    "               'max_depth' : np.linspace(1, 32, 32, endpoint=True, dtype=int)\n",
    "                 }\n",
    "cv_xgb = RandomizedSearchCV(xgb.XGBClassifier(objective='binary:logistic', random_state=42), param_distributions=params_xgb, cv=5, n_jobs=3, random_state=42)\n",
    "cv_xgb.fit(X_train_final, y_train_final)"
   ]
  },
  {
   "cell_type": "code",
   "execution_count": 64,
   "metadata": {},
   "outputs": [
    {
     "data": {
      "text/plain": [
       "{'reg_lambda': 6.319473684210527,\n",
       " 'n_estimators': 200,\n",
       " 'max_depth': 29,\n",
       " 'learning_rate': 0.23,\n",
       " 'gamma': 0.23}"
      ]
     },
     "execution_count": 64,
     "metadata": {},
     "output_type": "execute_result"
    }
   ],
   "source": [
    "cv_xgb.best_params_"
   ]
  },
  {
   "cell_type": "code",
   "execution_count": 65,
   "metadata": {},
   "outputs": [
    {
     "data": {
      "text/plain": [
       "XGBClassifier(base_score=0.5, booster='gbtree', colsample_bylevel=1,\n",
       "       colsample_bytree=1, gamma=0.23, learning_rate=0.23,\n",
       "       max_delta_step=0, max_depth=29, min_child_weight=1, missing=None,\n",
       "       n_estimators=200, n_jobs=1, nthread=None,\n",
       "       objective='binary:logistic', random_state=42, reg_alpha=0,\n",
       "       reg_lambda=6.319473684210527, scale_pos_weight=1, seed=None,\n",
       "       silent=True, subsample=1)"
      ]
     },
     "execution_count": 65,
     "metadata": {},
     "output_type": "execute_result"
    }
   ],
   "source": [
    "clf_xgb_model = xgb.XGBClassifier(random_state=42,\n",
    "                                  n_estimators=cv_xgb.best_params_['n_estimators'],\n",
    "                                  gamma=cv_xgb.best_params_['gamma'],\n",
    "                                  learning_rate=cv_xgb.best_params_['learning_rate'],\n",
    "                                  reg_lambda=cv_xgb.best_params_['reg_lambda'],\n",
    "                                  max_depth=cv_xgb.best_params_['max_depth'])\n",
    "clf_xgb_model.fit(X_train_final, y_train_final)"
   ]
  },
  {
   "cell_type": "code",
   "execution_count": 66,
   "metadata": {},
   "outputs": [
    {
     "name": "stdout",
     "output_type": "stream",
     "text": [
      "Accuracy score for XGBoost  0.8154504179445546\n",
      "Recall score for XGBoost  0.736600867811526\n",
      "Precision score for XGBoost  0.7567810799497697\n"
     ]
    }
   ],
   "source": [
    "y_pred_xgb = clf_xgb_model.predict(X_test_final)\n",
    "score_xgb = accuracy_score(y_test_final, y_pred_xgb)\n",
    "rscore_xgb = recall_score(y_test_final, y_pred_xgb)\n",
    "pscore_xgb = precision_score(y_test_final, y_pred_xgb)\n",
    "print('Accuracy score for XGBoost ', score_xgb)\n",
    "print('Recall score for XGBoost ', rscore_xgb)\n",
    "print('Precision score for XGBoost ', pscore_xgb)"
   ]
  },
  {
   "cell_type": "code",
   "execution_count": null,
   "metadata": {},
   "outputs": [],
   "source": []
  },
  {
   "cell_type": "code",
   "execution_count": null,
   "metadata": {},
   "outputs": [],
   "source": []
  }
 ],
 "metadata": {
  "kernelspec": {
   "display_name": "Python 3",
   "language": "python",
   "name": "python3"
  },
  "language_info": {
   "codemirror_mode": {
    "name": "ipython",
    "version": 3
   },
   "file_extension": ".py",
   "mimetype": "text/x-python",
   "name": "python",
   "nbconvert_exporter": "python",
   "pygments_lexer": "ipython3",
   "version": "3.6.6"
  }
 },
 "nbformat": 4,
 "nbformat_minor": 1
}
