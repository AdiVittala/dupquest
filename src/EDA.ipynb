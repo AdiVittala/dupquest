{
 "cells": [
  {
   "cell_type": "code",
   "execution_count": 1,
   "metadata": {},
   "outputs": [],
   "source": [
    "import pandas as pd\n",
    "from utils import persistence as ps\n",
    "from urllib3.response import HTTPResponse\n",
    "from typing import List, Dict, Tuple\n",
    "import numpy as np"
   ]
  },
  {
   "cell_type": "code",
   "execution_count": 2,
   "metadata": {},
   "outputs": [],
   "source": [
    "import warnings\n",
    "warnings.filterwarnings('ignore')"
   ]
  },
  {
   "cell_type": "code",
   "execution_count": 3,
   "metadata": {},
   "outputs": [],
   "source": [
    "from toolz import partition_all"
   ]
  },
  {
   "cell_type": "code",
   "execution_count": 4,
   "metadata": {},
   "outputs": [],
   "source": [
    "INPUT_BUCKET = 'dq-data'\n",
    "HASH_BUCKET = 'dq-hashed'"
   ]
  },
  {
   "cell_type": "code",
   "execution_count": 299,
   "metadata": {},
   "outputs": [],
   "source": [
    "#load train_set\n",
    "data = 'train.csv'\n",
    "filestream = ps.get_file_stream(bucket=INPUT_BUCKET, filename=data)\n",
    "dtypes = {\n",
    "    'id': 'int64',\n",
    "    'qid1': 'int64',\n",
    "    'qid2': 'int64',\n",
    "    'question1': 'object',\n",
    "    'question2': 'object',\n",
    "    'is_duplicate': 'int64'\n",
    "}\n",
    "df = pd.read_csv(#urlpath=s3_in_url, \n",
    "                                     #storage_options=s3_options,\n",
    "                                     filestream,\n",
    "                                     header=0, \n",
    "                                     usecols=dtypes.keys(), \n",
    "                                     #names=dtypes.keys(),\n",
    "                                     skipinitialspace=True,\n",
    "                                     skip_blank_lines=True,\n",
    "                                     encoding='utf-8')\n",
    "df = df.set_index('id')\n",
    "df = df.dropna()"
   ]
  },
  {
   "cell_type": "code",
   "execution_count": 300,
   "metadata": {},
   "outputs": [
    {
     "name": "stdout",
     "output_type": "stream",
     "text": [
      "<class 'pandas.core.frame.DataFrame'>\n",
      "Int64Index: 404287 entries, 0 to 404289\n",
      "Data columns (total 5 columns):\n",
      "qid1            404287 non-null int64\n",
      "qid2            404287 non-null int64\n",
      "question1       404287 non-null object\n",
      "question2       404287 non-null object\n",
      "is_duplicate    404287 non-null int64\n",
      "dtypes: int64(3), object(2)\n",
      "memory usage: 18.5+ MB\n"
     ]
    }
   ],
   "source": [
    "df.info()"
   ]
  },
  {
   "cell_type": "markdown",
   "metadata": {},
   "source": [
    "### Train-test split"
   ]
  },
  {
   "cell_type": "code",
   "execution_count": 301,
   "metadata": {},
   "outputs": [],
   "source": [
    "from sklearn.model_selection import train_test_split\n",
    "#shrink df to 150,000 records\n",
    "df = df.iloc[:75000]\n",
    "\n",
    "X = df.drop(columns=['is_duplicate'])\n",
    "\n",
    "y = df['is_duplicate']\n",
    "X_train, X_test, y_train, y_test =  train_test_split(X, y, test_size=0.33, random_state=42)"
   ]
  },
  {
   "cell_type": "code",
   "execution_count": 302,
   "metadata": {},
   "outputs": [
    {
     "name": "stdout",
     "output_type": "stream",
     "text": [
      "<class 'pandas.core.frame.DataFrame'>\n",
      "Int64Index: 50250 entries, 71916 to 15795\n",
      "Data columns (total 4 columns):\n",
      "qid1         50250 non-null int64\n",
      "qid2         50250 non-null int64\n",
      "question1    50250 non-null object\n",
      "question2    50250 non-null object\n",
      "dtypes: int64(2), object(2)\n",
      "memory usage: 1.9+ MB\n"
     ]
    }
   ],
   "source": [
    "X_train.info()"
   ]
  },
  {
   "cell_type": "code",
   "execution_count": 270,
   "metadata": {},
   "outputs": [],
   "source": [
    "del X,y,df"
   ]
  },
  {
   "cell_type": "markdown",
   "metadata": {},
   "source": [
    "# Feature Extraction"
   ]
  },
  {
   "cell_type": "markdown",
   "metadata": {},
   "source": [
    "### Tokenizing and preprocessing"
   ]
  },
  {
   "cell_type": "code",
   "execution_count": 10,
   "metadata": {},
   "outputs": [],
   "source": [
    "from gensim.parsing.preprocessing import preprocess_string\n",
    "def get_tokens(process='train'):\n",
    "    if process=='test':\n",
    "        X = X_test\n",
    "    else:\n",
    "        X = X_train\n",
    "    series = pd.Series(pd.concat([X['question1'], X['question2']]),dtype=str)\n",
    "    series.dropna()\n",
    "    for question in series:\n",
    "        yield preprocess_string(question)"
   ]
  },
  {
   "cell_type": "markdown",
   "metadata": {},
   "source": [
    "### Word2Vec (fasttext)"
   ]
  },
  {
   "cell_type": "code",
   "execution_count": 11,
   "metadata": {},
   "outputs": [
    {
     "data": {
      "text/plain": [
       "<minio.definitions.Object at 0x7fd0ccbd6eb8>"
      ]
     },
     "execution_count": 11,
     "metadata": {},
     "output_type": "execute_result"
    }
   ],
   "source": [
    "ps.get_file(bucket=INPUT_BUCKET, filename='cc.en.300.bin.gz', filepath='/tmp/cc.en.300.bin.gz')"
   ]
  },
  {
   "cell_type": "code",
   "execution_count": 12,
   "metadata": {},
   "outputs": [],
   "source": [
    "import gzip\n",
    "import shutil\n",
    "with gzip.open('/tmp/cc.en.300.bin.gz', 'rb') as f_in:\n",
    "    with open('/tmp/cc.en.300.bin', 'wb') as f_out:\n",
    "        shutil.copyfileobj(f_in, f_out)  "
   ]
  },
  {
   "cell_type": "code",
   "execution_count": 303,
   "metadata": {},
   "outputs": [],
   "source": [
    "import os\n",
    "os.remove('/tmp/cc.en.300.bin.gz')\n",
    "from gensim.models import FastText\n",
    "model = FastText.load_fasttext_format('/tmp/cc.en.300.bin')"
   ]
  },
  {
   "cell_type": "code",
   "execution_count": 14,
   "metadata": {},
   "outputs": [],
   "source": [
    "def get_ft_vectors(model, process):\n",
    "    for tokens in get_tokens(process):\n",
    "        vectors = []\n",
    "        for token in tokens:\n",
    "            try:\n",
    "                vector = model.wv[token]\n",
    "            except:\n",
    "                continue\n",
    "            vectors.append(vector)\n",
    "        yield np.array(vectors)"
   ]
  },
  {
   "cell_type": "code",
   "execution_count": 304,
   "metadata": {},
   "outputs": [
    {
     "data": {
      "text/plain": [
       "(100500,)"
      ]
     },
     "execution_count": 304,
     "metadata": {},
     "output_type": "execute_result"
    }
   ],
   "source": [
    "X_ft = np.array([vectors for vectors in get_ft_vectors(model,'train')])\n",
    "X_ft.shape"
   ]
  },
  {
   "cell_type": "code",
   "execution_count": 305,
   "metadata": {},
   "outputs": [],
   "source": [
    "# split back into two\n",
    "X1_ft = X_ft[:len(X_train)]\n",
    "X2_ft = X_ft[len(X_train):]"
   ]
  },
  {
   "cell_type": "code",
   "execution_count": 274,
   "metadata": {},
   "outputs": [],
   "source": [
    "del X_ft"
   ]
  },
  {
   "cell_type": "code",
   "execution_count": 18,
   "metadata": {},
   "outputs": [],
   "source": [
    "#X_train = pd.concat([X_train, pd.Series(X1_ft, name='q1_ft',index=X_train.index), pd.Series(X2_ft, name='q2_ft',index=X_train.index)], axis=1)\n",
    "#X_train.head()"
   ]
  },
  {
   "cell_type": "markdown",
   "metadata": {},
   "source": [
    "##### Test set"
   ]
  },
  {
   "cell_type": "code",
   "execution_count": 306,
   "metadata": {},
   "outputs": [],
   "source": [
    "X_ft_test = np.array([vectors for vectors in get_ft_vectors(model,'test')])"
   ]
  },
  {
   "cell_type": "code",
   "execution_count": 307,
   "metadata": {},
   "outputs": [
    {
     "data": {
      "text/plain": [
       "(49500,)"
      ]
     },
     "execution_count": 307,
     "metadata": {},
     "output_type": "execute_result"
    }
   ],
   "source": [
    "X_ft_test.shape"
   ]
  },
  {
   "cell_type": "code",
   "execution_count": 277,
   "metadata": {},
   "outputs": [],
   "source": [
    "del model"
   ]
  },
  {
   "cell_type": "code",
   "execution_count": 308,
   "metadata": {},
   "outputs": [],
   "source": [
    "# split back into two\n",
    "X1_ft_test = X_ft_test[:len(X_test)]\n",
    "X2_ft_test = X_ft_test[len(X_test):]"
   ]
  },
  {
   "cell_type": "code",
   "execution_count": 279,
   "metadata": {},
   "outputs": [],
   "source": [
    "del X_ft_test"
   ]
  },
  {
   "cell_type": "markdown",
   "metadata": {},
   "source": [
    "### Pairwise Metrics"
   ]
  },
  {
   "cell_type": "code",
   "execution_count": 309,
   "metadata": {},
   "outputs": [],
   "source": [
    "def get_q_lengths(X):\n",
    "    #q_meta = []\n",
    "    for q in X:\n",
    "        #q_meta.append(len(q))\n",
    "        yield len(q)\n",
    "    #return q_meta"
   ]
  },
  {
   "cell_type": "code",
   "execution_count": 310,
   "metadata": {},
   "outputs": [
    {
     "data": {
      "text/plain": [
       "(50250,)"
      ]
     },
     "execution_count": 310,
     "metadata": {},
     "output_type": "execute_result"
    }
   ],
   "source": [
    "X1_ft.shape"
   ]
  },
  {
   "cell_type": "code",
   "execution_count": 27,
   "metadata": {},
   "outputs": [],
   "source": [
    "def split_arrays(X):\n",
    "    for y in (x for x in X if x.size>0):\n",
    "        yield np.vsplit(y,len(y))[0]"
   ]
  },
  {
   "cell_type": "code",
   "execution_count": 311,
   "metadata": {},
   "outputs": [],
   "source": [
    "q_meta_train = [(q1_len, q2_len) for q1_len, q2_len in zip(get_q_lengths(X1_ft), get_q_lengths(X2_ft))]"
   ]
  },
  {
   "cell_type": "code",
   "execution_count": 353,
   "metadata": {},
   "outputs": [],
   "source": [
    "X_train_300 = np.concatenate( \n",
    "    np.vstack( [np.array(np.vsplit(y, y.shape[0])) for y in (x for x in X_ft if x.size>0)] )\n",
    ")"
   ]
  },
  {
   "cell_type": "code",
   "execution_count": 354,
   "metadata": {},
   "outputs": [
    {
     "data": {
      "text/plain": [
       "(482518, 300)"
      ]
     },
     "execution_count": 354,
     "metadata": {},
     "output_type": "execute_result"
    }
   ],
   "source": [
    "X_train_300.shape"
   ]
  },
  {
   "cell_type": "code",
   "execution_count": 284,
   "metadata": {},
   "outputs": [],
   "source": [
    "del X1_ft, X2_ft"
   ]
  },
  {
   "cell_type": "code",
   "execution_count": 32,
   "metadata": {},
   "outputs": [],
   "source": [
    "#import sys\n",
    "## These are the usual ipython objects, including this one you are creating\n",
    "#ipython_vars = ['In', 'Out', 'exit', 'quit', 'get_ipython', 'ipython_vars']\n",
    "# Get a sorted list of the objects and their sizes\n",
    "#sorted([(x, sys.getsizeof(globals().get(x))) \n",
    "#        for x in dir() if not x.startswith('_') \n",
    "#        and x not in sys.modules and x not in ipython_vars], \n",
    "#       key=lambda x: x[1], reverse=True)"
   ]
  },
  {
   "cell_type": "code",
   "execution_count": 355,
   "metadata": {},
   "outputs": [],
   "source": [
    "from scipy.io import mmwrite, mmread\n",
    "mmwrite( 'wor2vec_300_train.mtx', X_train_300 )"
   ]
  },
  {
   "cell_type": "code",
   "execution_count": 356,
   "metadata": {},
   "outputs": [
    {
     "name": "stdout",
     "output_type": "stream",
     "text": [
      "pushed file wor2vec_300_train.mtx from wor2vec_300_train.mtx to minio bucket dq-data\n"
     ]
    },
    {
     "data": {
      "text/plain": [
       "True"
      ]
     },
     "execution_count": 356,
     "metadata": {},
     "output_type": "execute_result"
    }
   ],
   "source": [
    "ps.copy_file(dest_bucket=INPUT_BUCKET, file='wor2vec_300_train.mtx', source='wor2vec_300_train.mtx')"
   ]
  },
  {
   "cell_type": "code",
   "execution_count": 287,
   "metadata": {},
   "outputs": [],
   "source": [
    "del X_train_300"
   ]
  },
  {
   "cell_type": "code",
   "execution_count": 317,
   "metadata": {},
   "outputs": [
    {
     "data": {
      "text/plain": [
       "<minio.definitions.Object at 0x7fcff1489908>"
      ]
     },
     "execution_count": 317,
     "metadata": {},
     "output_type": "execute_result"
    }
   ],
   "source": [
    "ps.get_file(bucket=INPUT_BUCKET, filename='embed_train.mtx', filepath='embed_train.mtx')"
   ]
  },
  {
   "cell_type": "code",
   "execution_count": 318,
   "metadata": {},
   "outputs": [],
   "source": [
    "from scipy.io import mmread\n",
    "X_rd = mmread('embed_train.mtx')"
   ]
  },
  {
   "cell_type": "code",
   "execution_count": 319,
   "metadata": {},
   "outputs": [
    {
     "data": {
      "text/plain": [
       "(100367, 3)"
      ]
     },
     "execution_count": 319,
     "metadata": {},
     "output_type": "execute_result"
    }
   ],
   "source": [
    "X_rd.shape"
   ]
  },
  {
   "cell_type": "code",
   "execution_count": 338,
   "metadata": {},
   "outputs": [
    {
     "data": {
      "text/plain": [
       "50250"
      ]
     },
     "execution_count": 338,
     "metadata": {},
     "output_type": "execute_result"
    }
   ],
   "source": [
    "len(q_meta_train)"
   ]
  },
  {
   "cell_type": "code",
   "execution_count": 328,
   "metadata": {},
   "outputs": [
    {
     "data": {
      "text/plain": [
       "array([[-3.74598133e-03,  7.14532917e-04, -4.45617058e-03],\n",
       "       [ 6.53278401e-04, -1.30925216e-03, -5.23273672e-03],\n",
       "       [-7.19155826e-03,  3.12010063e-03, -8.30275541e-03],\n",
       "       [-8.57720872e-04, -7.38833537e-04,  7.66427598e-04],\n",
       "       [-2.84270654e-03,  3.30637048e-03,  2.72318815e-03],\n",
       "       [-9.78708603e-04, -2.60696575e-03,  2.63144678e-03],\n",
       "       [-4.07846945e-03,  4.06954832e-03,  1.58547115e-04],\n",
       "       [-7.19222671e-03,  3.12021587e-03, -8.30256797e-03],\n",
       "       [-3.54968165e-03,  3.24023707e-03, -2.03453508e-03],\n",
       "       [-1.20300859e-03,  1.95971352e-03, -1.66474326e-03],\n",
       "       [-8.20778779e-04, -6.62160825e-04,  4.15418822e-03],\n",
       "       [-7.19235245e-03,  3.11763306e-03, -8.30384669e-03],\n",
       "       [-5.47330631e-03,  5.72216858e-04, -4.91344930e-04],\n",
       "       [ 1.14653108e-03, -3.84291051e-04,  1.01223989e-03],\n",
       "       [-1.42622266e-03,  3.72392377e-03, -4.76971979e-04],\n",
       "       [-1.23269583e-03,  3.26893889e-03, -4.80229418e-03],\n",
       "       [ 1.38685421e-03, -3.23103815e-03,  3.78720235e-04],\n",
       "       [-4.29245382e-03, -9.75040115e-05, -5.43679317e-03],\n",
       "       [-4.03999787e-03, -2.26379397e-03, -5.07973910e-03],\n",
       "       [-9.70205212e-04,  4.70495563e-03, -3.10687174e-03]])"
      ]
     },
     "execution_count": 328,
     "metadata": {},
     "output_type": "execute_result"
    }
   ],
   "source": [
    "X_rd_halflen = int(X_rd.shape[0]/2)\n",
    "X_rd[-20:]"
   ]
  },
  {
   "cell_type": "code",
   "execution_count": 330,
   "metadata": {},
   "outputs": [],
   "source": [
    "# rebuild X1_rd and X2_rd\n",
    "X1_list = []\n",
    "X2_list = []\n",
    "#q_halflen = int(len(q_meta_train)/2)\n",
    "#q1_meta = q_meta_train[:q_halflen]\n",
    "#q2_meta = q_meta_train[q_halflen:]\n",
    "q1_ptr = 0\n",
    "for len_q1, _ in q_meta_train:\n",
    "    q1 = np.array(X_rd[q1_ptr:q1_ptr+len_q1])\n",
    "    #q2 = X2_rd_tmp[:len_q2]\n",
    "    X1_list.append(q1)\n",
    "    #X2_list.append(q2)\n",
    "    #X1_rd_tmp = X1_rd_tmp[len_q1:]\n",
    "    #X2_rd_tmp = X2_rd_tmp[len_q2:]\n",
    "    q1_ptr = q1_ptr+len_q1\n",
    "q2_ptr = q1_ptr\n",
    "for _, len_q2 in q_meta_train:\n",
    "    #q1 = X1_rd_tmp[q1_ptr:q1_ptr+len_q1]\n",
    "    q2 = np.array(X_rd[q2_ptr:q2_ptr+len_q2])\n",
    "    #X1_list.append(q1)\n",
    "    X2_list.append(q2)\n",
    "    #X1_rd_tmp = X1_rd_tmp[len_q1:]\n",
    "    #X2_rd_tmp = X2_rd_tmp[len_q2:]\n",
    "    q2_ptr = q2_ptr+len_q2\n",
    "X1_rd = np.array(X1_list)\n",
    "X2_rd = np.array(X2_list)"
   ]
  },
  {
   "cell_type": "code",
   "execution_count": 213,
   "metadata": {},
   "outputs": [],
   "source": [
    "del X1_list, X2_list, X_rd, X1_rd_tmp, X2_rd_tmp"
   ]
  },
  {
   "cell_type": "code",
   "execution_count": 42,
   "metadata": {},
   "outputs": [],
   "source": [
    "import dask.dataframe as dd\n",
    "from dask import delayed, compute\n",
    "from dask.distributed import Client\n",
    "from utils import dask\n",
    "client = dask.create_dask_client(num_workers=8)"
   ]
  },
  {
   "cell_type": "code",
   "execution_count": 214,
   "metadata": {},
   "outputs": [],
   "source": [
    "from sklearn.metrics.pairwise import linear_kernel, polynomial_kernel, sigmoid_kernel, laplacian_kernel, rbf_kernel\n",
    "from scipy.spatial.distance import cdist, directed_hausdorff\n",
    "def compute_pairwise_kernel(pc1, pc2, method='linear'):\n",
    "    if method=='polynomial':\n",
    "        return polynomial_kernel(pc1, pc2, 2)\n",
    "    elif method=='rbf':\n",
    "        return rbf_kernel(pc1, pc2)\n",
    "    elif method=='sigmoid':\n",
    "        return sigmoid_kernel(pc1, pc2)\n",
    "    elif method=='laplacian':\n",
    "        return laplacian_kernel(pc1, pc2)\n",
    "    else:\n",
    "        return linear_kernel(pc1, pc2)\n",
    "    \n",
    "def compute_pairwise_dist(pc1, pc2, method='euclidean'):\n",
    "    if pc1.size == 0:\n",
    "        return np.nan\n",
    "    if pc2.size == 0:\n",
    "        return np.nan\n",
    "    if method == 'hausdorff':\n",
    "        return directed_hausdorff(pc1, pc2)[0]\n",
    "    return np.mean(cdist(pc1, pc2, metric=method))\n",
    "        \n",
    "def assign_pwmetric(df, method='euclidean'):\n",
    "    #return compute_pairwise_kernel(pc1_embd, pc2_embd, method=method)\n",
    "    return df.apply(compute_pairwise_dist, method, axis=1)"
   ]
  },
  {
   "cell_type": "code",
   "execution_count": 326,
   "metadata": {},
   "outputs": [
    {
     "data": {
      "text/plain": [
       "[(3, 6),\n",
       " (4, 7),\n",
       " (5, 4),\n",
       " (7, 7),\n",
       " (5, 7),\n",
       " (4, 2),\n",
       " (4, 5),\n",
       " (3, 3),\n",
       " (8, 8),\n",
       " (6, 6),\n",
       " (5, 6),\n",
       " (4, 4),\n",
       " (3, 4),\n",
       " (3, 4),\n",
       " (10, 19),\n",
       " (4, 5),\n",
       " (8, 6),\n",
       " (4, 4),\n",
       " (4, 5),\n",
       " (4, 6)]"
      ]
     },
     "execution_count": 326,
     "metadata": {},
     "output_type": "execute_result"
    }
   ],
   "source": [
    "q_meta_train[-20:]"
   ]
  },
  {
   "cell_type": "code",
   "execution_count": 337,
   "metadata": {},
   "outputs": [
    {
     "data": {
      "text/plain": [
       "array([array([[-0.00171841,  0.00040429, -0.00041477],\n",
       "       [-0.00106731, -0.00099031,  0.00050008],\n",
       "       [-0.00389859,  0.00471625,  0.00320875]]),\n",
       "       array([[-0.00303273,  0.0012433 , -0.00013369],\n",
       "       [-0.00142547, -0.00013464, -0.00248457]]),\n",
       "       array([[-4.42830005e-03,  6.54272156e-03, -1.13187236e-03],\n",
       "       [-5.63124560e-03,  5.44332657e-03, -3.40553598e-03],\n",
       "       [-6.12664820e-03,  1.96141408e-03, -2.55055704e-03],\n",
       "       [ 6.50481743e-04,  3.54164642e-03,  3.86373919e-05]]),\n",
       "       ..., array([], shape=(0, 3), dtype=float64),\n",
       "       array([], shape=(0, 3), dtype=float64),\n",
       "       array([], shape=(0, 3), dtype=float64)], dtype=object)"
      ]
     },
     "execution_count": 337,
     "metadata": {},
     "output_type": "execute_result"
    }
   ],
   "source": [
    "X1_rd"
   ]
  },
  {
   "cell_type": "code",
   "execution_count": 215,
   "metadata": {},
   "outputs": [],
   "source": [
    "jaccard = []\n",
    "chebyshev = []\n",
    "braycurtis = []\n",
    "cosine = []\n",
    "correlation = []\n",
    "hamming = []\n",
    "canberra = []\n",
    "hausdorff = []\n",
    "#mahalanobis = []\n",
    "#yule = []\n",
    "#dice = []\n",
    "#kulsinski = []\n",
    "#rogerstanimoto = []\n",
    "#russellrao = []\n",
    "#sokalmichener = []\n",
    "for q_tuple in zip(X1_rd, X2_rd):\n",
    "    if q_tuple:\n",
    "        q1_rd, q2_rd = q_tuple\n",
    "        jaccard.append(delayed(compute_pairwise_dist)(q1_rd, q2_rd, 'jaccard'))\n",
    "        chebyshev.append(delayed(compute_pairwise_dist)(q1_rd, q2_rd, 'chebyshev'))\n",
    "        braycurtis.append(delayed(compute_pairwise_dist)(q1_rd, q2_rd, 'braycurtis'))\n",
    "        cosine.append(delayed(compute_pairwise_dist)(q1_rd, q2_rd, 'cosine'))\n",
    "        correlation.append(delayed(compute_pairwise_dist)(q1_rd, q2_rd, 'correlation'))\n",
    "        hamming.append(delayed(compute_pairwise_dist)(q1_rd, q2_rd, 'hamming'))\n",
    "        canberra.append(delayed(compute_pairwise_dist)(q1_rd, q2_rd, 'canberra'))\n",
    "        hausdorff.append(delayed(compute_pairwise_dist)(q1_rd, q2_rd, 'hausdorff'))\n",
    "        #mahalanobis.append(delayed(compute_pairwise_dist)(q1_rd, q2_rd, 'mahalanobis'))\n",
    "        #yule.append(delayed(compute_pairwise_dist)(q1_rd, q2_rd, 'yule'))\n",
    "        #dice.append(delayed(compute_pairwise_dist)(q1_rd, q2_rd, 'dice'))\n",
    "        #kulsinski.append(delayed(compute_pairwise_dist)(q1_rd, q2_rd, 'kulsinski'))\n",
    "        #rogerstanimoto.append(delayed(compute_pairwise_dist)(q1_rd, q2_rd, 'rogerstanimoto'))\n",
    "        #russellrao.append(delayed(compute_pairwise_dist)(q1_rd, q2_rd, 'russellrao'))\n",
    "        #sokalmichener.append(delayed(compute_pairwise_dist)(q1_rd, q2_rd, 'sokalmichener'))\n",
    "    else:\n",
    "        jaccard.append(delayed(np.nan))\n",
    "        chebyshev.append(delayed(np.nan))\n",
    "        braycurtis.append(delayed(np.nan)) \n",
    "        cosine.append(delayed(np.nan))\n",
    "        correlation.append(delayed(np.nan))\n",
    "        hamming.append(delayed(np.nan)) \n",
    "        canberra.append(delayed(np.nan))\n",
    "        hausdorff.append(delayed(np.nan))\n",
    "        #mahalanobis.append(delayed([]))\n",
    "        #yule.append(delayed([])) \n",
    "        #dice.append(delayed([]))\n",
    "        #kulsinski.append(delayed([]))\n",
    "        #rogerstanimoto.append(delayed([])) \n",
    "        #russellrao.append(delayed([]))\n",
    "        #sokalmichener.append(delayed([])) "
   ]
  },
  {
   "cell_type": "code",
   "execution_count": 216,
   "metadata": {},
   "outputs": [],
   "source": [
    "jaccard = compute(*jaccard)"
   ]
  },
  {
   "cell_type": "code",
   "execution_count": 217,
   "metadata": {},
   "outputs": [],
   "source": [
    "chebyshev = compute(*chebyshev)"
   ]
  },
  {
   "cell_type": "code",
   "execution_count": 218,
   "metadata": {},
   "outputs": [],
   "source": [
    "braycurtis = compute(*braycurtis)"
   ]
  },
  {
   "cell_type": "code",
   "execution_count": 219,
   "metadata": {},
   "outputs": [],
   "source": [
    "cosine = compute(*cosine)"
   ]
  },
  {
   "cell_type": "code",
   "execution_count": 220,
   "metadata": {},
   "outputs": [],
   "source": [
    "correlation = compute(*correlation)"
   ]
  },
  {
   "cell_type": "code",
   "execution_count": 221,
   "metadata": {},
   "outputs": [],
   "source": [
    "hamming = compute(*hamming)"
   ]
  },
  {
   "cell_type": "code",
   "execution_count": 222,
   "metadata": {},
   "outputs": [],
   "source": [
    "canberra = compute(*canberra)"
   ]
  },
  {
   "cell_type": "code",
   "execution_count": 223,
   "metadata": {},
   "outputs": [],
   "source": [
    "hausdorff = compute(*hausdorff)"
   ]
  },
  {
   "cell_type": "code",
   "execution_count": 140,
   "metadata": {},
   "outputs": [],
   "source": [
    "#yule = compute(*yule)"
   ]
  },
  {
   "cell_type": "code",
   "execution_count": 141,
   "metadata": {},
   "outputs": [],
   "source": [
    "#dice = compute(*dice)"
   ]
  },
  {
   "cell_type": "code",
   "execution_count": 142,
   "metadata": {},
   "outputs": [],
   "source": [
    "#kulsinski = compute(*kulsinski)"
   ]
  },
  {
   "cell_type": "code",
   "execution_count": 143,
   "metadata": {},
   "outputs": [],
   "source": [
    "#rogerstanimoto = compute(*rogerstanimoto)"
   ]
  },
  {
   "cell_type": "code",
   "execution_count": 144,
   "metadata": {},
   "outputs": [
    {
     "name": "stderr",
     "output_type": "stream",
     "text": [
      "distributed.utils_perf - WARNING - full garbage collections took 19% CPU time recently (threshold: 10%)\n"
     ]
    }
   ],
   "source": [
    "#russellrao = compute(*russellrao)"
   ]
  },
  {
   "cell_type": "code",
   "execution_count": 145,
   "metadata": {},
   "outputs": [
    {
     "name": "stderr",
     "output_type": "stream",
     "text": [
      "distributed.utils_perf - WARNING - full garbage collections took 20% CPU time recently (threshold: 10%)\n",
      "distributed.utils_perf - WARNING - full garbage collections took 20% CPU time recently (threshold: 10%)\n",
      "distributed.utils_perf - WARNING - full garbage collections took 20% CPU time recently (threshold: 10%)\n",
      "distributed.utils_perf - WARNING - full garbage collections took 20% CPU time recently (threshold: 10%)\n",
      "distributed.utils_perf - WARNING - full garbage collections took 21% CPU time recently (threshold: 10%)\n"
     ]
    }
   ],
   "source": [
    "#sokalmichener = compute(*sokalmichener)"
   ]
  },
  {
   "cell_type": "code",
   "execution_count": 224,
   "metadata": {},
   "outputs": [
    {
     "data": {
      "text/plain": [
       "50250"
      ]
     },
     "execution_count": 224,
     "metadata": {},
     "output_type": "execute_result"
    }
   ],
   "source": [
    "len(braycurtis)"
   ]
  },
  {
   "cell_type": "markdown",
   "metadata": {},
   "source": [
    "#### add above metrics to X_train"
   ]
  },
  {
   "cell_type": "code",
   "execution_count": 225,
   "metadata": {},
   "outputs": [
    {
     "data": {
      "text/html": [
       "<div>\n",
       "<style scoped>\n",
       "    .dataframe tbody tr th:only-of-type {\n",
       "        vertical-align: middle;\n",
       "    }\n",
       "\n",
       "    .dataframe tbody tr th {\n",
       "        vertical-align: top;\n",
       "    }\n",
       "\n",
       "    .dataframe thead th {\n",
       "        text-align: right;\n",
       "    }\n",
       "</style>\n",
       "<table border=\"1\" class=\"dataframe\">\n",
       "  <thead>\n",
       "    <tr style=\"text-align: right;\">\n",
       "      <th></th>\n",
       "      <th>qid1</th>\n",
       "      <th>qid2</th>\n",
       "      <th>question1</th>\n",
       "      <th>question2</th>\n",
       "      <th>jaccard</th>\n",
       "      <th>chebyshev</th>\n",
       "      <th>braycurtis</th>\n",
       "      <th>cosine</th>\n",
       "      <th>correlation</th>\n",
       "      <th>hamming</th>\n",
       "      <th>canberra</th>\n",
       "      <th>hausdorff</th>\n",
       "    </tr>\n",
       "    <tr>\n",
       "      <th>id</th>\n",
       "      <th></th>\n",
       "      <th></th>\n",
       "      <th></th>\n",
       "      <th></th>\n",
       "      <th></th>\n",
       "      <th></th>\n",
       "      <th></th>\n",
       "      <th></th>\n",
       "      <th></th>\n",
       "      <th></th>\n",
       "      <th></th>\n",
       "      <th></th>\n",
       "    </tr>\n",
       "  </thead>\n",
       "  <tbody>\n",
       "    <tr>\n",
       "      <th>71916</th>\n",
       "      <td>123674</td>\n",
       "      <td>123675</td>\n",
       "      <td>What are the uses nitrous oxide?</td>\n",
       "      <td>When is nitrous oxide used?</td>\n",
       "      <td>1.0</td>\n",
       "      <td>0.004183</td>\n",
       "      <td>0.749184</td>\n",
       "      <td>0.577846</td>\n",
       "      <td>0.849309</td>\n",
       "      <td>1.0</td>\n",
       "      <td>1.386667</td>\n",
       "      <td>0.007320</td>\n",
       "    </tr>\n",
       "    <tr>\n",
       "      <th>43137</th>\n",
       "      <td>77630</td>\n",
       "      <td>77631</td>\n",
       "      <td>Why is everyone craving for my attention?</td>\n",
       "      <td>Why do I crave attention?</td>\n",
       "      <td>1.0</td>\n",
       "      <td>0.004974</td>\n",
       "      <td>1.196143</td>\n",
       "      <td>1.049221</td>\n",
       "      <td>1.028845</td>\n",
       "      <td>1.0</td>\n",
       "      <td>2.483181</td>\n",
       "      <td>0.005846</td>\n",
       "    </tr>\n",
       "    <tr>\n",
       "      <th>66647</th>\n",
       "      <td>115486</td>\n",
       "      <td>115487</td>\n",
       "      <td>Amazing facts about female body?</td>\n",
       "      <td>Is Fantasy cricket leauge is legit and safe in...</td>\n",
       "      <td>1.0</td>\n",
       "      <td>0.006130</td>\n",
       "      <td>0.941305</td>\n",
       "      <td>0.914124</td>\n",
       "      <td>0.885923</td>\n",
       "      <td>1.0</td>\n",
       "      <td>2.034010</td>\n",
       "      <td>0.006177</td>\n",
       "    </tr>\n",
       "    <tr>\n",
       "      <th>21351</th>\n",
       "      <td>40208</td>\n",
       "      <td>24198</td>\n",
       "      <td>Why did not government changed 1000 rupees not...</td>\n",
       "      <td>Why did RBI choose to come out with a ₹2000 no...</td>\n",
       "      <td>1.0</td>\n",
       "      <td>0.006051</td>\n",
       "      <td>1.053847</td>\n",
       "      <td>1.055724</td>\n",
       "      <td>1.013987</td>\n",
       "      <td>1.0</td>\n",
       "      <td>2.433737</td>\n",
       "      <td>0.005185</td>\n",
       "    </tr>\n",
       "    <tr>\n",
       "      <th>68289</th>\n",
       "      <td>118038</td>\n",
       "      <td>118039</td>\n",
       "      <td>What are ideas for Mexican themed party food?</td>\n",
       "      <td>Where can I find Mexican food in mainland China?</td>\n",
       "      <td>1.0</td>\n",
       "      <td>0.003852</td>\n",
       "      <td>0.963405</td>\n",
       "      <td>0.849872</td>\n",
       "      <td>0.723745</td>\n",
       "      <td>1.0</td>\n",
       "      <td>2.430036</td>\n",
       "      <td>0.005125</td>\n",
       "    </tr>\n",
       "  </tbody>\n",
       "</table>\n",
       "</div>"
      ],
      "text/plain": [
       "         qid1    qid2                                          question1  \\\n",
       "id                                                                         \n",
       "71916  123674  123675                   What are the uses nitrous oxide?   \n",
       "43137   77630   77631          Why is everyone craving for my attention?   \n",
       "66647  115486  115487                   Amazing facts about female body?   \n",
       "21351   40208   24198  Why did not government changed 1000 rupees not...   \n",
       "68289  118038  118039      What are ideas for Mexican themed party food?   \n",
       "\n",
       "                                               question2  jaccard  chebyshev  \\\n",
       "id                                                                             \n",
       "71916                        When is nitrous oxide used?      1.0   0.004183   \n",
       "43137                          Why do I crave attention?      1.0   0.004974   \n",
       "66647  Is Fantasy cricket leauge is legit and safe in...      1.0   0.006130   \n",
       "21351  Why did RBI choose to come out with a ₹2000 no...      1.0   0.006051   \n",
       "68289   Where can I find Mexican food in mainland China?      1.0   0.003852   \n",
       "\n",
       "       braycurtis    cosine  correlation  hamming  canberra  hausdorff  \n",
       "id                                                                      \n",
       "71916    0.749184  0.577846     0.849309      1.0  1.386667   0.007320  \n",
       "43137    1.196143  1.049221     1.028845      1.0  2.483181   0.005846  \n",
       "66647    0.941305  0.914124     0.885923      1.0  2.034010   0.006177  \n",
       "21351    1.053847  1.055724     1.013987      1.0  2.433737   0.005185  \n",
       "68289    0.963405  0.849872     0.723745      1.0  2.430036   0.005125  "
      ]
     },
     "execution_count": 225,
     "metadata": {},
     "output_type": "execute_result"
    }
   ],
   "source": [
    "X_train = pd.concat([X_train,\n",
    "                     pd.Series(jaccard, name='jaccard',index=X_train.index), \n",
    "                     pd.Series(chebyshev, name='chebyshev',index=X_train.index), \n",
    "                     pd.Series(braycurtis, name='braycurtis',index=X_train.index), \n",
    "                     pd.Series(cosine, name='cosine',index=X_train.index), \n",
    "                     pd.Series(correlation, name='correlation',index=X_train.index), \n",
    "                     pd.Series(hamming, name='hamming',index=X_train.index), \n",
    "                     pd.Series(canberra, name='canberra',index=X_train.index) , \n",
    "                     pd.Series(hausdorff, name='hausdorff',index=X_train.index)\n",
    "                     #pd.Series(yule, name='yule',index=X_train.index), \n",
    "                     #pd.Series(dice, name='dice',index=X_train.index), \n",
    "                     #pd.Series(kulsinski, name='kulsinski',index=X_train.index), \n",
    "                     #pd.Series(rogerstanimoto, name='rogerstanimoto',index=X_train.index), \n",
    "                     #pd.Series(russellrao, name='russellrao',index=X_train.index), \n",
    "                     #pd.Series(sokalmichener, name='sokalmichener',index=X_train.index)\n",
    "                    ], axis=1)\n",
    "X_train.head()"
   ]
  },
  {
   "cell_type": "markdown",
   "metadata": {},
   "source": [
    "##### Test set"
   ]
  },
  {
   "cell_type": "code",
   "execution_count": 357,
   "metadata": {},
   "outputs": [],
   "source": [
    "q_meta_test = [(q1_len, q2_len) for q1_len, q2_len in zip(get_q_lengths(X1_ft_test), get_q_lengths(X2_ft_test))]"
   ]
  },
  {
   "cell_type": "code",
   "execution_count": 358,
   "metadata": {},
   "outputs": [],
   "source": [
    "X_test_300 = np.concatenate( \n",
    "    np.vstack( [np.array(np.vsplit(y, y.shape[0])) for y in (x for x in X_ft_test if x.size>0)] )\n",
    ")"
   ]
  },
  {
   "cell_type": "code",
   "execution_count": null,
   "metadata": {},
   "outputs": [],
   "source": [
    "X_test_300.shape"
   ]
  },
  {
   "cell_type": "code",
   "execution_count": 359,
   "metadata": {},
   "outputs": [],
   "source": [
    "from scipy.io import mmwrite, mmread\n",
    "mmwrite( 'wor2vec_300_test.mtx', X_test_300 )"
   ]
  },
  {
   "cell_type": "code",
   "execution_count": 360,
   "metadata": {},
   "outputs": [
    {
     "name": "stdout",
     "output_type": "stream",
     "text": [
      "pushed file wor2vec_300_test.mtx from wor2vec_300_test.mtx to minio bucket dq-data\n"
     ]
    },
    {
     "data": {
      "text/plain": [
       "True"
      ]
     },
     "execution_count": 360,
     "metadata": {},
     "output_type": "execute_result"
    }
   ],
   "source": [
    "ps.copy_file(dest_bucket=INPUT_BUCKET, file='wor2vec_300_test.mtx', source='wor2vec_300_test.mtx')"
   ]
  },
  {
   "cell_type": "code",
   "execution_count": 187,
   "metadata": {},
   "outputs": [],
   "source": [
    "del X_test_300"
   ]
  },
  {
   "cell_type": "code",
   "execution_count": 71,
   "metadata": {},
   "outputs": [
    {
     "data": {
      "text/plain": [
       "<minio.definitions.Object at 0x7fd07388fc18>"
      ]
     },
     "execution_count": 71,
     "metadata": {},
     "output_type": "execute_result"
    }
   ],
   "source": [
    "ps.get_file(bucket=INPUT_BUCKET, filename='embed_test.mtx', filepath='embed_test.mtx')"
   ]
  },
  {
   "cell_type": "code",
   "execution_count": 226,
   "metadata": {},
   "outputs": [],
   "source": [
    "from scipy.io import mmread\n",
    "X_rd_test = mmread('embed_test.mtx')"
   ]
  },
  {
   "cell_type": "code",
   "execution_count": 227,
   "metadata": {},
   "outputs": [
    {
     "data": {
      "text/plain": [
       "(49454, 3)"
      ]
     },
     "execution_count": 227,
     "metadata": {},
     "output_type": "execute_result"
    }
   ],
   "source": [
    "X_rd_test.shape"
   ]
  },
  {
   "cell_type": "code",
   "execution_count": 228,
   "metadata": {},
   "outputs": [],
   "source": [
    "# rebuild X1_rd and X2_rd\n",
    "X1_list = []\n",
    "X2_list = []\n",
    "q_halflen = int(len(q_meta_test)/2)\n",
    "q1_meta = q_meta_test[:q_halflen]\n",
    "q2_meta = q_meta_test[q_halflen:]\n",
    "X_rd_halflen = int(X_rd_test.shape[0]/2)\n",
    "X1_rd_tmp = X_rd_test[:X_rd_halflen]\n",
    "X2_rd_tmp = X_rd_test[X_rd_halflen:]\n",
    "for len_q1, len_q2 in zip(q1_meta, q2_meta):\n",
    "    q1 = X1_rd_tmp[:len_q1]\n",
    "    q2 = X2_rd_tmp[:len_q2]\n",
    "    X1_list.append(q1)\n",
    "    X2_list.append(q2)\n",
    "    X1_rd_tmp = X1_rd_tmp[len_q1:]\n",
    "    X2_rd_tmp = X2_rd_tmp[len_q2:]\n",
    "X1_rd_test = np.array(X1_list)\n",
    "X2_rd_test = np.array(X2_list)"
   ]
  },
  {
   "cell_type": "code",
   "execution_count": 229,
   "metadata": {},
   "outputs": [
    {
     "data": {
      "text/plain": [
       "(24750,)"
      ]
     },
     "execution_count": 229,
     "metadata": {},
     "output_type": "execute_result"
    }
   ],
   "source": [
    "X1_rd_test.shape"
   ]
  },
  {
   "cell_type": "code",
   "execution_count": 230,
   "metadata": {},
   "outputs": [],
   "source": [
    "del X1_list, X2_list, q1_meta, q2_meta, X_rd_test, X1_rd_tmp, X2_rd_tmp"
   ]
  },
  {
   "cell_type": "code",
   "execution_count": 231,
   "metadata": {},
   "outputs": [],
   "source": [
    "jaccard_test = []\n",
    "chebyshev_test = []\n",
    "braycurtis_test = []\n",
    "cosine_test = []\n",
    "correlation_test = []\n",
    "hamming_test = []\n",
    "canberra_test = []\n",
    "hausdorff_test = []\n",
    "#mahalanobis_test = []\n",
    "#yule_test = []\n",
    "#dice_test = []\n",
    "#kulsinski_test = []\n",
    "#rogerstanimoto_test = []\n",
    "#russellrao_test = []\n",
    "#sokalmichener_test = []\n",
    "for q_tuple in zip(X1_rd_test, X2_rd_test):\n",
    "    if q_tuple:\n",
    "        q1_rd, q2_rd = q_tuple\n",
    "        jaccard_test.append(delayed(compute_pairwise_dist)(q1_rd, q2_rd, 'jaccard'))\n",
    "        chebyshev_test.append(delayed(compute_pairwise_dist)(q1_rd, q2_rd, 'chebyshev'))\n",
    "        braycurtis_test.append(delayed(compute_pairwise_dist)(q1_rd, q2_rd, 'braycurtis'))\n",
    "        cosine_test.append(delayed(compute_pairwise_dist)(q1_rd, q2_rd, 'cosine'))\n",
    "        correlation_test.append(delayed(compute_pairwise_dist)(q1_rd, q2_rd, 'correlation'))\n",
    "        hamming_test.append(delayed(compute_pairwise_dist)(q1_rd, q2_rd, 'hamming'))\n",
    "        canberra_test.append(delayed(compute_pairwise_dist)(q1_rd, q2_rd, 'canberra'))\n",
    "        hausdorff_test.append(delayed(compute_pairwise_dist)(q1_rd, q2_rd, 'hausdorff'))\n",
    "        #mahalanobis_test.append(delayed(compute_pairwise_dist)(q1_rd, q2_rd, 'mahalanobis'))\n",
    "        #yule_test.append(delayed(compute_pairwise_dist)(q1_rd, q2_rd, 'yule'))\n",
    "        #dice_test.append(delayed(compute_pairwise_dist)(q1_rd, q2_rd, 'dice'))\n",
    "        #kulsinski_test.append(delayed(compute_pairwise_dist)(q1_rd, q2_rd, 'kulsinski'))\n",
    "        #rogerstanimoto_test.append(delayed(compute_pairwise_dist)(q1_rd, q2_rd, 'rogerstanimoto'))\n",
    "        #russellrao_test.append(delayed(compute_pairwise_dist)(q1_rd, q2_rd, 'russellrao'))\n",
    "        #sokalmichener_test.append(delayed(compute_pairwise_dist)(q1_rd, q2_rd, 'sokalmichener'))\n",
    "    else:\n",
    "        jaccard_test.append(delayed(np.nan))\n",
    "        chebyshev_test.append(delayed(np.nan))\n",
    "        braycurtis_test.append(delayed(np.nan)) \n",
    "        cosine_test.append(delayed(np.nan))\n",
    "        correlation_test.append(delayed(np.nan))\n",
    "        hamming_test.append(delayed(np.nan)) \n",
    "        canberra_test.append(delayed(np.nan))\n",
    "        hausdorff_test.append(delayed(np.nan))\n",
    "        #mahalanobis_test.append(delayed([]))\n",
    "        #yule_test.append(delayed([])) \n",
    "        #dice_test.append(delayed([]))\n",
    "        #kulsinski_test.append(delayed([]))\n",
    "        #rogerstanimoto_test.append(delayed([])) \n",
    "        #russellrao_test.append(delayed([]))\n",
    "        #sokalmichener_test.append(delayed([])) "
   ]
  },
  {
   "cell_type": "code",
   "execution_count": 232,
   "metadata": {},
   "outputs": [],
   "source": [
    "jaccard_test = compute(*jaccard_test)"
   ]
  },
  {
   "cell_type": "code",
   "execution_count": 233,
   "metadata": {},
   "outputs": [],
   "source": [
    "chebyshev_test = compute(*chebyshev_test)"
   ]
  },
  {
   "cell_type": "code",
   "execution_count": 234,
   "metadata": {},
   "outputs": [],
   "source": [
    "braycurtis_test = compute(*braycurtis_test)"
   ]
  },
  {
   "cell_type": "code",
   "execution_count": 235,
   "metadata": {},
   "outputs": [],
   "source": [
    "cosine_test = compute(*cosine_test)"
   ]
  },
  {
   "cell_type": "code",
   "execution_count": 236,
   "metadata": {},
   "outputs": [],
   "source": [
    "correlation_test = compute(*correlation_test)"
   ]
  },
  {
   "cell_type": "code",
   "execution_count": 237,
   "metadata": {},
   "outputs": [],
   "source": [
    "hamming_test = compute(*hamming_test)"
   ]
  },
  {
   "cell_type": "code",
   "execution_count": 238,
   "metadata": {},
   "outputs": [],
   "source": [
    "canberra_test = compute(*canberra_test)"
   ]
  },
  {
   "cell_type": "code",
   "execution_count": 239,
   "metadata": {},
   "outputs": [],
   "source": [
    "hausdorff_test = compute(*hausdorff_test)"
   ]
  },
  {
   "cell_type": "code",
   "execution_count": 190,
   "metadata": {},
   "outputs": [],
   "source": [
    "#mahalanobis_test = compute(*mahalanobis_test)"
   ]
  },
  {
   "cell_type": "code",
   "execution_count": 191,
   "metadata": {},
   "outputs": [
    {
     "name": "stderr",
     "output_type": "stream",
     "text": [
      "distributed.utils_perf - WARNING - full garbage collections took 23% CPU time recently (threshold: 10%)\n",
      "distributed.utils_perf - WARNING - full garbage collections took 23% CPU time recently (threshold: 10%)\n",
      "distributed.utils_perf - WARNING - full garbage collections took 23% CPU time recently (threshold: 10%)\n",
      "distributed.utils_perf - WARNING - full garbage collections took 23% CPU time recently (threshold: 10%)\n"
     ]
    }
   ],
   "source": [
    "#yule_test = compute(*yule_test)"
   ]
  },
  {
   "cell_type": "code",
   "execution_count": 192,
   "metadata": {},
   "outputs": [
    {
     "name": "stderr",
     "output_type": "stream",
     "text": [
      "distributed.utils_perf - WARNING - full garbage collections took 24% CPU time recently (threshold: 10%)\n",
      "distributed.utils_perf - WARNING - full garbage collections took 24% CPU time recently (threshold: 10%)\n",
      "distributed.utils_perf - WARNING - full garbage collections took 24% CPU time recently (threshold: 10%)\n",
      "distributed.utils_perf - WARNING - full garbage collections took 24% CPU time recently (threshold: 10%)\n"
     ]
    }
   ],
   "source": [
    "#dice_test = compute(*dice_test)"
   ]
  },
  {
   "cell_type": "code",
   "execution_count": 193,
   "metadata": {},
   "outputs": [
    {
     "name": "stderr",
     "output_type": "stream",
     "text": [
      "distributed.utils_perf - WARNING - full garbage collections took 24% CPU time recently (threshold: 10%)\n",
      "distributed.utils_perf - WARNING - full garbage collections took 24% CPU time recently (threshold: 10%)\n",
      "distributed.utils_perf - WARNING - full garbage collections took 24% CPU time recently (threshold: 10%)\n",
      "distributed.utils_perf - WARNING - full garbage collections took 24% CPU time recently (threshold: 10%)\n"
     ]
    }
   ],
   "source": [
    "#kulsinski_test = compute(*kulsinski_test)"
   ]
  },
  {
   "cell_type": "code",
   "execution_count": 194,
   "metadata": {},
   "outputs": [
    {
     "name": "stderr",
     "output_type": "stream",
     "text": [
      "distributed.utils_perf - WARNING - full garbage collections took 24% CPU time recently (threshold: 10%)\n",
      "distributed.utils_perf - WARNING - full garbage collections took 24% CPU time recently (threshold: 10%)\n",
      "distributed.utils_perf - WARNING - full garbage collections took 24% CPU time recently (threshold: 10%)\n",
      "distributed.utils_perf - WARNING - full garbage collections took 24% CPU time recently (threshold: 10%)\n",
      "distributed.utils_perf - WARNING - full garbage collections took 24% CPU time recently (threshold: 10%)\n"
     ]
    }
   ],
   "source": [
    "#rogerstanimoto_test = compute(*rogerstanimoto_test)"
   ]
  },
  {
   "cell_type": "code",
   "execution_count": 195,
   "metadata": {},
   "outputs": [
    {
     "name": "stderr",
     "output_type": "stream",
     "text": [
      "distributed.utils_perf - WARNING - full garbage collections took 24% CPU time recently (threshold: 10%)\n",
      "distributed.utils_perf - WARNING - full garbage collections took 24% CPU time recently (threshold: 10%)\n",
      "distributed.utils_perf - WARNING - full garbage collections took 24% CPU time recently (threshold: 10%)\n",
      "distributed.utils_perf - WARNING - full garbage collections took 24% CPU time recently (threshold: 10%)\n"
     ]
    }
   ],
   "source": [
    "#russellrao_test = compute(*russellrao_test)"
   ]
  },
  {
   "cell_type": "code",
   "execution_count": 196,
   "metadata": {},
   "outputs": [
    {
     "name": "stderr",
     "output_type": "stream",
     "text": [
      "distributed.utils_perf - WARNING - full garbage collections took 23% CPU time recently (threshold: 10%)\n",
      "distributed.utils_perf - WARNING - full garbage collections took 23% CPU time recently (threshold: 10%)\n",
      "distributed.utils_perf - WARNING - full garbage collections took 23% CPU time recently (threshold: 10%)\n",
      "distributed.utils_perf - WARNING - full garbage collections took 23% CPU time recently (threshold: 10%)\n",
      "distributed.utils_perf - WARNING - full garbage collections took 23% CPU time recently (threshold: 10%)\n"
     ]
    }
   ],
   "source": [
    "#sokalmichener_test = compute(*sokalmichener_test)"
   ]
  },
  {
   "cell_type": "code",
   "execution_count": 240,
   "metadata": {},
   "outputs": [
    {
     "data": {
      "text/html": [
       "<div>\n",
       "<style scoped>\n",
       "    .dataframe tbody tr th:only-of-type {\n",
       "        vertical-align: middle;\n",
       "    }\n",
       "\n",
       "    .dataframe tbody tr th {\n",
       "        vertical-align: top;\n",
       "    }\n",
       "\n",
       "    .dataframe thead th {\n",
       "        text-align: right;\n",
       "    }\n",
       "</style>\n",
       "<table border=\"1\" class=\"dataframe\">\n",
       "  <thead>\n",
       "    <tr style=\"text-align: right;\">\n",
       "      <th></th>\n",
       "      <th>qid1</th>\n",
       "      <th>qid2</th>\n",
       "      <th>question1</th>\n",
       "      <th>question2</th>\n",
       "      <th>jaccard</th>\n",
       "      <th>chebyshev</th>\n",
       "      <th>braycurtis</th>\n",
       "      <th>cosine</th>\n",
       "      <th>correlation</th>\n",
       "      <th>hamming</th>\n",
       "      <th>canberra</th>\n",
       "      <th>hausdorff</th>\n",
       "    </tr>\n",
       "    <tr>\n",
       "      <th>id</th>\n",
       "      <th></th>\n",
       "      <th></th>\n",
       "      <th></th>\n",
       "      <th></th>\n",
       "      <th></th>\n",
       "      <th></th>\n",
       "      <th></th>\n",
       "      <th></th>\n",
       "      <th></th>\n",
       "      <th></th>\n",
       "      <th></th>\n",
       "      <th></th>\n",
       "    </tr>\n",
       "  </thead>\n",
       "  <tbody>\n",
       "    <tr>\n",
       "      <th>26837</th>\n",
       "      <td>49895</td>\n",
       "      <td>49896</td>\n",
       "      <td>Why can aquatic animals survive in frozen lake...</td>\n",
       "      <td>When a lake freezes over entirely, how do the ...</td>\n",
       "      <td>1.0</td>\n",
       "      <td>0.004548</td>\n",
       "      <td>1.024092</td>\n",
       "      <td>0.758146</td>\n",
       "      <td>0.754297</td>\n",
       "      <td>1.0</td>\n",
       "      <td>2.043331</td>\n",
       "      <td>0.000195</td>\n",
       "    </tr>\n",
       "    <tr>\n",
       "      <th>2592</th>\n",
       "      <td>5150</td>\n",
       "      <td>5151</td>\n",
       "      <td>What kind of bird is this please?</td>\n",
       "      <td>What kind of bird has teeth?</td>\n",
       "      <td>1.0</td>\n",
       "      <td>0.008146</td>\n",
       "      <td>0.984704</td>\n",
       "      <td>0.662968</td>\n",
       "      <td>0.884503</td>\n",
       "      <td>1.0</td>\n",
       "      <td>2.430144</td>\n",
       "      <td>0.008853</td>\n",
       "    </tr>\n",
       "    <tr>\n",
       "      <th>18359</th>\n",
       "      <td>34790</td>\n",
       "      <td>34791</td>\n",
       "      <td>Is it tacky for my step mom to wear the weddin...</td>\n",
       "      <td>What did Jack Reacher mean when he said, \"The ...</td>\n",
       "      <td>1.0</td>\n",
       "      <td>0.005041</td>\n",
       "      <td>0.608893</td>\n",
       "      <td>0.535137</td>\n",
       "      <td>0.849425</td>\n",
       "      <td>1.0</td>\n",
       "      <td>1.715228</td>\n",
       "      <td>0.014650</td>\n",
       "    </tr>\n",
       "    <tr>\n",
       "      <th>73292</th>\n",
       "      <td>125781</td>\n",
       "      <td>125782</td>\n",
       "      <td>What are the basic building blocks of matter?</td>\n",
       "      <td>What are the basic building blocks of SEO?</td>\n",
       "      <td>1.0</td>\n",
       "      <td>0.006368</td>\n",
       "      <td>1.004397</td>\n",
       "      <td>1.019846</td>\n",
       "      <td>1.054118</td>\n",
       "      <td>1.0</td>\n",
       "      <td>2.265732</td>\n",
       "      <td>0.008221</td>\n",
       "    </tr>\n",
       "    <tr>\n",
       "      <th>60127</th>\n",
       "      <td>105210</td>\n",
       "      <td>105211</td>\n",
       "      <td>Do pigeons have feelings?</td>\n",
       "      <td>Does every country have pigeons?</td>\n",
       "      <td>1.0</td>\n",
       "      <td>0.004689</td>\n",
       "      <td>0.753609</td>\n",
       "      <td>0.613558</td>\n",
       "      <td>0.973406</td>\n",
       "      <td>1.0</td>\n",
       "      <td>2.190644</td>\n",
       "      <td>0.005121</td>\n",
       "    </tr>\n",
       "  </tbody>\n",
       "</table>\n",
       "</div>"
      ],
      "text/plain": [
       "         qid1    qid2                                          question1  \\\n",
       "id                                                                         \n",
       "26837   49895   49896  Why can aquatic animals survive in frozen lake...   \n",
       "2592     5150    5151                  What kind of bird is this please?   \n",
       "18359   34790   34791  Is it tacky for my step mom to wear the weddin...   \n",
       "73292  125781  125782      What are the basic building blocks of matter?   \n",
       "60127  105210  105211                          Do pigeons have feelings?   \n",
       "\n",
       "                                               question2  jaccard  chebyshev  \\\n",
       "id                                                                             \n",
       "26837  When a lake freezes over entirely, how do the ...      1.0   0.004548   \n",
       "2592                        What kind of bird has teeth?      1.0   0.008146   \n",
       "18359  What did Jack Reacher mean when he said, \"The ...      1.0   0.005041   \n",
       "73292         What are the basic building blocks of SEO?      1.0   0.006368   \n",
       "60127                   Does every country have pigeons?      1.0   0.004689   \n",
       "\n",
       "       braycurtis    cosine  correlation  hamming  canberra  hausdorff  \n",
       "id                                                                      \n",
       "26837    1.024092  0.758146     0.754297      1.0  2.043331   0.000195  \n",
       "2592     0.984704  0.662968     0.884503      1.0  2.430144   0.008853  \n",
       "18359    0.608893  0.535137     0.849425      1.0  1.715228   0.014650  \n",
       "73292    1.004397  1.019846     1.054118      1.0  2.265732   0.008221  \n",
       "60127    0.753609  0.613558     0.973406      1.0  2.190644   0.005121  "
      ]
     },
     "execution_count": 240,
     "metadata": {},
     "output_type": "execute_result"
    }
   ],
   "source": [
    "X_test = pd.concat([X_test, \n",
    "                     pd.Series(jaccard_test, name='jaccard',index=X_test.index), \n",
    "                     pd.Series(chebyshev_test, name='chebyshev',index=X_test.index), \n",
    "                     pd.Series(braycurtis_test, name='braycurtis',index=X_test.index), \n",
    "                     pd.Series(cosine_test, name='cosine',index=X_test.index), \n",
    "                     pd.Series(correlation_test, name='correlation',index=X_test.index), \n",
    "                     pd.Series(hamming_test, name='hamming',index=X_test.index), \n",
    "                     pd.Series(canberra_test, name='canberra',index=X_test.index),\n",
    "                     pd.Series(hausdorff_test, name='hausdorff',index=X_test.index) \n",
    "                     #pd.Series(yule_test, name='yule',index=X_test.index), \n",
    "                     #pd.Series(dice_test, name='dice',index=X_test.index), \n",
    "                     #pd.Series(kulsinski_test, name='kulsinski',index=X_test.index), \n",
    "                     #pd.Series(rogerstanimoto_test, name='rogerstanimoto',index=X_test.index), \n",
    "                     #pd.Series(russellrao_test, name='russellrao',index=X_test.index), \n",
    "                     #pd.Series(sokalmichener_test, name='sokalmichener',index=X_test.index)\n",
    "                    ], axis=1)\n",
    "X_test.head()"
   ]
  },
  {
   "cell_type": "markdown",
   "metadata": {},
   "source": [
    "### TFIDF"
   ]
  },
  {
   "cell_type": "code",
   "execution_count": null,
   "metadata": {},
   "outputs": [],
   "source": [
    "from sklearn.feature_extraction.text import TfidfVectorizer\n",
    "pass_through = lambda x:x\n",
    "tfidf = TfidfVectorizer(analyzer=pass_through)\n",
    "X_trfmd = tfidf.fit_transform(get_tokens('train'))"
   ]
  },
  {
   "cell_type": "code",
   "execution_count": null,
   "metadata": {},
   "outputs": [],
   "source": [
    "X_trfmd"
   ]
  },
  {
   "cell_type": "code",
   "execution_count": null,
   "metadata": {},
   "outputs": [],
   "source": [
    "# dimension reduction using SVD\n",
    "from sklearn.decomposition import TruncatedSVD\n",
    "import time\n",
    "start = time.time()\n",
    "svd = TruncatedSVD(n_components=100, n_iter=7, random_state=42)\n",
    "X_svd = svd.fit_transform(X_trfmd)\n",
    "end =  time.time()\n",
    "print('created SVD transform in time {}'.format(end-start))"
   ]
  },
  {
   "cell_type": "code",
   "execution_count": null,
   "metadata": {},
   "outputs": [],
   "source": [
    "X_svd.shape"
   ]
  },
  {
   "cell_type": "code",
   "execution_count": null,
   "metadata": {},
   "outputs": [],
   "source": [
    "# split back into two\n",
    "X1 = X_svd[:len(X_train), :]\n",
    "X2 = X_svd[len(X_train):, :]"
   ]
  },
  {
   "cell_type": "markdown",
   "metadata": {},
   "source": [
    "##### Test set"
   ]
  },
  {
   "cell_type": "code",
   "execution_count": null,
   "metadata": {},
   "outputs": [],
   "source": [
    "X_test_trfmd = tfidf.transform(get_tokens('test'))"
   ]
  },
  {
   "cell_type": "code",
   "execution_count": null,
   "metadata": {},
   "outputs": [],
   "source": [
    "X_test_trfmd"
   ]
  },
  {
   "cell_type": "code",
   "execution_count": null,
   "metadata": {},
   "outputs": [],
   "source": [
    "# dimension reduction using SVD\n",
    "start = time.time()\n",
    "X_test_svd = svd.transform(X_test_trfmd)\n",
    "end =  time.time()\n",
    "print('created SVD transform in time {}'.format(end-start))"
   ]
  },
  {
   "cell_type": "code",
   "execution_count": null,
   "metadata": {},
   "outputs": [],
   "source": [
    "# split back into two\n",
    "X1_test = X_test_svd[:len(X_test), :]\n",
    "X2_test = X_test_svd[len(X_test):, :]"
   ]
  },
  {
   "cell_type": "code",
   "execution_count": null,
   "metadata": {},
   "outputs": [],
   "source": [
    "# build complete feature dataframe\n",
    "X_test_temp = pd.concat([pd.DataFrame(X1_test, columns=['q1_'+str(i) for i in range(X1_test.shape[1])], index=X_test.index), \n",
    "                    pd.DataFrame(X2_test, columns=['q2_'+str(i) for i in range(X2_test.shape[1])], index=X_test.index)], axis=1)\n",
    "X_test_temp.head()"
   ]
  },
  {
   "cell_type": "markdown",
   "metadata": {},
   "source": [
    "### Fuzzy-wuzzy"
   ]
  },
  {
   "cell_type": "code",
   "execution_count": 241,
   "metadata": {},
   "outputs": [
    {
     "data": {
      "text/html": [
       "<div>\n",
       "<style scoped>\n",
       "    .dataframe tbody tr th:only-of-type {\n",
       "        vertical-align: middle;\n",
       "    }\n",
       "\n",
       "    .dataframe tbody tr th {\n",
       "        vertical-align: top;\n",
       "    }\n",
       "\n",
       "    .dataframe thead th {\n",
       "        text-align: right;\n",
       "    }\n",
       "</style>\n",
       "<table border=\"1\" class=\"dataframe\">\n",
       "  <thead>\n",
       "    <tr style=\"text-align: right;\">\n",
       "      <th></th>\n",
       "      <th>qid1</th>\n",
       "      <th>qid2</th>\n",
       "      <th>question1</th>\n",
       "      <th>question2</th>\n",
       "      <th>jaccard</th>\n",
       "      <th>chebyshev</th>\n",
       "      <th>braycurtis</th>\n",
       "      <th>cosine</th>\n",
       "      <th>correlation</th>\n",
       "      <th>hamming</th>\n",
       "      <th>canberra</th>\n",
       "      <th>hausdorff</th>\n",
       "      <th>size_diff</th>\n",
       "    </tr>\n",
       "    <tr>\n",
       "      <th>id</th>\n",
       "      <th></th>\n",
       "      <th></th>\n",
       "      <th></th>\n",
       "      <th></th>\n",
       "      <th></th>\n",
       "      <th></th>\n",
       "      <th></th>\n",
       "      <th></th>\n",
       "      <th></th>\n",
       "      <th></th>\n",
       "      <th></th>\n",
       "      <th></th>\n",
       "      <th></th>\n",
       "    </tr>\n",
       "  </thead>\n",
       "  <tbody>\n",
       "    <tr>\n",
       "      <th>71916</th>\n",
       "      <td>123674</td>\n",
       "      <td>123675</td>\n",
       "      <td>What are the uses nitrous oxide?</td>\n",
       "      <td>When is nitrous oxide used?</td>\n",
       "      <td>1.0</td>\n",
       "      <td>0.004183</td>\n",
       "      <td>0.749184</td>\n",
       "      <td>0.577846</td>\n",
       "      <td>0.849309</td>\n",
       "      <td>1.0</td>\n",
       "      <td>1.386667</td>\n",
       "      <td>0.007320</td>\n",
       "      <td>5</td>\n",
       "    </tr>\n",
       "    <tr>\n",
       "      <th>43137</th>\n",
       "      <td>77630</td>\n",
       "      <td>77631</td>\n",
       "      <td>Why is everyone craving for my attention?</td>\n",
       "      <td>Why do I crave attention?</td>\n",
       "      <td>1.0</td>\n",
       "      <td>0.004974</td>\n",
       "      <td>1.196143</td>\n",
       "      <td>1.049221</td>\n",
       "      <td>1.028845</td>\n",
       "      <td>1.0</td>\n",
       "      <td>2.483181</td>\n",
       "      <td>0.005846</td>\n",
       "      <td>16</td>\n",
       "    </tr>\n",
       "    <tr>\n",
       "      <th>66647</th>\n",
       "      <td>115486</td>\n",
       "      <td>115487</td>\n",
       "      <td>Amazing facts about female body?</td>\n",
       "      <td>Is Fantasy cricket leauge is legit and safe in...</td>\n",
       "      <td>1.0</td>\n",
       "      <td>0.006130</td>\n",
       "      <td>0.941305</td>\n",
       "      <td>0.914124</td>\n",
       "      <td>0.885923</td>\n",
       "      <td>1.0</td>\n",
       "      <td>2.034010</td>\n",
       "      <td>0.006177</td>\n",
       "      <td>82</td>\n",
       "    </tr>\n",
       "    <tr>\n",
       "      <th>21351</th>\n",
       "      <td>40208</td>\n",
       "      <td>24198</td>\n",
       "      <td>Why did not government changed 1000 rupees not...</td>\n",
       "      <td>Why did RBI choose to come out with a ₹2000 no...</td>\n",
       "      <td>1.0</td>\n",
       "      <td>0.006051</td>\n",
       "      <td>1.053847</td>\n",
       "      <td>1.055724</td>\n",
       "      <td>1.013987</td>\n",
       "      <td>1.0</td>\n",
       "      <td>2.433737</td>\n",
       "      <td>0.005185</td>\n",
       "      <td>3</td>\n",
       "    </tr>\n",
       "    <tr>\n",
       "      <th>68289</th>\n",
       "      <td>118038</td>\n",
       "      <td>118039</td>\n",
       "      <td>What are ideas for Mexican themed party food?</td>\n",
       "      <td>Where can I find Mexican food in mainland China?</td>\n",
       "      <td>1.0</td>\n",
       "      <td>0.003852</td>\n",
       "      <td>0.963405</td>\n",
       "      <td>0.849872</td>\n",
       "      <td>0.723745</td>\n",
       "      <td>1.0</td>\n",
       "      <td>2.430036</td>\n",
       "      <td>0.005125</td>\n",
       "      <td>3</td>\n",
       "    </tr>\n",
       "  </tbody>\n",
       "</table>\n",
       "</div>"
      ],
      "text/plain": [
       "         qid1    qid2                                          question1  \\\n",
       "id                                                                         \n",
       "71916  123674  123675                   What are the uses nitrous oxide?   \n",
       "43137   77630   77631          Why is everyone craving for my attention?   \n",
       "66647  115486  115487                   Amazing facts about female body?   \n",
       "21351   40208   24198  Why did not government changed 1000 rupees not...   \n",
       "68289  118038  118039      What are ideas for Mexican themed party food?   \n",
       "\n",
       "                                               question2  jaccard  chebyshev  \\\n",
       "id                                                                             \n",
       "71916                        When is nitrous oxide used?      1.0   0.004183   \n",
       "43137                          Why do I crave attention?      1.0   0.004974   \n",
       "66647  Is Fantasy cricket leauge is legit and safe in...      1.0   0.006130   \n",
       "21351  Why did RBI choose to come out with a ₹2000 no...      1.0   0.006051   \n",
       "68289   Where can I find Mexican food in mainland China?      1.0   0.003852   \n",
       "\n",
       "       braycurtis    cosine  correlation  hamming  canberra  hausdorff  \\\n",
       "id                                                                       \n",
       "71916    0.749184  0.577846     0.849309      1.0  1.386667   0.007320   \n",
       "43137    1.196143  1.049221     1.028845      1.0  2.483181   0.005846   \n",
       "66647    0.941305  0.914124     0.885923      1.0  2.034010   0.006177   \n",
       "21351    1.053847  1.055724     1.013987      1.0  2.433737   0.005185   \n",
       "68289    0.963405  0.849872     0.723745      1.0  2.430036   0.005125   \n",
       "\n",
       "       size_diff  \n",
       "id                \n",
       "71916          5  \n",
       "43137         16  \n",
       "66647         82  \n",
       "21351          3  \n",
       "68289          3  "
      ]
     },
     "execution_count": 241,
     "metadata": {},
     "output_type": "execute_result"
    }
   ],
   "source": [
    "# difference in text size\n",
    "compute_size_diff = lambda row: abs(len(str(row['question1'])) - len(str(row['question2'])))\n",
    "X_train['size_diff'] = X_train.apply(compute_size_diff, axis=1)\n",
    "X_train.head()"
   ]
  },
  {
   "cell_type": "code",
   "execution_count": 242,
   "metadata": {},
   "outputs": [],
   "source": [
    "from fuzzywuzzy import fuzz"
   ]
  },
  {
   "cell_type": "code",
   "execution_count": 243,
   "metadata": {},
   "outputs": [
    {
     "data": {
      "text/html": [
       "<div>\n",
       "<style scoped>\n",
       "    .dataframe tbody tr th:only-of-type {\n",
       "        vertical-align: middle;\n",
       "    }\n",
       "\n",
       "    .dataframe tbody tr th {\n",
       "        vertical-align: top;\n",
       "    }\n",
       "\n",
       "    .dataframe thead th {\n",
       "        text-align: right;\n",
       "    }\n",
       "</style>\n",
       "<table border=\"1\" class=\"dataframe\">\n",
       "  <thead>\n",
       "    <tr style=\"text-align: right;\">\n",
       "      <th></th>\n",
       "      <th>qid1</th>\n",
       "      <th>qid2</th>\n",
       "      <th>question1</th>\n",
       "      <th>question2</th>\n",
       "      <th>jaccard</th>\n",
       "      <th>chebyshev</th>\n",
       "      <th>braycurtis</th>\n",
       "      <th>cosine</th>\n",
       "      <th>correlation</th>\n",
       "      <th>hamming</th>\n",
       "      <th>canberra</th>\n",
       "      <th>hausdorff</th>\n",
       "      <th>size_diff</th>\n",
       "      <th>ratio</th>\n",
       "    </tr>\n",
       "    <tr>\n",
       "      <th>id</th>\n",
       "      <th></th>\n",
       "      <th></th>\n",
       "      <th></th>\n",
       "      <th></th>\n",
       "      <th></th>\n",
       "      <th></th>\n",
       "      <th></th>\n",
       "      <th></th>\n",
       "      <th></th>\n",
       "      <th></th>\n",
       "      <th></th>\n",
       "      <th></th>\n",
       "      <th></th>\n",
       "      <th></th>\n",
       "    </tr>\n",
       "  </thead>\n",
       "  <tbody>\n",
       "    <tr>\n",
       "      <th>71916</th>\n",
       "      <td>123674</td>\n",
       "      <td>123675</td>\n",
       "      <td>What are the uses nitrous oxide?</td>\n",
       "      <td>When is nitrous oxide used?</td>\n",
       "      <td>1.0</td>\n",
       "      <td>0.004183</td>\n",
       "      <td>0.749184</td>\n",
       "      <td>0.577846</td>\n",
       "      <td>0.849309</td>\n",
       "      <td>1.0</td>\n",
       "      <td>1.386667</td>\n",
       "      <td>0.007320</td>\n",
       "      <td>5</td>\n",
       "      <td>68</td>\n",
       "    </tr>\n",
       "    <tr>\n",
       "      <th>43137</th>\n",
       "      <td>77630</td>\n",
       "      <td>77631</td>\n",
       "      <td>Why is everyone craving for my attention?</td>\n",
       "      <td>Why do I crave attention?</td>\n",
       "      <td>1.0</td>\n",
       "      <td>0.004974</td>\n",
       "      <td>1.196143</td>\n",
       "      <td>1.049221</td>\n",
       "      <td>1.028845</td>\n",
       "      <td>1.0</td>\n",
       "      <td>2.483181</td>\n",
       "      <td>0.005846</td>\n",
       "      <td>16</td>\n",
       "      <td>64</td>\n",
       "    </tr>\n",
       "    <tr>\n",
       "      <th>66647</th>\n",
       "      <td>115486</td>\n",
       "      <td>115487</td>\n",
       "      <td>Amazing facts about female body?</td>\n",
       "      <td>Is Fantasy cricket leauge is legit and safe in...</td>\n",
       "      <td>1.0</td>\n",
       "      <td>0.006130</td>\n",
       "      <td>0.941305</td>\n",
       "      <td>0.914124</td>\n",
       "      <td>0.885923</td>\n",
       "      <td>1.0</td>\n",
       "      <td>2.034010</td>\n",
       "      <td>0.006177</td>\n",
       "      <td>82</td>\n",
       "      <td>27</td>\n",
       "    </tr>\n",
       "    <tr>\n",
       "      <th>21351</th>\n",
       "      <td>40208</td>\n",
       "      <td>24198</td>\n",
       "      <td>Why did not government changed 1000 rupees not...</td>\n",
       "      <td>Why did RBI choose to come out with a ₹2000 no...</td>\n",
       "      <td>1.0</td>\n",
       "      <td>0.006051</td>\n",
       "      <td>1.053847</td>\n",
       "      <td>1.055724</td>\n",
       "      <td>1.013987</td>\n",
       "      <td>1.0</td>\n",
       "      <td>2.433737</td>\n",
       "      <td>0.005185</td>\n",
       "      <td>3</td>\n",
       "      <td>62</td>\n",
       "    </tr>\n",
       "    <tr>\n",
       "      <th>68289</th>\n",
       "      <td>118038</td>\n",
       "      <td>118039</td>\n",
       "      <td>What are ideas for Mexican themed party food?</td>\n",
       "      <td>Where can I find Mexican food in mainland China?</td>\n",
       "      <td>1.0</td>\n",
       "      <td>0.003852</td>\n",
       "      <td>0.963405</td>\n",
       "      <td>0.849872</td>\n",
       "      <td>0.723745</td>\n",
       "      <td>1.0</td>\n",
       "      <td>2.430036</td>\n",
       "      <td>0.005125</td>\n",
       "      <td>3</td>\n",
       "      <td>47</td>\n",
       "    </tr>\n",
       "  </tbody>\n",
       "</table>\n",
       "</div>"
      ],
      "text/plain": [
       "         qid1    qid2                                          question1  \\\n",
       "id                                                                         \n",
       "71916  123674  123675                   What are the uses nitrous oxide?   \n",
       "43137   77630   77631          Why is everyone craving for my attention?   \n",
       "66647  115486  115487                   Amazing facts about female body?   \n",
       "21351   40208   24198  Why did not government changed 1000 rupees not...   \n",
       "68289  118038  118039      What are ideas for Mexican themed party food?   \n",
       "\n",
       "                                               question2  jaccard  chebyshev  \\\n",
       "id                                                                             \n",
       "71916                        When is nitrous oxide used?      1.0   0.004183   \n",
       "43137                          Why do I crave attention?      1.0   0.004974   \n",
       "66647  Is Fantasy cricket leauge is legit and safe in...      1.0   0.006130   \n",
       "21351  Why did RBI choose to come out with a ₹2000 no...      1.0   0.006051   \n",
       "68289   Where can I find Mexican food in mainland China?      1.0   0.003852   \n",
       "\n",
       "       braycurtis    cosine  correlation  hamming  canberra  hausdorff  \\\n",
       "id                                                                       \n",
       "71916    0.749184  0.577846     0.849309      1.0  1.386667   0.007320   \n",
       "43137    1.196143  1.049221     1.028845      1.0  2.483181   0.005846   \n",
       "66647    0.941305  0.914124     0.885923      1.0  2.034010   0.006177   \n",
       "21351    1.053847  1.055724     1.013987      1.0  2.433737   0.005185   \n",
       "68289    0.963405  0.849872     0.723745      1.0  2.430036   0.005125   \n",
       "\n",
       "       size_diff  ratio  \n",
       "id                       \n",
       "71916          5     68  \n",
       "43137         16     64  \n",
       "66647         82     27  \n",
       "21351          3     62  \n",
       "68289          3     47  "
      ]
     },
     "execution_count": 243,
     "metadata": {},
     "output_type": "execute_result"
    }
   ],
   "source": [
    "# ratio\n",
    "compute_ratio = lambda row: fuzz.ratio(str(row['question1']), str(row['question2']))\n",
    "X_train['ratio'] = X_train.apply(compute_ratio, axis=1)\n",
    "X_train.head()"
   ]
  },
  {
   "cell_type": "code",
   "execution_count": 244,
   "metadata": {},
   "outputs": [
    {
     "data": {
      "text/html": [
       "<div>\n",
       "<style scoped>\n",
       "    .dataframe tbody tr th:only-of-type {\n",
       "        vertical-align: middle;\n",
       "    }\n",
       "\n",
       "    .dataframe tbody tr th {\n",
       "        vertical-align: top;\n",
       "    }\n",
       "\n",
       "    .dataframe thead th {\n",
       "        text-align: right;\n",
       "    }\n",
       "</style>\n",
       "<table border=\"1\" class=\"dataframe\">\n",
       "  <thead>\n",
       "    <tr style=\"text-align: right;\">\n",
       "      <th></th>\n",
       "      <th>qid1</th>\n",
       "      <th>qid2</th>\n",
       "      <th>question1</th>\n",
       "      <th>question2</th>\n",
       "      <th>jaccard</th>\n",
       "      <th>chebyshev</th>\n",
       "      <th>braycurtis</th>\n",
       "      <th>cosine</th>\n",
       "      <th>correlation</th>\n",
       "      <th>hamming</th>\n",
       "      <th>canberra</th>\n",
       "      <th>hausdorff</th>\n",
       "      <th>size_diff</th>\n",
       "      <th>ratio</th>\n",
       "      <th>partial_ratio</th>\n",
       "    </tr>\n",
       "    <tr>\n",
       "      <th>id</th>\n",
       "      <th></th>\n",
       "      <th></th>\n",
       "      <th></th>\n",
       "      <th></th>\n",
       "      <th></th>\n",
       "      <th></th>\n",
       "      <th></th>\n",
       "      <th></th>\n",
       "      <th></th>\n",
       "      <th></th>\n",
       "      <th></th>\n",
       "      <th></th>\n",
       "      <th></th>\n",
       "      <th></th>\n",
       "      <th></th>\n",
       "    </tr>\n",
       "  </thead>\n",
       "  <tbody>\n",
       "    <tr>\n",
       "      <th>71916</th>\n",
       "      <td>123674</td>\n",
       "      <td>123675</td>\n",
       "      <td>What are the uses nitrous oxide?</td>\n",
       "      <td>When is nitrous oxide used?</td>\n",
       "      <td>1.0</td>\n",
       "      <td>0.004183</td>\n",
       "      <td>0.749184</td>\n",
       "      <td>0.577846</td>\n",
       "      <td>0.849309</td>\n",
       "      <td>1.0</td>\n",
       "      <td>1.386667</td>\n",
       "      <td>0.007320</td>\n",
       "      <td>5</td>\n",
       "      <td>68</td>\n",
       "      <td>78</td>\n",
       "    </tr>\n",
       "    <tr>\n",
       "      <th>43137</th>\n",
       "      <td>77630</td>\n",
       "      <td>77631</td>\n",
       "      <td>Why is everyone craving for my attention?</td>\n",
       "      <td>Why do I crave attention?</td>\n",
       "      <td>1.0</td>\n",
       "      <td>0.004974</td>\n",
       "      <td>1.196143</td>\n",
       "      <td>1.049221</td>\n",
       "      <td>1.028845</td>\n",
       "      <td>1.0</td>\n",
       "      <td>2.483181</td>\n",
       "      <td>0.005846</td>\n",
       "      <td>16</td>\n",
       "      <td>64</td>\n",
       "      <td>60</td>\n",
       "    </tr>\n",
       "    <tr>\n",
       "      <th>66647</th>\n",
       "      <td>115486</td>\n",
       "      <td>115487</td>\n",
       "      <td>Amazing facts about female body?</td>\n",
       "      <td>Is Fantasy cricket leauge is legit and safe in...</td>\n",
       "      <td>1.0</td>\n",
       "      <td>0.006130</td>\n",
       "      <td>0.941305</td>\n",
       "      <td>0.914124</td>\n",
       "      <td>0.885923</td>\n",
       "      <td>1.0</td>\n",
       "      <td>2.034010</td>\n",
       "      <td>0.006177</td>\n",
       "      <td>82</td>\n",
       "      <td>27</td>\n",
       "      <td>44</td>\n",
       "    </tr>\n",
       "    <tr>\n",
       "      <th>21351</th>\n",
       "      <td>40208</td>\n",
       "      <td>24198</td>\n",
       "      <td>Why did not government changed 1000 rupees not...</td>\n",
       "      <td>Why did RBI choose to come out with a ₹2000 no...</td>\n",
       "      <td>1.0</td>\n",
       "      <td>0.006051</td>\n",
       "      <td>1.053847</td>\n",
       "      <td>1.055724</td>\n",
       "      <td>1.013987</td>\n",
       "      <td>1.0</td>\n",
       "      <td>2.433737</td>\n",
       "      <td>0.005185</td>\n",
       "      <td>3</td>\n",
       "      <td>62</td>\n",
       "      <td>59</td>\n",
       "    </tr>\n",
       "    <tr>\n",
       "      <th>68289</th>\n",
       "      <td>118038</td>\n",
       "      <td>118039</td>\n",
       "      <td>What are ideas for Mexican themed party food?</td>\n",
       "      <td>Where can I find Mexican food in mainland China?</td>\n",
       "      <td>1.0</td>\n",
       "      <td>0.003852</td>\n",
       "      <td>0.963405</td>\n",
       "      <td>0.849872</td>\n",
       "      <td>0.723745</td>\n",
       "      <td>1.0</td>\n",
       "      <td>2.430036</td>\n",
       "      <td>0.005125</td>\n",
       "      <td>3</td>\n",
       "      <td>47</td>\n",
       "      <td>47</td>\n",
       "    </tr>\n",
       "  </tbody>\n",
       "</table>\n",
       "</div>"
      ],
      "text/plain": [
       "         qid1    qid2                                          question1  \\\n",
       "id                                                                         \n",
       "71916  123674  123675                   What are the uses nitrous oxide?   \n",
       "43137   77630   77631          Why is everyone craving for my attention?   \n",
       "66647  115486  115487                   Amazing facts about female body?   \n",
       "21351   40208   24198  Why did not government changed 1000 rupees not...   \n",
       "68289  118038  118039      What are ideas for Mexican themed party food?   \n",
       "\n",
       "                                               question2  jaccard  chebyshev  \\\n",
       "id                                                                             \n",
       "71916                        When is nitrous oxide used?      1.0   0.004183   \n",
       "43137                          Why do I crave attention?      1.0   0.004974   \n",
       "66647  Is Fantasy cricket leauge is legit and safe in...      1.0   0.006130   \n",
       "21351  Why did RBI choose to come out with a ₹2000 no...      1.0   0.006051   \n",
       "68289   Where can I find Mexican food in mainland China?      1.0   0.003852   \n",
       "\n",
       "       braycurtis    cosine  correlation  hamming  canberra  hausdorff  \\\n",
       "id                                                                       \n",
       "71916    0.749184  0.577846     0.849309      1.0  1.386667   0.007320   \n",
       "43137    1.196143  1.049221     1.028845      1.0  2.483181   0.005846   \n",
       "66647    0.941305  0.914124     0.885923      1.0  2.034010   0.006177   \n",
       "21351    1.053847  1.055724     1.013987      1.0  2.433737   0.005185   \n",
       "68289    0.963405  0.849872     0.723745      1.0  2.430036   0.005125   \n",
       "\n",
       "       size_diff  ratio  partial_ratio  \n",
       "id                                      \n",
       "71916          5     68             78  \n",
       "43137         16     64             60  \n",
       "66647         82     27             44  \n",
       "21351          3     62             59  \n",
       "68289          3     47             47  "
      ]
     },
     "execution_count": 244,
     "metadata": {},
     "output_type": "execute_result"
    }
   ],
   "source": [
    "# partial ratio\n",
    "compute_partial_ratio = lambda row: fuzz.partial_ratio(str(row['question1']), str(row['question2']))\n",
    "X_train['partial_ratio'] = X_train.apply(compute_partial_ratio, axis=1)\n",
    "X_train.head()"
   ]
  },
  {
   "cell_type": "code",
   "execution_count": 245,
   "metadata": {},
   "outputs": [
    {
     "data": {
      "text/html": [
       "<div>\n",
       "<style scoped>\n",
       "    .dataframe tbody tr th:only-of-type {\n",
       "        vertical-align: middle;\n",
       "    }\n",
       "\n",
       "    .dataframe tbody tr th {\n",
       "        vertical-align: top;\n",
       "    }\n",
       "\n",
       "    .dataframe thead th {\n",
       "        text-align: right;\n",
       "    }\n",
       "</style>\n",
       "<table border=\"1\" class=\"dataframe\">\n",
       "  <thead>\n",
       "    <tr style=\"text-align: right;\">\n",
       "      <th></th>\n",
       "      <th>qid1</th>\n",
       "      <th>qid2</th>\n",
       "      <th>question1</th>\n",
       "      <th>question2</th>\n",
       "      <th>jaccard</th>\n",
       "      <th>chebyshev</th>\n",
       "      <th>braycurtis</th>\n",
       "      <th>cosine</th>\n",
       "      <th>correlation</th>\n",
       "      <th>hamming</th>\n",
       "      <th>canberra</th>\n",
       "      <th>hausdorff</th>\n",
       "      <th>size_diff</th>\n",
       "      <th>ratio</th>\n",
       "      <th>partial_ratio</th>\n",
       "      <th>token_sort_ratio</th>\n",
       "    </tr>\n",
       "    <tr>\n",
       "      <th>id</th>\n",
       "      <th></th>\n",
       "      <th></th>\n",
       "      <th></th>\n",
       "      <th></th>\n",
       "      <th></th>\n",
       "      <th></th>\n",
       "      <th></th>\n",
       "      <th></th>\n",
       "      <th></th>\n",
       "      <th></th>\n",
       "      <th></th>\n",
       "      <th></th>\n",
       "      <th></th>\n",
       "      <th></th>\n",
       "      <th></th>\n",
       "      <th></th>\n",
       "    </tr>\n",
       "  </thead>\n",
       "  <tbody>\n",
       "    <tr>\n",
       "      <th>71916</th>\n",
       "      <td>123674</td>\n",
       "      <td>123675</td>\n",
       "      <td>What are the uses nitrous oxide?</td>\n",
       "      <td>When is nitrous oxide used?</td>\n",
       "      <td>1.0</td>\n",
       "      <td>0.004183</td>\n",
       "      <td>0.749184</td>\n",
       "      <td>0.577846</td>\n",
       "      <td>0.849309</td>\n",
       "      <td>1.0</td>\n",
       "      <td>1.386667</td>\n",
       "      <td>0.007320</td>\n",
       "      <td>5</td>\n",
       "      <td>68</td>\n",
       "      <td>78</td>\n",
       "      <td>74</td>\n",
       "    </tr>\n",
       "    <tr>\n",
       "      <th>43137</th>\n",
       "      <td>77630</td>\n",
       "      <td>77631</td>\n",
       "      <td>Why is everyone craving for my attention?</td>\n",
       "      <td>Why do I crave attention?</td>\n",
       "      <td>1.0</td>\n",
       "      <td>0.004974</td>\n",
       "      <td>1.196143</td>\n",
       "      <td>1.049221</td>\n",
       "      <td>1.028845</td>\n",
       "      <td>1.0</td>\n",
       "      <td>2.483181</td>\n",
       "      <td>0.005846</td>\n",
       "      <td>16</td>\n",
       "      <td>64</td>\n",
       "      <td>60</td>\n",
       "      <td>72</td>\n",
       "    </tr>\n",
       "    <tr>\n",
       "      <th>66647</th>\n",
       "      <td>115486</td>\n",
       "      <td>115487</td>\n",
       "      <td>Amazing facts about female body?</td>\n",
       "      <td>Is Fantasy cricket leauge is legit and safe in...</td>\n",
       "      <td>1.0</td>\n",
       "      <td>0.006130</td>\n",
       "      <td>0.941305</td>\n",
       "      <td>0.914124</td>\n",
       "      <td>0.885923</td>\n",
       "      <td>1.0</td>\n",
       "      <td>2.034010</td>\n",
       "      <td>0.006177</td>\n",
       "      <td>82</td>\n",
       "      <td>27</td>\n",
       "      <td>44</td>\n",
       "      <td>29</td>\n",
       "    </tr>\n",
       "    <tr>\n",
       "      <th>21351</th>\n",
       "      <td>40208</td>\n",
       "      <td>24198</td>\n",
       "      <td>Why did not government changed 1000 rupees not...</td>\n",
       "      <td>Why did RBI choose to come out with a ₹2000 no...</td>\n",
       "      <td>1.0</td>\n",
       "      <td>0.006051</td>\n",
       "      <td>1.053847</td>\n",
       "      <td>1.055724</td>\n",
       "      <td>1.013987</td>\n",
       "      <td>1.0</td>\n",
       "      <td>2.433737</td>\n",
       "      <td>0.005185</td>\n",
       "      <td>3</td>\n",
       "      <td>62</td>\n",
       "      <td>59</td>\n",
       "      <td>64</td>\n",
       "    </tr>\n",
       "    <tr>\n",
       "      <th>68289</th>\n",
       "      <td>118038</td>\n",
       "      <td>118039</td>\n",
       "      <td>What are ideas for Mexican themed party food?</td>\n",
       "      <td>Where can I find Mexican food in mainland China?</td>\n",
       "      <td>1.0</td>\n",
       "      <td>0.003852</td>\n",
       "      <td>0.963405</td>\n",
       "      <td>0.849872</td>\n",
       "      <td>0.723745</td>\n",
       "      <td>1.0</td>\n",
       "      <td>2.430036</td>\n",
       "      <td>0.005125</td>\n",
       "      <td>3</td>\n",
       "      <td>47</td>\n",
       "      <td>47</td>\n",
       "      <td>48</td>\n",
       "    </tr>\n",
       "  </tbody>\n",
       "</table>\n",
       "</div>"
      ],
      "text/plain": [
       "         qid1    qid2                                          question1  \\\n",
       "id                                                                         \n",
       "71916  123674  123675                   What are the uses nitrous oxide?   \n",
       "43137   77630   77631          Why is everyone craving for my attention?   \n",
       "66647  115486  115487                   Amazing facts about female body?   \n",
       "21351   40208   24198  Why did not government changed 1000 rupees not...   \n",
       "68289  118038  118039      What are ideas for Mexican themed party food?   \n",
       "\n",
       "                                               question2  jaccard  chebyshev  \\\n",
       "id                                                                             \n",
       "71916                        When is nitrous oxide used?      1.0   0.004183   \n",
       "43137                          Why do I crave attention?      1.0   0.004974   \n",
       "66647  Is Fantasy cricket leauge is legit and safe in...      1.0   0.006130   \n",
       "21351  Why did RBI choose to come out with a ₹2000 no...      1.0   0.006051   \n",
       "68289   Where can I find Mexican food in mainland China?      1.0   0.003852   \n",
       "\n",
       "       braycurtis    cosine  correlation  hamming  canberra  hausdorff  \\\n",
       "id                                                                       \n",
       "71916    0.749184  0.577846     0.849309      1.0  1.386667   0.007320   \n",
       "43137    1.196143  1.049221     1.028845      1.0  2.483181   0.005846   \n",
       "66647    0.941305  0.914124     0.885923      1.0  2.034010   0.006177   \n",
       "21351    1.053847  1.055724     1.013987      1.0  2.433737   0.005185   \n",
       "68289    0.963405  0.849872     0.723745      1.0  2.430036   0.005125   \n",
       "\n",
       "       size_diff  ratio  partial_ratio  token_sort_ratio  \n",
       "id                                                        \n",
       "71916          5     68             78                74  \n",
       "43137         16     64             60                72  \n",
       "66647         82     27             44                29  \n",
       "21351          3     62             59                64  \n",
       "68289          3     47             47                48  "
      ]
     },
     "execution_count": 245,
     "metadata": {},
     "output_type": "execute_result"
    }
   ],
   "source": [
    "# token_sort_ratio\n",
    "compute_token_sort_ratio = lambda row: fuzz.token_sort_ratio(str(row['question1']), str(row['question2']))\n",
    "X_train['token_sort_ratio'] = X_train.apply(compute_token_sort_ratio, axis=1)\n",
    "X_train.head()"
   ]
  },
  {
   "cell_type": "code",
   "execution_count": 246,
   "metadata": {},
   "outputs": [
    {
     "data": {
      "text/html": [
       "<div>\n",
       "<style scoped>\n",
       "    .dataframe tbody tr th:only-of-type {\n",
       "        vertical-align: middle;\n",
       "    }\n",
       "\n",
       "    .dataframe tbody tr th {\n",
       "        vertical-align: top;\n",
       "    }\n",
       "\n",
       "    .dataframe thead th {\n",
       "        text-align: right;\n",
       "    }\n",
       "</style>\n",
       "<table border=\"1\" class=\"dataframe\">\n",
       "  <thead>\n",
       "    <tr style=\"text-align: right;\">\n",
       "      <th></th>\n",
       "      <th>qid1</th>\n",
       "      <th>qid2</th>\n",
       "      <th>question1</th>\n",
       "      <th>question2</th>\n",
       "      <th>jaccard</th>\n",
       "      <th>chebyshev</th>\n",
       "      <th>braycurtis</th>\n",
       "      <th>cosine</th>\n",
       "      <th>correlation</th>\n",
       "      <th>hamming</th>\n",
       "      <th>canberra</th>\n",
       "      <th>hausdorff</th>\n",
       "      <th>size_diff</th>\n",
       "      <th>ratio</th>\n",
       "      <th>partial_ratio</th>\n",
       "      <th>token_sort_ratio</th>\n",
       "      <th>token_set_ratio</th>\n",
       "    </tr>\n",
       "    <tr>\n",
       "      <th>id</th>\n",
       "      <th></th>\n",
       "      <th></th>\n",
       "      <th></th>\n",
       "      <th></th>\n",
       "      <th></th>\n",
       "      <th></th>\n",
       "      <th></th>\n",
       "      <th></th>\n",
       "      <th></th>\n",
       "      <th></th>\n",
       "      <th></th>\n",
       "      <th></th>\n",
       "      <th></th>\n",
       "      <th></th>\n",
       "      <th></th>\n",
       "      <th></th>\n",
       "      <th></th>\n",
       "    </tr>\n",
       "  </thead>\n",
       "  <tbody>\n",
       "    <tr>\n",
       "      <th>71916</th>\n",
       "      <td>123674</td>\n",
       "      <td>123675</td>\n",
       "      <td>What are the uses nitrous oxide?</td>\n",
       "      <td>When is nitrous oxide used?</td>\n",
       "      <td>1.0</td>\n",
       "      <td>0.004183</td>\n",
       "      <td>0.749184</td>\n",
       "      <td>0.577846</td>\n",
       "      <td>0.849309</td>\n",
       "      <td>1.0</td>\n",
       "      <td>1.386667</td>\n",
       "      <td>0.007320</td>\n",
       "      <td>5</td>\n",
       "      <td>68</td>\n",
       "      <td>78</td>\n",
       "      <td>74</td>\n",
       "      <td>74</td>\n",
       "    </tr>\n",
       "    <tr>\n",
       "      <th>43137</th>\n",
       "      <td>77630</td>\n",
       "      <td>77631</td>\n",
       "      <td>Why is everyone craving for my attention?</td>\n",
       "      <td>Why do I crave attention?</td>\n",
       "      <td>1.0</td>\n",
       "      <td>0.004974</td>\n",
       "      <td>1.196143</td>\n",
       "      <td>1.049221</td>\n",
       "      <td>1.028845</td>\n",
       "      <td>1.0</td>\n",
       "      <td>2.483181</td>\n",
       "      <td>0.005846</td>\n",
       "      <td>16</td>\n",
       "      <td>64</td>\n",
       "      <td>60</td>\n",
       "      <td>72</td>\n",
       "      <td>72</td>\n",
       "    </tr>\n",
       "    <tr>\n",
       "      <th>66647</th>\n",
       "      <td>115486</td>\n",
       "      <td>115487</td>\n",
       "      <td>Amazing facts about female body?</td>\n",
       "      <td>Is Fantasy cricket leauge is legit and safe in...</td>\n",
       "      <td>1.0</td>\n",
       "      <td>0.006130</td>\n",
       "      <td>0.941305</td>\n",
       "      <td>0.914124</td>\n",
       "      <td>0.885923</td>\n",
       "      <td>1.0</td>\n",
       "      <td>2.034010</td>\n",
       "      <td>0.006177</td>\n",
       "      <td>82</td>\n",
       "      <td>27</td>\n",
       "      <td>44</td>\n",
       "      <td>29</td>\n",
       "      <td>32</td>\n",
       "    </tr>\n",
       "    <tr>\n",
       "      <th>21351</th>\n",
       "      <td>40208</td>\n",
       "      <td>24198</td>\n",
       "      <td>Why did not government changed 1000 rupees not...</td>\n",
       "      <td>Why did RBI choose to come out with a ₹2000 no...</td>\n",
       "      <td>1.0</td>\n",
       "      <td>0.006051</td>\n",
       "      <td>1.053847</td>\n",
       "      <td>1.055724</td>\n",
       "      <td>1.013987</td>\n",
       "      <td>1.0</td>\n",
       "      <td>2.433737</td>\n",
       "      <td>0.005185</td>\n",
       "      <td>3</td>\n",
       "      <td>62</td>\n",
       "      <td>59</td>\n",
       "      <td>64</td>\n",
       "      <td>71</td>\n",
       "    </tr>\n",
       "    <tr>\n",
       "      <th>68289</th>\n",
       "      <td>118038</td>\n",
       "      <td>118039</td>\n",
       "      <td>What are ideas for Mexican themed party food?</td>\n",
       "      <td>Where can I find Mexican food in mainland China?</td>\n",
       "      <td>1.0</td>\n",
       "      <td>0.003852</td>\n",
       "      <td>0.963405</td>\n",
       "      <td>0.849872</td>\n",
       "      <td>0.723745</td>\n",
       "      <td>1.0</td>\n",
       "      <td>2.430036</td>\n",
       "      <td>0.005125</td>\n",
       "      <td>3</td>\n",
       "      <td>47</td>\n",
       "      <td>47</td>\n",
       "      <td>48</td>\n",
       "      <td>55</td>\n",
       "    </tr>\n",
       "  </tbody>\n",
       "</table>\n",
       "</div>"
      ],
      "text/plain": [
       "         qid1    qid2                                          question1  \\\n",
       "id                                                                         \n",
       "71916  123674  123675                   What are the uses nitrous oxide?   \n",
       "43137   77630   77631          Why is everyone craving for my attention?   \n",
       "66647  115486  115487                   Amazing facts about female body?   \n",
       "21351   40208   24198  Why did not government changed 1000 rupees not...   \n",
       "68289  118038  118039      What are ideas for Mexican themed party food?   \n",
       "\n",
       "                                               question2  jaccard  chebyshev  \\\n",
       "id                                                                             \n",
       "71916                        When is nitrous oxide used?      1.0   0.004183   \n",
       "43137                          Why do I crave attention?      1.0   0.004974   \n",
       "66647  Is Fantasy cricket leauge is legit and safe in...      1.0   0.006130   \n",
       "21351  Why did RBI choose to come out with a ₹2000 no...      1.0   0.006051   \n",
       "68289   Where can I find Mexican food in mainland China?      1.0   0.003852   \n",
       "\n",
       "       braycurtis    cosine  correlation  hamming  canberra  hausdorff  \\\n",
       "id                                                                       \n",
       "71916    0.749184  0.577846     0.849309      1.0  1.386667   0.007320   \n",
       "43137    1.196143  1.049221     1.028845      1.0  2.483181   0.005846   \n",
       "66647    0.941305  0.914124     0.885923      1.0  2.034010   0.006177   \n",
       "21351    1.053847  1.055724     1.013987      1.0  2.433737   0.005185   \n",
       "68289    0.963405  0.849872     0.723745      1.0  2.430036   0.005125   \n",
       "\n",
       "       size_diff  ratio  partial_ratio  token_sort_ratio  token_set_ratio  \n",
       "id                                                                         \n",
       "71916          5     68             78                74               74  \n",
       "43137         16     64             60                72               72  \n",
       "66647         82     27             44                29               32  \n",
       "21351          3     62             59                64               71  \n",
       "68289          3     47             47                48               55  "
      ]
     },
     "execution_count": 246,
     "metadata": {},
     "output_type": "execute_result"
    }
   ],
   "source": [
    "# token_set_ratio\n",
    "compute_token_set_ratio = lambda row: fuzz.token_set_ratio(str(row['question1']), str(row['question2']))\n",
    "X_train['token_set_ratio'] = X_train.apply(compute_token_set_ratio, axis=1)\n",
    "X_train.head()"
   ]
  },
  {
   "cell_type": "code",
   "execution_count": null,
   "metadata": {},
   "outputs": [],
   "source": [
    "# build complete feature dataframe\n",
    "#X_train_temp = pd.concat([pd.DataFrame(X1, columns=['q1_'+str(i) for i in range(X1.shape[1])], index=X_train.index), \n",
    "#                     pd.DataFrame(X2, columns=['q2_'+str(i) for i in range(X2.shape[1])], index=X_train.index)], axis=1)\n",
    "#X_train_temp.head()"
   ]
  },
  {
   "cell_type": "code",
   "execution_count": 247,
   "metadata": {},
   "outputs": [
    {
     "data": {
      "text/html": [
       "<div>\n",
       "<style scoped>\n",
       "    .dataframe tbody tr th:only-of-type {\n",
       "        vertical-align: middle;\n",
       "    }\n",
       "\n",
       "    .dataframe tbody tr th {\n",
       "        vertical-align: top;\n",
       "    }\n",
       "\n",
       "    .dataframe thead th {\n",
       "        text-align: right;\n",
       "    }\n",
       "</style>\n",
       "<table border=\"1\" class=\"dataframe\">\n",
       "  <thead>\n",
       "    <tr style=\"text-align: right;\">\n",
       "      <th></th>\n",
       "      <th>jaccard</th>\n",
       "      <th>chebyshev</th>\n",
       "      <th>braycurtis</th>\n",
       "      <th>cosine</th>\n",
       "      <th>correlation</th>\n",
       "      <th>hamming</th>\n",
       "      <th>canberra</th>\n",
       "      <th>hausdorff</th>\n",
       "      <th>size_diff</th>\n",
       "      <th>ratio</th>\n",
       "      <th>partial_ratio</th>\n",
       "      <th>token_sort_ratio</th>\n",
       "      <th>token_set_ratio</th>\n",
       "    </tr>\n",
       "    <tr>\n",
       "      <th>id</th>\n",
       "      <th></th>\n",
       "      <th></th>\n",
       "      <th></th>\n",
       "      <th></th>\n",
       "      <th></th>\n",
       "      <th></th>\n",
       "      <th></th>\n",
       "      <th></th>\n",
       "      <th></th>\n",
       "      <th></th>\n",
       "      <th></th>\n",
       "      <th></th>\n",
       "      <th></th>\n",
       "    </tr>\n",
       "  </thead>\n",
       "  <tbody>\n",
       "    <tr>\n",
       "      <th>71916</th>\n",
       "      <td>1.0</td>\n",
       "      <td>0.004183</td>\n",
       "      <td>0.749184</td>\n",
       "      <td>0.577846</td>\n",
       "      <td>0.849309</td>\n",
       "      <td>1.0</td>\n",
       "      <td>1.386667</td>\n",
       "      <td>0.007320</td>\n",
       "      <td>5</td>\n",
       "      <td>68</td>\n",
       "      <td>78</td>\n",
       "      <td>74</td>\n",
       "      <td>74</td>\n",
       "    </tr>\n",
       "    <tr>\n",
       "      <th>43137</th>\n",
       "      <td>1.0</td>\n",
       "      <td>0.004974</td>\n",
       "      <td>1.196143</td>\n",
       "      <td>1.049221</td>\n",
       "      <td>1.028845</td>\n",
       "      <td>1.0</td>\n",
       "      <td>2.483181</td>\n",
       "      <td>0.005846</td>\n",
       "      <td>16</td>\n",
       "      <td>64</td>\n",
       "      <td>60</td>\n",
       "      <td>72</td>\n",
       "      <td>72</td>\n",
       "    </tr>\n",
       "    <tr>\n",
       "      <th>66647</th>\n",
       "      <td>1.0</td>\n",
       "      <td>0.006130</td>\n",
       "      <td>0.941305</td>\n",
       "      <td>0.914124</td>\n",
       "      <td>0.885923</td>\n",
       "      <td>1.0</td>\n",
       "      <td>2.034010</td>\n",
       "      <td>0.006177</td>\n",
       "      <td>82</td>\n",
       "      <td>27</td>\n",
       "      <td>44</td>\n",
       "      <td>29</td>\n",
       "      <td>32</td>\n",
       "    </tr>\n",
       "    <tr>\n",
       "      <th>21351</th>\n",
       "      <td>1.0</td>\n",
       "      <td>0.006051</td>\n",
       "      <td>1.053847</td>\n",
       "      <td>1.055724</td>\n",
       "      <td>1.013987</td>\n",
       "      <td>1.0</td>\n",
       "      <td>2.433737</td>\n",
       "      <td>0.005185</td>\n",
       "      <td>3</td>\n",
       "      <td>62</td>\n",
       "      <td>59</td>\n",
       "      <td>64</td>\n",
       "      <td>71</td>\n",
       "    </tr>\n",
       "    <tr>\n",
       "      <th>68289</th>\n",
       "      <td>1.0</td>\n",
       "      <td>0.003852</td>\n",
       "      <td>0.963405</td>\n",
       "      <td>0.849872</td>\n",
       "      <td>0.723745</td>\n",
       "      <td>1.0</td>\n",
       "      <td>2.430036</td>\n",
       "      <td>0.005125</td>\n",
       "      <td>3</td>\n",
       "      <td>47</td>\n",
       "      <td>47</td>\n",
       "      <td>48</td>\n",
       "      <td>55</td>\n",
       "    </tr>\n",
       "  </tbody>\n",
       "</table>\n",
       "</div>"
      ],
      "text/plain": [
       "       jaccard  chebyshev  braycurtis    cosine  correlation  hamming  \\\n",
       "id                                                                      \n",
       "71916      1.0   0.004183    0.749184  0.577846     0.849309      1.0   \n",
       "43137      1.0   0.004974    1.196143  1.049221     1.028845      1.0   \n",
       "66647      1.0   0.006130    0.941305  0.914124     0.885923      1.0   \n",
       "21351      1.0   0.006051    1.053847  1.055724     1.013987      1.0   \n",
       "68289      1.0   0.003852    0.963405  0.849872     0.723745      1.0   \n",
       "\n",
       "       canberra  hausdorff  size_diff  ratio  partial_ratio  token_sort_ratio  \\\n",
       "id                                                                              \n",
       "71916  1.386667   0.007320          5     68             78                74   \n",
       "43137  2.483181   0.005846         16     64             60                72   \n",
       "66647  2.034010   0.006177         82     27             44                29   \n",
       "21351  2.433737   0.005185          3     62             59                64   \n",
       "68289  2.430036   0.005125          3     47             47                48   \n",
       "\n",
       "       token_set_ratio  \n",
       "id                      \n",
       "71916               74  \n",
       "43137               72  \n",
       "66647               32  \n",
       "21351               71  \n",
       "68289               55  "
      ]
     },
     "execution_count": 247,
     "metadata": {},
     "output_type": "execute_result"
    }
   ],
   "source": [
    "#X_train = pd.concat([X_train_temp, X_train], axis=1)\n",
    "#del X_train_temp\n",
    "X_train = X_train.drop(columns=['qid1', 'qid2','question1','question2'])\n",
    "X_train.head()"
   ]
  },
  {
   "cell_type": "code",
   "execution_count": 248,
   "metadata": {},
   "outputs": [
    {
     "name": "stdout",
     "output_type": "stream",
     "text": [
      "<class 'pandas.core.frame.DataFrame'>\n",
      "Int64Index: 50250 entries, 71916 to 15795\n",
      "Data columns (total 13 columns):\n",
      "jaccard             10306 non-null float64\n",
      "chebyshev           10306 non-null float64\n",
      "braycurtis          10306 non-null float64\n",
      "cosine              10306 non-null float64\n",
      "correlation         10306 non-null float64\n",
      "hamming             10306 non-null float64\n",
      "canberra            10306 non-null float64\n",
      "hausdorff           10306 non-null float64\n",
      "size_diff           50250 non-null int64\n",
      "ratio               50250 non-null int64\n",
      "partial_ratio       50250 non-null int64\n",
      "token_sort_ratio    50250 non-null int64\n",
      "token_set_ratio     50250 non-null int64\n",
      "dtypes: float64(8), int64(5)\n",
      "memory usage: 5.4 MB\n"
     ]
    }
   ],
   "source": [
    "X_train.info()"
   ]
  },
  {
   "cell_type": "code",
   "execution_count": 249,
   "metadata": {},
   "outputs": [
    {
     "data": {
      "text/html": [
       "<div>\n",
       "<style scoped>\n",
       "    .dataframe tbody tr th:only-of-type {\n",
       "        vertical-align: middle;\n",
       "    }\n",
       "\n",
       "    .dataframe tbody tr th {\n",
       "        vertical-align: top;\n",
       "    }\n",
       "\n",
       "    .dataframe thead th {\n",
       "        text-align: right;\n",
       "    }\n",
       "</style>\n",
       "<table border=\"1\" class=\"dataframe\">\n",
       "  <thead>\n",
       "    <tr style=\"text-align: right;\">\n",
       "      <th></th>\n",
       "      <th>jaccard</th>\n",
       "      <th>chebyshev</th>\n",
       "      <th>braycurtis</th>\n",
       "      <th>cosine</th>\n",
       "      <th>correlation</th>\n",
       "      <th>hamming</th>\n",
       "      <th>canberra</th>\n",
       "      <th>hausdorff</th>\n",
       "      <th>size_diff</th>\n",
       "      <th>ratio</th>\n",
       "      <th>partial_ratio</th>\n",
       "      <th>token_sort_ratio</th>\n",
       "      <th>token_set_ratio</th>\n",
       "    </tr>\n",
       "    <tr>\n",
       "      <th>id</th>\n",
       "      <th></th>\n",
       "      <th></th>\n",
       "      <th></th>\n",
       "      <th></th>\n",
       "      <th></th>\n",
       "      <th></th>\n",
       "      <th></th>\n",
       "      <th></th>\n",
       "      <th></th>\n",
       "      <th></th>\n",
       "      <th></th>\n",
       "      <th></th>\n",
       "      <th></th>\n",
       "    </tr>\n",
       "  </thead>\n",
       "  <tbody>\n",
       "    <tr>\n",
       "      <th>71932</th>\n",
       "      <td>NaN</td>\n",
       "      <td>NaN</td>\n",
       "      <td>NaN</td>\n",
       "      <td>NaN</td>\n",
       "      <td>NaN</td>\n",
       "      <td>NaN</td>\n",
       "      <td>NaN</td>\n",
       "      <td>NaN</td>\n",
       "      <td>24</td>\n",
       "      <td>71</td>\n",
       "      <td>85</td>\n",
       "      <td>71</td>\n",
       "      <td>93</td>\n",
       "    </tr>\n",
       "    <tr>\n",
       "      <th>28693</th>\n",
       "      <td>NaN</td>\n",
       "      <td>NaN</td>\n",
       "      <td>NaN</td>\n",
       "      <td>NaN</td>\n",
       "      <td>NaN</td>\n",
       "      <td>NaN</td>\n",
       "      <td>NaN</td>\n",
       "      <td>NaN</td>\n",
       "      <td>24</td>\n",
       "      <td>80</td>\n",
       "      <td>82</td>\n",
       "      <td>80</td>\n",
       "      <td>100</td>\n",
       "    </tr>\n",
       "    <tr>\n",
       "      <th>53707</th>\n",
       "      <td>NaN</td>\n",
       "      <td>NaN</td>\n",
       "      <td>NaN</td>\n",
       "      <td>NaN</td>\n",
       "      <td>NaN</td>\n",
       "      <td>NaN</td>\n",
       "      <td>NaN</td>\n",
       "      <td>NaN</td>\n",
       "      <td>16</td>\n",
       "      <td>60</td>\n",
       "      <td>57</td>\n",
       "      <td>57</td>\n",
       "      <td>72</td>\n",
       "    </tr>\n",
       "    <tr>\n",
       "      <th>5311</th>\n",
       "      <td>NaN</td>\n",
       "      <td>NaN</td>\n",
       "      <td>NaN</td>\n",
       "      <td>NaN</td>\n",
       "      <td>NaN</td>\n",
       "      <td>NaN</td>\n",
       "      <td>NaN</td>\n",
       "      <td>NaN</td>\n",
       "      <td>3</td>\n",
       "      <td>80</td>\n",
       "      <td>89</td>\n",
       "      <td>86</td>\n",
       "      <td>91</td>\n",
       "    </tr>\n",
       "    <tr>\n",
       "      <th>67969</th>\n",
       "      <td>NaN</td>\n",
       "      <td>NaN</td>\n",
       "      <td>NaN</td>\n",
       "      <td>NaN</td>\n",
       "      <td>NaN</td>\n",
       "      <td>NaN</td>\n",
       "      <td>NaN</td>\n",
       "      <td>NaN</td>\n",
       "      <td>26</td>\n",
       "      <td>36</td>\n",
       "      <td>37</td>\n",
       "      <td>39</td>\n",
       "      <td>41</td>\n",
       "    </tr>\n",
       "    <tr>\n",
       "      <th>64925</th>\n",
       "      <td>NaN</td>\n",
       "      <td>NaN</td>\n",
       "      <td>NaN</td>\n",
       "      <td>NaN</td>\n",
       "      <td>NaN</td>\n",
       "      <td>NaN</td>\n",
       "      <td>NaN</td>\n",
       "      <td>NaN</td>\n",
       "      <td>25</td>\n",
       "      <td>51</td>\n",
       "      <td>49</td>\n",
       "      <td>49</td>\n",
       "      <td>53</td>\n",
       "    </tr>\n",
       "    <tr>\n",
       "      <th>62955</th>\n",
       "      <td>NaN</td>\n",
       "      <td>NaN</td>\n",
       "      <td>NaN</td>\n",
       "      <td>NaN</td>\n",
       "      <td>NaN</td>\n",
       "      <td>NaN</td>\n",
       "      <td>NaN</td>\n",
       "      <td>NaN</td>\n",
       "      <td>14</td>\n",
       "      <td>46</td>\n",
       "      <td>47</td>\n",
       "      <td>56</td>\n",
       "      <td>62</td>\n",
       "    </tr>\n",
       "    <tr>\n",
       "      <th>59735</th>\n",
       "      <td>NaN</td>\n",
       "      <td>NaN</td>\n",
       "      <td>NaN</td>\n",
       "      <td>NaN</td>\n",
       "      <td>NaN</td>\n",
       "      <td>NaN</td>\n",
       "      <td>NaN</td>\n",
       "      <td>NaN</td>\n",
       "      <td>6</td>\n",
       "      <td>63</td>\n",
       "      <td>63</td>\n",
       "      <td>82</td>\n",
       "      <td>82</td>\n",
       "    </tr>\n",
       "    <tr>\n",
       "      <th>769</th>\n",
       "      <td>NaN</td>\n",
       "      <td>NaN</td>\n",
       "      <td>NaN</td>\n",
       "      <td>NaN</td>\n",
       "      <td>NaN</td>\n",
       "      <td>NaN</td>\n",
       "      <td>NaN</td>\n",
       "      <td>NaN</td>\n",
       "      <td>1</td>\n",
       "      <td>92</td>\n",
       "      <td>92</td>\n",
       "      <td>89</td>\n",
       "      <td>100</td>\n",
       "    </tr>\n",
       "    <tr>\n",
       "      <th>64820</th>\n",
       "      <td>NaN</td>\n",
       "      <td>NaN</td>\n",
       "      <td>NaN</td>\n",
       "      <td>NaN</td>\n",
       "      <td>NaN</td>\n",
       "      <td>NaN</td>\n",
       "      <td>NaN</td>\n",
       "      <td>NaN</td>\n",
       "      <td>8</td>\n",
       "      <td>69</td>\n",
       "      <td>70</td>\n",
       "      <td>70</td>\n",
       "      <td>79</td>\n",
       "    </tr>\n",
       "    <tr>\n",
       "      <th>67221</th>\n",
       "      <td>NaN</td>\n",
       "      <td>NaN</td>\n",
       "      <td>NaN</td>\n",
       "      <td>NaN</td>\n",
       "      <td>NaN</td>\n",
       "      <td>NaN</td>\n",
       "      <td>NaN</td>\n",
       "      <td>NaN</td>\n",
       "      <td>39</td>\n",
       "      <td>48</td>\n",
       "      <td>51</td>\n",
       "      <td>44</td>\n",
       "      <td>53</td>\n",
       "    </tr>\n",
       "    <tr>\n",
       "      <th>41090</th>\n",
       "      <td>NaN</td>\n",
       "      <td>NaN</td>\n",
       "      <td>NaN</td>\n",
       "      <td>NaN</td>\n",
       "      <td>NaN</td>\n",
       "      <td>NaN</td>\n",
       "      <td>NaN</td>\n",
       "      <td>NaN</td>\n",
       "      <td>18</td>\n",
       "      <td>75</td>\n",
       "      <td>84</td>\n",
       "      <td>67</td>\n",
       "      <td>91</td>\n",
       "    </tr>\n",
       "    <tr>\n",
       "      <th>16023</th>\n",
       "      <td>NaN</td>\n",
       "      <td>NaN</td>\n",
       "      <td>NaN</td>\n",
       "      <td>NaN</td>\n",
       "      <td>NaN</td>\n",
       "      <td>NaN</td>\n",
       "      <td>NaN</td>\n",
       "      <td>NaN</td>\n",
       "      <td>8</td>\n",
       "      <td>67</td>\n",
       "      <td>72</td>\n",
       "      <td>63</td>\n",
       "      <td>79</td>\n",
       "    </tr>\n",
       "    <tr>\n",
       "      <th>60263</th>\n",
       "      <td>NaN</td>\n",
       "      <td>NaN</td>\n",
       "      <td>NaN</td>\n",
       "      <td>NaN</td>\n",
       "      <td>NaN</td>\n",
       "      <td>NaN</td>\n",
       "      <td>NaN</td>\n",
       "      <td>NaN</td>\n",
       "      <td>7</td>\n",
       "      <td>42</td>\n",
       "      <td>46</td>\n",
       "      <td>46</td>\n",
       "      <td>51</td>\n",
       "    </tr>\n",
       "    <tr>\n",
       "      <th>44131</th>\n",
       "      <td>NaN</td>\n",
       "      <td>NaN</td>\n",
       "      <td>NaN</td>\n",
       "      <td>NaN</td>\n",
       "      <td>NaN</td>\n",
       "      <td>NaN</td>\n",
       "      <td>NaN</td>\n",
       "      <td>NaN</td>\n",
       "      <td>101</td>\n",
       "      <td>38</td>\n",
       "      <td>44</td>\n",
       "      <td>54</td>\n",
       "      <td>63</td>\n",
       "    </tr>\n",
       "    <tr>\n",
       "      <th>37194</th>\n",
       "      <td>NaN</td>\n",
       "      <td>NaN</td>\n",
       "      <td>NaN</td>\n",
       "      <td>NaN</td>\n",
       "      <td>NaN</td>\n",
       "      <td>NaN</td>\n",
       "      <td>NaN</td>\n",
       "      <td>NaN</td>\n",
       "      <td>22</td>\n",
       "      <td>72</td>\n",
       "      <td>80</td>\n",
       "      <td>69</td>\n",
       "      <td>86</td>\n",
       "    </tr>\n",
       "    <tr>\n",
       "      <th>6265</th>\n",
       "      <td>NaN</td>\n",
       "      <td>NaN</td>\n",
       "      <td>NaN</td>\n",
       "      <td>NaN</td>\n",
       "      <td>NaN</td>\n",
       "      <td>NaN</td>\n",
       "      <td>NaN</td>\n",
       "      <td>NaN</td>\n",
       "      <td>15</td>\n",
       "      <td>60</td>\n",
       "      <td>68</td>\n",
       "      <td>66</td>\n",
       "      <td>73</td>\n",
       "    </tr>\n",
       "    <tr>\n",
       "      <th>54886</th>\n",
       "      <td>NaN</td>\n",
       "      <td>NaN</td>\n",
       "      <td>NaN</td>\n",
       "      <td>NaN</td>\n",
       "      <td>NaN</td>\n",
       "      <td>NaN</td>\n",
       "      <td>NaN</td>\n",
       "      <td>NaN</td>\n",
       "      <td>9</td>\n",
       "      <td>59</td>\n",
       "      <td>58</td>\n",
       "      <td>62</td>\n",
       "      <td>64</td>\n",
       "    </tr>\n",
       "    <tr>\n",
       "      <th>860</th>\n",
       "      <td>NaN</td>\n",
       "      <td>NaN</td>\n",
       "      <td>NaN</td>\n",
       "      <td>NaN</td>\n",
       "      <td>NaN</td>\n",
       "      <td>NaN</td>\n",
       "      <td>NaN</td>\n",
       "      <td>NaN</td>\n",
       "      <td>13</td>\n",
       "      <td>54</td>\n",
       "      <td>61</td>\n",
       "      <td>78</td>\n",
       "      <td>86</td>\n",
       "    </tr>\n",
       "    <tr>\n",
       "      <th>15795</th>\n",
       "      <td>NaN</td>\n",
       "      <td>NaN</td>\n",
       "      <td>NaN</td>\n",
       "      <td>NaN</td>\n",
       "      <td>NaN</td>\n",
       "      <td>NaN</td>\n",
       "      <td>NaN</td>\n",
       "      <td>NaN</td>\n",
       "      <td>11</td>\n",
       "      <td>44</td>\n",
       "      <td>47</td>\n",
       "      <td>57</td>\n",
       "      <td>60</td>\n",
       "    </tr>\n",
       "  </tbody>\n",
       "</table>\n",
       "</div>"
      ],
      "text/plain": [
       "       jaccard  chebyshev  braycurtis  cosine  correlation  hamming  canberra  \\\n",
       "id                                                                              \n",
       "71932      NaN        NaN         NaN     NaN          NaN      NaN       NaN   \n",
       "28693      NaN        NaN         NaN     NaN          NaN      NaN       NaN   \n",
       "53707      NaN        NaN         NaN     NaN          NaN      NaN       NaN   \n",
       "5311       NaN        NaN         NaN     NaN          NaN      NaN       NaN   \n",
       "67969      NaN        NaN         NaN     NaN          NaN      NaN       NaN   \n",
       "64925      NaN        NaN         NaN     NaN          NaN      NaN       NaN   \n",
       "62955      NaN        NaN         NaN     NaN          NaN      NaN       NaN   \n",
       "59735      NaN        NaN         NaN     NaN          NaN      NaN       NaN   \n",
       "769        NaN        NaN         NaN     NaN          NaN      NaN       NaN   \n",
       "64820      NaN        NaN         NaN     NaN          NaN      NaN       NaN   \n",
       "67221      NaN        NaN         NaN     NaN          NaN      NaN       NaN   \n",
       "41090      NaN        NaN         NaN     NaN          NaN      NaN       NaN   \n",
       "16023      NaN        NaN         NaN     NaN          NaN      NaN       NaN   \n",
       "60263      NaN        NaN         NaN     NaN          NaN      NaN       NaN   \n",
       "44131      NaN        NaN         NaN     NaN          NaN      NaN       NaN   \n",
       "37194      NaN        NaN         NaN     NaN          NaN      NaN       NaN   \n",
       "6265       NaN        NaN         NaN     NaN          NaN      NaN       NaN   \n",
       "54886      NaN        NaN         NaN     NaN          NaN      NaN       NaN   \n",
       "860        NaN        NaN         NaN     NaN          NaN      NaN       NaN   \n",
       "15795      NaN        NaN         NaN     NaN          NaN      NaN       NaN   \n",
       "\n",
       "       hausdorff  size_diff  ratio  partial_ratio  token_sort_ratio  \\\n",
       "id                                                                    \n",
       "71932        NaN         24     71             85                71   \n",
       "28693        NaN         24     80             82                80   \n",
       "53707        NaN         16     60             57                57   \n",
       "5311         NaN          3     80             89                86   \n",
       "67969        NaN         26     36             37                39   \n",
       "64925        NaN         25     51             49                49   \n",
       "62955        NaN         14     46             47                56   \n",
       "59735        NaN          6     63             63                82   \n",
       "769          NaN          1     92             92                89   \n",
       "64820        NaN          8     69             70                70   \n",
       "67221        NaN         39     48             51                44   \n",
       "41090        NaN         18     75             84                67   \n",
       "16023        NaN          8     67             72                63   \n",
       "60263        NaN          7     42             46                46   \n",
       "44131        NaN        101     38             44                54   \n",
       "37194        NaN         22     72             80                69   \n",
       "6265         NaN         15     60             68                66   \n",
       "54886        NaN          9     59             58                62   \n",
       "860          NaN         13     54             61                78   \n",
       "15795        NaN         11     44             47                57   \n",
       "\n",
       "       token_set_ratio  \n",
       "id                      \n",
       "71932               93  \n",
       "28693              100  \n",
       "53707               72  \n",
       "5311                91  \n",
       "67969               41  \n",
       "64925               53  \n",
       "62955               62  \n",
       "59735               82  \n",
       "769                100  \n",
       "64820               79  \n",
       "67221               53  \n",
       "41090               91  \n",
       "16023               79  \n",
       "60263               51  \n",
       "44131               63  \n",
       "37194               86  \n",
       "6265                73  \n",
       "54886               64  \n",
       "860                 86  \n",
       "15795               60  "
      ]
     },
     "execution_count": 249,
     "metadata": {},
     "output_type": "execute_result"
    }
   ],
   "source": [
    "X_train.tail(20)"
   ]
  },
  {
   "cell_type": "markdown",
   "metadata": {},
   "source": [
    "##### Test set"
   ]
  },
  {
   "cell_type": "code",
   "execution_count": null,
   "metadata": {},
   "outputs": [],
   "source": [
    "# difference in text size\n",
    "X_test['size_diff'] = X_test.apply(compute_size_diff, axis=1)\n",
    "X_test.head()"
   ]
  },
  {
   "cell_type": "code",
   "execution_count": null,
   "metadata": {},
   "outputs": [],
   "source": [
    "# ratio\n",
    "X_test['ratio'] = X_test.apply(compute_ratio, axis=1)\n",
    "X_test.head()"
   ]
  },
  {
   "cell_type": "code",
   "execution_count": null,
   "metadata": {},
   "outputs": [],
   "source": [
    "# partial ratio\n",
    "X_test['partial_ratio'] = X_test.apply(compute_partial_ratio, axis=1)\n",
    "X_test.head()"
   ]
  },
  {
   "cell_type": "code",
   "execution_count": null,
   "metadata": {},
   "outputs": [],
   "source": [
    "# token_sort_ratio\n",
    "X_test['token_sort_ratio'] = X_test.apply(compute_token_sort_ratio, axis=1)\n",
    "X_test.head()"
   ]
  },
  {
   "cell_type": "code",
   "execution_count": null,
   "metadata": {},
   "outputs": [],
   "source": [
    "# token_set_ratio\n",
    "X_test['token_set_ratio'] = X_test.apply(compute_token_set_ratio, axis=1)\n",
    "X_test.head()"
   ]
  },
  {
   "cell_type": "code",
   "execution_count": null,
   "metadata": {},
   "outputs": [],
   "source": [
    "X_test = pd.concat([X_test_temp, X_test], axis=1)\n",
    "del X_test_temp\n",
    "X_test = X_test.drop(columns=['question1','question2', 'qid1', 'qid2'])\n",
    "X_test.head()"
   ]
  },
  {
   "cell_type": "markdown",
   "metadata": {},
   "source": [
    "# Modeling"
   ]
  },
  {
   "cell_type": "markdown",
   "metadata": {},
   "source": [
    "### Logistic Regression"
   ]
  },
  {
   "cell_type": "code",
   "execution_count": 159,
   "metadata": {},
   "outputs": [
    {
     "ename": "ValueError",
     "evalue": "setting an array element with a sequence.",
     "output_type": "error",
     "traceback": [
      "\u001b[0;31m---------------------------------------------------------------------------\u001b[0m",
      "\u001b[0;31m_RemoteTraceback\u001b[0m                          Traceback (most recent call last)",
      "\u001b[0;31m_RemoteTraceback\u001b[0m: \n\"\"\"\nTraceback (most recent call last):\n  File \"/opt/conda/lib/python3.6/site-packages/sklearn/externals/joblib/externals/loky/process_executor.py\", line 418, in _process_worker\n    r = call_item()\n  File \"/opt/conda/lib/python3.6/site-packages/sklearn/externals/joblib/externals/loky/process_executor.py\", line 272, in __call__\n    return self.fn(*self.args, **self.kwargs)\n  File \"/opt/conda/lib/python3.6/site-packages/sklearn/externals/joblib/_parallel_backends.py\", line 567, in __call__\n    return self.func(*args, **kwargs)\n  File \"/opt/conda/lib/python3.6/site-packages/sklearn/externals/joblib/parallel.py\", line 225, in __call__\n    for func, args, kwargs in self.items]\n  File \"/opt/conda/lib/python3.6/site-packages/sklearn/externals/joblib/parallel.py\", line 225, in <listcomp>\n    for func, args, kwargs in self.items]\n  File \"/opt/conda/lib/python3.6/site-packages/sklearn/model_selection/_validation.py\", line 528, in _fit_and_score\n    estimator.fit(X_train, y_train, **fit_params)\n  File \"/opt/conda/lib/python3.6/site-packages/sklearn/linear_model/logistic.py\", line 1288, in fit\n    accept_large_sparse=solver != 'liblinear')\n  File \"/opt/conda/lib/python3.6/site-packages/sklearn/utils/validation.py\", line 756, in check_X_y\n    estimator=estimator)\n  File \"/opt/conda/lib/python3.6/site-packages/sklearn/utils/validation.py\", line 527, in check_array\n    array = np.asarray(array, dtype=dtype, order=order)\n  File \"/opt/conda/lib/python3.6/site-packages/numpy/core/numeric.py\", line 501, in asarray\n    return array(a, dtype, copy=False, order=order)\nValueError: setting an array element with a sequence.\n\"\"\"",
      "\nThe above exception was the direct cause of the following exception:\n",
      "\u001b[0;31mValueError\u001b[0m                                Traceback (most recent call last)",
      "\u001b[0;32m<ipython-input-159-c65e0bfcf63f>\u001b[0m in \u001b[0;36m<module>\u001b[0;34m\u001b[0m\n\u001b[1;32m      9\u001b[0m              }\n\u001b[1;32m     10\u001b[0m \u001b[0mlogr_cv\u001b[0m \u001b[0;34m=\u001b[0m \u001b[0mRandomizedSearchCV\u001b[0m\u001b[0;34m(\u001b[0m\u001b[0mlogr_model\u001b[0m\u001b[0;34m,\u001b[0m \u001b[0mparam_distributions\u001b[0m\u001b[0;34m=\u001b[0m\u001b[0mparam_grid\u001b[0m\u001b[0;34m,\u001b[0m \u001b[0mcv\u001b[0m\u001b[0;34m=\u001b[0m\u001b[0;36m5\u001b[0m\u001b[0;34m,\u001b[0m \u001b[0mn_jobs\u001b[0m\u001b[0;34m=\u001b[0m\u001b[0;34m-\u001b[0m\u001b[0;36m1\u001b[0m\u001b[0;34m)\u001b[0m\u001b[0;34m\u001b[0m\u001b[0m\n\u001b[0;32m---> 11\u001b[0;31m \u001b[0mlogr_cv\u001b[0m\u001b[0;34m.\u001b[0m\u001b[0mfit\u001b[0m\u001b[0;34m(\u001b[0m\u001b[0mX_train_ft\u001b[0m\u001b[0;34m,\u001b[0m \u001b[0my_train\u001b[0m\u001b[0;34m)\u001b[0m\u001b[0;34m\u001b[0m\u001b[0m\n\u001b[0m",
      "\u001b[0;32m/opt/conda/lib/python3.6/site-packages/sklearn/model_selection/_search.py\u001b[0m in \u001b[0;36mfit\u001b[0;34m(self, X, y, groups, **fit_params)\u001b[0m\n\u001b[1;32m    720\u001b[0m                 \u001b[0;32mreturn\u001b[0m \u001b[0mresults_container\u001b[0m\u001b[0;34m[\u001b[0m\u001b[0;36m0\u001b[0m\u001b[0;34m]\u001b[0m\u001b[0;34m\u001b[0m\u001b[0m\n\u001b[1;32m    721\u001b[0m \u001b[0;34m\u001b[0m\u001b[0m\n\u001b[0;32m--> 722\u001b[0;31m             \u001b[0mself\u001b[0m\u001b[0;34m.\u001b[0m\u001b[0m_run_search\u001b[0m\u001b[0;34m(\u001b[0m\u001b[0mevaluate_candidates\u001b[0m\u001b[0;34m)\u001b[0m\u001b[0;34m\u001b[0m\u001b[0m\n\u001b[0m\u001b[1;32m    723\u001b[0m \u001b[0;34m\u001b[0m\u001b[0m\n\u001b[1;32m    724\u001b[0m         \u001b[0mresults\u001b[0m \u001b[0;34m=\u001b[0m \u001b[0mresults_container\u001b[0m\u001b[0;34m[\u001b[0m\u001b[0;36m0\u001b[0m\u001b[0;34m]\u001b[0m\u001b[0;34m\u001b[0m\u001b[0m\n",
      "\u001b[0;32m/opt/conda/lib/python3.6/site-packages/sklearn/model_selection/_search.py\u001b[0m in \u001b[0;36m_run_search\u001b[0;34m(self, evaluate_candidates)\u001b[0m\n\u001b[1;32m   1513\u001b[0m         evaluate_candidates(ParameterSampler(\n\u001b[1;32m   1514\u001b[0m             \u001b[0mself\u001b[0m\u001b[0;34m.\u001b[0m\u001b[0mparam_distributions\u001b[0m\u001b[0;34m,\u001b[0m \u001b[0mself\u001b[0m\u001b[0;34m.\u001b[0m\u001b[0mn_iter\u001b[0m\u001b[0;34m,\u001b[0m\u001b[0;34m\u001b[0m\u001b[0m\n\u001b[0;32m-> 1515\u001b[0;31m             random_state=self.random_state))\n\u001b[0m",
      "\u001b[0;32m/opt/conda/lib/python3.6/site-packages/sklearn/model_selection/_search.py\u001b[0m in \u001b[0;36mevaluate_candidates\u001b[0;34m(candidate_params)\u001b[0m\n\u001b[1;32m    709\u001b[0m                                \u001b[0;32mfor\u001b[0m \u001b[0mparameters\u001b[0m\u001b[0;34m,\u001b[0m \u001b[0;34m(\u001b[0m\u001b[0mtrain\u001b[0m\u001b[0;34m,\u001b[0m \u001b[0mtest\u001b[0m\u001b[0;34m)\u001b[0m\u001b[0;34m\u001b[0m\u001b[0m\n\u001b[1;32m    710\u001b[0m                                in product(candidate_params,\n\u001b[0;32m--> 711\u001b[0;31m                                           cv.split(X, y, groups)))\n\u001b[0m\u001b[1;32m    712\u001b[0m \u001b[0;34m\u001b[0m\u001b[0m\n\u001b[1;32m    713\u001b[0m                 \u001b[0mall_candidate_params\u001b[0m\u001b[0;34m.\u001b[0m\u001b[0mextend\u001b[0m\u001b[0;34m(\u001b[0m\u001b[0mcandidate_params\u001b[0m\u001b[0;34m)\u001b[0m\u001b[0;34m\u001b[0m\u001b[0m\n",
      "\u001b[0;32m/opt/conda/lib/python3.6/site-packages/sklearn/externals/joblib/parallel.py\u001b[0m in \u001b[0;36m__call__\u001b[0;34m(self, iterable)\u001b[0m\n\u001b[1;32m    928\u001b[0m \u001b[0;34m\u001b[0m\u001b[0m\n\u001b[1;32m    929\u001b[0m             \u001b[0;32mwith\u001b[0m \u001b[0mself\u001b[0m\u001b[0;34m.\u001b[0m\u001b[0m_backend\u001b[0m\u001b[0;34m.\u001b[0m\u001b[0mretrieval_context\u001b[0m\u001b[0;34m(\u001b[0m\u001b[0;34m)\u001b[0m\u001b[0;34m:\u001b[0m\u001b[0;34m\u001b[0m\u001b[0m\n\u001b[0;32m--> 930\u001b[0;31m                 \u001b[0mself\u001b[0m\u001b[0;34m.\u001b[0m\u001b[0mretrieve\u001b[0m\u001b[0;34m(\u001b[0m\u001b[0;34m)\u001b[0m\u001b[0;34m\u001b[0m\u001b[0m\n\u001b[0m\u001b[1;32m    931\u001b[0m             \u001b[0;31m# Make sure that we get a last message telling us we are done\u001b[0m\u001b[0;34m\u001b[0m\u001b[0;34m\u001b[0m\u001b[0m\n\u001b[1;32m    932\u001b[0m             \u001b[0melapsed_time\u001b[0m \u001b[0;34m=\u001b[0m \u001b[0mtime\u001b[0m\u001b[0;34m.\u001b[0m\u001b[0mtime\u001b[0m\u001b[0;34m(\u001b[0m\u001b[0;34m)\u001b[0m \u001b[0;34m-\u001b[0m \u001b[0mself\u001b[0m\u001b[0;34m.\u001b[0m\u001b[0m_start_time\u001b[0m\u001b[0;34m\u001b[0m\u001b[0m\n",
      "\u001b[0;32m/opt/conda/lib/python3.6/site-packages/sklearn/externals/joblib/parallel.py\u001b[0m in \u001b[0;36mretrieve\u001b[0;34m(self)\u001b[0m\n\u001b[1;32m    831\u001b[0m             \u001b[0;32mtry\u001b[0m\u001b[0;34m:\u001b[0m\u001b[0;34m\u001b[0m\u001b[0m\n\u001b[1;32m    832\u001b[0m                 \u001b[0;32mif\u001b[0m \u001b[0mgetattr\u001b[0m\u001b[0;34m(\u001b[0m\u001b[0mself\u001b[0m\u001b[0;34m.\u001b[0m\u001b[0m_backend\u001b[0m\u001b[0;34m,\u001b[0m \u001b[0;34m'supports_timeout'\u001b[0m\u001b[0;34m,\u001b[0m \u001b[0;32mFalse\u001b[0m\u001b[0;34m)\u001b[0m\u001b[0;34m:\u001b[0m\u001b[0;34m\u001b[0m\u001b[0m\n\u001b[0;32m--> 833\u001b[0;31m                     \u001b[0mself\u001b[0m\u001b[0;34m.\u001b[0m\u001b[0m_output\u001b[0m\u001b[0;34m.\u001b[0m\u001b[0mextend\u001b[0m\u001b[0;34m(\u001b[0m\u001b[0mjob\u001b[0m\u001b[0;34m.\u001b[0m\u001b[0mget\u001b[0m\u001b[0;34m(\u001b[0m\u001b[0mtimeout\u001b[0m\u001b[0;34m=\u001b[0m\u001b[0mself\u001b[0m\u001b[0;34m.\u001b[0m\u001b[0mtimeout\u001b[0m\u001b[0;34m)\u001b[0m\u001b[0;34m)\u001b[0m\u001b[0;34m\u001b[0m\u001b[0m\n\u001b[0m\u001b[1;32m    834\u001b[0m                 \u001b[0;32melse\u001b[0m\u001b[0;34m:\u001b[0m\u001b[0;34m\u001b[0m\u001b[0m\n\u001b[1;32m    835\u001b[0m                     \u001b[0mself\u001b[0m\u001b[0;34m.\u001b[0m\u001b[0m_output\u001b[0m\u001b[0;34m.\u001b[0m\u001b[0mextend\u001b[0m\u001b[0;34m(\u001b[0m\u001b[0mjob\u001b[0m\u001b[0;34m.\u001b[0m\u001b[0mget\u001b[0m\u001b[0;34m(\u001b[0m\u001b[0;34m)\u001b[0m\u001b[0;34m)\u001b[0m\u001b[0;34m\u001b[0m\u001b[0m\n",
      "\u001b[0;32m/opt/conda/lib/python3.6/site-packages/sklearn/externals/joblib/_parallel_backends.py\u001b[0m in \u001b[0;36mwrap_future_result\u001b[0;34m(future, timeout)\u001b[0m\n\u001b[1;32m    519\u001b[0m         AsyncResults.get from multiprocessing.\"\"\"\n\u001b[1;32m    520\u001b[0m         \u001b[0;32mtry\u001b[0m\u001b[0;34m:\u001b[0m\u001b[0;34m\u001b[0m\u001b[0m\n\u001b[0;32m--> 521\u001b[0;31m             \u001b[0;32mreturn\u001b[0m \u001b[0mfuture\u001b[0m\u001b[0;34m.\u001b[0m\u001b[0mresult\u001b[0m\u001b[0;34m(\u001b[0m\u001b[0mtimeout\u001b[0m\u001b[0;34m=\u001b[0m\u001b[0mtimeout\u001b[0m\u001b[0;34m)\u001b[0m\u001b[0;34m\u001b[0m\u001b[0m\n\u001b[0m\u001b[1;32m    522\u001b[0m         \u001b[0;32mexcept\u001b[0m \u001b[0mLokyTimeoutError\u001b[0m\u001b[0;34m:\u001b[0m\u001b[0;34m\u001b[0m\u001b[0m\n\u001b[1;32m    523\u001b[0m             \u001b[0;32mraise\u001b[0m \u001b[0mTimeoutError\u001b[0m\u001b[0;34m(\u001b[0m\u001b[0;34m)\u001b[0m\u001b[0;34m\u001b[0m\u001b[0m\n",
      "\u001b[0;32m/opt/conda/lib/python3.6/concurrent/futures/_base.py\u001b[0m in \u001b[0;36mresult\u001b[0;34m(self, timeout)\u001b[0m\n\u001b[1;32m    430\u001b[0m                 \u001b[0;32mraise\u001b[0m \u001b[0mCancelledError\u001b[0m\u001b[0;34m(\u001b[0m\u001b[0;34m)\u001b[0m\u001b[0;34m\u001b[0m\u001b[0m\n\u001b[1;32m    431\u001b[0m             \u001b[0;32melif\u001b[0m \u001b[0mself\u001b[0m\u001b[0;34m.\u001b[0m\u001b[0m_state\u001b[0m \u001b[0;34m==\u001b[0m \u001b[0mFINISHED\u001b[0m\u001b[0;34m:\u001b[0m\u001b[0;34m\u001b[0m\u001b[0m\n\u001b[0;32m--> 432\u001b[0;31m                 \u001b[0;32mreturn\u001b[0m \u001b[0mself\u001b[0m\u001b[0;34m.\u001b[0m\u001b[0m__get_result\u001b[0m\u001b[0;34m(\u001b[0m\u001b[0;34m)\u001b[0m\u001b[0;34m\u001b[0m\u001b[0m\n\u001b[0m\u001b[1;32m    433\u001b[0m             \u001b[0;32melse\u001b[0m\u001b[0;34m:\u001b[0m\u001b[0;34m\u001b[0m\u001b[0m\n\u001b[1;32m    434\u001b[0m                 \u001b[0;32mraise\u001b[0m \u001b[0mTimeoutError\u001b[0m\u001b[0;34m(\u001b[0m\u001b[0;34m)\u001b[0m\u001b[0;34m\u001b[0m\u001b[0m\n",
      "\u001b[0;32m/opt/conda/lib/python3.6/concurrent/futures/_base.py\u001b[0m in \u001b[0;36m__get_result\u001b[0;34m(self)\u001b[0m\n\u001b[1;32m    382\u001b[0m     \u001b[0;32mdef\u001b[0m \u001b[0m__get_result\u001b[0m\u001b[0;34m(\u001b[0m\u001b[0mself\u001b[0m\u001b[0;34m)\u001b[0m\u001b[0;34m:\u001b[0m\u001b[0;34m\u001b[0m\u001b[0m\n\u001b[1;32m    383\u001b[0m         \u001b[0;32mif\u001b[0m \u001b[0mself\u001b[0m\u001b[0;34m.\u001b[0m\u001b[0m_exception\u001b[0m\u001b[0;34m:\u001b[0m\u001b[0;34m\u001b[0m\u001b[0m\n\u001b[0;32m--> 384\u001b[0;31m             \u001b[0;32mraise\u001b[0m \u001b[0mself\u001b[0m\u001b[0;34m.\u001b[0m\u001b[0m_exception\u001b[0m\u001b[0;34m\u001b[0m\u001b[0m\n\u001b[0m\u001b[1;32m    385\u001b[0m         \u001b[0;32melse\u001b[0m\u001b[0;34m:\u001b[0m\u001b[0;34m\u001b[0m\u001b[0m\n\u001b[1;32m    386\u001b[0m             \u001b[0;32mreturn\u001b[0m \u001b[0mself\u001b[0m\u001b[0;34m.\u001b[0m\u001b[0m_result\u001b[0m\u001b[0;34m\u001b[0m\u001b[0m\n",
      "\u001b[0;31mValueError\u001b[0m: setting an array element with a sequence."
     ]
    }
   ],
   "source": [
    "from sklearn.linear_model import LogisticRegression\n",
    "from sklearn.model_selection import GridSearchCV, RandomizedSearchCV\n",
    "logr_model = LogisticRegression(random_state=42)\n",
    "param_grid = {'C': np.logspace(-2, 7, 10),\n",
    "             #'penalty': ['l1','l2'],\n",
    "             'tol': np.logspace(-5, -1, 5),\n",
    "             #'solver': ['lbfgs']\n",
    "             #'max_iter': np.linspace(10, 1000, 10)\n",
    "             }\n",
    "logr_cv = RandomizedSearchCV(logr_model, param_distributions=param_grid, cv=5, n_jobs=-1)\n",
    "logr_cv.fit(X_train_ft, y_train)"
   ]
  },
  {
   "cell_type": "code",
   "execution_count": null,
   "metadata": {},
   "outputs": [],
   "source": [
    "logr_cv.best_params_"
   ]
  },
  {
   "cell_type": "code",
   "execution_count": null,
   "metadata": {},
   "outputs": [],
   "source": [
    "logr_model = LogisticRegression(#solver=logr_cv.best_params_['solver'], \n",
    "                                random_state=42, \n",
    "                                C=logr_cv.best_params_['C'], \n",
    "                                tol=logr_cv.best_params_['tol'], \n",
    "                                #max_iter=logr_cv.best_params_['max_iter'], \n",
    "                                n_jobs=-1)\n",
    "logr_model.fit(X_train_ft, y_train)"
   ]
  },
  {
   "cell_type": "code",
   "execution_count": null,
   "metadata": {},
   "outputs": [],
   "source": [
    "logr_pred = logr_model.predict(X_test)"
   ]
  },
  {
   "cell_type": "code",
   "execution_count": null,
   "metadata": {},
   "outputs": [],
   "source": [
    "from sklearn.metrics import accuracy_score\n",
    "from sklearn.metrics import precision_score\n",
    "from sklearn.metrics import recall_score\n",
    "logr_acc_score = accuracy_score(y_test, logr_pred)\n",
    "logr_prec_score = precision_score(y_test, logr_pred)\n",
    "logr_rec_score = recall_score(y_test, logr_pred)\n",
    "print('Logistic Regression')\n",
    "print('accuracy score : {}'.format(logr_acc_score))\n",
    "print('precision score : {}'.format(logr_prec_score))\n",
    "print('recall score : {}'.format(logr_rec_score))"
   ]
  },
  {
   "cell_type": "code",
   "execution_count": null,
   "metadata": {},
   "outputs": [],
   "source": []
  },
  {
   "cell_type": "code",
   "execution_count": null,
   "metadata": {},
   "outputs": [],
   "source": []
  },
  {
   "cell_type": "code",
   "execution_count": null,
   "metadata": {},
   "outputs": [],
   "source": []
  },
  {
   "cell_type": "code",
   "execution_count": null,
   "metadata": {},
   "outputs": [],
   "source": []
  }
 ],
 "metadata": {
  "kernelspec": {
   "display_name": "Python 3",
   "language": "python",
   "name": "python3"
  },
  "language_info": {
   "codemirror_mode": {
    "name": "ipython",
    "version": 3
   },
   "file_extension": ".py",
   "mimetype": "text/x-python",
   "name": "python",
   "nbconvert_exporter": "python",
   "pygments_lexer": "ipython3",
   "version": "3.6.6"
  }
 },
 "nbformat": 4,
 "nbformat_minor": 1
}
